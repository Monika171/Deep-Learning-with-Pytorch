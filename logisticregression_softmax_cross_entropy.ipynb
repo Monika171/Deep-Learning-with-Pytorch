{
  "nbformat": 4,
  "nbformat_minor": 0,
  "metadata": {
    "colab": {
      "name": "logisticregression-softmax-cross-entropy.ipynb",
      "provenance": [],
      "include_colab_link": true
    },
    "kernelspec": {
      "display_name": "Python 3",
      "language": "python",
      "name": "python3"
    },
    "language_info": {
      "codemirror_mode": {
        "name": "ipython",
        "version": 3
      },
      "file_extension": ".py",
      "mimetype": "text/x-python",
      "name": "python",
      "nbconvert_exporter": "python",
      "pygments_lexer": "ipython3",
      "version": "3.7.6"
    }
  },
  "cells": [
    {
      "cell_type": "markdown",
      "metadata": {
        "id": "view-in-github",
        "colab_type": "text"
      },
      "source": [
        "<a href=\"https://colab.research.google.com/github/Monika171/Deep-Learning-with-Pytorch/blob/main/logisticregression_softmax_cross_entropy.ipynb\" target=\"_parent\"><img src=\"https://colab.research.google.com/assets/colab-badge.svg\" alt=\"Open In Colab\"/></a>"
      ]
    },
    {
      "cell_type": "code",
      "metadata": {
        "id": "Xf8FWKjaxiPb"
      },
      "source": [
        "# Jovian Commit Essentials\n",
        "# Please retain and execute this cell without modifying the contents for `jovian.commit` to work\n",
        "!pip install jovian --upgrade -q\n",
        "import jovian\n",
        "jovian.utils.colab.set_colab_file_id('1VyN8Yg3aG2aKY3Pj0unMSZ2WGK51aqgj')"
      ],
      "execution_count": 1,
      "outputs": []
    },
    {
      "cell_type": "code",
      "metadata": {
        "id": "Ipvn7ZRJohmu"
      },
      "source": [
        "# !pip install jovian --upgrade --quiet"
      ],
      "execution_count": 2,
      "outputs": []
    },
    {
      "cell_type": "markdown",
      "metadata": {
        "id": "Z_8iKaCZsBTP"
      },
      "source": [
        "## Working with images\n",
        "\n",
        "Image classification. \n",
        "\n",
        "We'll use the famous MNIST Handwritten Digits Database as our training dataset. It consists of 28px by 28px grayscale images of handwritten digits (0 to 9) and labels for each image indicating which digit it represents."
      ]
    },
    {
      "cell_type": "markdown",
      "metadata": {
        "id": "tfOvzeMbsUFl"
      },
      "source": [
        "We begin by installing and importing torch and torchvision. torchvision contains some utilities for working with image data. It also provides helper classes to download and import popular datasets like MNIST automatically"
      ]
    },
    {
      "cell_type": "code",
      "metadata": {
        "id": "EnctheU5r6lw"
      },
      "source": [
        "# imports\n",
        "import torch\n",
        "import torchvision\n",
        "from torchvision.datasets import MNIST"
      ],
      "execution_count": 3,
      "outputs": []
    },
    {
      "cell_type": "code",
      "metadata": {
        "id": "L1nmx0jxr6ja"
      },
      "source": [
        "# Download training dataset\n",
        "dataset = MNIST(root='data/', download=True)"
      ],
      "execution_count": 4,
      "outputs": []
    },
    {
      "cell_type": "markdown",
      "metadata": {
        "id": "4jZ6sJn_tMxn"
      },
      "source": [
        "When this statement is executed for the first time, it downloads the data to the data/ directory next to the notebook and creates a PyTorch `Dataset`. On subsequent executions, the download is skipped as the data is already downloaded.\n",
        "\n",
        "Not only downloded files but also converted into Pytorch dataset object"
      ]
    },
    {
      "cell_type": "code",
      "metadata": {
        "colab": {
          "base_uri": "https://localhost:8080/"
        },
        "id": "tPJREOssr6gc",
        "outputId": "40be917d-4a9d-4c76-efe8-705c41374b18"
      },
      "source": [
        "len(dataset)"
      ],
      "execution_count": 5,
      "outputs": [
        {
          "output_type": "execute_result",
          "data": {
            "text/plain": [
              "60000"
            ]
          },
          "metadata": {
            "tags": []
          },
          "execution_count": 5
        }
      ]
    },
    {
      "cell_type": "markdown",
      "metadata": {
        "id": "IWZwBx9DtvW8"
      },
      "source": [
        "The dataset has 60,000 images that we'll use to train the model. There is also an additional test set of 10,000 images used for evaluating models and reporting metrics in papers and reports. We can create the **test dataset** using the `MNIST` class by passing `train=False` to the constructor."
      ]
    },
    {
      "cell_type": "code",
      "metadata": {
        "colab": {
          "base_uri": "https://localhost:8080/"
        },
        "id": "01C0J65Xr6eJ",
        "outputId": "859d4461-0d2c-4c26-acd4-c79a6b0c5b36"
      },
      "source": [
        "test_dataset = MNIST(root='data/', train=False)\n",
        "len(test_dataset)"
      ],
      "execution_count": 6,
      "outputs": [
        {
          "output_type": "execute_result",
          "data": {
            "text/plain": [
              "10000"
            ]
          },
          "metadata": {
            "tags": []
          },
          "execution_count": 6
        }
      ]
    },
    {
      "cell_type": "markdown",
      "metadata": {
        "id": "DYk6ILcOv-Gt"
      },
      "source": [
        "Let's look at a sample element from the training dataset."
      ]
    },
    {
      "cell_type": "code",
      "metadata": {
        "colab": {
          "base_uri": "https://localhost:8080/"
        },
        "id": "CI9geAUmr6bX",
        "outputId": "a89b236b-3100-4033-cda3-8d4a1bd62ce6"
      },
      "source": [
        "dataset[0]"
      ],
      "execution_count": 7,
      "outputs": [
        {
          "output_type": "execute_result",
          "data": {
            "text/plain": [
              "(<PIL.Image.Image image mode=L size=28x28 at 0x7FAD2AB4E320>, 5)"
            ]
          },
          "metadata": {
            "tags": []
          },
          "execution_count": 7
        }
      ]
    },
    {
      "cell_type": "markdown",
      "metadata": {
        "id": "cYutIEJLwFdG"
      },
      "source": [
        "Part of Python Image Library, \n",
        "\n",
        "Also called Pillow.\n",
        "\n",
        "It's a pair, consisting of a 28x28px image and a label. The image is an object of the class `PIL`.Image.Image, which is a part of the Python imaging library Pillow. We can view the image within Jupyter using `matplotlib`, the de-facto plotting and graphing library for data science in Python."
      ]
    },
    {
      "cell_type": "code",
      "metadata": {
        "id": "gHhYxVYrr6Y-"
      },
      "source": [
        "import matplotlib.pyplot as plt\n",
        "%matplotlib inline"
      ],
      "execution_count": 8,
      "outputs": []
    },
    {
      "cell_type": "code",
      "metadata": {
        "colab": {
          "base_uri": "https://localhost:8080/",
          "height": 282
        },
        "id": "KG8IMDS7r6W4",
        "outputId": "8f533ced-536c-4528-de75-cf8dffca190e"
      },
      "source": [
        "image, label = dataset[0]\n",
        "plt.imshow(image, cmap='gray')\n",
        "print('Label:', label)"
      ],
      "execution_count": 9,
      "outputs": [
        {
          "output_type": "stream",
          "text": [
            "Label: 5\n"
          ],
          "name": "stdout"
        },
        {
          "output_type": "display_data",
          "data": {
            "image/png": "[encoded data removed]",
            "text/plain": [
              "<Figure size 432x288 with 1 Axes>"
            ]
          },
          "metadata": {
            "tags": [],
            "needs_background": "light"
          }
        }
      ]
    },
    {
      "cell_type": "code",
      "metadata": {
        "colab": {
          "base_uri": "https://localhost:8080/",
          "height": 282
        },
        "id": "T3reDBxfr6UW",
        "outputId": "0ff54919-c651-4754-fbf6-8bc31ada729a"
      },
      "source": [
        "image, label = dataset[10]\n",
        "plt.imshow(image, cmap='gray')\n",
        "print('Label:', label)"
      ],
      "execution_count": 10,
      "outputs": [
        {
          "output_type": "stream",
          "text": [
            "Label: 3\n"
          ],
          "name": "stdout"
        },
        {
          "output_type": "display_data",
          "data": {
            "image/png": "[encoded data removed]",
            "text/plain": [
              "<Figure size 432x288 with 1 Axes>"
            ]
          },
          "metadata": {
            "tags": [],
            "needs_background": "light"
          }
        }
      ]
    },
    {
      "cell_type": "markdown",
      "metadata": {
        "id": "YCYNUZa9NAN_"
      },
      "source": [
        "PyTorch doesn't know how to work with images. We need to convert the images into tensors. We can do this by specifying a transform while creating our dataset."
      ]
    },
    {
      "cell_type": "code",
      "metadata": {
        "id": "-J-XphvUr6Sa"
      },
      "source": [
        "import torchvision.transforms as transforms "
      ],
      "execution_count": 11,
      "outputs": []
    },
    {
      "cell_type": "code",
      "metadata": {
        "id": "lFsek1Q4r6P3"
      },
      "source": [
        "# MNIST dataset (images and labels)\n",
        "# convert these images into tensors as we load them\n",
        "dataset = MNIST(root='data/', train=True, transform=transforms.ToTensor())"
      ],
      "execution_count": 12,
      "outputs": []
    },
    {
      "cell_type": "code",
      "metadata": {
        "colab": {
          "base_uri": "https://localhost:8080/"
        },
        "id": "Xk5qu9cIr6Nv",
        "outputId": "848a3cb8-dc27-4081-e4a8-f8d35ac55d69"
      },
      "source": [
        "img_tensor, label = dataset[0]\n",
        "print(img_tensor.shape, label)"
      ],
      "execution_count": 13,
      "outputs": [
        {
          "output_type": "stream",
          "text": [
            "torch.Size([1, 28, 28]) 5\n"
          ],
          "name": "stdout"
        }
      ]
    },
    {
      "cell_type": "markdown",
      "metadata": {
        "id": "iVRh3T4USBbO"
      },
      "source": [
        "The image is now converted to a 1x28x28 tensor. The first dimension tracks color channels. The second and third dimensions represent pixels along the height and width of the image, respectively. Since images in the MNIST dataset are grayscale, there's just one channel. Other datasets have images with color, in which case there are three channels: red, green, and blue (RGB).\n",
        "\n",
        "Let's look at some sample values inside the tensor."
      ]
    },
    {
      "cell_type": "code",
      "metadata": {
        "colab": {
          "base_uri": "https://localhost:8080/"
        },
        "id": "vuqFe7kVr6LR",
        "outputId": "c611c9e8-01eb-4c3d-fbb2-d5ef61af873b"
      },
      "source": [
        "print(img_tensor[0,10:15,10:15])\n",
        "print(torch.max(img_tensor), torch.min(img_tensor))"
      ],
      "execution_count": 14,
      "outputs": [
        {
          "output_type": "stream",
          "text": [
            "tensor([[0.0039, 0.6039, 0.9922, 0.3529, 0.0000],\n",
            "        [0.0000, 0.5451, 0.9922, 0.7451, 0.0078],\n",
            "        [0.0000, 0.0431, 0.7451, 0.9922, 0.2745],\n",
            "        [0.0000, 0.0000, 0.1373, 0.9451, 0.8824],\n",
            "        [0.0000, 0.0000, 0.0000, 0.3176, 0.9412]])\n",
            "tensor(1.) tensor(0.)\n"
          ],
          "name": "stdout"
        }
      ]
    },
    {
      "cell_type": "markdown",
      "metadata": {
        "id": "s-dKFaTTT8ZP"
      },
      "source": [
        "The values range from 0 to 1, with 0 representing black, 1 white, and the values in between different shades of grey. We can also plot the tensor as an image using `plt.imshow`."
      ]
    },
    {
      "cell_type": "code",
      "metadata": {
        "colab": {
          "base_uri": "https://localhost:8080/",
          "height": 265
        },
        "id": "mPuZE2vPr6JR",
        "outputId": "6ccaa1c8-8ca0-4096-f64d-c6b7feb4c065"
      },
      "source": [
        "# Plot the image by passing in the 28 x 28 matrix\n",
        "plt.imshow(img_tensor[0, 10:15, 10:15], cmap='gray');"
      ],
      "execution_count": 15,
      "outputs": [
        {
          "output_type": "display_data",
          "data": {
            "image/png": "[encoded data removed]",
            "text/plain": [
              "<Figure size 432x288 with 1 Axes>"
            ]
          },
          "metadata": {
            "tags": [],
            "needs_background": "light"
          }
        }
      ]
    },
    {
      "cell_type": "markdown",
      "metadata": {
        "id": "GVSpP_boU0QY"
      },
      "source": [
        "Note that we need to pass just the 28x28 matrix to plt.imshow, without a channel dimension. We also pass a color map (cmap=gray) to indicate that we want to see a grayscale image."
      ]
    },
    {
      "cell_type": "markdown",
      "metadata": {
        "id": "LZA_PnLraZoy"
      },
      "source": [
        "## Training and Validation Datasets\n",
        "While building real-world machine learning models, it is quite common to split the dataset into three parts:\n",
        "\n",
        "* Training set - used to train the model, i.e., compute the loss and adjust the model's weights using gradient descent.\n",
        "* Validation set - used to evaluate the model during training, adjust hyperparameters (learning rate, etc.), and pick the best version of the model.\n",
        "*  Test set - used to compare different models or approaches and report the model's final accuracy.\n",
        "\n",
        "In the MNIST dataset, there are 60,000 training images and 10,000 test images. The test set is standardized so that different researchers can report their models' results against the same collection of images.\n",
        "\n",
        "Since there's no predefined validation set, we must manually split the 60,000 images into training and validation datasets. Let's set aside 10,000 randomly chosen images for validation. We can do this using the random_spilt method from PyTorch."
      ]
    },
    {
      "cell_type": "code",
      "metadata": {
        "colab": {
          "base_uri": "https://localhost:8080/"
        },
        "id": "34rXJqwDr6GM",
        "outputId": "8a27d68f-7bfb-4e76-ce53-403df4dc05e5"
      },
      "source": [
        "from torch.utils.data import random_split\n",
        "\n",
        "train_ds, val_ds = random_split(dataset, [50000, 10000])\n",
        "len(train_ds), len(val_ds)"
      ],
      "execution_count": 16,
      "outputs": [
        {
          "output_type": "execute_result",
          "data": {
            "text/plain": [
              "(50000, 10000)"
            ]
          },
          "metadata": {
            "tags": []
          },
          "execution_count": 16
        }
      ]
    },
    {
      "cell_type": "markdown",
      "metadata": {
        "id": "VtcEahFpcJ4T"
      },
      "source": [
        "It's essential to choose a random sample for creating a validation set. Training data is often sorted by the target labels, i.e., images of 0s, followed by 1s, followed by 2s, etc. If we create a validation set using the last 20% of images, it would only consist of 8s and 9s. In contrast, the training set would contain no 8s or 9s. Such a training-validation would make it impossible to train a useful model.\n",
        "\n",
        "We can now create data loaders to help us load the data in batches. We'll use a batch size of 128."
      ]
    },
    {
      "cell_type": "code",
      "metadata": {
        "id": "7Fj2RUWYr6D0"
      },
      "source": [
        "from torch.utils.data import DataLoader\n",
        "\n",
        "batch_size = 128\n",
        "\n",
        "train_loader = DataLoader(train_ds, batch_size, shuffle=True)\n",
        "val_loader = DataLoader(val_ds, batch_size)"
      ],
      "execution_count": 17,
      "outputs": []
    },
    {
      "cell_type": "markdown",
      "metadata": {
        "id": "UUuqx2pzdAg5"
      },
      "source": [
        "We set shuffle=True for the training data loader to ensure that the batches generated in each epoch are different. This randomization helps generalize & speed up the training process. On the other hand, since the validation data loader is used only for evaluating the model, there is no need to shuffle the images."
      ]
    },
    {
      "cell_type": "markdown",
      "metadata": {
        "id": "x8GJtZKhp4_3"
      },
      "source": [
        "## Model\n",
        "Now that we have prepared our data loaders, we can define our model.\n",
        "\n",
        "* A logistic regression model is almost identical to a linear regression model. It contains weights and bias matrices, and the output is obtained using simple matrix operations (pred = x @ w.t() + b).\n",
        "\n",
        "* As we did with linear regression, we can use nn.Linear to create the model instead of manually creating and initializing the matrices.\n",
        "\n",
        "* Since nn.Linear expects each training example to be a vector, each 1x28x28 image tensor is flattened into a vector of size 784 (28*28) before being passed into the model.\n",
        "\n",
        "* The output for each image is a vector of size 10, with each element signifying the probability of a particular target label (i.e., 0 to 9). The predicted label for an image is simply the one with the highest probability"
      ]
    },
    {
      "cell_type": "code",
      "metadata": {
        "id": "1g-T_w9Lr6BM"
      },
      "source": [
        "import torch.nn as nn\n",
        "\n",
        "input_size = 28 * 28\n",
        "num_classes = 10\n",
        "\n",
        "# Logistic regression model\n",
        "model = nn.Linear(input_size, num_classes)"
      ],
      "execution_count": 18,
      "outputs": []
    },
    {
      "cell_type": "markdown",
      "metadata": {
        "id": "g__HSsxUriU9"
      },
      "source": [
        "Let's take a look at the weights and biases."
      ]
    },
    {
      "cell_type": "code",
      "metadata": {
        "colab": {
          "base_uri": "https://localhost:8080/"
        },
        "id": "ko9Jb6qIr5-g",
        "outputId": "5b262658-0232-4c00-e114-243b40faf6eb"
      },
      "source": [
        "print(model.weight.shape)\n",
        "model.weight"
      ],
      "execution_count": 19,
      "outputs": [
        {
          "output_type": "stream",
          "text": [
            "torch.Size([10, 784])\n"
          ],
          "name": "stdout"
        },
        {
          "output_type": "execute_result",
          "data": {
            "text/plain": [
              "Parameter containing:\n",
              "tensor([[ 0.0081, -0.0119, -0.0181,  ..., -0.0177, -0.0126, -0.0156],\n",
              "        [-0.0091, -0.0218, -0.0059,  ..., -0.0083,  0.0223, -0.0147],\n",
              "        [-0.0084, -0.0186,  0.0032,  ...,  0.0239, -0.0047, -0.0124],\n",
              "        ...,\n",
              "        [-0.0012, -0.0095, -0.0334,  ...,  0.0135, -0.0029, -0.0189],\n",
              "        [ 0.0141,  0.0033, -0.0299,  ...,  0.0181,  0.0183, -0.0166],\n",
              "        [ 0.0070, -0.0209,  0.0153,  ...,  0.0099, -0.0292,  0.0286]],\n",
              "       requires_grad=True)"
            ]
          },
          "metadata": {
            "tags": []
          },
          "execution_count": 19
        }
      ]
    },
    {
      "cell_type": "code",
      "metadata": {
        "colab": {
          "base_uri": "https://localhost:8080/"
        },
        "id": "2E_3_vxtr575",
        "outputId": "da56bb5c-e598-456a-8bd4-07f6d043d3d4"
      },
      "source": [
        "print(model.bias.shape)\n",
        "model.bias"
      ],
      "execution_count": 20,
      "outputs": [
        {
          "output_type": "stream",
          "text": [
            "torch.Size([10])\n"
          ],
          "name": "stdout"
        },
        {
          "output_type": "execute_result",
          "data": {
            "text/plain": [
              "Parameter containing:\n",
              "tensor([ 0.0021, -0.0134,  0.0123, -0.0286, -0.0073,  0.0044,  0.0192,  0.0066,\n",
              "         0.0188, -0.0030], requires_grad=True)"
            ]
          },
          "metadata": {
            "tags": []
          },
          "execution_count": 20
        }
      ]
    },
    {
      "cell_type": "markdown",
      "metadata": {
        "id": "vipbWXEwoRjv"
      },
      "source": [
        "Although there are a total of 7850 parameters here, conceptually, nothing has changed so far. Let's try and generate some outputs using our model. We'll take the first batch of 100 images from our dataset and pass them into our model."
      ]
    },
    {
      "cell_type": "code",
      "metadata": {
        "colab": {
          "base_uri": "https://localhost:8080/"
        },
        "id": "jd_lWq5lr55z",
        "outputId": "720a51f2-6e53-45ca-dbf6-52d84a50b3fa"
      },
      "source": [
        "for images, labels in train_loader:\n",
        "  print(labels)\n",
        "  print(images.shape)\n",
        "  # outputs = model(images)\n",
        "  # print(outputs)\n",
        "  break"
      ],
      "execution_count": 21,
      "outputs": [
        {
          "output_type": "stream",
          "text": [
            "tensor([5, 3, 8, 8, 4, 1, 1, 6, 5, 7, 1, 8, 5, 1, 5, 0, 0, 2, 7, 7, 9, 1, 9, 1,\n",
            "        9, 3, 8, 3, 2, 4, 4, 2, 5, 1, 2, 8, 8, 9, 0, 6, 9, 0, 0, 1, 9, 3, 4, 8,\n",
            "        8, 9, 9, 4, 6, 3, 1, 3, 7, 0, 8, 2, 0, 5, 8, 1, 8, 4, 0, 4, 5, 8, 4, 0,\n",
            "        4, 2, 2, 2, 9, 8, 1, 0, 2, 6, 4, 4, 5, 7, 3, 9, 0, 9, 7, 8, 1, 1, 9, 8,\n",
            "        7, 8, 7, 6, 0, 4, 7, 2, 2, 7, 0, 8, 0, 8, 1, 1, 2, 2, 5, 9, 7, 6, 0, 1,\n",
            "        7, 4, 7, 7, 7, 2, 9, 6])\n",
            "torch.Size([128, 1, 28, 28])\n"
          ],
          "name": "stdout"
        }
      ]
    },
    {
      "cell_type": "code",
      "metadata": {
        "colab": {
          "base_uri": "https://localhost:8080/"
        },
        "id": "UOqLOpL4r53Z",
        "outputId": "185226c4-bfc5-4170-eaae-fdf3e396d07a"
      },
      "source": [
        "images.shape"
      ],
      "execution_count": 22,
      "outputs": [
        {
          "output_type": "execute_result",
          "data": {
            "text/plain": [
              "torch.Size([128, 1, 28, 28])"
            ]
          },
          "metadata": {
            "tags": []
          },
          "execution_count": 22
        }
      ]
    },
    {
      "cell_type": "code",
      "metadata": {
        "colab": {
          "base_uri": "https://localhost:8080/"
        },
        "id": "sfFXEMREr51S",
        "outputId": "0359b54b-4eee-424a-91c8-abd805f268fc"
      },
      "source": [
        "images.reshape(128, 784).shape"
      ],
      "execution_count": 23,
      "outputs": [
        {
          "output_type": "execute_result",
          "data": {
            "text/plain": [
              "torch.Size([128, 784])"
            ]
          },
          "metadata": {
            "tags": []
          },
          "execution_count": 23
        }
      ]
    },
    {
      "cell_type": "markdown",
      "metadata": {
        "id": "1UnNCWoDpIFZ"
      },
      "source": [
        "The code above leads to an error because our input data does not have the right shape. Our images are of the shape 1x28x28, but we need them to be vectors of size 784, i.e., we need to flatten them. We'll use the .reshape method of a tensor, which will allow us to efficiently 'view' each image as a flat vector without really creating a copy of the underlying data. To include this additional functionality within our model, we need to define a custom model by extending the nn.Module class from PyTorch.\n",
        "\n",
        " Let's extend the nn.Module class from PyTorch to define a custom model."
      ]
    },
    {
      "cell_type": "code",
      "metadata": {
        "id": "AHtwNDogr5yv"
      },
      "source": [
        "class MnistModel(nn.Module):\n",
        "  def __init__(self):\n",
        "    super().__init__()\n",
        "    self.linear = nn.Linear(input_size, num_classes)\n",
        "\n",
        "  def forward(self, xb):\n",
        "    xb = xb.reshape(-1, 784)\n",
        "    out = self.linear(xb)\n",
        "    return out\n",
        "\n",
        "model = MnistModel()"
      ],
      "execution_count": 24,
      "outputs": []
    },
    {
      "cell_type": "markdown",
      "metadata": {
        "id": "lStasaFQrPnI"
      },
      "source": [
        "Inside the __init__ constructor method, we instantiate the weights and biases using nn.Linear. And inside the forward method, which is invoked when we pass a batch of inputs to the model, we flatten the input tensor and pass it into self.linear.\n",
        "\n",
        "xb.reshape(-1, 28*28) indicates to PyTorch that we want a view of the xb tensor with two dimensions. The length along the 2nd dimension is 28*28 (i.e., 784). One argument to .reshape can be set to -1 (in this case, the first dimension) to let PyTorch figure it out automatically based on the shape of the original tensor.\n",
        "\n",
        "Note that the model no longer has .weight and .bias attributes (as they are now inside the .linear attribute), but it does have a .parameters method that returns a list containing the weights and bias."
      ]
    },
    {
      "cell_type": "code",
      "metadata": {
        "colab": {
          "base_uri": "https://localhost:8080/"
        },
        "id": "lc10zPUnr5v_",
        "outputId": "e07e9ef9-01ad-4391-a57d-e6a3c1ac545f"
      },
      "source": [
        "model.linear"
      ],
      "execution_count": 25,
      "outputs": [
        {
          "output_type": "execute_result",
          "data": {
            "text/plain": [
              "Linear(in_features=784, out_features=10, bias=True)"
            ]
          },
          "metadata": {
            "tags": []
          },
          "execution_count": 25
        }
      ]
    },
    {
      "cell_type": "code",
      "metadata": {
        "colab": {
          "base_uri": "https://localhost:8080/"
        },
        "id": "O4PM-anFr5td",
        "outputId": "ba6aa5e1-6132-4f87-b4a6-0650b321c47c"
      },
      "source": [
        "print(model.linear.weight.shape, model.linear.bias.shape)\n",
        "list(model.parameters())"
      ],
      "execution_count": 26,
      "outputs": [
        {
          "output_type": "stream",
          "text": [
            "torch.Size([10, 784]) torch.Size([10])\n"
          ],
          "name": "stdout"
        },
        {
          "output_type": "execute_result",
          "data": {
            "text/plain": [
              "[Parameter containing:\n",
              " tensor([[-0.0225, -0.0023,  0.0040,  ...,  0.0322, -0.0345,  0.0349],\n",
              "         [-0.0131,  0.0297, -0.0143,  ..., -0.0282,  0.0081,  0.0347],\n",
              "         [-0.0330,  0.0160,  0.0177,  ...,  0.0227, -0.0301,  0.0211],\n",
              "         ...,\n",
              "         [-0.0267, -0.0017,  0.0352,  ...,  0.0086,  0.0099, -0.0132],\n",
              "         [ 0.0124,  0.0107, -0.0184,  ...,  0.0324, -0.0276,  0.0011],\n",
              "         [-0.0098,  0.0139, -0.0337,  ..., -0.0090, -0.0219,  0.0134]],\n",
              "        requires_grad=True), Parameter containing:\n",
              " tensor([-0.0060,  0.0129, -0.0219, -0.0051,  0.0230, -0.0058, -0.0346,  0.0231,\n",
              "         -0.0237,  0.0252], requires_grad=True)]"
            ]
          },
          "metadata": {
            "tags": []
          },
          "execution_count": 26
        }
      ]
    },
    {
      "cell_type": "markdown",
      "metadata": {
        "id": "s8AO2OBYroTQ"
      },
      "source": [
        "We can use our new custom model in the same way as before. Let's see if it works."
      ]
    },
    {
      "cell_type": "code",
      "metadata": {
        "colab": {
          "base_uri": "https://localhost:8080/"
        },
        "id": "H6sO0xeyr5qh",
        "outputId": "f0a86601-e782-40c7-9ed0-5c629771f9d2"
      },
      "source": [
        "for images, labels in train_loader:\n",
        "  print(images.shape)\n",
        "  outputs = model(images)\n",
        "  break\n",
        "\n",
        "print('outputs.shape : ', outputs.shape)\n",
        "print('Sample outputs :\\n', outputs[:2].data)"
      ],
      "execution_count": 27,
      "outputs": [
        {
          "output_type": "stream",
          "text": [
            "torch.Size([128, 1, 28, 28])\n",
            "outputs.shape :  torch.Size([128, 10])\n",
            "Sample outputs :\n",
            " tensor([[ 0.4849, -0.1955,  0.4065, -0.2328,  0.3052,  0.4349,  0.0153, -0.0735,\n",
            "         -0.0868,  0.1473],\n",
            "        [ 0.2216, -0.0767, -0.0298,  0.0646, -0.1553,  0.1347,  0.0023, -0.2028,\n",
            "          0.2092, -0.0548]])\n"
          ],
          "name": "stdout"
        }
      ]
    },
    {
      "cell_type": "markdown",
      "metadata": {
        "id": "FidySDcYtyGb"
      },
      "source": [
        "For each of the 100 input images, we get 10 outputs, one for each class. As discussed earlier, we'd like these outputs to represent probabilities. Each output row's elements must lie between 0 to 1 and add up to 1, which is not the case.\n",
        "\n",
        "To convert the output rows into probabilities, we use the softmax function,"
      ]
    },
    {
      "cell_type": "markdown",
      "metadata": {
        "id": "DCUJc5_Yt8Wv"
      },
      "source": [
        "Then, we divide them by their sum to ensure that they add up to 1. The resulting vector can thus be interpreted as probabilities.\n",
        "\n",
        "While it's easy to implement the softmax function, we'll use the implementation that's provided within PyTorch because it works well with multidimensional tensors (a list of output rows in our case)."
      ]
    },
    {
      "cell_type": "code",
      "metadata": {
        "id": "mBOIWPC4r5oO"
      },
      "source": [
        "import torch.nn.functional as F"
      ],
      "execution_count": 28,
      "outputs": []
    },
    {
      "cell_type": "markdown",
      "metadata": {
        "id": "NSeQhhoGuLMn"
      },
      "source": [
        "The softmax function is included in the torch.nn.functional package and requires us to specify a dimension along which the function should be applied."
      ]
    },
    {
      "cell_type": "code",
      "metadata": {
        "colab": {
          "base_uri": "https://localhost:8080/"
        },
        "id": "1RAa14sEr5ls",
        "outputId": "9f3d18e0-499d-44d9-de6d-6d9d1ba5abf5"
      },
      "source": [
        "# Apply softmax for each output row\n",
        "probs = F.softmax(outputs, dim=1)\n",
        "\n",
        "# Look at sample probabilities\n",
        "print(\"Sample probabilities:\\n\", probs[:2].data)\n",
        "\n",
        "# Add up the probabilities of an output row\n",
        "print(\"Sum:\", torch.sum(probs[0]).item())"
      ],
      "execution_count": 29,
      "outputs": [
        {
          "output_type": "stream",
          "text": [
            "Sample probabilities:\n",
            " tensor([[0.1393, 0.0705, 0.1288, 0.0679, 0.1163, 0.1325, 0.0871, 0.0797, 0.0786,\n",
            "         0.0994],\n",
            "        [0.1222, 0.0907, 0.0951, 0.1045, 0.0839, 0.1121, 0.0982, 0.0800, 0.1207,\n",
            "         0.0927]])\n",
            "Sum: 1.0\n"
          ],
          "name": "stdout"
        }
      ]
    },
    {
      "cell_type": "markdown",
      "metadata": {
        "id": "PKll_xv-vVOz"
      },
      "source": [
        "Finally, we can determine the predicted label for each image by simply choosing the index of the element with the highest probability in each output row. We can do this using torch.max, which returns each row's largest element and the corresponding index."
      ]
    },
    {
      "cell_type": "code",
      "metadata": {
        "colab": {
          "base_uri": "https://localhost:8080/"
        },
        "id": "2IOS8Pzlr5jC",
        "outputId": "8c17a014-b2fc-470c-ee37-4fae1ccd90b4"
      },
      "source": [
        "max_probs, preds = torch.max(probs, dim=1)\n",
        "print(preds)\n",
        "print(max_probs)"
      ],
      "execution_count": 30,
      "outputs": [
        {
          "output_type": "stream",
          "text": [
            "tensor([0, 0, 5, 4, 3, 8, 0, 9, 1, 8, 1, 3, 4, 8, 1, 1, 8, 6, 1, 1, 0, 5, 7, 5,\n",
            "        8, 1, 3, 3, 1, 3, 2, 5, 4, 3, 8, 3, 8, 9, 8, 9, 1, 0, 2, 4, 1, 9, 1, 0,\n",
            "        4, 8, 4, 5, 1, 1, 1, 9, 4, 3, 8, 8, 0, 5, 4, 2, 5, 4, 5, 0, 8, 2, 5, 3,\n",
            "        5, 1, 2, 1, 5, 1, 5, 3, 1, 3, 9, 6, 4, 0, 4, 6, 5, 3, 4, 0, 0, 7, 4, 3,\n",
            "        0, 1, 3, 5, 1, 3, 8, 1, 1, 1, 1, 5, 3, 9, 4, 0, 3, 6, 0, 4, 9, 0, 8, 4,\n",
            "        4, 3, 3, 0, 8, 8, 8, 6])\n",
            "tensor([0.1393, 0.1222, 0.1317, 0.1308, 0.1345, 0.1219, 0.1271, 0.1305, 0.1434,\n",
            "        0.1293, 0.1284, 0.1256, 0.1210, 0.1150, 0.1259, 0.1303, 0.1282, 0.1209,\n",
            "        0.1358, 0.1620, 0.1248, 0.1186, 0.1214, 0.1278, 0.1109, 0.1219, 0.1148,\n",
            "        0.1392, 0.1228, 0.1152, 0.1367, 0.1238, 0.1094, 0.1318, 0.1163, 0.1345,\n",
            "        0.1227, 0.1217, 0.1327, 0.1428, 0.1251, 0.1258, 0.1407, 0.1260, 0.1132,\n",
            "        0.1278, 0.1570, 0.1262, 0.1118, 0.1215, 0.1254, 0.1308, 0.1353, 0.1242,\n",
            "        0.1213, 0.1254, 0.1186, 0.1174, 0.1318, 0.1311, 0.1274, 0.1113, 0.1274,\n",
            "        0.1385, 0.1285, 0.1285, 0.1475, 0.1662, 0.1239, 0.1385, 0.1152, 0.1367,\n",
            "        0.1150, 0.1496, 0.1285, 0.1386, 0.1255, 0.1338, 0.1290, 0.1210, 0.1162,\n",
            "        0.1287, 0.1276, 0.1239, 0.1255, 0.1224, 0.1405, 0.1184, 0.1155, 0.1158,\n",
            "        0.1210, 0.1380, 0.1272, 0.1344, 0.1177, 0.1211, 0.1331, 0.1413, 0.1215,\n",
            "        0.1200, 0.1235, 0.1328, 0.1260, 0.1559, 0.1245, 0.1157, 0.1284, 0.1486,\n",
            "        0.1239, 0.1355, 0.1316, 0.1311, 0.1162, 0.1183, 0.1230, 0.1202, 0.1280,\n",
            "        0.1226, 0.1164, 0.1355, 0.1424, 0.1486, 0.1190, 0.1326, 0.1284, 0.1273,\n",
            "        0.1400, 0.1466], grad_fn=<MaxBackward0>)\n"
          ],
          "name": "stdout"
        }
      ]
    },
    {
      "cell_type": "markdown",
      "metadata": {
        "id": "hmDgywg4v2Rk"
      },
      "source": [
        "The numbers printed above are the predicted labels for the first batch of training images. Let's compare them with the actual labels."
      ]
    },
    {
      "cell_type": "code",
      "metadata": {
        "colab": {
          "base_uri": "https://localhost:8080/"
        },
        "id": "6TEierKrr5gc",
        "outputId": "a408e63f-7844-4946-98b7-06c71aa7dd10"
      },
      "source": [
        "labels"
      ],
      "execution_count": 31,
      "outputs": [
        {
          "output_type": "execute_result",
          "data": {
            "text/plain": [
              "tensor([2, 8, 6, 8, 9, 3, 6, 1, 8, 0, 5, 7, 0, 3, 4, 9, 0, 0, 9, 3, 2, 9, 4, 1,\n",
              "        4, 5, 7, 7, 3, 6, 9, 6, 5, 4, 3, 2, 4, 1, 8, 2, 4, 3, 9, 6, 4, 2, 7, 5,\n",
              "        4, 5, 3, 6, 7, 3, 5, 1, 5, 5, 4, 9, 1, 3, 5, 4, 8, 2, 7, 8, 8, 0, 2, 6,\n",
              "        5, 7, 4, 7, 2, 7, 3, 9, 3, 7, 1, 3, 4, 9, 5, 3, 6, 1, 3, 8, 2, 7, 5, 4,\n",
              "        8, 7, 7, 6, 3, 7, 9, 7, 9, 0, 3, 0, 4, 1, 2, 8, 0, 0, 6, 9, 1, 0, 5, 2,\n",
              "        0, 4, 3, 1, 8, 4, 8, 4])"
            ]
          },
          "metadata": {
            "tags": []
          },
          "execution_count": 31
        }
      ]
    },
    {
      "cell_type": "markdown",
      "metadata": {
        "id": "HAo3z-vb75H4"
      },
      "source": [
        "Most of the predicted labels are different from the actual labels. That's because we have started with randomly initialized weights and biases. We need to train the model, i.e., adjust the weights using gradient descent to make better predictions."
      ]
    },
    {
      "cell_type": "markdown",
      "metadata": {
        "id": "FA-iBheN79mU"
      },
      "source": [
        "## Evaluation Metric and Loss Function\n",
        "Just as with linear regression, we need a way to evaluate how well our model is performing. A natural way to do this would be to find the percentage of labels that were predicted correctly, i.e,. the accuracy of the predictions."
      ]
    },
    {
      "cell_type": "code",
      "metadata": {
        "colab": {
          "base_uri": "https://localhost:8080/"
        },
        "id": "X51vDsOLr5d5",
        "outputId": "88a7bd95-24da-4a02-dbed-e4cbafd15a8b"
      },
      "source": [
        "outputs[:2]"
      ],
      "execution_count": 32,
      "outputs": [
        {
          "output_type": "execute_result",
          "data": {
            "text/plain": [
              "tensor([[ 0.4849, -0.1955,  0.4065, -0.2328,  0.3052,  0.4349,  0.0153, -0.0735,\n",
              "         -0.0868,  0.1473],\n",
              "        [ 0.2216, -0.0767, -0.0298,  0.0646, -0.1553,  0.1347,  0.0023, -0.2028,\n",
              "          0.2092, -0.0548]], grad_fn=<SliceBackward>)"
            ]
          },
          "metadata": {
            "tags": []
          },
          "execution_count": 32
        }
      ]
    },
    {
      "cell_type": "code",
      "metadata": {
        "id": "HhU0m1qQr5af",
        "colab": {
          "base_uri": "https://localhost:8080/"
        },
        "outputId": "83f1c320-1561-4f09-aa16-458e8f703d9f"
      },
      "source": [
        "torch.sum(preds == labels)"
      ],
      "execution_count": 33,
      "outputs": [
        {
          "output_type": "execute_result",
          "data": {
            "text/plain": [
              "tensor(10)"
            ]
          },
          "metadata": {
            "tags": []
          },
          "execution_count": 33
        }
      ]
    },
    {
      "cell_type": "code",
      "metadata": {
        "id": "u-eURn3wr5Xw"
      },
      "source": [
        "def accuracy(outputs, labels):\n",
        "  _, preds = torch.max(outputs, dim=1)\n",
        "  return torch.tensor(torch.sum(preds == labels).item() / len(preds))"
      ],
      "execution_count": 34,
      "outputs": []
    },
    {
      "cell_type": "markdown",
      "metadata": {
        "id": "uclIjl5A-D9p"
      },
      "source": [
        "The == operator performs an element-wise comparison of two tensors with the same shape and returns a tensor of the same shape, containing True for unequal elements and False for equal elements. Passing the result to torch.sum returns the number of labels that were predicted correctly. Finally, we divide by the total number of images to get the accuracy.\n",
        "\n",
        "Note that we don't need to apply softmax to the outputs since its results have the same relative order. This is because e^x is an increasing function, i.e., if y1 > y2, then e^y1 > e^y2. The same holds after averaging out the values to get the softmax.\n",
        "\n",
        "Let's calculate the accuracy of the current model on the first batch of data."
      ]
    },
    {
      "cell_type": "code",
      "metadata": {
        "id": "6PoeVJ1er5Vj",
        "colab": {
          "base_uri": "https://localhost:8080/"
        },
        "outputId": "0cf06240-bf25-4ecd-dfa8-7ab51be5218c"
      },
      "source": [
        "accuracy(outputs, labels)"
      ],
      "execution_count": 35,
      "outputs": [
        {
          "output_type": "execute_result",
          "data": {
            "text/plain": [
              "tensor(0.0781)"
            ]
          },
          "metadata": {
            "tags": []
          },
          "execution_count": 35
        }
      ]
    },
    {
      "cell_type": "code",
      "metadata": {
        "id": "TCOacnjlr5So",
        "colab": {
          "base_uri": "https://localhost:8080/"
        },
        "outputId": "3aab616c-3132-47dc-891c-53f26585fc36"
      },
      "source": [
        "probs"
      ],
      "execution_count": 36,
      "outputs": [
        {
          "output_type": "execute_result",
          "data": {
            "text/plain": [
              "tensor([[0.1393, 0.0705, 0.1288,  ..., 0.0797, 0.0786, 0.0994],\n",
              "        [0.1222, 0.0907, 0.0951,  ..., 0.0800, 0.1207, 0.0927],\n",
              "        [0.1179, 0.1021, 0.0929,  ..., 0.0744, 0.0924, 0.0651],\n",
              "        ...,\n",
              "        [0.0947, 0.1171, 0.0878,  ..., 0.0806, 0.1273, 0.0757],\n",
              "        [0.1261, 0.0771, 0.0905,  ..., 0.1020, 0.1400, 0.0891],\n",
              "        [0.0704, 0.1201, 0.1099,  ..., 0.0618, 0.0927, 0.0651]],\n",
              "       grad_fn=<SoftmaxBackward>)"
            ]
          },
          "metadata": {
            "tags": []
          },
          "execution_count": 36
        }
      ]
    },
    {
      "cell_type": "markdown",
      "metadata": {
        "id": "qN9bG-ny_Seo"
      },
      "source": [
        "Unlike accuracy, cross-entropy is a continuous and differentiable function. It also provides useful feedback for incremental improvements in the model (a slightly higher probability for the correct label leads to a lower loss). These two factors make cross-entropy a better choice for the loss function.\n",
        "\n",
        "As you might expect, PyTorch provides an efficient and tensor-friendly implementation of cross-entropy as part of the torch.nn.functional package. Moreover, it also performs softmax internally, so we can directly pass in the model's outputs without converting them into probabilities."
      ]
    },
    {
      "cell_type": "code",
      "metadata": {
        "id": "rDTiQfhbr5P5",
        "colab": {
          "base_uri": "https://localhost:8080/"
        },
        "outputId": "082d09d8-8dc7-4906-f3fb-7b72efd3382d"
      },
      "source": [
        "outputs"
      ],
      "execution_count": 37,
      "outputs": [
        {
          "output_type": "execute_result",
          "data": {
            "text/plain": [
              "tensor([[ 0.4849, -0.1955,  0.4065,  ..., -0.0735, -0.0868,  0.1473],\n",
              "        [ 0.2216, -0.0767, -0.0298,  ..., -0.2028,  0.2092, -0.0548],\n",
              "        [ 0.1846,  0.0403, -0.0540,  ..., -0.2767, -0.0598, -0.4090],\n",
              "        ...,\n",
              "        [-0.0094,  0.2031, -0.0848,  ..., -0.1710,  0.2866, -0.2333],\n",
              "        [ 0.3203, -0.1716, -0.0112,  ...,  0.1085,  0.4252, -0.0265],\n",
              "        [-0.2410,  0.2931,  0.2047,  ..., -0.3708,  0.0345, -0.3192]],\n",
              "       grad_fn=<AddmmBackward>)"
            ]
          },
          "metadata": {
            "tags": []
          },
          "execution_count": 37
        }
      ]
    },
    {
      "cell_type": "code",
      "metadata": {
        "id": "QanW7JOWr5NN"
      },
      "source": [
        "loss_fn = F.cross_entropy"
      ],
      "execution_count": 38,
      "outputs": []
    },
    {
      "cell_type": "code",
      "metadata": {
        "id": "70UzitnCr5LB",
        "colab": {
          "base_uri": "https://localhost:8080/"
        },
        "outputId": "a0774e58-addc-4049-bf69-8a279232c10c"
      },
      "source": [
        "# Loss for current batch of data\n",
        "loss = loss_fn(outputs, labels)\n",
        "print(loss)"
      ],
      "execution_count": 39,
      "outputs": [
        {
          "output_type": "stream",
          "text": [
            "tensor(2.3096, grad_fn=<NllLossBackward>)\n"
          ],
          "name": "stdout"
        }
      ]
    },
    {
      "cell_type": "markdown",
      "metadata": {
        "id": "L2Z56DMv_8dU"
      },
      "source": [
        "We know that cross-entropy is the negative logarithm of the predicted probability of the correct label averaged over all training samples. Therefore, one way to interpret the resulting number e.g. 2.23 is look at e^-2.23 which is around 0.1 as the predicted probability of the correct label, on average. The lower the loss, The better the model."
      ]
    },
    {
      "cell_type": "markdown",
      "metadata": {
        "id": "9-fjQGZZAtKa"
      },
      "source": [
        "## Training the model\n",
        "Now that we have defined the data loaders, model, loss function and optimizer, we are ready to train the model. The training process is identical to linear regression, with the addition of a \"validation phase\" to evaluate the model in each epoch. Here's what it looks like in pseudocode:\n",
        "\n",
        "\n",
        "\n",
        "```\n",
        "for epoch in range(num_epochs):\n",
        "  # Training phase\n",
        "  for batch in train_loader:\n",
        "    # Generate predictions\n",
        "    # Calculate loss\n",
        "    # Compute gradients\n",
        "    # Update weights\n",
        "    # Reset gradients\n",
        "\n",
        "  # Validation phase\n",
        "  for batch in val_loader:\n",
        "    # Generate predicions\n",
        "    # Calculate loss\n",
        "    # Calculate metrics (accuracy etc.)\n",
        "  # Calculate average validation loss & metrics\n",
        "\n",
        "  # Log epoch, loss & metrics for inspection\n",
        "```\n",
        "\n",
        "Some parts of the training loop are specific the specific problem we're solving (e.g. loss function, metrics etc.) whereas others are generic and can be applied to any deep learning problem.\n",
        "\n",
        "We'll include the problem-independent parts within a function called fit, which will be used to train the model. The problem-specific parts will be implemented by adding new methods to the nn.Module class\n",
        "\n",
        "\n",
        "\n"
      ]
    },
    {
      "cell_type": "code",
      "metadata": {
        "id": "b6gb7J6Xr5IV"
      },
      "source": [
        "def fit(epochs, lr, model, train_loader, val_loader, opt_func=torch.optim.SGD):\n",
        "  optimizer = opt_func(model.parameters(), lr)\n",
        "  history = [] # for recording epoch-wise results\n",
        "\n",
        "  for epoch in range(epochs):\n",
        "    # Training Phase\n",
        "    for batch in train_loader:\n",
        "      loss = model.training_step(batch)\n",
        "      loss.backward()\n",
        "      optimizer.step()\n",
        "      optimizer.zero_grad()\n",
        "\n",
        "    # Validation phase\n",
        "    result = evaluate(model, val_loader)\n",
        "    model.epoch_end(epoch, result)\n",
        "    history.append(result)\n",
        "\n",
        "  return history"
      ],
      "execution_count": 40,
      "outputs": []
    },
    {
      "cell_type": "markdown",
      "metadata": {
        "id": "0_xEXyGPE9Om"
      },
      "source": [
        "The fit function records the validation loss and metric from each epoch. It returns a history of the training, useful for debugging & visualization.\n",
        "\n",
        "Configurations like batch size, learning rate, etc. (called hyperparameters), need to picked in advance while training machine learning models. Choosing the right hyperparameters is critical for training a reasonably accurate model within a reasonable amount of time. It is an active area of research and experimentation in machine learning. Feel free to try different learning rates and see how it affects the training process.\n",
        "\n",
        "Let's define the evaluate function, used in the validation phase of fit."
      ]
    },
    {
      "cell_type": "code",
      "metadata": {
        "id": "Oo0TpJQ9r5Fv"
      },
      "source": [
        "l1 = [1, 2, 3, 4, 5]"
      ],
      "execution_count": 41,
      "outputs": []
    },
    {
      "cell_type": "code",
      "metadata": {
        "id": "VERJ2CCur5Dc",
        "colab": {
          "base_uri": "https://localhost:8080/"
        },
        "outputId": "fcfa49f9-723c-4312-df51-f219bbcda8ee"
      },
      "source": [
        "l2 = [x*2 for x in l1]\n",
        "l2"
      ],
      "execution_count": 42,
      "outputs": [
        {
          "output_type": "execute_result",
          "data": {
            "text/plain": [
              "[2, 4, 6, 8, 10]"
            ]
          },
          "metadata": {
            "tags": []
          },
          "execution_count": 42
        }
      ]
    },
    {
      "cell_type": "code",
      "metadata": {
        "id": "BhNd3YKsr5BB"
      },
      "source": [
        "def evaluate (model, val_loader):\n",
        "  outputs = [model.validation_step(batch) for batch in val_loader]\n",
        "  return model.validation_epoch_end(outputs)"
      ],
      "execution_count": 43,
      "outputs": []
    },
    {
      "cell_type": "markdown",
      "metadata": {
        "id": "IivFnfwVF7UI"
      },
      "source": [
        "Finally, let's redefine the `MnistModel` class to include additional methods training_step, validation_step, validation_epoch_end, and epoch_end used by fit and evaluate."
      ]
    },
    {
      "cell_type": "code",
      "metadata": {
        "id": "8x8Hk7uTr4-q"
      },
      "source": [
        "class MnistModel(nn.Module):\n",
        "  def __init__(self):\n",
        "    super().__init__()\n",
        "    self.linear = nn.Linear(input_size, num_classes)\n",
        "\n",
        "  def forward(self, xb):\n",
        "    xb = xb.reshape(-1, 784)\n",
        "    out = self.linear(xb)\n",
        "    return out\n",
        "\n",
        "  def training_step(self, batch):\n",
        "    images, labels = batch\n",
        "    out = self(images)  # Generate predictions\n",
        "    loss = F.cross_entropy(out, labels)  # Calculate loss\n",
        "    return loss\n",
        "\n",
        "  def validation_step(self, batch):\n",
        "    images, labels = batch\n",
        "    out = self(images)   # Generate predictions\n",
        "    loss = F.cross_entropy(out, labels) # Calculate loss\n",
        "    acc = accuracy(out, labels)\n",
        "    return {'val_loss': loss, 'val_acc': acc}\n",
        "\n",
        "  def validation_epoch_end(self, outputs):\n",
        "    batch_losses = [x['val_loss'] for x in outputs]\n",
        "    epoch_loss = torch.stack(batch_losses).mean()   # Combine losses\n",
        "    batch_accs = [x['val_acc'] for x in outputs]\n",
        "    epoch_acc = torch.stack(batch_accs).mean()   # Combine accuracies\n",
        "    return {'val_loss': epoch_loss.item(), 'val_acc': epoch_acc.item()}\n",
        "\n",
        "  def epoch_end(self, epoch, result):\n",
        "    print(\"Epoch [{}], val_loss: {:.4f}, val_acc: {:.4f}\".format(epoch, result['val_loss'], result['val_acc']))\n",
        "\n",
        "model = MnistModel()\n"
      ],
      "execution_count": 44,
      "outputs": []
    },
    {
      "cell_type": "markdown",
      "metadata": {
        "id": "pE5bi61GJqlD"
      },
      "source": [
        "Before we train the model, let's see how the model performs on the validation set with the initial set of randomly initialized weights & biases."
      ]
    },
    {
      "cell_type": "code",
      "metadata": {
        "id": "oobe3x60r48R",
        "colab": {
          "base_uri": "https://localhost:8080/"
        },
        "outputId": "de7121aa-aeb1-4e2f-f0f6-26a444c17947"
      },
      "source": [
        "result0 = evaluate(model, val_loader)\n",
        "result0"
      ],
      "execution_count": 45,
      "outputs": [
        {
          "output_type": "execute_result",
          "data": {
            "text/plain": [
              "{'val_acc': 0.08781645447015762, 'val_loss': 2.300318956375122}"
            ]
          },
          "metadata": {
            "tags": []
          },
          "execution_count": 45
        }
      ]
    },
    {
      "cell_type": "markdown",
      "metadata": {
        "id": "0N14zZjfKAdl"
      },
      "source": [
        "The initial accuracy is around 10%, which one might expect from a randomly initialized model (since it has a 1 in 10 chance of getting a label right by guessing randomly).\n",
        "\n",
        "We are now ready to train the model. Let's train for five epochs and look at the results."
      ]
    },
    {
      "cell_type": "code",
      "metadata": {
        "id": "Y1yaDk-sr45c",
        "colab": {
          "base_uri": "https://localhost:8080/"
        },
        "outputId": "f531f600-3d8e-4d84-b830-a57507cba4b6"
      },
      "source": [
        "history1 = fit(5, 0.0001, model, train_loader, val_loader)"
      ],
      "execution_count": 46,
      "outputs": [
        {
          "output_type": "stream",
          "text": [
            "Epoch [0], val_loss: 2.2562, val_acc: 0.1229\n",
            "Epoch [1], val_loss: 2.2144, val_acc: 0.1842\n",
            "Epoch [2], val_loss: 2.1745, val_acc: 0.2618\n",
            "Epoch [3], val_loss: 2.1362, val_acc: 0.3360\n",
            "Epoch [4], val_loss: 2.0994, val_acc: 0.4099\n"
          ],
          "name": "stdout"
        }
      ]
    },
    {
      "cell_type": "code",
      "metadata": {
        "id": "xjy5nViXr40m",
        "colab": {
          "base_uri": "https://localhost:8080/"
        },
        "outputId": "65fbe0b5-65ff-4204-8d22-ffb231bf3f53"
      },
      "source": [
        "history2 = fit(5, 0.0001, model, train_loader, val_loader)"
      ],
      "execution_count": 47,
      "outputs": [
        {
          "output_type": "stream",
          "text": [
            "Epoch [0], val_loss: 2.0638, val_acc: 0.4689\n",
            "Epoch [1], val_loss: 2.0294, val_acc: 0.5147\n",
            "Epoch [2], val_loss: 1.9962, val_acc: 0.5555\n",
            "Epoch [3], val_loss: 1.9639, val_acc: 0.5891\n",
            "Epoch [4], val_loss: 1.9327, val_acc: 0.6152\n"
          ],
          "name": "stdout"
        }
      ]
    },
    {
      "cell_type": "code",
      "metadata": {
        "id": "cdm3wOCGr4yC",
        "colab": {
          "base_uri": "https://localhost:8080/"
        },
        "outputId": "77ab874b-cc58-4f43-9e73-5ef65751069c"
      },
      "source": [
        "history3 = fit(5, 0.0001, model, train_loader, val_loader)"
      ],
      "execution_count": 48,
      "outputs": [
        {
          "output_type": "stream",
          "text": [
            "Epoch [0], val_loss: 1.9024, val_acc: 0.6398\n",
            "Epoch [1], val_loss: 1.8730, val_acc: 0.6586\n",
            "Epoch [2], val_loss: 1.8444, val_acc: 0.6735\n",
            "Epoch [3], val_loss: 1.8167, val_acc: 0.6891\n",
            "Epoch [4], val_loss: 1.7898, val_acc: 0.6994\n"
          ],
          "name": "stdout"
        }
      ]
    },
    {
      "cell_type": "code",
      "metadata": {
        "id": "jhitZlyJr4v-",
        "colab": {
          "base_uri": "https://localhost:8080/"
        },
        "outputId": "f64ba796-93c8-4b1a-cb21-a260af8fcf70"
      },
      "source": [
        "history4 = fit(5, 0.0001, model, train_loader, val_loader)"
      ],
      "execution_count": 49,
      "outputs": [
        {
          "output_type": "stream",
          "text": [
            "Epoch [0], val_loss: 1.7637, val_acc: 0.7081\n",
            "Epoch [1], val_loss: 1.7383, val_acc: 0.7150\n",
            "Epoch [2], val_loss: 1.7137, val_acc: 0.7224\n",
            "Epoch [3], val_loss: 1.6897, val_acc: 0.7297\n",
            "Epoch [4], val_loss: 1.6665, val_acc: 0.7344\n"
          ],
          "name": "stdout"
        }
      ]
    },
    {
      "cell_type": "code",
      "metadata": {
        "id": "vpfPYXpkr4t-"
      },
      "source": [
        ""
      ],
      "execution_count": 49,
      "outputs": []
    },
    {
      "cell_type": "code",
      "metadata": {
        "id": "SEhz8Ryur4rg"
      },
      "source": [
        ""
      ],
      "execution_count": 49,
      "outputs": []
    },
    {
      "cell_type": "code",
      "metadata": {
        "id": "S4VzaJvTr4ph"
      },
      "source": [
        ""
      ],
      "execution_count": 49,
      "outputs": []
    },
    {
      "cell_type": "code",
      "metadata": {
        "id": "Fq8rgjDdr4nS"
      },
      "source": [
        ""
      ],
      "execution_count": 49,
      "outputs": []
    },
    {
      "cell_type": "code",
      "metadata": {
        "id": "-ewoOKFbr4kU"
      },
      "source": [
        ""
      ],
      "execution_count": 49,
      "outputs": []
    },
    {
      "cell_type": "code",
      "metadata": {
        "id": "WGz-uncfr4iL"
      },
      "source": [
        ""
      ],
      "execution_count": 49,
      "outputs": []
    },
    {
      "cell_type": "code",
      "metadata": {
        "id": "-P_kvhaCr4fg"
      },
      "source": [
        ""
      ],
      "execution_count": 49,
      "outputs": []
    },
    {
      "cell_type": "code",
      "metadata": {
        "id": "VvwquhQRr4c9"
      },
      "source": [
        ""
      ],
      "execution_count": 49,
      "outputs": []
    },
    {
      "cell_type": "code",
      "metadata": {
        "id": "up2UNbxLr4ak"
      },
      "source": [
        ""
      ],
      "execution_count": 49,
      "outputs": []
    },
    {
      "cell_type": "code",
      "metadata": {
        "id": "WJ69d4_Or4Xy"
      },
      "source": [
        ""
      ],
      "execution_count": 49,
      "outputs": []
    },
    {
      "cell_type": "code",
      "metadata": {
        "id": "_gyNRzyqr4Pz"
      },
      "source": [
        ""
      ],
      "execution_count": 49,
      "outputs": []
    },
    {
      "cell_type": "code",
      "metadata": {
        "id": "smx7Xk35r3-4"
      },
      "source": [
        ""
      ],
      "execution_count": 49,
      "outputs": []
    },
    {
      "cell_type": "code",
      "metadata": {
        "colab": {
          "base_uri": "https://localhost:8080/",
          "height": 123
        },
        "id": "rQTWP_E6ohmu",
        "outputId": "d61d1b74-81b5-4d20-a1cf-3a36e7c319dd"
      },
      "source": [
        "jovian.commit(project='logistic-regression-softmax-crossentropy')"
      ],
      "execution_count": 50,
      "outputs": [
        {
          "output_type": "stream",
          "text": [
            "[jovian] Detected Colab notebook...\u001b[0m\n",
            "[jovian] Uploading colab notebook to Jovian...\u001b[0m\n",
            "[jovian] Capturing environment..\u001b[0m\n",
            "[jovian] Committed successfully! https://jovian.ai/monika171/logistic-regression-softmax-crossentropy\u001b[0m\n"
          ],
          "name": "stdout"
        },
        {
          "output_type": "execute_result",
          "data": {
            "application/vnd.google.colaboratory.intrinsic+json": {
              "type": "string"
            },
            "text/plain": [
              "'https://jovian.ai/monika171/logistic-regression-softmax-crossentropy'"
            ]
          },
          "metadata": {
            "tags": []
          },
          "execution_count": 50
        }
      ]
    },
    {
      "cell_type": "code",
      "metadata": {
        "id": "1owb_jIZpnxE"
      },
      "source": [
        ""
      ],
      "execution_count": 50,
      "outputs": []
    }
  ]
}