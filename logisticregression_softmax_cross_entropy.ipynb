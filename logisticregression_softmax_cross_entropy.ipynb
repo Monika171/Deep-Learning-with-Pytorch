{
  "nbformat": 4,
  "nbformat_minor": 0,
  "metadata": {
    "colab": {
      "name": "logisticregression-softmax-cross-entropy.ipynb",
      "provenance": [],
      "collapsed_sections": [],
      "include_colab_link": true
    },
    "kernelspec": {
      "display_name": "Python 3",
      "language": "python",
      "name": "python3"
    },
    "language_info": {
      "codemirror_mode": {
        "name": "ipython",
        "version": 3
      },
      "file_extension": ".py",
      "mimetype": "text/x-python",
      "name": "python",
      "nbconvert_exporter": "python",
      "pygments_lexer": "ipython3",
      "version": "3.7.6"
    }
  },
  "cells": [
    {
      "cell_type": "markdown",
      "metadata": {
        "id": "view-in-github",
        "colab_type": "text"
      },
      "source": [
        "<a href=\"https://colab.research.google.com/github/Monika171/Deep-Learning-with-Pytorch/blob/main/logisticregression_softmax_cross_entropy.ipynb\" target=\"_parent\"><img src=\"https://colab.research.google.com/assets/colab-badge.svg\" alt=\"Open In Colab\"/></a>"
      ]
    },
    {
      "cell_type": "code",
      "metadata": {
        "id": "U49bvGq1QwD6"
      },
      "source": [
        "# Jovian Commit Essentials\n",
        "# Please retain and execute this cell without modifying the contents for `jovian.commit` to work\n",
        "!pip install jovian --upgrade -q\n",
        "import jovian\n",
        "jovian.utils.colab.set_colab_file_id('1VyN8Yg3aG2aKY3Pj0unMSZ2WGK51aqgj')"
      ],
      "execution_count": 1,
      "outputs": []
    },
    {
      "cell_type": "code",
      "metadata": {
        "id": "Ipvn7ZRJohmu"
      },
      "source": [
        "# !pip install jovian --upgrade --quiet"
      ],
      "execution_count": 2,
      "outputs": []
    },
    {
      "cell_type": "markdown",
      "metadata": {
        "id": "Z_8iKaCZsBTP"
      },
      "source": [
        "## Working with images\n",
        "\n",
        "Image classification. \n",
        "\n",
        "We'll use the famous MNIST Handwritten Digits Database as our training dataset. It consists of 28px by 28px grayscale images of handwritten digits (0 to 9) and labels for each image indicating which digit it represents."
      ]
    },
    {
      "cell_type": "markdown",
      "metadata": {
        "id": "tfOvzeMbsUFl"
      },
      "source": [
        "We begin by installing and importing torch and torchvision. torchvision contains some utilities for working with image data. It also provides helper classes to download and import popular datasets like MNIST automatically"
      ]
    },
    {
      "cell_type": "code",
      "metadata": {
        "id": "EnctheU5r6lw"
      },
      "source": [
        "# imports\n",
        "import torch\n",
        "import torchvision\n",
        "from torchvision.datasets import MNIST"
      ],
      "execution_count": 3,
      "outputs": []
    },
    {
      "cell_type": "code",
      "metadata": {
        "id": "L1nmx0jxr6ja"
      },
      "source": [
        "# Download training dataset\n",
        "dataset = MNIST(root='data/', download=True)"
      ],
      "execution_count": 4,
      "outputs": []
    },
    {
      "cell_type": "markdown",
      "metadata": {
        "id": "4jZ6sJn_tMxn"
      },
      "source": [
        "When this statement is executed for the first time, it downloads the data to the data/ directory next to the notebook and creates a PyTorch `Dataset`. On subsequent executions, the download is skipped as the data is already downloaded.\n",
        "\n",
        "Not only downloded files but also converted into Pytorch dataset object"
      ]
    },
    {
      "cell_type": "code",
      "metadata": {
        "colab": {
          "base_uri": "https://localhost:8080/"
        },
        "id": "tPJREOssr6gc",
        "outputId": "2a380f85-3e21-41be-bd6e-3510a3c749a9"
      },
      "source": [
        "len(dataset)"
      ],
      "execution_count": 5,
      "outputs": [
        {
          "output_type": "execute_result",
          "data": {
            "text/plain": [
              "60000"
            ]
          },
          "metadata": {
            "tags": []
          },
          "execution_count": 5
        }
      ]
    },
    {
      "cell_type": "markdown",
      "metadata": {
        "id": "IWZwBx9DtvW8"
      },
      "source": [
        "The dataset has 60,000 images that we'll use to train the model. There is also an additional test set of 10,000 images used for evaluating models and reporting metrics in papers and reports. We can create the **test dataset** using the `MNIST` class by passing `train=False` to the constructor."
      ]
    },
    {
      "cell_type": "code",
      "metadata": {
        "colab": {
          "base_uri": "https://localhost:8080/"
        },
        "id": "01C0J65Xr6eJ",
        "outputId": "faf37e35-1406-4030-8281-7f9a36420fdb"
      },
      "source": [
        "test_dataset = MNIST(root='data/', train=False)\n",
        "len(test_dataset)"
      ],
      "execution_count": 6,
      "outputs": [
        {
          "output_type": "execute_result",
          "data": {
            "text/plain": [
              "10000"
            ]
          },
          "metadata": {
            "tags": []
          },
          "execution_count": 6
        }
      ]
    },
    {
      "cell_type": "markdown",
      "metadata": {
        "id": "DYk6ILcOv-Gt"
      },
      "source": [
        "Let's look at a sample element from the training dataset."
      ]
    },
    {
      "cell_type": "code",
      "metadata": {
        "colab": {
          "base_uri": "https://localhost:8080/"
        },
        "id": "CI9geAUmr6bX",
        "outputId": "8ef42e07-354d-498d-cd4b-d0a1184a0c25"
      },
      "source": [
        "dataset[0]"
      ],
      "execution_count": 7,
      "outputs": [
        {
          "output_type": "execute_result",
          "data": {
            "text/plain": [
              "(<PIL.Image.Image image mode=L size=28x28 at 0x7FE2D6900278>, 5)"
            ]
          },
          "metadata": {
            "tags": []
          },
          "execution_count": 7
        }
      ]
    },
    {
      "cell_type": "markdown",
      "metadata": {
        "id": "cYutIEJLwFdG"
      },
      "source": [
        "Part of Python Image Library, \n",
        "\n",
        "Also called Pillow.\n",
        "\n",
        "It's a pair, consisting of a 28x28px image and a label. The image is an object of the class `PIL`.Image.Image, which is a part of the Python imaging library Pillow. We can view the image within Jupyter using `matplotlib`, the de-facto plotting and graphing library for data science in Python."
      ]
    },
    {
      "cell_type": "code",
      "metadata": {
        "id": "gHhYxVYrr6Y-"
      },
      "source": [
        "import matplotlib.pyplot as plt\n",
        "%matplotlib inline"
      ],
      "execution_count": 8,
      "outputs": []
    },
    {
      "cell_type": "code",
      "metadata": {
        "colab": {
          "base_uri": "https://localhost:8080/",
          "height": 282
        },
        "id": "KG8IMDS7r6W4",
        "outputId": "41efb162-8d75-437a-c77d-db7fe5a19d56"
      },
      "source": [
        "image, label = dataset[0]\n",
        "plt.imshow(image, cmap='gray')\n",
        "print('Label:', label)"
      ],
      "execution_count": 9,
      "outputs": [
        {
          "output_type": "stream",
          "text": [
            "Label: 5\n"
          ],
          "name": "stdout"
        },
        {
          "output_type": "display_data",
          "data": {
            "image/png": "[encoded data removed]",
            "text/plain": [
              "<Figure size 432x288 with 1 Axes>"
            ]
          },
          "metadata": {
            "tags": [],
            "needs_background": "light"
          }
        }
      ]
    },
    {
      "cell_type": "code",
      "metadata": {
        "colab": {
          "base_uri": "https://localhost:8080/",
          "height": 282
        },
        "id": "T3reDBxfr6UW",
        "outputId": "20c90636-2f4f-481b-83bb-fa867e8ce7f2"
      },
      "source": [
        "image, label = dataset[10]\n",
        "plt.imshow(image, cmap='gray')\n",
        "print('Label:', label)"
      ],
      "execution_count": 10,
      "outputs": [
        {
          "output_type": "stream",
          "text": [
            "Label: 3\n"
          ],
          "name": "stdout"
        },
        {
          "output_type": "display_data",
          "data": {
            "image/png": "[encoded data removed]",
            "text/plain": [
              "<Figure size 432x288 with 1 Axes>"
            ]
          },
          "metadata": {
            "tags": [],
            "needs_background": "light"
          }
        }
      ]
    },
    {
      "cell_type": "markdown",
      "metadata": {
        "id": "YCYNUZa9NAN_"
      },
      "source": [
        "PyTorch doesn't know how to work with images. We need to convert the images into tensors. We can do this by specifying a transform while creating our dataset."
      ]
    },
    {
      "cell_type": "code",
      "metadata": {
        "id": "-J-XphvUr6Sa"
      },
      "source": [
        "import torchvision.transforms as transforms "
      ],
      "execution_count": 11,
      "outputs": []
    },
    {
      "cell_type": "code",
      "metadata": {
        "id": "lFsek1Q4r6P3"
      },
      "source": [
        "# MNIST dataset (images and labels)\n",
        "# convert these images into tensors as we load them\n",
        "dataset = MNIST(root='data/', train=True, transform=transforms.ToTensor())"
      ],
      "execution_count": 12,
      "outputs": []
    },
    {
      "cell_type": "code",
      "metadata": {
        "colab": {
          "base_uri": "https://localhost:8080/"
        },
        "id": "Xk5qu9cIr6Nv",
        "outputId": "7ac351c6-3e57-45c2-f334-2981db550bb5"
      },
      "source": [
        "img_tensor, label = dataset[0]\n",
        "print(img_tensor.shape, label)"
      ],
      "execution_count": 13,
      "outputs": [
        {
          "output_type": "stream",
          "text": [
            "torch.Size([1, 28, 28]) 5\n"
          ],
          "name": "stdout"
        }
      ]
    },
    {
      "cell_type": "markdown",
      "metadata": {
        "id": "iVRh3T4USBbO"
      },
      "source": [
        "The image is now converted to a 1x28x28 tensor. The first dimension tracks color channels. The second and third dimensions represent pixels along the height and width of the image, respectively. Since images in the MNIST dataset are grayscale, there's just one channel. Other datasets have images with color, in which case there are three channels: red, green, and blue (RGB).\n",
        "\n",
        "Let's look at some sample values inside the tensor."
      ]
    },
    {
      "cell_type": "code",
      "metadata": {
        "colab": {
          "base_uri": "https://localhost:8080/"
        },
        "id": "vuqFe7kVr6LR",
        "outputId": "ecab8518-0ee9-4110-bb41-8c197b3748c9"
      },
      "source": [
        "print(img_tensor[0,10:15,10:15])\n",
        "print(torch.max(img_tensor), torch.min(img_tensor))"
      ],
      "execution_count": 14,
      "outputs": [
        {
          "output_type": "stream",
          "text": [
            "tensor([[0.0039, 0.6039, 0.9922, 0.3529, 0.0000],\n",
            "        [0.0000, 0.5451, 0.9922, 0.7451, 0.0078],\n",
            "        [0.0000, 0.0431, 0.7451, 0.9922, 0.2745],\n",
            "        [0.0000, 0.0000, 0.1373, 0.9451, 0.8824],\n",
            "        [0.0000, 0.0000, 0.0000, 0.3176, 0.9412]])\n",
            "tensor(1.) tensor(0.)\n"
          ],
          "name": "stdout"
        }
      ]
    },
    {
      "cell_type": "markdown",
      "metadata": {
        "id": "s-dKFaTTT8ZP"
      },
      "source": [
        "The values range from 0 to 1, with 0 representing black, 1 white, and the values in between different shades of grey. We can also plot the tensor as an image using `plt.imshow`."
      ]
    },
    {
      "cell_type": "code",
      "metadata": {
        "colab": {
          "base_uri": "https://localhost:8080/",
          "height": 265
        },
        "id": "mPuZE2vPr6JR",
        "outputId": "fee8900d-b172-4b95-9492-77112a5c18d6"
      },
      "source": [
        "# Plot the image by passing in the 28 x 28 matrix\n",
        "plt.imshow(img_tensor[0, 10:15, 10:15], cmap='gray');"
      ],
      "execution_count": 15,
      "outputs": [
        {
          "output_type": "display_data",
          "data": {
            "image/png": "[encoded data removed]",
            "text/plain": [
              "<Figure size 432x288 with 1 Axes>"
            ]
          },
          "metadata": {
            "tags": [],
            "needs_background": "light"
          }
        }
      ]
    },
    {
      "cell_type": "markdown",
      "metadata": {
        "id": "GVSpP_boU0QY"
      },
      "source": [
        "Note that we need to pass just the 28x28 matrix to plt.imshow, without a channel dimension. We also pass a color map (cmap=gray) to indicate that we want to see a grayscale image."
      ]
    },
    {
      "cell_type": "markdown",
      "metadata": {
        "id": "LZA_PnLraZoy"
      },
      "source": [
        "## Training and Validation Datasets\n",
        "While building real-world machine learning models, it is quite common to split the dataset into three parts:\n",
        "\n",
        "* Training set - used to train the model, i.e., compute the loss and adjust the model's weights using gradient descent.\n",
        "* Validation set - used to evaluate the model during training, adjust hyperparameters (learning rate, etc.), and pick the best version of the model.\n",
        "*  Test set - used to compare different models or approaches and report the model's final accuracy.\n",
        "\n",
        "In the MNIST dataset, there are 60,000 training images and 10,000 test images. The test set is standardized so that different researchers can report their models' results against the same collection of images.\n",
        "\n",
        "Since there's no predefined validation set, we must manually split the 60,000 images into training and validation datasets. Let's set aside 10,000 randomly chosen images for validation. We can do this using the random_spilt method from PyTorch."
      ]
    },
    {
      "cell_type": "code",
      "metadata": {
        "colab": {
          "base_uri": "https://localhost:8080/"
        },
        "id": "34rXJqwDr6GM",
        "outputId": "3b1e31f7-aa9c-4b5c-f98a-e3afbca305b5"
      },
      "source": [
        "from torch.utils.data import random_split\n",
        "\n",
        "train_ds, val_ds = random_split(dataset, [50000, 10000])\n",
        "len(train_ds), len(val_ds)"
      ],
      "execution_count": 16,
      "outputs": [
        {
          "output_type": "execute_result",
          "data": {
            "text/plain": [
              "(50000, 10000)"
            ]
          },
          "metadata": {
            "tags": []
          },
          "execution_count": 16
        }
      ]
    },
    {
      "cell_type": "markdown",
      "metadata": {
        "id": "VtcEahFpcJ4T"
      },
      "source": [
        "It's essential to choose a random sample for creating a validation set. Training data is often sorted by the target labels, i.e., images of 0s, followed by 1s, followed by 2s, etc. If we create a validation set using the last 20% of images, it would only consist of 8s and 9s. In contrast, the training set would contain no 8s or 9s. Such a training-validation would make it impossible to train a useful model.\n",
        "\n",
        "We can now create data loaders to help us load the data in batches. We'll use a batch size of 128."
      ]
    },
    {
      "cell_type": "code",
      "metadata": {
        "id": "7Fj2RUWYr6D0"
      },
      "source": [
        "from torch.utils.data import DataLoader\n",
        "\n",
        "batch_size = 128\n",
        "\n",
        "train_loader = DataLoader(train_ds, batch_size, shuffle=True)\n",
        "val_loader = DataLoader(val_ds, batch_size)"
      ],
      "execution_count": 17,
      "outputs": []
    },
    {
      "cell_type": "markdown",
      "metadata": {
        "id": "UUuqx2pzdAg5"
      },
      "source": [
        "We set shuffle=True for the training data loader to ensure that the batches generated in each epoch are different. This randomization helps generalize & speed up the training process. On the other hand, since the validation data loader is used only for evaluating the model, there is no need to shuffle the images."
      ]
    },
    {
      "cell_type": "markdown",
      "metadata": {
        "id": "x8GJtZKhp4_3"
      },
      "source": [
        "## Model\n",
        "Now that we have prepared our data loaders, we can define our model.\n",
        "\n",
        "* A logistic regression model is almost identical to a linear regression model. It contains weights and bias matrices, and the output is obtained using simple matrix operations (pred = x @ w.t() + b).\n",
        "\n",
        "* As we did with linear regression, we can use nn.Linear to create the model instead of manually creating and initializing the matrices.\n",
        "\n",
        "* Since nn.Linear expects each training example to be a vector, each 1x28x28 image tensor is flattened into a vector of size 784 (28*28) before being passed into the model.\n",
        "\n",
        "* The output for each image is a vector of size 10, with each element signifying the probability of a particular target label (i.e., 0 to 9). The predicted label for an image is simply the one with the highest probability"
      ]
    },
    {
      "cell_type": "code",
      "metadata": {
        "id": "1g-T_w9Lr6BM"
      },
      "source": [
        "import torch.nn as nn\n",
        "\n",
        "input_size = 28 * 28\n",
        "num_classes = 10\n",
        "\n",
        "# Logistic regression model\n",
        "model = nn.Linear(input_size, num_classes)"
      ],
      "execution_count": 18,
      "outputs": []
    },
    {
      "cell_type": "markdown",
      "metadata": {
        "id": "g__HSsxUriU9"
      },
      "source": [
        "Let's take a look at the weights and biases."
      ]
    },
    {
      "cell_type": "code",
      "metadata": {
        "colab": {
          "base_uri": "https://localhost:8080/"
        },
        "id": "ko9Jb6qIr5-g",
        "outputId": "708bcad6-80a1-4a0a-f2ad-f97f54039ff7"
      },
      "source": [
        "print(model.weight.shape)\n",
        "model.weight"
      ],
      "execution_count": 19,
      "outputs": [
        {
          "output_type": "stream",
          "text": [
            "torch.Size([10, 784])\n"
          ],
          "name": "stdout"
        },
        {
          "output_type": "execute_result",
          "data": {
            "text/plain": [
              "Parameter containing:\n",
              "tensor([[-0.0036,  0.0348, -0.0261,  ..., -0.0192, -0.0263, -0.0025],\n",
              "        [-0.0317, -0.0162,  0.0256,  ..., -0.0341, -0.0136, -0.0187],\n",
              "        [-0.0006,  0.0060,  0.0263,  ...,  0.0178,  0.0011,  0.0261],\n",
              "        ...,\n",
              "        [-0.0054, -0.0237,  0.0228,  ...,  0.0264, -0.0222, -0.0124],\n",
              "        [-0.0101,  0.0064, -0.0152,  ..., -0.0353, -0.0117, -0.0254],\n",
              "        [ 0.0090, -0.0175, -0.0069,  ..., -0.0229,  0.0004, -0.0017]],\n",
              "       requires_grad=True)"
            ]
          },
          "metadata": {
            "tags": []
          },
          "execution_count": 19
        }
      ]
    },
    {
      "cell_type": "code",
      "metadata": {
        "colab": {
          "base_uri": "https://localhost:8080/"
        },
        "id": "2E_3_vxtr575",
        "outputId": "980fdce9-1086-4702-9fb0-a1cddccdf6e9"
      },
      "source": [
        "print(model.bias.shape)\n",
        "model.bias"
      ],
      "execution_count": 20,
      "outputs": [
        {
          "output_type": "stream",
          "text": [
            "torch.Size([10])\n"
          ],
          "name": "stdout"
        },
        {
          "output_type": "execute_result",
          "data": {
            "text/plain": [
              "Parameter containing:\n",
              "tensor([-0.0282, -0.0040,  0.0177, -0.0349,  0.0023, -0.0287, -0.0017, -0.0240,\n",
              "         0.0138, -0.0122], requires_grad=True)"
            ]
          },
          "metadata": {
            "tags": []
          },
          "execution_count": 20
        }
      ]
    },
    {
      "cell_type": "markdown",
      "metadata": {
        "id": "vipbWXEwoRjv"
      },
      "source": [
        "Although there are a total of 7850 parameters here, conceptually, nothing has changed so far. Let's try and generate some outputs using our model. We'll take the first batch of 100 images from our dataset and pass them into our model."
      ]
    },
    {
      "cell_type": "code",
      "metadata": {
        "colab": {
          "base_uri": "https://localhost:8080/"
        },
        "id": "jd_lWq5lr55z",
        "outputId": "41ba2829-2d4a-4dbf-8399-03e95960bb00"
      },
      "source": [
        "for images, labels in train_loader:\n",
        "  print(labels)\n",
        "  print(images.shape)\n",
        "  # outputs = model(images)\n",
        "  # print(outputs)\n",
        "  break"
      ],
      "execution_count": 21,
      "outputs": [
        {
          "output_type": "stream",
          "text": [
            "tensor([3, 3, 6, 0, 1, 5, 9, 1, 6, 8, 8, 2, 4, 8, 9, 2, 1, 9, 0, 5, 7, 0, 7, 0,\n",
            "        7, 7, 7, 0, 2, 0, 9, 0, 9, 0, 4, 5, 2, 5, 1, 2, 0, 2, 2, 0, 5, 1, 5, 7,\n",
            "        7, 1, 0, 3, 0, 4, 8, 5, 1, 1, 6, 0, 9, 4, 2, 5, 2, 4, 7, 1, 6, 4, 6, 6,\n",
            "        4, 5, 9, 0, 7, 1, 9, 6, 5, 7, 3, 6, 6, 6, 2, 9, 4, 7, 2, 8, 3, 6, 6, 0,\n",
            "        5, 0, 5, 6, 9, 6, 8, 3, 9, 8, 8, 7, 7, 2, 1, 5, 1, 0, 7, 6, 0, 6, 0, 2,\n",
            "        7, 6, 1, 0, 2, 8, 7, 0])\n",
            "torch.Size([128, 1, 28, 28])\n"
          ],
          "name": "stdout"
        }
      ]
    },
    {
      "cell_type": "code",
      "metadata": {
        "colab": {
          "base_uri": "https://localhost:8080/"
        },
        "id": "UOqLOpL4r53Z",
        "outputId": "5ea4c48c-1328-4c0f-83f3-a860e4224db1"
      },
      "source": [
        "images.shape"
      ],
      "execution_count": 22,
      "outputs": [
        {
          "output_type": "execute_result",
          "data": {
            "text/plain": [
              "torch.Size([128, 1, 28, 28])"
            ]
          },
          "metadata": {
            "tags": []
          },
          "execution_count": 22
        }
      ]
    },
    {
      "cell_type": "code",
      "metadata": {
        "colab": {
          "base_uri": "https://localhost:8080/"
        },
        "id": "sfFXEMREr51S",
        "outputId": "d28bf43c-be15-49f8-f505-576ae20bf466"
      },
      "source": [
        "images.reshape(128, 784).shape"
      ],
      "execution_count": 23,
      "outputs": [
        {
          "output_type": "execute_result",
          "data": {
            "text/plain": [
              "torch.Size([128, 784])"
            ]
          },
          "metadata": {
            "tags": []
          },
          "execution_count": 23
        }
      ]
    },
    {
      "cell_type": "markdown",
      "metadata": {
        "id": "1UnNCWoDpIFZ"
      },
      "source": [
        "The code above leads to an error because our input data does not have the right shape. Our images are of the shape 1x28x28, but we need them to be vectors of size 784, i.e., we need to flatten them. We'll use the .reshape method of a tensor, which will allow us to efficiently 'view' each image as a flat vector without really creating a copy of the underlying data. To include this additional functionality within our model, we need to define a custom model by extending the nn.Module class from PyTorch.\n",
        "\n",
        " Let's extend the nn.Module class from PyTorch to define a custom model."
      ]
    },
    {
      "cell_type": "code",
      "metadata": {
        "id": "AHtwNDogr5yv"
      },
      "source": [
        "class MnistModel(nn.Module):\n",
        "  def __init__(self):\n",
        "    super().__init__()\n",
        "    self.linear = nn.Linear(input_size, num_classes)\n",
        "\n",
        "  def forward(self, xb):\n",
        "    xb = xb.reshape(-1, 784)\n",
        "    out = self.linear(xb)\n",
        "    return out\n",
        "\n",
        "model = MnistModel()"
      ],
      "execution_count": 24,
      "outputs": []
    },
    {
      "cell_type": "markdown",
      "metadata": {
        "id": "lStasaFQrPnI"
      },
      "source": [
        "Inside the __init__ constructor method, we instantiate the weights and biases using nn.Linear. And inside the forward method, which is invoked when we pass a batch of inputs to the model, we flatten the input tensor and pass it into self.linear.\n",
        "\n",
        "xb.reshape(-1, 28*28) indicates to PyTorch that we want a view of the xb tensor with two dimensions. The length along the 2nd dimension is 28*28 (i.e., 784). One argument to .reshape can be set to -1 (in this case, the first dimension) to let PyTorch figure it out automatically based on the shape of the original tensor.\n",
        "\n",
        "Note that the model no longer has .weight and .bias attributes (as they are now inside the .linear attribute), but it does have a .parameters method that returns a list containing the weights and bias."
      ]
    },
    {
      "cell_type": "code",
      "metadata": {
        "colab": {
          "base_uri": "https://localhost:8080/"
        },
        "id": "lc10zPUnr5v_",
        "outputId": "a486a270-e656-49f5-985f-39f15c8d8236"
      },
      "source": [
        "model.linear"
      ],
      "execution_count": 25,
      "outputs": [
        {
          "output_type": "execute_result",
          "data": {
            "text/plain": [
              "Linear(in_features=784, out_features=10, bias=True)"
            ]
          },
          "metadata": {
            "tags": []
          },
          "execution_count": 25
        }
      ]
    },
    {
      "cell_type": "code",
      "metadata": {
        "colab": {
          "base_uri": "https://localhost:8080/"
        },
        "id": "O4PM-anFr5td",
        "outputId": "6cd22c65-0d62-4a0e-8c50-71b73c5c0727"
      },
      "source": [
        "print(model.linear.weight.shape, model.linear.bias.shape)\n",
        "list(model.parameters())"
      ],
      "execution_count": 26,
      "outputs": [
        {
          "output_type": "stream",
          "text": [
            "torch.Size([10, 784]) torch.Size([10])\n"
          ],
          "name": "stdout"
        },
        {
          "output_type": "execute_result",
          "data": {
            "text/plain": [
              "[Parameter containing:\n",
              " tensor([[-0.0235,  0.0303,  0.0130,  ..., -0.0155, -0.0173, -0.0170],\n",
              "         [ 0.0167, -0.0220, -0.0041,  ...,  0.0305, -0.0050,  0.0037],\n",
              "         [-0.0067, -0.0165, -0.0118,  ..., -0.0230, -0.0156, -0.0001],\n",
              "         ...,\n",
              "         [ 0.0310, -0.0250,  0.0273,  ..., -0.0175, -0.0327, -0.0073],\n",
              "         [ 0.0214,  0.0130,  0.0187,  ..., -0.0098, -0.0010, -0.0317],\n",
              "         [ 0.0204,  0.0307, -0.0090,  ...,  0.0309,  0.0325,  0.0173]],\n",
              "        requires_grad=True), Parameter containing:\n",
              " tensor([ 0.0124,  0.0098,  0.0356,  0.0313,  0.0203, -0.0304,  0.0095, -0.0229,\n",
              "         -0.0319,  0.0278], requires_grad=True)]"
            ]
          },
          "metadata": {
            "tags": []
          },
          "execution_count": 26
        }
      ]
    },
    {
      "cell_type": "markdown",
      "metadata": {
        "id": "s8AO2OBYroTQ"
      },
      "source": [
        "We can use our new custom model in the same way as before. Let's see if it works."
      ]
    },
    {
      "cell_type": "code",
      "metadata": {
        "colab": {
          "base_uri": "https://localhost:8080/"
        },
        "id": "H6sO0xeyr5qh",
        "outputId": "6f00bde6-902c-4304-95ff-45ea444a8cf7"
      },
      "source": [
        "for images, labels in train_loader:\n",
        "  print(images.shape)\n",
        "  outputs = model(images)\n",
        "  break\n",
        "\n",
        "print('outputs.shape : ', outputs.shape)\n",
        "print('Sample outputs :\\n', outputs[:2].data)"
      ],
      "execution_count": 27,
      "outputs": [
        {
          "output_type": "stream",
          "text": [
            "torch.Size([128, 1, 28, 28])\n",
            "outputs.shape :  torch.Size([128, 10])\n",
            "Sample outputs :\n",
            " tensor([[ 0.2766,  0.0252,  0.1503, -0.0929, -0.1604, -0.1436, -0.1538, -0.1228,\n",
            "         -0.0461,  0.0319],\n",
            "        [ 0.0543, -0.2654,  0.0870, -0.2897, -0.1548, -0.1251,  0.1297, -0.1255,\n",
            "          0.2480,  0.0454]])\n"
          ],
          "name": "stdout"
        }
      ]
    },
    {
      "cell_type": "markdown",
      "metadata": {
        "id": "FidySDcYtyGb"
      },
      "source": [
        "For each of the 100 input images, we get 10 outputs, one for each class. As discussed earlier, we'd like these outputs to represent probabilities. Each output row's elements must lie between 0 to 1 and add up to 1, which is not the case.\n",
        "\n",
        "To convert the output rows into probabilities, we use the softmax function,"
      ]
    },
    {
      "cell_type": "markdown",
      "metadata": {
        "id": "DCUJc5_Yt8Wv"
      },
      "source": [
        "Then, we divide them by their sum to ensure that they add up to 1. The resulting vector can thus be interpreted as probabilities.\n",
        "\n",
        "While it's easy to implement the softmax function, we'll use the implementation that's provided within PyTorch because it works well with multidimensional tensors (a list of output rows in our case)."
      ]
    },
    {
      "cell_type": "code",
      "metadata": {
        "id": "mBOIWPC4r5oO"
      },
      "source": [
        "import torch.nn.functional as F"
      ],
      "execution_count": 28,
      "outputs": []
    },
    {
      "cell_type": "markdown",
      "metadata": {
        "id": "NSeQhhoGuLMn"
      },
      "source": [
        "The softmax function is included in the torch.nn.functional package and requires us to specify a dimension along which the function should be applied."
      ]
    },
    {
      "cell_type": "code",
      "metadata": {
        "colab": {
          "base_uri": "https://localhost:8080/"
        },
        "id": "1RAa14sEr5ls",
        "outputId": "2417551b-67e6-4af1-a02d-144c4793cb35"
      },
      "source": [
        "# Apply softmax for each output row\n",
        "probs = F.softmax(outputs, dim=1)\n",
        "\n",
        "# Look at sample probabilities\n",
        "print(\"Sample probabilities:\\n\", probs[:2].data)\n",
        "\n",
        "# Add up the probabilities of an output row\n",
        "print(\"Sum:\", torch.sum(probs[0]).item())"
      ],
      "execution_count": 29,
      "outputs": [
        {
          "output_type": "stream",
          "text": [
            "Sample probabilities:\n",
            " tensor([[0.1337, 0.1040, 0.1178, 0.0924, 0.0863, 0.0878, 0.0869, 0.0897, 0.0968,\n",
            "         0.1047],\n",
            "        [0.1083, 0.0787, 0.1119, 0.0768, 0.0879, 0.0905, 0.1168, 0.0905, 0.1314,\n",
            "         0.1073]])\n",
            "Sum: 1.0\n"
          ],
          "name": "stdout"
        }
      ]
    },
    {
      "cell_type": "markdown",
      "metadata": {
        "id": "PKll_xv-vVOz"
      },
      "source": [
        "Finally, we can determine the predicted label for each image by simply choosing the index of the element with the highest probability in each output row. We can do this using torch.max, which returns each row's largest element and the corresponding index."
      ]
    },
    {
      "cell_type": "code",
      "metadata": {
        "colab": {
          "base_uri": "https://localhost:8080/"
        },
        "id": "2IOS8Pzlr5jC",
        "outputId": "8b4303ba-da3a-4b2c-88e5-001bd500126f"
      },
      "source": [
        "max_probs, preds = torch.max(probs, dim=1)\n",
        "print(preds)\n",
        "print(max_probs)"
      ],
      "execution_count": 30,
      "outputs": [
        {
          "output_type": "stream",
          "text": [
            "tensor([0, 8, 0, 0, 8, 2, 5, 2, 2, 2, 9, 2, 0, 2, 2, 0, 8, 2, 0, 9, 0, 2, 8, 0,\n",
            "        9, 9, 8, 2, 2, 2, 2, 0, 6, 0, 2, 0, 0, 2, 0, 0, 9, 9, 8, 2, 0, 2, 8, 6,\n",
            "        9, 1, 0, 2, 0, 9, 0, 9, 2, 9, 0, 0, 2, 2, 9, 0, 9, 3, 2, 0, 9, 2, 2, 9,\n",
            "        4, 9, 0, 9, 0, 2, 0, 9, 8, 2, 2, 0, 2, 0, 0, 2, 9, 0, 0, 2, 0, 0, 0, 9,\n",
            "        2, 8, 0, 4, 9, 9, 0, 9, 9, 0, 2, 2, 0, 2, 2, 2, 2, 9, 0, 2, 5, 2, 0, 2,\n",
            "        9, 4, 0, 6, 9, 9, 9, 4])\n",
            "tensor([0.1337, 0.1314, 0.1415, 0.1411, 0.1194, 0.1433, 0.1242, 0.1176, 0.1275,\n",
            "        0.1394, 0.1269, 0.1401, 0.1681, 0.1183, 0.1291, 0.1172, 0.1523, 0.1180,\n",
            "        0.1243, 0.1295, 0.1359, 0.1306, 0.1347, 0.1314, 0.1231, 0.1365, 0.1240,\n",
            "        0.1216, 0.1099, 0.1270, 0.1392, 0.1199, 0.1383, 0.1520, 0.1216, 0.1340,\n",
            "        0.1206, 0.1172, 0.1192, 0.1554, 0.1248, 0.1186, 0.1164, 0.1247, 0.1721,\n",
            "        0.1294, 0.1237, 0.1116, 0.1302, 0.1327, 0.1451, 0.1425, 0.1182, 0.1316,\n",
            "        0.1368, 0.1354, 0.1169, 0.1422, 0.1213, 0.1297, 0.1428, 0.1230, 0.1319,\n",
            "        0.1464, 0.1362, 0.1244, 0.1347, 0.1262, 0.1159, 0.1290, 0.1483, 0.1352,\n",
            "        0.1171, 0.1396, 0.1398, 0.1460, 0.1274, 0.1268, 0.1325, 0.1355, 0.1339,\n",
            "        0.1303, 0.1575, 0.1755, 0.1185, 0.1339, 0.1710, 0.1299, 0.1306, 0.1360,\n",
            "        0.1399, 0.1154, 0.1317, 0.1474, 0.1581, 0.1476, 0.1147, 0.1226, 0.1320,\n",
            "        0.1215, 0.1250, 0.1537, 0.1562, 0.1190, 0.1244, 0.1358, 0.1215, 0.1330,\n",
            "        0.1319, 0.1369, 0.1390, 0.1248, 0.1424, 0.1330, 0.1341, 0.1139, 0.1281,\n",
            "        0.1228, 0.1218, 0.1225, 0.1399, 0.1058, 0.1723, 0.1460, 0.1283, 0.1413,\n",
            "        0.1372, 0.1169], grad_fn=<MaxBackward0>)\n"
          ],
          "name": "stdout"
        }
      ]
    },
    {
      "cell_type": "markdown",
      "metadata": {
        "id": "hmDgywg4v2Rk"
      },
      "source": [
        "The numbers printed above are the predicted labels for the first batch of training images. Let's compare them with the actual labels."
      ]
    },
    {
      "cell_type": "code",
      "metadata": {
        "colab": {
          "base_uri": "https://localhost:8080/"
        },
        "id": "6TEierKrr5gc",
        "outputId": "c1920154-6a46-4de7-84ba-3c2fac53e8f8"
      },
      "source": [
        "labels"
      ],
      "execution_count": 31,
      "outputs": [
        {
          "output_type": "execute_result",
          "data": {
            "text/plain": [
              "tensor([6, 8, 0, 6, 0, 2, 8, 7, 3, 2, 5, 7, 5, 1, 7, 8, 8, 3, 8, 3, 1, 1, 3, 6,\n",
              "        7, 2, 8, 1, 1, 1, 6, 3, 3, 0, 2, 1, 0, 8, 3, 4, 7, 8, 2, 2, 6, 7, 2, 0,\n",
              "        4, 6, 6, 2, 5, 7, 0, 9, 4, 9, 9, 9, 6, 8, 5, 9, 2, 3, 0, 0, 7, 2, 2, 0,\n",
              "        7, 5, 6, 2, 2, 8, 6, 7, 8, 2, 6, 6, 5, 6, 5, 1, 2, 6, 0, 1, 9, 4, 6, 9,\n",
              "        3, 8, 7, 9, 7, 7, 9, 9, 8, 6, 5, 3, 1, 4, 4, 1, 2, 2, 9, 7, 7, 2, 2, 2,\n",
              "        3, 1, 9, 3, 5, 5, 3, 7])"
            ]
          },
          "metadata": {
            "tags": []
          },
          "execution_count": 31
        }
      ]
    },
    {
      "cell_type": "markdown",
      "metadata": {
        "id": "HAo3z-vb75H4"
      },
      "source": [
        "Most of the predicted labels are different from the actual labels. That's because we have started with randomly initialized weights and biases. We need to train the model, i.e., adjust the weights using gradient descent to make better predictions."
      ]
    },
    {
      "cell_type": "markdown",
      "metadata": {
        "id": "FA-iBheN79mU"
      },
      "source": [
        "## Evaluation Metric and Loss Function\n",
        "Just as with linear regression, we need a way to evaluate how well our model is performing. A natural way to do this would be to find the percentage of labels that were predicted correctly, i.e,. the accuracy of the predictions."
      ]
    },
    {
      "cell_type": "code",
      "metadata": {
        "colab": {
          "base_uri": "https://localhost:8080/"
        },
        "id": "X51vDsOLr5d5",
        "outputId": "9ca0c819-8591-4955-dcda-e4871474aec6"
      },
      "source": [
        "outputs[:2]"
      ],
      "execution_count": 32,
      "outputs": [
        {
          "output_type": "execute_result",
          "data": {
            "text/plain": [
              "tensor([[ 0.2766,  0.0252,  0.1503, -0.0929, -0.1604, -0.1436, -0.1538, -0.1228,\n",
              "         -0.0461,  0.0319],\n",
              "        [ 0.0543, -0.2654,  0.0870, -0.2897, -0.1548, -0.1251,  0.1297, -0.1255,\n",
              "          0.2480,  0.0454]], grad_fn=<SliceBackward>)"
            ]
          },
          "metadata": {
            "tags": []
          },
          "execution_count": 32
        }
      ]
    },
    {
      "cell_type": "code",
      "metadata": {
        "colab": {
          "base_uri": "https://localhost:8080/"
        },
        "id": "HhU0m1qQr5af",
        "outputId": "836e7bc7-3cb0-4135-bc47-f5084f68ca47"
      },
      "source": [
        "torch.sum(preds == labels)"
      ],
      "execution_count": 33,
      "outputs": [
        {
          "output_type": "execute_result",
          "data": {
            "text/plain": [
              "tensor(27)"
            ]
          },
          "metadata": {
            "tags": []
          },
          "execution_count": 33
        }
      ]
    },
    {
      "cell_type": "code",
      "metadata": {
        "id": "u-eURn3wr5Xw"
      },
      "source": [
        "def accuracy(outputs, labels):\n",
        "  _, preds = torch.max(outputs, dim=1)\n",
        "  return torch.tensor(torch.sum(preds == labels).item() / len(preds))"
      ],
      "execution_count": 34,
      "outputs": []
    },
    {
      "cell_type": "markdown",
      "metadata": {
        "id": "uclIjl5A-D9p"
      },
      "source": [
        "The == operator performs an element-wise comparison of two tensors with the same shape and returns a tensor of the same shape, containing True for unequal elements and False for equal elements. Passing the result to torch.sum returns the number of labels that were predicted correctly. Finally, we divide by the total number of images to get the accuracy.\n",
        "\n",
        "Note that we don't need to apply softmax to the outputs since its results have the same relative order. This is because e^x is an increasing function, i.e., if y1 > y2, then e^y1 > e^y2. The same holds after averaging out the values to get the softmax.\n",
        "\n",
        "Let's calculate the accuracy of the current model on the first batch of data."
      ]
    },
    {
      "cell_type": "code",
      "metadata": {
        "colab": {
          "base_uri": "https://localhost:8080/"
        },
        "id": "6PoeVJ1er5Vj",
        "outputId": "1361f74e-9ef6-4073-ed1e-c1a4b004b136"
      },
      "source": [
        "accuracy(outputs, labels)"
      ],
      "execution_count": 35,
      "outputs": [
        {
          "output_type": "execute_result",
          "data": {
            "text/plain": [
              "tensor(0.2109)"
            ]
          },
          "metadata": {
            "tags": []
          },
          "execution_count": 35
        }
      ]
    },
    {
      "cell_type": "code",
      "metadata": {
        "colab": {
          "base_uri": "https://localhost:8080/"
        },
        "id": "TCOacnjlr5So",
        "outputId": "d539db60-b301-4fd2-8f7e-7af6ae010c3e"
      },
      "source": [
        "probs"
      ],
      "execution_count": 36,
      "outputs": [
        {
          "output_type": "execute_result",
          "data": {
            "text/plain": [
              "tensor([[0.1337, 0.1040, 0.1178,  ..., 0.0897, 0.0968, 0.1047],\n",
              "        [0.1083, 0.0787, 0.1119,  ..., 0.0905, 0.1314, 0.1073],\n",
              "        [0.1415, 0.0890, 0.0987,  ..., 0.0883, 0.1033, 0.1174],\n",
              "        ...,\n",
              "        [0.1058, 0.0998, 0.1026,  ..., 0.0934, 0.0932, 0.1413],\n",
              "        [0.1159, 0.0908, 0.1368,  ..., 0.0771, 0.0950, 0.1372],\n",
              "        [0.0790, 0.0898, 0.0968,  ..., 0.0960, 0.0865, 0.1148]],\n",
              "       grad_fn=<SoftmaxBackward>)"
            ]
          },
          "metadata": {
            "tags": []
          },
          "execution_count": 36
        }
      ]
    },
    {
      "cell_type": "markdown",
      "metadata": {
        "id": "qN9bG-ny_Seo"
      },
      "source": [
        "Unlike accuracy, cross-entropy is a continuous and differentiable function. It also provides useful feedback for incremental improvements in the model (a slightly higher probability for the correct label leads to a lower loss). These two factors make cross-entropy a better choice for the loss function.\n",
        "\n",
        "As you might expect, PyTorch provides an efficient and tensor-friendly implementation of cross-entropy as part of the torch.nn.functional package. Moreover, it also performs softmax internally, so we can directly pass in the model's outputs without converting them into probabilities."
      ]
    },
    {
      "cell_type": "code",
      "metadata": {
        "colab": {
          "base_uri": "https://localhost:8080/"
        },
        "id": "rDTiQfhbr5P5",
        "outputId": "8316c0b6-1963-456a-8488-ef8dcf25da64"
      },
      "source": [
        "outputs"
      ],
      "execution_count": 37,
      "outputs": [
        {
          "output_type": "execute_result",
          "data": {
            "text/plain": [
              "tensor([[ 0.2766,  0.0252,  0.1503,  ..., -0.1228, -0.0461,  0.0319],\n",
              "        [ 0.0543, -0.2654,  0.0870,  ..., -0.1255,  0.2480,  0.0454],\n",
              "        [ 0.3502, -0.1131, -0.0102,  ..., -0.1212,  0.0354,  0.1634],\n",
              "        ...,\n",
              "        [ 0.0914,  0.0330,  0.0605,  ..., -0.0334, -0.0353,  0.3806],\n",
              "        [ 0.1718, -0.0723,  0.3381,  ..., -0.2352, -0.0265,  0.3411],\n",
              "        [-0.1654, -0.0366,  0.0379,  ...,  0.0298, -0.0742,  0.2085]],\n",
              "       grad_fn=<AddmmBackward>)"
            ]
          },
          "metadata": {
            "tags": []
          },
          "execution_count": 37
        }
      ]
    },
    {
      "cell_type": "code",
      "metadata": {
        "id": "QanW7JOWr5NN"
      },
      "source": [
        "loss_fn = F.cross_entropy"
      ],
      "execution_count": 38,
      "outputs": []
    },
    {
      "cell_type": "code",
      "metadata": {
        "colab": {
          "base_uri": "https://localhost:8080/"
        },
        "id": "70UzitnCr5LB",
        "outputId": "51d94c82-b0ba-4000-d675-16ed19341c7b"
      },
      "source": [
        "# Loss for current batch of data\n",
        "loss = loss_fn(outputs, labels)\n",
        "print(loss)"
      ],
      "execution_count": 39,
      "outputs": [
        {
          "output_type": "stream",
          "text": [
            "tensor(2.2861, grad_fn=<NllLossBackward>)\n"
          ],
          "name": "stdout"
        }
      ]
    },
    {
      "cell_type": "markdown",
      "metadata": {
        "id": "L2Z56DMv_8dU"
      },
      "source": [
        "We know that cross-entropy is the negative logarithm of the predicted probability of the correct label averaged over all training samples. Therefore, one way to interpret the resulting number e.g. 2.23 is look at e^-2.23 which is around 0.1 as the predicted probability of the correct label, on average. The lower the loss, The better the model."
      ]
    },
    {
      "cell_type": "markdown",
      "metadata": {
        "id": "9-fjQGZZAtKa"
      },
      "source": [
        "## Training the model\n",
        "Now that we have defined the data loaders, model, loss function and optimizer, we are ready to train the model. The training process is identical to linear regression, with the addition of a \"validation phase\" to evaluate the model in each epoch. Here's what it looks like in pseudocode:\n",
        "\n",
        "\n",
        "\n",
        "```\n",
        "for epoch in range(num_epochs):\n",
        "  # Training phase\n",
        "  for batch in train_loader:\n",
        "    # Generate predictions\n",
        "    # Calculate loss\n",
        "    # Compute gradients\n",
        "    # Update weights\n",
        "    # Reset gradients\n",
        "\n",
        "  # Validation phase\n",
        "  for batch in val_loader:\n",
        "    # Generate predicions\n",
        "    # Calculate loss\n",
        "    # Calculate metrics (accuracy etc.)\n",
        "  # Calculate average validation loss & metrics\n",
        "\n",
        "  # Log epoch, loss & metrics for inspection\n",
        "```\n",
        "\n",
        "Some parts of the training loop are specific the specific problem we're solving (e.g. loss function, metrics etc.) whereas others are generic and can be applied to any deep learning problem.\n",
        "\n",
        "We'll include the problem-independent parts within a function called fit, which will be used to train the model. The problem-specific parts will be implemented by adding new methods to the nn.Module class\n",
        "\n",
        "\n",
        "\n"
      ]
    },
    {
      "cell_type": "code",
      "metadata": {
        "id": "b6gb7J6Xr5IV"
      },
      "source": [
        "def fit(epochs, lr, model, train_loader, val_loader, opt_func=torch.optim.SGD):\n",
        "  optimizer = opt_func(model.parameters(), lr)\n",
        "  history = [] # for recording epoch-wise results\n",
        "\n",
        "  for epoch in range(epochs):\n",
        "    # Training Phase\n",
        "    for batch in train_loader:\n",
        "      loss = model.training_step(batch)\n",
        "      loss.backward()\n",
        "      optimizer.step()\n",
        "      optimizer.zero_grad()\n",
        "\n",
        "    # Validation phase\n",
        "    result = evaluate(model, val_loader)\n",
        "    model.epoch_end(epoch, result)\n",
        "    history.append(result)\n",
        "\n",
        "  return history"
      ],
      "execution_count": 40,
      "outputs": []
    },
    {
      "cell_type": "markdown",
      "metadata": {
        "id": "0_xEXyGPE9Om"
      },
      "source": [
        "The fit function records the validation loss and metric from each epoch. It returns a history of the training, useful for debugging & visualization.\n",
        "\n",
        "Configurations like batch size, learning rate, etc. (called hyperparameters), need to picked in advance while training machine learning models. Choosing the right hyperparameters is critical for training a reasonably accurate model within a reasonable amount of time. It is an active area of research and experimentation in machine learning. Feel free to try different learning rates and see how it affects the training process.\n",
        "\n",
        "Let's define the evaluate function, used in the validation phase of fit."
      ]
    },
    {
      "cell_type": "code",
      "metadata": {
        "id": "Oo0TpJQ9r5Fv"
      },
      "source": [
        "l1 = [1, 2, 3, 4, 5]"
      ],
      "execution_count": 41,
      "outputs": []
    },
    {
      "cell_type": "code",
      "metadata": {
        "colab": {
          "base_uri": "https://localhost:8080/"
        },
        "id": "VERJ2CCur5Dc",
        "outputId": "552b1a05-cf13-49e3-a7f5-120015fcae0a"
      },
      "source": [
        "l2 = [x*2 for x in l1]\n",
        "l2"
      ],
      "execution_count": 42,
      "outputs": [
        {
          "output_type": "execute_result",
          "data": {
            "text/plain": [
              "[2, 4, 6, 8, 10]"
            ]
          },
          "metadata": {
            "tags": []
          },
          "execution_count": 42
        }
      ]
    },
    {
      "cell_type": "code",
      "metadata": {
        "id": "BhNd3YKsr5BB"
      },
      "source": [
        "def evaluate (model, val_loader):\n",
        "  outputs = [model.validation_step(batch) for batch in val_loader]\n",
        "  return model.validation_epoch_end(outputs)"
      ],
      "execution_count": 43,
      "outputs": []
    },
    {
      "cell_type": "markdown",
      "metadata": {
        "id": "IivFnfwVF7UI"
      },
      "source": [
        "Finally, let's redefine the `MnistModel` class to include additional methods training_step, validation_step, validation_epoch_end, and epoch_end used by fit and evaluate."
      ]
    },
    {
      "cell_type": "code",
      "metadata": {
        "id": "8x8Hk7uTr4-q"
      },
      "source": [
        "class MnistModel(nn.Module):\n",
        "  def __init__(self):\n",
        "    super().__init__()\n",
        "    self.linear = nn.Linear(input_size, num_classes)\n",
        "\n",
        "  def forward(self, xb):\n",
        "    xb = xb.reshape(-1, 784)\n",
        "    out = self.linear(xb)\n",
        "    return out\n",
        "\n",
        "  def training_step(self, batch):\n",
        "    images, labels = batch\n",
        "    out = self(images)  # Generate predictions\n",
        "    loss = F.cross_entropy(out, labels)  # Calculate loss\n",
        "    return loss\n",
        "\n",
        "  def validation_step(self, batch):\n",
        "    images, labels = batch\n",
        "    out = self(images)   # Generate predictions\n",
        "    loss = F.cross_entropy(out, labels) # Calculate loss\n",
        "    acc = accuracy(out, labels)\n",
        "    return {'val_loss': loss, 'val_acc': acc}\n",
        "\n",
        "  def validation_epoch_end(self, outputs):\n",
        "    batch_losses = [x['val_loss'] for x in outputs]\n",
        "    epoch_loss = torch.stack(batch_losses).mean()   # Combine losses\n",
        "    batch_accs = [x['val_acc'] for x in outputs]\n",
        "    epoch_acc = torch.stack(batch_accs).mean()   # Combine accuracies\n",
        "    return {'val_loss': epoch_loss.item(), 'val_acc': epoch_acc.item()}\n",
        "\n",
        "  def epoch_end(self, epoch, result):\n",
        "    print(\"Epoch [{}], val_loss: {:.4f}, val_acc: {:.4f}\".format(epoch, result['val_loss'], result['val_acc']))\n",
        "\n",
        "model = MnistModel()\n"
      ],
      "execution_count": 44,
      "outputs": []
    },
    {
      "cell_type": "markdown",
      "metadata": {
        "id": "pE5bi61GJqlD"
      },
      "source": [
        "Before we train the model, let's see how the model performs on the validation set with the initial set of randomly initialized weights & biases."
      ]
    },
    {
      "cell_type": "code",
      "metadata": {
        "colab": {
          "base_uri": "https://localhost:8080/"
        },
        "id": "oobe3x60r48R",
        "outputId": "07809df4-1ee3-4954-a838-ec4793b49184"
      },
      "source": [
        "result0 = evaluate(model, val_loader)\n",
        "result0"
      ],
      "execution_count": 45,
      "outputs": [
        {
          "output_type": "execute_result",
          "data": {
            "text/plain": [
              "{'val_acc': 0.10334256291389465, 'val_loss': 2.3217930793762207}"
            ]
          },
          "metadata": {
            "tags": []
          },
          "execution_count": 45
        }
      ]
    },
    {
      "cell_type": "markdown",
      "metadata": {
        "id": "0N14zZjfKAdl"
      },
      "source": [
        "The initial accuracy is around 10%, which one might expect from a randomly initialized model (since it has a 1 in 10 chance of getting a label right by guessing randomly).\n",
        "\n",
        "We are now ready to train the model. Let's train for five epochs and look at the results."
      ]
    },
    {
      "cell_type": "code",
      "metadata": {
        "colab": {
          "base_uri": "https://localhost:8080/"
        },
        "id": "Y1yaDk-sr45c",
        "outputId": "87370efd-e74e-44ad-9b14-2f1945947631"
      },
      "source": [
        "history1 = fit(5, 0.0001, model, train_loader, val_loader)"
      ],
      "execution_count": 46,
      "outputs": [
        {
          "output_type": "stream",
          "text": [
            "Epoch [0], val_loss: 2.2774, val_acc: 0.1455\n",
            "Epoch [1], val_loss: 2.2352, val_acc: 0.2147\n",
            "Epoch [2], val_loss: 2.1948, val_acc: 0.2902\n",
            "Epoch [3], val_loss: 2.1561, val_acc: 0.3702\n",
            "Epoch [4], val_loss: 2.1188, val_acc: 0.4361\n"
          ],
          "name": "stdout"
        }
      ]
    },
    {
      "cell_type": "code",
      "metadata": {
        "colab": {
          "base_uri": "https://localhost:8080/"
        },
        "id": "xjy5nViXr40m",
        "outputId": "0e458fa8-3657-4a2a-c6b5-0e762a36cac6"
      },
      "source": [
        "history2 = fit(5, 0.0001, model, train_loader, val_loader)"
      ],
      "execution_count": 47,
      "outputs": [
        {
          "output_type": "stream",
          "text": [
            "Epoch [0], val_loss: 2.0828, val_acc: 0.4868\n",
            "Epoch [1], val_loss: 2.0480, val_acc: 0.5241\n",
            "Epoch [2], val_loss: 2.0143, val_acc: 0.5553\n",
            "Epoch [3], val_loss: 1.9818, val_acc: 0.5805\n",
            "Epoch [4], val_loss: 1.9502, val_acc: 0.6004\n"
          ],
          "name": "stdout"
        }
      ]
    },
    {
      "cell_type": "code",
      "metadata": {
        "colab": {
          "base_uri": "https://localhost:8080/"
        },
        "id": "cdm3wOCGr4yC",
        "outputId": "c2c14ac1-e5fa-407f-8632-26c2bcf80afd"
      },
      "source": [
        "history3 = fit(5, 0.0001, model, train_loader, val_loader)"
      ],
      "execution_count": 48,
      "outputs": [
        {
          "output_type": "stream",
          "text": [
            "Epoch [0], val_loss: 1.9196, val_acc: 0.6187\n",
            "Epoch [1], val_loss: 1.8899, val_acc: 0.6341\n",
            "Epoch [2], val_loss: 1.8611, val_acc: 0.6499\n",
            "Epoch [3], val_loss: 1.8331, val_acc: 0.6629\n",
            "Epoch [4], val_loss: 1.8060, val_acc: 0.6737\n"
          ],
          "name": "stdout"
        }
      ]
    },
    {
      "cell_type": "code",
      "metadata": {
        "colab": {
          "base_uri": "https://localhost:8080/"
        },
        "id": "jhitZlyJr4v-",
        "outputId": "1f4ef3d1-24bb-4d9c-a1a3-6ebbd2f7b143"
      },
      "source": [
        "history4 = fit(5, 0.0001, model, train_loader, val_loader)"
      ],
      "execution_count": 49,
      "outputs": [
        {
          "output_type": "stream",
          "text": [
            "Epoch [0], val_loss: 1.7796, val_acc: 0.6832\n",
            "Epoch [1], val_loss: 1.7541, val_acc: 0.6918\n",
            "Epoch [2], val_loss: 1.7293, val_acc: 0.7009\n",
            "Epoch [3], val_loss: 1.7052, val_acc: 0.7076\n",
            "Epoch [4], val_loss: 1.6818, val_acc: 0.7139\n"
          ],
          "name": "stdout"
        }
      ]
    },
    {
      "cell_type": "markdown",
      "metadata": {
        "id": "7E78CCWZStQW"
      },
      "source": [
        "While the accuracy does continue to increase as we train for more epochs, the improvements get smaller with every epoch. Let's visualize this using a line graph."
      ]
    },
    {
      "cell_type": "code",
      "metadata": {
        "id": "vpfPYXpkr4t-",
        "colab": {
          "base_uri": "https://localhost:8080/",
          "height": 295
        },
        "outputId": "86837ba6-22d5-4a39-8300-357f8f745338"
      },
      "source": [
        "history = [result0] + history1 + history2 + history3 + history4\n",
        "accuracies = [result['val_acc'] for result in history]\n",
        "plt.plot(accuracies, '-x')\n",
        "plt.xlabel('epoch')\n",
        "plt.ylabel('accuracy')\n",
        "plt.title('Accuracy vs. No. of epochs');"
      ],
      "execution_count": 50,
      "outputs": [
        {
          "output_type": "display_data",
          "data": {
            "image/png": "[encoded data removed]",
            "text/plain": [
              "<Figure size 432x288 with 1 Axes>"
            ]
          },
          "metadata": {
            "tags": [],
            "needs_background": "light"
          }
        }
      ]
    },
    {
      "cell_type": "markdown",
      "metadata": {
        "id": "K2a-BQe6VKAF"
      },
      "source": [
        "It's quite clear from the above picture that the model probably won't cross the accuracy threshold of 80% even after training for a very long time. One possible reason for this is that the learning rate might be too high. The model's parameters may be \"bouncing\" around the optimal set of parameters for the lowest loss. You can try reducing the learning rate and training for a few more epochs to see if it helps.\n",
        "\n",
        "The more likely reason that the model just isn't powerful enough. If you remember our initial hypothesis, we have assumed that the output (in this case the class probabilities) is a linear function of the input (pixel intensities), obtained by perfoming a matrix multiplication with the weights matrix and adding the bias. This is a fairly weak assumption, as there may not actually exist a linear relationship between the pixel intensities in an image and the digit it represents. While it works reasonably well for a simple dataset like MNIST (getting us to 75% accuracy), we need more sophisticated models that can capture non-linear relationships between image pixels and labels for complex tasks like recognizing everyday objects, animals etc."
      ]
    },
    {
      "cell_type": "code",
      "metadata": {
        "colab": {
          "base_uri": "https://localhost:8080/"
        },
        "id": "Hq9_S6SqXHHY",
        "outputId": "26ee93f7-38ad-4d33-c2a9-2fe01bd8ff59"
      },
      "source": [
        "jovian.log_metrics(val_acc=history[-1]['val_acc'], val_loss=history[-1]['val_loss'])"
      ],
      "execution_count": 51,
      "outputs": [
        {
          "output_type": "stream",
          "text": [
            "[jovian] Metrics logged.\u001b[0m\n"
          ],
          "name": "stdout"
        }
      ]
    },
    {
      "cell_type": "code",
      "metadata": {
        "colab": {
          "base_uri": "https://localhost:8080/",
          "height": 123
        },
        "id": "FCD8jWjzXGf6",
        "outputId": "2bd5159a-d0d8-4507-e905-35f24b14e2cc"
      },
      "source": [
        "jovian.commit(project='logistic-regression-softmax-crossentropy', environment=None)"
      ],
      "execution_count": 52,
      "outputs": [
        {
          "output_type": "stream",
          "text": [
            "[jovian] Detected Colab notebook...\u001b[0m\n",
            "[jovian] Uploading colab notebook to Jovian...\u001b[0m\n",
            "[jovian] Attaching records (metrics, hyperparameters, dataset etc.)\u001b[0m\n",
            "[jovian] Committed successfully! https://jovian.ai/monika171/logistic-regression-softmax-crossentropy\u001b[0m\n"
          ],
          "name": "stdout"
        },
        {
          "output_type": "execute_result",
          "data": {
            "application/vnd.google.colaboratory.intrinsic+json": {
              "type": "string"
            },
            "text/plain": [
              "'https://jovian.ai/monika171/logistic-regression-softmax-crossentropy'"
            ]
          },
          "metadata": {
            "tags": []
          },
          "execution_count": 52
        }
      ]
    },
    {
      "cell_type": "markdown",
      "metadata": {
        "id": "iVCoHlAfVaxh"
      },
      "source": [
        "## Testing with individual images\n",
        "While we have been tracking the overall accuracy of a model so far, it's also a good idea to look at model's results on some sample images. Let's test out our model with some images from the predefined test dataset of 10000 images. We begin by recreating the test dataset with the ToTensor transform."
      ]
    },
    {
      "cell_type": "code",
      "metadata": {
        "id": "SEhz8Ryur4rg"
      },
      "source": [
        "# Define test dataset\n",
        "test_dataset = MNIST(root='data/',\n",
        "                     train=False,\n",
        "                     transform=transforms.ToTensor())"
      ],
      "execution_count": 53,
      "outputs": []
    },
    {
      "cell_type": "markdown",
      "metadata": {
        "id": "PIvtjolIZ5S4"
      },
      "source": [
        "Here's a sample image from the dataset."
      ]
    },
    {
      "cell_type": "code",
      "metadata": {
        "id": "S4VzaJvTr4ph",
        "colab": {
          "base_uri": "https://localhost:8080/",
          "height": 299
        },
        "outputId": "428c7bd0-e045-4b2e-f316-11fa3292accd"
      },
      "source": [
        "img, label = test_dataset[0]\n",
        "plt.imshow(img[0], cmap='gray')\n",
        "print('Shape:', img.shape)\n",
        "print('Label:', label)"
      ],
      "execution_count": 54,
      "outputs": [
        {
          "output_type": "stream",
          "text": [
            "Shape: torch.Size([1, 28, 28])\n",
            "Label: 7\n"
          ],
          "name": "stdout"
        },
        {
          "output_type": "display_data",
          "data": {
            "image/png": "[encoded data removed]",
            "text/plain": [
              "<Figure size 432x288 with 1 Axes>"
            ]
          },
          "metadata": {
            "tags": [],
            "needs_background": "light"
          }
        }
      ]
    },
    {
      "cell_type": "markdown",
      "metadata": {
        "id": "TqCpgoc5adAc"
      },
      "source": [
        "Let's define a helper function predict_image, which returns the predicted label for a single image tensor."
      ]
    },
    {
      "cell_type": "code",
      "metadata": {
        "id": "Fq8rgjDdr4nS"
      },
      "source": [
        "def predict_image(img, model):\n",
        "  xb = img.unsqueeze(0)\n",
        "  yb = model(xb)\n",
        "  _, preds = torch.max(yb, dim=1)\n",
        "  return preds[0].item()"
      ],
      "execution_count": 55,
      "outputs": []
    },
    {
      "cell_type": "markdown",
      "metadata": {
        "id": "7MjkhE9GbM-K"
      },
      "source": [
        "img.unsqueeze simply adds another dimension at the begining of the 1x28x28 tensor, making it a 1x1x28x28 tensor, which the model views as a batch containing a single image.\n",
        "\n",
        "Let's try it out with a few images."
      ]
    },
    {
      "cell_type": "code",
      "metadata": {
        "id": "-ewoOKFbr4kU",
        "colab": {
          "base_uri": "https://localhost:8080/",
          "height": 282
        },
        "outputId": "722516df-6dd1-4ea7-af32-85c80aac631f"
      },
      "source": [
        "img, label = test_dataset[0]\n",
        "plt.imshow(img[0], cmap='gray')\n",
        "print('Label:', label, ', Predicted:', predict_image(img, model))"
      ],
      "execution_count": 56,
      "outputs": [
        {
          "output_type": "stream",
          "text": [
            "Label: 7 , Predicted: 7\n"
          ],
          "name": "stdout"
        },
        {
          "output_type": "display_data",
          "data": {
            "image/png": "[encoded data removed]",
            "text/plain": [
              "<Figure size 432x288 with 1 Axes>"
            ]
          },
          "metadata": {
            "tags": [],
            "needs_background": "light"
          }
        }
      ]
    },
    {
      "cell_type": "code",
      "metadata": {
        "id": "WGz-uncfr4iL",
        "colab": {
          "base_uri": "https://localhost:8080/",
          "height": 282
        },
        "outputId": "3a0f6a16-a06f-4b3b-f877-f972481efe5d"
      },
      "source": [
        "img, label = test_dataset[10]\n",
        "plt.imshow(img[0], cmap='gray')\n",
        "print('Label:', label, ', Predicted:', predict_image(img, model))"
      ],
      "execution_count": 57,
      "outputs": [
        {
          "output_type": "stream",
          "text": [
            "Label: 0 , Predicted: 0\n"
          ],
          "name": "stdout"
        },
        {
          "output_type": "display_data",
          "data": {
            "image/png": "[encoded data removed]",
            "text/plain": [
              "<Figure size 432x288 with 1 Axes>"
            ]
          },
          "metadata": {
            "tags": [],
            "needs_background": "light"
          }
        }
      ]
    },
    {
      "cell_type": "code",
      "metadata": {
        "id": "-P_kvhaCr4fg",
        "colab": {
          "base_uri": "https://localhost:8080/",
          "height": 282
        },
        "outputId": "2154d269-f49a-47f9-9c6e-3176b4e449c0"
      },
      "source": [
        "img, label = test_dataset[193]\n",
        "plt.imshow(img[0], cmap='gray')\n",
        "print('Label:', label, ', Predicted:', predict_image(img, model))"
      ],
      "execution_count": 58,
      "outputs": [
        {
          "output_type": "stream",
          "text": [
            "Label: 9 , Predicted: 3\n"
          ],
          "name": "stdout"
        },
        {
          "output_type": "display_data",
          "data": {
            "image/png": "[encoded data removed]",
            "text/plain": [
              "<Figure size 432x288 with 1 Axes>"
            ]
          },
          "metadata": {
            "tags": [],
            "needs_background": "light"
          }
        }
      ]
    },
    {
      "cell_type": "code",
      "metadata": {
        "colab": {
          "base_uri": "https://localhost:8080/",
          "height": 282
        },
        "id": "cejweZidcCyl",
        "outputId": "01b19f92-be65-4453-b1bf-c208d5829572"
      },
      "source": [
        "img, label = test_dataset[1839]\n",
        "plt.imshow(img[0], cmap='gray')\n",
        "print('Label:', label, ', Predicted:', predict_image(img, model))"
      ],
      "execution_count": 59,
      "outputs": [
        {
          "output_type": "stream",
          "text": [
            "Label: 2 , Predicted: 8\n"
          ],
          "name": "stdout"
        },
        {
          "output_type": "display_data",
          "data": {
            "image/png": "[encoded data removed]",
            "text/plain": [
              "<Figure size 432x288 with 1 Axes>"
            ]
          },
          "metadata": {
            "tags": [],
            "needs_background": "light"
          }
        }
      ]
    },
    {
      "cell_type": "markdown",
      "metadata": {
        "id": "pxPeuOJ3cOdz"
      },
      "source": [
        "Identifying where our model performs poorly can help us improve the model, by collecting more training data, increasing/decreasing the complexity of the model, and changing the hypeparameters.\n",
        "\n",
        "As a final step, let's also look at the overall loss and accuracy of the model on the test set."
      ]
    },
    {
      "cell_type": "code",
      "metadata": {
        "colab": {
          "base_uri": "https://localhost:8080/"
        },
        "id": "KPRWV1AmcCwF",
        "outputId": "3e6ab13e-ac46-4ec4-806f-917f12093bb0"
      },
      "source": [
        "test_loader = DataLoader(test_dataset, batch_size=256)\n",
        "result = evaluate(model, test_loader)\n",
        "result"
      ],
      "execution_count": 60,
      "outputs": [
        {
          "output_type": "execute_result",
          "data": {
            "text/plain": [
              "{'val_acc': 0.708691418170929, 'val_loss': 1.6707308292388916}"
            ]
          },
          "metadata": {
            "tags": []
          },
          "execution_count": 60
        }
      ]
    },
    {
      "cell_type": "markdown",
      "metadata": {
        "id": "hfBsI2WYdrjQ"
      },
      "source": [
        "We expect this to be similar to the accuracy/loss on the validation set. If not, we might need a better validation set that has similar data and distribution as the test set (which often comes from real world data)."
      ]
    },
    {
      "cell_type": "markdown",
      "metadata": {
        "id": "hRnIpWnRh9xf"
      },
      "source": [
        "## Saving and loading the model\n",
        "Since we've trained our model for a long time and achieved a resonable accuracy, it would be a good idea to save the weights and bias matrices to disk, so that we can reuse the model later and avoid retraining from scratch. Here's how you can save the model."
      ]
    },
    {
      "cell_type": "code",
      "metadata": {
        "id": "BoTcfdkucCs2"
      },
      "source": [
        "torch.save(model.state_dict(), 'mnist-logistic.pth')"
      ],
      "execution_count": 61,
      "outputs": []
    },
    {
      "cell_type": "markdown",
      "metadata": {
        "id": "xk-jm6Kiibrt"
      },
      "source": [
        "The .state_dict method returns an OrderedDict containing all the weights and bias matrices mapped to the right attributes of the model."
      ]
    },
    {
      "cell_type": "code",
      "metadata": {
        "colab": {
          "base_uri": "https://localhost:8080/"
        },
        "id": "S3us5g6McCpb",
        "outputId": "bd94bf1c-f881-40a8-f145-ccb9e7736d32"
      },
      "source": [
        "model.state_dict()"
      ],
      "execution_count": 62,
      "outputs": [
        {
          "output_type": "execute_result",
          "data": {
            "text/plain": [
              "OrderedDict([('linear.weight',\n",
              "              tensor([[ 0.0133, -0.0034,  0.0314,  ...,  0.0026, -0.0170, -0.0270],\n",
              "                      [-0.0184,  0.0344,  0.0060,  ..., -0.0025,  0.0268,  0.0211],\n",
              "                      [ 0.0240, -0.0276,  0.0239,  ..., -0.0216, -0.0037, -0.0273],\n",
              "                      ...,\n",
              "                      [-0.0098,  0.0065, -0.0306,  ...,  0.0046, -0.0066,  0.0219],\n",
              "                      [ 0.0217, -0.0152,  0.0200,  ...,  0.0121, -0.0086,  0.0278],\n",
              "                      [-0.0327, -0.0227,  0.0009,  ..., -0.0320, -0.0019,  0.0093]])),\n",
              "             ('linear.bias',\n",
              "              tensor([ 0.0114,  0.0358, -0.0305, -0.0333,  0.0307, -0.0045,  0.0099, -0.0280,\n",
              "                      -0.0281,  0.0237]))])"
            ]
          },
          "metadata": {
            "tags": []
          },
          "execution_count": 62
        }
      ]
    },
    {
      "cell_type": "markdown",
      "metadata": {
        "id": "U1GskaeLisI1"
      },
      "source": [
        "To load the model weights, we can instante a new object of the class MnistModel, and use the .load_state_dict method.\n",
        "\n",
        "\n",
        "Since, notice in [63][64][65], which gives wrong result.\n",
        "\n",
        "Correct solution [66] onward."
      ]
    },
    {
      "cell_type": "code",
      "metadata": {
        "id": "lTnZUev4cCmq"
      },
      "source": [
        "model2 = MnistModel()"
      ],
      "execution_count": 63,
      "outputs": []
    },
    {
      "cell_type": "code",
      "metadata": {
        "colab": {
          "base_uri": "https://localhost:8080/"
        },
        "id": "mqZ0BjwEcCjv",
        "outputId": "d18b0798-b217-45d4-f1d7-262c3106dd30"
      },
      "source": [
        "model2.state_dict()"
      ],
      "execution_count": 64,
      "outputs": [
        {
          "output_type": "execute_result",
          "data": {
            "text/plain": [
              "OrderedDict([('linear.weight',\n",
              "              tensor([[-0.0331,  0.0002,  0.0250,  ...,  0.0094, -0.0180, -0.0064],\n",
              "                      [ 0.0307,  0.0098,  0.0339,  ...,  0.0271, -0.0311, -0.0258],\n",
              "                      [-0.0085, -0.0336, -0.0220,  ...,  0.0167, -0.0052, -0.0330],\n",
              "                      ...,\n",
              "                      [ 0.0020, -0.0257, -0.0283,  ..., -0.0081, -0.0260, -0.0201],\n",
              "                      [-0.0263, -0.0151, -0.0078,  ..., -0.0072,  0.0297, -0.0034],\n",
              "                      [-0.0022,  0.0158,  0.0077,  ...,  0.0277,  0.0242, -0.0200]])),\n",
              "             ('linear.bias',\n",
              "              tensor([-0.0109, -0.0154, -0.0052, -0.0106,  0.0292,  0.0202, -0.0055, -0.0316,\n",
              "                       0.0127,  0.0177]))])"
            ]
          },
          "metadata": {
            "tags": []
          },
          "execution_count": 64
        }
      ]
    },
    {
      "cell_type": "code",
      "metadata": {
        "colab": {
          "base_uri": "https://localhost:8080/"
        },
        "id": "Fe5dKRDhcCgs",
        "outputId": "73745e93-48fb-4d6d-d859-51bf539f465c"
      },
      "source": [
        "evaluate(model2, test_loader)"
      ],
      "execution_count": 65,
      "outputs": [
        {
          "output_type": "execute_result",
          "data": {
            "text/plain": [
              "{'val_acc': 0.09189452975988388, 'val_loss': 2.3133668899536133}"
            ]
          },
          "metadata": {
            "tags": []
          },
          "execution_count": 65
        }
      ]
    },
    {
      "cell_type": "code",
      "metadata": {
        "colab": {
          "base_uri": "https://localhost:8080/"
        },
        "id": "537hhghbcCdn",
        "outputId": "88aabe9d-15ea-4c4b-dc66-8270f598c24f"
      },
      "source": [
        "model2.load_state_dict(torch.load('mnist-logistic.pth'))\n",
        "model2.state_dict()"
      ],
      "execution_count": 66,
      "outputs": [
        {
          "output_type": "execute_result",
          "data": {
            "text/plain": [
              "OrderedDict([('linear.weight',\n",
              "              tensor([[ 0.0133, -0.0034,  0.0314,  ...,  0.0026, -0.0170, -0.0270],\n",
              "                      [-0.0184,  0.0344,  0.0060,  ..., -0.0025,  0.0268,  0.0211],\n",
              "                      [ 0.0240, -0.0276,  0.0239,  ..., -0.0216, -0.0037, -0.0273],\n",
              "                      ...,\n",
              "                      [-0.0098,  0.0065, -0.0306,  ...,  0.0046, -0.0066,  0.0219],\n",
              "                      [ 0.0217, -0.0152,  0.0200,  ...,  0.0121, -0.0086,  0.0278],\n",
              "                      [-0.0327, -0.0227,  0.0009,  ..., -0.0320, -0.0019,  0.0093]])),\n",
              "             ('linear.bias',\n",
              "              tensor([ 0.0114,  0.0358, -0.0305, -0.0333,  0.0307, -0.0045,  0.0099, -0.0280,\n",
              "                      -0.0281,  0.0237]))])"
            ]
          },
          "metadata": {
            "tags": []
          },
          "execution_count": 66
        }
      ]
    },
    {
      "cell_type": "markdown",
      "metadata": {
        "id": "7ehj0ZabjW5D"
      },
      "source": [
        "Just as a sanity check, let's verify that this model has the same loss and accuracy on the test set as before."
      ]
    },
    {
      "cell_type": "code",
      "metadata": {
        "colab": {
          "base_uri": "https://localhost:8080/"
        },
        "id": "W79U94WTcCYL",
        "outputId": "1fec743d-1e76-4b80-8b05-079c233f8fc7"
      },
      "source": [
        "test_loader = DataLoader(test_dataset, batch_size=256)\n",
        "result = evaluate(model2, test_loader)\n",
        "result"
      ],
      "execution_count": 67,
      "outputs": [
        {
          "output_type": "execute_result",
          "data": {
            "text/plain": [
              "{'val_acc': 0.708691418170929, 'val_loss': 1.6707308292388916}"
            ]
          },
          "metadata": {
            "tags": []
          },
          "execution_count": 67
        }
      ]
    },
    {
      "cell_type": "code",
      "metadata": {
        "colab": {
          "base_uri": "https://localhost:8080/",
          "height": 103
        },
        "id": "4e_7GIi1kLSw",
        "outputId": "053b6a2b-9ab0-450e-f2e4-f3b57b43da11"
      },
      "source": [
        "jovian.commit(project='logistic-regression-softmax-crossentropy', environment=None)"
      ],
      "execution_count": 68,
      "outputs": [
        {
          "output_type": "stream",
          "text": [
            "[jovian] Detected Colab notebook...\u001b[0m\n",
            "[jovian] Uploading colab notebook to Jovian...\u001b[0m\n",
            "[jovian] Attaching records (metrics, hyperparameters, dataset etc.)\u001b[0m\n",
            "[jovian] Committed successfully! https://jovian.ai/monika171/logistic-regression-softmax-crossentropy\u001b[0m\n"
          ],
          "name": "stdout"
        },
        {
          "output_type": "execute_result",
          "data": {
            "application/vnd.google.colaboratory.intrinsic+json": {
              "type": "string"
            },
            "text/plain": [
              "'https://jovian.ai/monika171/logistic-regression-softmax-crossentropy'"
            ]
          },
          "metadata": {
            "tags": []
          },
          "execution_count": 68
        }
      ]
    },
    {
      "cell_type": "markdown",
      "metadata": {
        "id": "sairkUSbjx81"
      },
      "source": [
        "As a final step, we can save and commit our work using the jovian library. Along with the notebook, we can also attach the weights of our trained model, so that we can use it later."
      ]
    },
    {
      "cell_type": "code",
      "metadata": {
        "id": "VvwquhQRr4c9",
        "colab": {
          "base_uri": "https://localhost:8080/",
          "height": 120
        },
        "outputId": "12960fc4-d9e9-4379-ace8-d8b14a0c0e01"
      },
      "source": [
        "jovian.commit(project='logistic-regression-softmax-crossentropy', environment=None, outputs=['mnist-logistic.pth'])"
      ],
      "execution_count": 70,
      "outputs": [
        {
          "output_type": "stream",
          "text": [
            "[jovian] Detected Colab notebook...\u001b[0m\n",
            "[jovian] Uploading colab notebook to Jovian...\u001b[0m\n",
            "[jovian] Uploading additional outputs...\u001b[0m\n",
            "[jovian] Attaching records (metrics, hyperparameters, dataset etc.)\u001b[0m\n",
            "[jovian] Committed successfully! https://jovian.ai/monika171/logistic-regression-softmax-crossentropy\u001b[0m\n"
          ],
          "name": "stdout"
        },
        {
          "output_type": "execute_result",
          "data": {
            "application/vnd.google.colaboratory.intrinsic+json": {
              "type": "string"
            },
            "text/plain": [
              "'https://jovian.ai/monika171/logistic-regression-softmax-crossentropy'"
            ]
          },
          "metadata": {
            "tags": []
          },
          "execution_count": 70
        }
      ]
    },
    {
      "cell_type": "code",
      "metadata": {
        "id": "hL54WNuFm_ux"
      },
      "source": [
        ""
      ],
      "execution_count": null,
      "outputs": []
    }
  ]
}