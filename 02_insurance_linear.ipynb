{
  "nbformat": 4,
  "nbformat_minor": 0,
  "metadata": {
    "colab": {
      "name": "02-insurance-linear.ipynb",
      "provenance": [],
      "include_colab_link": true
    },
    "kernelspec": {
      "display_name": "Python 3",
      "language": "python",
      "name": "python3"
    },
    "language_info": {
      "codemirror_mode": {
        "name": "ipython",
        "version": 3
      },
      "file_extension": ".py",
      "mimetype": "text/x-python",
      "name": "python",
      "nbconvert_exporter": "python",
      "pygments_lexer": "ipython3",
      "version": "3.8.5"
    }
  },
  "cells": [
    {
      "cell_type": "markdown",
      "metadata": {
        "id": "view-in-github",
        "colab_type": "text"
      },
      "source": [
        "<a href=\"https://colab.research.google.com/github/Monika171/Deep-Learning-with-Pytorch/blob/main/02_insurance_linear.ipynb\" target=\"_parent\"><img src=\"https://colab.research.google.com/assets/colab-badge.svg\" alt=\"Open In Colab\"/></a>"
      ]
    },
    {
      "cell_type": "code",
      "metadata": {
        "id": "MBVzB3gR8nBP"
      },
      "source": [
        "# Jovian Commit Essentials\n",
        "# Please retain and execute this cell without modifying the contents for `jovian.commit` to work\n",
        "!pip install jovian --upgrade -q\n",
        "import jovian\n",
        "jovian.utils.colab.set_colab_file_id('1gy4dCMQaBlfthqAjyZuc3Dh8VlpwS_OC')"
      ],
      "execution_count": 52,
      "outputs": []
    },
    {
      "cell_type": "markdown",
      "metadata": {
        "id": "c267IxwkJ88-"
      },
      "source": [
        "# Insurance cost prediction using linear regression\n",
        "\n",
        "Make a submisson here: https://jovian.ai/learn/deep-learning-with-pytorch-zero-to-gans/assignment/assignment-2-train-your-first-model\n",
        "\n",
        "In this assignment we're going to use information like a person's age, sex, BMI, no. of children and smoking habit to predict the price of yearly medical bills. This kind of model is useful for insurance companies to determine the yearly insurance premium for a person. The dataset for this problem is taken from [Kaggle](https://www.kaggle.com/mirichoi0218/insurance).\n",
        "\n",
        "\n",
        "We will create a model with the following steps:\n",
        "1. Download and explore the dataset\n",
        "2. Prepare the dataset for training\n",
        "3. Create a linear regression model\n",
        "4. Train the model to fit the data\n",
        "5. Make predictions using the trained model\n",
        "\n",
        "\n",
        "This assignment builds upon the concepts from the first 2 lessons. It will help to review these Jupyter notebooks:\n",
        "- PyTorch basics: https://jovian.ai/aakashns/01-pytorch-basics\n",
        "- Linear Regression: https://jovian.ai/aakashns/02-linear-regression\n",
        "- Logistic Regression: https://jovian.ai/aakashns/03-logistic-regression\n",
        "- Linear regression (minimal): https://jovian.ai/aakashns/housing-linear-minimal\n",
        "- Logistic regression (minimal): https://jovian.ai/aakashns/mnist-logistic-minimal\n",
        "\n",
        "As you go through this notebook, you will find a **???** in certain places. Your job is to replace the **???** with appropriate code or values, to ensure that the notebook runs properly end-to-end . In some cases, you'll be required to choose some hyperparameters (learning rate, batch size etc.). Try to experiment with the hypeparameters to get the lowest loss.\n"
      ]
    },
    {
      "cell_type": "code",
      "metadata": {
        "id": "JYiFEk6OJ88_"
      },
      "source": [
        "# Uncomment and run the appropriate command for your operating system, if required\n",
        "\n",
        "# Linux / Binder\n",
        "# !pip install numpy matplotlib pandas torch==1.7.0+cpu torchvision==0.8.1+cpu torchaudio==0.7.0 -f https://download.pytorch.org/whl/torch_stable.html\n",
        "\n",
        "# Windows\n",
        "# !pip install numpy matplotlib pandas torch==1.7.0+cpu torchvision==0.8.1+cpu torchaudio==0.7.0 -f https://download.pytorch.org/whl/torch_stable.html\n",
        "\n",
        "# MacOS\n",
        "# !pip install numpy matplotlib pandas torch torchvision torchaudio"
      ],
      "execution_count": 53,
      "outputs": []
    },
    {
      "cell_type": "code",
      "metadata": {
        "id": "fPOX-ldRJ89A"
      },
      "source": [
        "import torch\n",
        "import jovian\n",
        "import torchvision\n",
        "import torch.nn as nn\n",
        "import pandas as pd\n",
        "import matplotlib.pyplot as plt\n",
        "import torch.nn.functional as F\n",
        "from torchvision.datasets.utils import download_url\n",
        "from torch.utils.data import DataLoader, TensorDataset, random_split"
      ],
      "execution_count": 54,
      "outputs": []
    },
    {
      "cell_type": "code",
      "metadata": {
        "id": "BVuYddp0J89B"
      },
      "source": [
        "project_name='02-insurance-linear-regression-monika171' # will be used by jovian.commit"
      ],
      "execution_count": 55,
      "outputs": []
    },
    {
      "cell_type": "markdown",
      "metadata": {
        "id": "9vWdBw9QJ89C"
      },
      "source": [
        "## Step 1: Download and explore the data\n",
        "\n",
        "Let us begin by downloading the data. We'll use the `download_url` function from PyTorch to get the data as a CSV (comma-separated values) file. "
      ]
    },
    {
      "cell_type": "code",
      "metadata": {
        "colab": {
          "base_uri": "https://localhost:8080/"
        },
        "id": "LW4PGHcjJ89C",
        "outputId": "670cfb21-708e-45c2-a784-d8620de1cfb5"
      },
      "source": [
        "DATASET_URL = \"https://hub.jovian.ml/wp-content/uploads/2020/05/insurance.csv\"\n",
        "DATA_FILENAME = \"insurance.csv\"\n",
        "download_url(DATASET_URL, '.')"
      ],
      "execution_count": 56,
      "outputs": [
        {
          "output_type": "stream",
          "text": [
            "Using downloaded and verified file: ./insurance.csv\n"
          ],
          "name": "stdout"
        }
      ]
    },
    {
      "cell_type": "markdown",
      "metadata": {
        "id": "anCAIokuJ89F"
      },
      "source": [
        "To load the dataset into memory, we'll use the `read_csv` function from the `pandas` library. The data will be loaded as a Pandas dataframe. See this short tutorial to learn more: https://data36.com/pandas-tutorial-1-basics-reading-data-files-dataframes-data-selection/"
      ]
    },
    {
      "cell_type": "code",
      "metadata": {
        "colab": {
          "base_uri": "https://localhost:8080/",
          "height": 204
        },
        "id": "sVZdoR2xJ89G",
        "outputId": "464998ec-5170-4aad-cef4-43bdc04f3c12"
      },
      "source": [
        "dataframe_raw = pd.read_csv(DATA_FILENAME)\n",
        "dataframe_raw.head()"
      ],
      "execution_count": 57,
      "outputs": [
        {
          "output_type": "execute_result",
          "data": {
            "text/html": [
              "<div>\n",
              "<style scoped>\n",
              "    .dataframe tbody tr th:only-of-type {\n",
              "        vertical-align: middle;\n",
              "    }\n",
              "\n",
              "    .dataframe tbody tr th {\n",
              "        vertical-align: top;\n",
              "    }\n",
              "\n",
              "    .dataframe thead th {\n",
              "        text-align: right;\n",
              "    }\n",
              "</style>\n",
              "<table border=\"1\" class=\"dataframe\">\n",
              "  <thead>\n",
              "    <tr style=\"text-align: right;\">\n",
              "      <th></th>\n",
              "      <th>age</th>\n",
              "      <th>sex</th>\n",
              "      <th>bmi</th>\n",
              "      <th>children</th>\n",
              "      <th>smoker</th>\n",
              "      <th>region</th>\n",
              "      <th>charges</th>\n",
              "    </tr>\n",
              "  </thead>\n",
              "  <tbody>\n",
              "    <tr>\n",
              "      <th>0</th>\n",
              "      <td>19</td>\n",
              "      <td>female</td>\n",
              "      <td>27.900</td>\n",
              "      <td>0</td>\n",
              "      <td>yes</td>\n",
              "      <td>southwest</td>\n",
              "      <td>16884.92400</td>\n",
              "    </tr>\n",
              "    <tr>\n",
              "      <th>1</th>\n",
              "      <td>18</td>\n",
              "      <td>male</td>\n",
              "      <td>33.770</td>\n",
              "      <td>1</td>\n",
              "      <td>no</td>\n",
              "      <td>southeast</td>\n",
              "      <td>1725.55230</td>\n",
              "    </tr>\n",
              "    <tr>\n",
              "      <th>2</th>\n",
              "      <td>28</td>\n",
              "      <td>male</td>\n",
              "      <td>33.000</td>\n",
              "      <td>3</td>\n",
              "      <td>no</td>\n",
              "      <td>southeast</td>\n",
              "      <td>4449.46200</td>\n",
              "    </tr>\n",
              "    <tr>\n",
              "      <th>3</th>\n",
              "      <td>33</td>\n",
              "      <td>male</td>\n",
              "      <td>22.705</td>\n",
              "      <td>0</td>\n",
              "      <td>no</td>\n",
              "      <td>northwest</td>\n",
              "      <td>21984.47061</td>\n",
              "    </tr>\n",
              "    <tr>\n",
              "      <th>4</th>\n",
              "      <td>32</td>\n",
              "      <td>male</td>\n",
              "      <td>28.880</td>\n",
              "      <td>0</td>\n",
              "      <td>no</td>\n",
              "      <td>northwest</td>\n",
              "      <td>3866.85520</td>\n",
              "    </tr>\n",
              "  </tbody>\n",
              "</table>\n",
              "</div>"
            ],
            "text/plain": [
              "   age     sex     bmi  children smoker     region      charges\n",
              "0   19  female  27.900         0    yes  southwest  16884.92400\n",
              "1   18    male  33.770         1     no  southeast   1725.55230\n",
              "2   28    male  33.000         3     no  southeast   4449.46200\n",
              "3   33    male  22.705         0     no  northwest  21984.47061\n",
              "4   32    male  28.880         0     no  northwest   3866.85520"
            ]
          },
          "metadata": {
            "tags": []
          },
          "execution_count": 57
        }
      ]
    },
    {
      "cell_type": "markdown",
      "metadata": {
        "id": "pFon8JLyJ89G"
      },
      "source": [
        "We're going to do a slight customization of the data, so that you every participant receives a slightly different version of the dataset. Fill in your name below as a string (enter at least 5 characters)"
      ]
    },
    {
      "cell_type": "code",
      "metadata": {
        "id": "NX3GQArIJ89H"
      },
      "source": [
        "your_name = 'monika' # at least 5 characters"
      ],
      "execution_count": 58,
      "outputs": []
    },
    {
      "cell_type": "markdown",
      "metadata": {
        "id": "Jrjvcq6nJ89H"
      },
      "source": [
        "The `customize_dataset` function will customize the dataset slightly using your name as a source of random numbers."
      ]
    },
    {
      "cell_type": "code",
      "metadata": {
        "id": "tVsf28RHJ89I"
      },
      "source": [
        "def customize_dataset(dataframe_raw, rand_str):\n",
        "    dataframe = dataframe_raw.copy(deep=True)\n",
        "    # drop some rows\n",
        "    dataframe = dataframe.sample(int(0.95*len(dataframe)), random_state=int(ord(rand_str[0])))\n",
        "    # scale input\n",
        "    dataframe.bmi = dataframe.bmi * ord(rand_str[1])/100.\n",
        "    # scale target\n",
        "    dataframe.charges = dataframe.charges * ord(rand_str[2])/100.\n",
        "    # drop column\n",
        "    if ord(rand_str[3]) % 2 == 1:\n",
        "        dataframe = dataframe.drop(['region'], axis=1)\n",
        "    return dataframe"
      ],
      "execution_count": 59,
      "outputs": []
    },
    {
      "cell_type": "code",
      "metadata": {
        "colab": {
          "base_uri": "https://localhost:8080/",
          "height": 204
        },
        "id": "OqskldsrJ89I",
        "outputId": "274b53ec-2062-4838-c85a-866d54d18488"
      },
      "source": [
        "dataframe = customize_dataset(dataframe_raw, your_name)\n",
        "dataframe.head()"
      ],
      "execution_count": 60,
      "outputs": [
        {
          "output_type": "execute_result",
          "data": {
            "text/html": [
              "<div>\n",
              "<style scoped>\n",
              "    .dataframe tbody tr th:only-of-type {\n",
              "        vertical-align: middle;\n",
              "    }\n",
              "\n",
              "    .dataframe tbody tr th {\n",
              "        vertical-align: top;\n",
              "    }\n",
              "\n",
              "    .dataframe thead th {\n",
              "        text-align: right;\n",
              "    }\n",
              "</style>\n",
              "<table border=\"1\" class=\"dataframe\">\n",
              "  <thead>\n",
              "    <tr style=\"text-align: right;\">\n",
              "      <th></th>\n",
              "      <th>age</th>\n",
              "      <th>sex</th>\n",
              "      <th>bmi</th>\n",
              "      <th>children</th>\n",
              "      <th>smoker</th>\n",
              "      <th>charges</th>\n",
              "    </tr>\n",
              "  </thead>\n",
              "  <tbody>\n",
              "    <tr>\n",
              "      <th>1063</th>\n",
              "      <td>36</td>\n",
              "      <td>male</td>\n",
              "      <td>31.74045</td>\n",
              "      <td>3</td>\n",
              "      <td>no</td>\n",
              "      <td>7203.014555</td>\n",
              "    </tr>\n",
              "    <tr>\n",
              "      <th>1317</th>\n",
              "      <td>18</td>\n",
              "      <td>male</td>\n",
              "      <td>58.97430</td>\n",
              "      <td>0</td>\n",
              "      <td>no</td>\n",
              "      <td>1279.808970</td>\n",
              "    </tr>\n",
              "    <tr>\n",
              "      <th>140</th>\n",
              "      <td>34</td>\n",
              "      <td>male</td>\n",
              "      <td>24.88620</td>\n",
              "      <td>2</td>\n",
              "      <td>no</td>\n",
              "      <td>30113.495258</td>\n",
              "    </tr>\n",
              "    <tr>\n",
              "      <th>106</th>\n",
              "      <td>19</td>\n",
              "      <td>female</td>\n",
              "      <td>31.52400</td>\n",
              "      <td>1</td>\n",
              "      <td>no</td>\n",
              "      <td>2564.670900</td>\n",
              "    </tr>\n",
              "    <tr>\n",
              "      <th>634</th>\n",
              "      <td>51</td>\n",
              "      <td>male</td>\n",
              "      <td>44.06700</td>\n",
              "      <td>1</td>\n",
              "      <td>no</td>\n",
              "      <td>10330.480600</td>\n",
              "    </tr>\n",
              "  </tbody>\n",
              "</table>\n",
              "</div>"
            ],
            "text/plain": [
              "      age     sex       bmi  children smoker       charges\n",
              "1063   36    male  31.74045         3     no   7203.014555\n",
              "1317   18    male  58.97430         0     no   1279.808970\n",
              "140    34    male  24.88620         2     no  30113.495258\n",
              "106    19  female  31.52400         1     no   2564.670900\n",
              "634    51    male  44.06700         1     no  10330.480600"
            ]
          },
          "metadata": {
            "tags": []
          },
          "execution_count": 60
        }
      ]
    },
    {
      "cell_type": "markdown",
      "metadata": {
        "id": "c83ulNBRJ89I"
      },
      "source": [
        "Let us answer some basic questions about the dataset. \n",
        "\n",
        "\n",
        "**Q: How many rows does the dataset have?**"
      ]
    },
    {
      "cell_type": "code",
      "metadata": {
        "colab": {
          "base_uri": "https://localhost:8080/"
        },
        "id": "JReV6kZ0J89J",
        "outputId": "7239a0e4-3b61-45bf-e771-0eb58d3032e5"
      },
      "source": [
        "num_rows = dataframe.shape[0]\n",
        "print(num_rows)"
      ],
      "execution_count": 61,
      "outputs": [
        {
          "output_type": "stream",
          "text": [
            "1271\n"
          ],
          "name": "stdout"
        }
      ]
    },
    {
      "cell_type": "markdown",
      "metadata": {
        "id": "qwkRFirwJ89J"
      },
      "source": [
        "**Q: How many columns doe the dataset have**"
      ]
    },
    {
      "cell_type": "code",
      "metadata": {
        "colab": {
          "base_uri": "https://localhost:8080/"
        },
        "id": "uYQZQXgmJ89J",
        "outputId": "1854bfbc-6e60-4acf-e84b-9ecc63bc9de0"
      },
      "source": [
        "num_cols = dataframe.shape[1]\n",
        "print(num_cols)"
      ],
      "execution_count": 62,
      "outputs": [
        {
          "output_type": "stream",
          "text": [
            "6\n"
          ],
          "name": "stdout"
        }
      ]
    },
    {
      "cell_type": "markdown",
      "metadata": {
        "id": "TF2XMxDpJ89K"
      },
      "source": [
        "**Q: What are the column titles of the input variables?**"
      ]
    },
    {
      "cell_type": "code",
      "metadata": {
        "colab": {
          "base_uri": "https://localhost:8080/"
        },
        "id": "oX6caTlsJ89K",
        "outputId": "931c8d8b-8957-4d9f-e677-1b8c402f88ad"
      },
      "source": [
        "input_cols = [i for i in dataframe.columns[:-1]]\n",
        "input_cols"
      ],
      "execution_count": 63,
      "outputs": [
        {
          "output_type": "execute_result",
          "data": {
            "text/plain": [
              "['age', 'sex', 'bmi', 'children', 'smoker']"
            ]
          },
          "metadata": {
            "tags": []
          },
          "execution_count": 63
        }
      ]
    },
    {
      "cell_type": "markdown",
      "metadata": {
        "id": "ova2CiLyJ89K"
      },
      "source": [
        "**Q: Which of the input columns are non-numeric or categorial variables ?**\n",
        "\n",
        "Hint: `sex` is one of them. List the columns that are not numbers."
      ]
    },
    {
      "cell_type": "code",
      "metadata": {
        "colab": {
          "base_uri": "https://localhost:8080/"
        },
        "id": "2mQYRRL1J89K",
        "outputId": "a4633563-d790-44a0-a600-32ac6776b719"
      },
      "source": [
        "categorical_cols = [i for i in dataframe.select_dtypes(include=['object', 'category']).columns]\n",
        "categorical_cols"
      ],
      "execution_count": 64,
      "outputs": [
        {
          "output_type": "execute_result",
          "data": {
            "text/plain": [
              "['sex', 'smoker']"
            ]
          },
          "metadata": {
            "tags": []
          },
          "execution_count": 64
        }
      ]
    },
    {
      "cell_type": "markdown",
      "metadata": {
        "id": "2yYSkgcZJ89L"
      },
      "source": [
        "**Q: What are the column titles of output/target variable(s)?**"
      ]
    },
    {
      "cell_type": "code",
      "metadata": {
        "colab": {
          "base_uri": "https://localhost:8080/"
        },
        "id": "maLlJS4tJ89L",
        "outputId": "680bc1bb-76d2-415e-fba0-43395f1480b9"
      },
      "source": [
        "output_cols = [dataframe.columns[-1]]\n",
        "output_cols"
      ],
      "execution_count": 65,
      "outputs": [
        {
          "output_type": "execute_result",
          "data": {
            "text/plain": [
              "['charges']"
            ]
          },
          "metadata": {
            "tags": []
          },
          "execution_count": 65
        }
      ]
    },
    {
      "cell_type": "markdown",
      "metadata": {
        "id": "HM8dBjd1J89L"
      },
      "source": [
        "**Q: (Optional) What is the minimum, maximum and average value of the `charges` column? Can you show the distribution of values in a graph?**\n",
        "Use this data visualization cheatsheet for referece: https://jovian.ml/aakashns/dataviz-cheatsheet"
      ]
    },
    {
      "cell_type": "code",
      "metadata": {
        "id": "3eGTBLv4J89L"
      },
      "source": [
        "# Write your answer here"
      ],
      "execution_count": 66,
      "outputs": []
    },
    {
      "cell_type": "markdown",
      "metadata": {
        "id": "Vuna05h5J89L"
      },
      "source": [
        "Remember to commit your notebook to Jovian after every step, so that you don't lose your work."
      ]
    },
    {
      "cell_type": "code",
      "metadata": {
        "id": "wDaR8Jh6J89M"
      },
      "source": [
        "!pip install jovian --upgrade -q"
      ],
      "execution_count": 67,
      "outputs": []
    },
    {
      "cell_type": "code",
      "metadata": {
        "id": "q-sbmvNHJ89M"
      },
      "source": [
        "import jovian"
      ],
      "execution_count": 68,
      "outputs": []
    },
    {
      "cell_type": "code",
      "metadata": {
        "colab": {
          "base_uri": "https://localhost:8080/",
          "height": 103
        },
        "id": "mryeQla7J89N",
        "outputId": "5197a3f2-e43c-4931-c792-d9890f533065"
      },
      "source": [
        "jovian.commit(project=project_name, environment=None)"
      ],
      "execution_count": 69,
      "outputs": [
        {
          "output_type": "stream",
          "text": [
            "[jovian] Detected Colab notebook...\u001b[0m\n",
            "[jovian] Uploading colab notebook to Jovian...\u001b[0m\n",
            "[jovian] Attaching records (metrics, hyperparameters, dataset etc.)\u001b[0m\n",
            "[jovian] Committed successfully! https://jovian.ai/monika171/02-insurance-linear-regression-monika171\u001b[0m\n"
          ],
          "name": "stdout"
        },
        {
          "output_type": "execute_result",
          "data": {
            "application/vnd.google.colaboratory.intrinsic+json": {
              "type": "string"
            },
            "text/plain": [
              "'https://jovian.ai/monika171/02-insurance-linear-regression-monika171'"
            ]
          },
          "metadata": {
            "tags": []
          },
          "execution_count": 69
        }
      ]
    },
    {
      "cell_type": "markdown",
      "metadata": {
        "id": "IJj8c5mUJ89O"
      },
      "source": [
        "## Step 2: Prepare the dataset for training\n",
        "\n",
        "We need to convert the data from the Pandas dataframe into a PyTorch tensors for training. To do this, the first step is to convert it numpy arrays. If you've filled out `input_cols`, `categorial_cols` and `output_cols` correctly, this following function will perform the conversion to numpy arrays."
      ]
    },
    {
      "cell_type": "code",
      "metadata": {
        "id": "91FmfabaJ89O"
      },
      "source": [
        "def dataframe_to_arrays(dataframe):\n",
        "    # Make a copy of the original dataframe\n",
        "    dataframe1 = dataframe.copy(deep=True)\n",
        "    # Convert non-numeric categorical columns to numbers\n",
        "    for col in categorical_cols:\n",
        "        dataframe1[col] = dataframe1[col].astype('category').cat.codes\n",
        "    # Extract input & outupts as numpy arrays\n",
        "    inputs_array = dataframe1[input_cols].to_numpy()\n",
        "    targets_array = dataframe1[output_cols].to_numpy()\n",
        "    return inputs_array, targets_array"
      ],
      "execution_count": 70,
      "outputs": []
    },
    {
      "cell_type": "markdown",
      "metadata": {
        "id": "YuDb9_SSJ89P"
      },
      "source": [
        "Read through the [Pandas documentation](https://pandas.pydata.org/pandas-docs/stable/user_guide/categorical.html) to understand how we're converting categorical variables into numbers."
      ]
    },
    {
      "cell_type": "code",
      "metadata": {
        "colab": {
          "base_uri": "https://localhost:8080/"
        },
        "id": "I3ftqcpGJ89P",
        "outputId": "f731e9a9-5b00-4231-f465-e06276167e03"
      },
      "source": [
        "inputs_array, targets_array = dataframe_to_arrays(dataframe)\n",
        "inputs_array, targets_array"
      ],
      "execution_count": 71,
      "outputs": [
        {
          "output_type": "execute_result",
          "data": {
            "text/plain": [
              "(array([[36.     ,  1.     , 31.74045,  3.     ,  0.     ],\n",
              "        [18.     ,  1.     , 58.9743 ,  0.     ,  0.     ],\n",
              "        [34.     ,  1.     , 24.8862 ,  2.     ,  0.     ],\n",
              "        ...,\n",
              "        [43.     ,  0.     , 39.6492 ,  2.     ,  0.     ],\n",
              "        [49.     ,  1.     , 39.8046 ,  0.     ,  0.     ],\n",
              "        [40.     ,  0.     , 32.856  ,  0.     ,  0.     ]]),\n",
              " array([[ 7203.014555],\n",
              "        [ 1279.80897 ],\n",
              "        [30113.495258],\n",
              "        ...,\n",
              "        [21059.034172],\n",
              "        [ 8936.84924 ],\n",
              "        [ 6502.0384  ]]))"
            ]
          },
          "metadata": {
            "tags": []
          },
          "execution_count": 71
        }
      ]
    },
    {
      "cell_type": "markdown",
      "metadata": {
        "id": "iyD8w59fJ89Q"
      },
      "source": [
        "**Q: Convert the numpy arrays `inputs_array` and `targets_array` into PyTorch tensors. Make sure that the data type is `torch.float32`.**"
      ]
    },
    {
      "cell_type": "code",
      "metadata": {
        "id": "rw6GuSsGJ89Q"
      },
      "source": [
        "inputs = torch.tensor(inputs_array, dtype=torch.float32)\n",
        "targets = torch.tensor(targets_array, dtype=torch.float32)"
      ],
      "execution_count": 72,
      "outputs": []
    },
    {
      "cell_type": "code",
      "metadata": {
        "colab": {
          "base_uri": "https://localhost:8080/"
        },
        "id": "JPAL0KSrJ89Q",
        "outputId": "51498c5b-b4be-4651-e068-962395594e28"
      },
      "source": [
        "inputs.dtype, targets.dtype"
      ],
      "execution_count": 73,
      "outputs": [
        {
          "output_type": "execute_result",
          "data": {
            "text/plain": [
              "(torch.float32, torch.float32)"
            ]
          },
          "metadata": {
            "tags": []
          },
          "execution_count": 73
        }
      ]
    },
    {
      "cell_type": "markdown",
      "metadata": {
        "id": "BBXpXMQBJ89Q"
      },
      "source": [
        "Next, we need to create PyTorch datasets & data loaders for training & validation. We'll start by creating a `TensorDataset`."
      ]
    },
    {
      "cell_type": "code",
      "metadata": {
        "id": "qjDPt7lmJ89R"
      },
      "source": [
        "dataset = TensorDataset(inputs, targets)"
      ],
      "execution_count": 74,
      "outputs": []
    },
    {
      "cell_type": "markdown",
      "metadata": {
        "id": "x2O01winJ89R"
      },
      "source": [
        "**Q: Pick a number between `0.1` and `0.2` to determine the fraction of data that will be used for creating the validation set. Then use `random_split` to create training & validation datasets.**"
      ]
    },
    {
      "cell_type": "code",
      "metadata": {
        "id": "Hanq18N8J89R"
      },
      "source": [
        "val_percent = 0.18 # between 0.1 and 0.2\n",
        "val_size = int(num_rows * val_percent)\n",
        "train_size = num_rows - val_size\n",
        "\n",
        "\n",
        "train_ds, val_ds = random_split(dataset, [train_size, val_size]) # Use the random_split function to split dataset into 2 parts of the desired length"
      ],
      "execution_count": 75,
      "outputs": []
    },
    {
      "cell_type": "markdown",
      "metadata": {
        "id": "GIgZqxk6J89R"
      },
      "source": [
        "Finally, we can create data loaders for training & validation.\n",
        "\n",
        "**Q: Pick a batch size for the data loader.**"
      ]
    },
    {
      "cell_type": "code",
      "metadata": {
        "id": "K5LIvUxzJ89S"
      },
      "source": [
        "batch_size = 6"
      ],
      "execution_count": 76,
      "outputs": []
    },
    {
      "cell_type": "code",
      "metadata": {
        "id": "bUBEmmQMJ89S"
      },
      "source": [
        "train_loader = DataLoader(train_ds, batch_size, shuffle=True)\n",
        "val_loader = DataLoader(val_ds, batch_size)"
      ],
      "execution_count": 77,
      "outputs": []
    },
    {
      "cell_type": "markdown",
      "metadata": {
        "id": "64yY9GUrJ89S"
      },
      "source": [
        "Let's look at a batch of data to verify everything is working fine so far."
      ]
    },
    {
      "cell_type": "code",
      "metadata": {
        "colab": {
          "base_uri": "https://localhost:8080/"
        },
        "id": "pQ6MK304J89S",
        "outputId": "1e687006-314b-4802-b048-f118e7723698"
      },
      "source": [
        "for xb, yb in train_loader:\n",
        "    print(\"inputs:\", xb)\n",
        "    print(\"targets:\", yb)\n",
        "    break"
      ],
      "execution_count": 78,
      "outputs": [
        {
          "output_type": "stream",
          "text": [
            "inputs: tensor([[61.0000,  0.0000, 48.8400,  0.0000,  0.0000],\n",
            "        [24.0000,  0.0000, 22.7772,  0.0000,  1.0000],\n",
            "        [27.0000,  1.0000, 33.6330,  3.0000,  0.0000],\n",
            "        [61.0000,  0.0000, 36.9963,  4.0000,  0.0000],\n",
            "        [51.0000,  0.0000, 45.1326,  0.0000,  0.0000],\n",
            "        [59.0000,  0.0000, 39.0720,  0.0000,  0.0000]])\n",
            "targets: tensor([[14370.2715],\n",
            "        [16029.0801],\n",
            "        [ 4686.8184],\n",
            "        [40238.3086],\n",
            "        [10863.2480],\n",
            "        [13468.9844]])\n"
          ],
          "name": "stdout"
        }
      ]
    },
    {
      "cell_type": "markdown",
      "metadata": {
        "id": "w_wdXjCCJ89S"
      },
      "source": [
        "Let's save our work by committing to Jovian."
      ]
    },
    {
      "cell_type": "code",
      "metadata": {
        "colab": {
          "base_uri": "https://localhost:8080/",
          "height": 103
        },
        "id": "lwaLksAJJ89T",
        "outputId": "c8eaa3e9-f118-4c9c-d0eb-1dd3efcf1902"
      },
      "source": [
        "jovian.commit(project=project_name, environment=None)"
      ],
      "execution_count": 79,
      "outputs": [
        {
          "output_type": "stream",
          "text": [
            "[jovian] Detected Colab notebook...\u001b[0m\n",
            "[jovian] Uploading colab notebook to Jovian...\u001b[0m\n",
            "[jovian] Attaching records (metrics, hyperparameters, dataset etc.)\u001b[0m\n",
            "[jovian] Committed successfully! https://jovian.ai/monika171/02-insurance-linear-regression-monika171\u001b[0m\n"
          ],
          "name": "stdout"
        },
        {
          "output_type": "execute_result",
          "data": {
            "application/vnd.google.colaboratory.intrinsic+json": {
              "type": "string"
            },
            "text/plain": [
              "'https://jovian.ai/monika171/02-insurance-linear-regression-monika171'"
            ]
          },
          "metadata": {
            "tags": []
          },
          "execution_count": 79
        }
      ]
    },
    {
      "cell_type": "markdown",
      "metadata": {
        "id": "sKvj5DE-J89T"
      },
      "source": [
        "## Step 3: Create a Linear Regression Model\n",
        "\n",
        "Our model itself is a fairly straightforward linear regression (we'll build more complex models in the next assignment). \n"
      ]
    },
    {
      "cell_type": "code",
      "metadata": {
        "id": "Z4u68BcaJ89T"
      },
      "source": [
        "input_size = len(input_cols)\n",
        "output_size = len(output_cols)"
      ],
      "execution_count": 80,
      "outputs": []
    },
    {
      "cell_type": "markdown",
      "metadata": {
        "id": "BkxG1HOcJ89T"
      },
      "source": [
        "**Q: Complete the class definition below by filling out the constructor (`__init__`), `forward`, `training_step` and `validation_step` methods.**\n",
        "\n",
        "Hint: Think carefully about picking a good loss fuction (it's not cross entropy). Maybe try 2-3 of them and see which one works best. See https://pytorch.org/docs/stable/nn.functional.html#loss-functions"
      ]
    },
    {
      "cell_type": "code",
      "metadata": {
        "id": "a5NOjNH9J89T"
      },
      "source": [
        "class InsuranceModel(nn.Module):\n",
        "    def __init__(self):\n",
        "        super().__init__()\n",
        "        self.linear = nn.Linear(input_size, output_size)                # fill this (hint: use input_size & output_size defined above)\n",
        "        \n",
        "    def forward(self, xb):\n",
        "        out = self.linear(xb)                          # fill this\n",
        "        return out\n",
        "    \n",
        "    def training_step(self, batch):\n",
        "        inputs, targets = batch \n",
        "        # Generate predictions\n",
        "        out = self(inputs)          \n",
        "        # Calcuate loss\n",
        "        loss = F.l1_loss(out, targets)                          # fill this\n",
        "        return loss\n",
        "    \n",
        "    def validation_step(self, batch):\n",
        "        inputs, targets = batch\n",
        "        # Generate predictions\n",
        "        out = self(inputs)\n",
        "        # Calculate loss\n",
        "        loss = F.l1_loss(out, targets)                           # fill this    \n",
        "        return {'val_loss': loss.detach()}\n",
        "        \n",
        "    def validation_epoch_end(self, outputs):\n",
        "        batch_losses = [x['val_loss'] for x in outputs]\n",
        "        epoch_loss = torch.stack(batch_losses).mean()   # Combine losses\n",
        "        return {'val_loss': epoch_loss.item()}\n",
        "    \n",
        "    def epoch_end(self, epoch, result, num_epochs):\n",
        "        # Print result every 20th epoch\n",
        "        if (epoch+1) % 20 == 0 or epoch == num_epochs-1:\n",
        "            print(\"Epoch [{}], val_loss: {:.4f}\".format(epoch+1, result['val_loss']))"
      ],
      "execution_count": 81,
      "outputs": []
    },
    {
      "cell_type": "markdown",
      "metadata": {
        "id": "lwdGC26WJ89U"
      },
      "source": [
        "Let us create a model using the `InsuranceModel` class. You may need to come back later and re-run the next cell to reinitialize the model, in case the loss becomes `nan` or `infinity`."
      ]
    },
    {
      "cell_type": "code",
      "metadata": {
        "id": "NVha0UgaJ89U"
      },
      "source": [
        "model = InsuranceModel()"
      ],
      "execution_count": 82,
      "outputs": []
    },
    {
      "cell_type": "markdown",
      "metadata": {
        "id": "Et_r_4RQJ89U"
      },
      "source": [
        "Let's check out the weights and biases of the model using `model.parameters`."
      ]
    },
    {
      "cell_type": "code",
      "metadata": {
        "colab": {
          "base_uri": "https://localhost:8080/"
        },
        "id": "URrXf2JqJ89U",
        "outputId": "7a30fc5d-9668-41f6-b957-9ffaadfa6418"
      },
      "source": [
        "list(model.parameters())"
      ],
      "execution_count": 83,
      "outputs": [
        {
          "output_type": "execute_result",
          "data": {
            "text/plain": [
              "[Parameter containing:\n",
              " tensor([[-0.2181,  0.3778,  0.3755, -0.4141, -0.2865]], requires_grad=True),\n",
              " Parameter containing:\n",
              " tensor([0.0188], requires_grad=True)]"
            ]
          },
          "metadata": {
            "tags": []
          },
          "execution_count": 83
        }
      ]
    },
    {
      "cell_type": "markdown",
      "metadata": {
        "id": "EkPRTJ1HJ89V"
      },
      "source": [
        "One final commit before we train the model."
      ]
    },
    {
      "cell_type": "code",
      "metadata": {
        "colab": {
          "base_uri": "https://localhost:8080/",
          "height": 103
        },
        "id": "-dvsAX6cJ89V",
        "outputId": "395c845b-c8ae-4af3-b23c-e2e89e7da12f"
      },
      "source": [
        "jovian.commit(project=project_name, environment=None)"
      ],
      "execution_count": 84,
      "outputs": [
        {
          "output_type": "stream",
          "text": [
            "[jovian] Detected Colab notebook...\u001b[0m\n",
            "[jovian] Uploading colab notebook to Jovian...\u001b[0m\n",
            "[jovian] Attaching records (metrics, hyperparameters, dataset etc.)\u001b[0m\n",
            "[jovian] Committed successfully! https://jovian.ai/monika171/02-insurance-linear-regression-monika171\u001b[0m\n"
          ],
          "name": "stdout"
        },
        {
          "output_type": "execute_result",
          "data": {
            "application/vnd.google.colaboratory.intrinsic+json": {
              "type": "string"
            },
            "text/plain": [
              "'https://jovian.ai/monika171/02-insurance-linear-regression-monika171'"
            ]
          },
          "metadata": {
            "tags": []
          },
          "execution_count": 84
        }
      ]
    },
    {
      "cell_type": "markdown",
      "metadata": {
        "id": "SwBiaBVxJ89Z"
      },
      "source": [
        "## Step 4: Train the model to fit the data\n",
        "\n",
        "To train our model, we'll use the same `fit` function explained in the lecture. That's the benefit of defining a generic training loop - you can use it for any problem."
      ]
    },
    {
      "cell_type": "code",
      "metadata": {
        "id": "gtuSkuFTJ89Z"
      },
      "source": [
        "def evaluate(model, val_loader):\n",
        "    outputs = [model.validation_step(batch) for batch in val_loader]\n",
        "    return model.validation_epoch_end(outputs)\n",
        "\n",
        "def fit(epochs, lr, model, train_loader, val_loader, opt_func=torch.optim.SGD):\n",
        "    history = []\n",
        "    optimizer = opt_func(model.parameters(), lr)\n",
        "    for epoch in range(epochs):\n",
        "        # Training Phase \n",
        "        for batch in train_loader:\n",
        "            loss = model.training_step(batch)\n",
        "            loss.backward()\n",
        "            optimizer.step()\n",
        "            optimizer.zero_grad()\n",
        "        # Validation phase\n",
        "        result = evaluate(model, val_loader)\n",
        "        model.epoch_end(epoch, result, epochs)\n",
        "        history.append(result)\n",
        "    return history"
      ],
      "execution_count": 85,
      "outputs": []
    },
    {
      "cell_type": "markdown",
      "metadata": {
        "id": "K8ky3TqMJ89a"
      },
      "source": [
        "**Q: Use the `evaluate` function to calculate the loss on the validation set before training.**"
      ]
    },
    {
      "cell_type": "code",
      "metadata": {
        "colab": {
          "base_uri": "https://localhost:8080/"
        },
        "id": "SQUh8PLqJ89a",
        "outputId": "9c88988d-3ff3-4e3b-cbae-f0779d72d80d"
      },
      "source": [
        "result = evaluate(model, val_loader) # Use the the evaluate function\n",
        "print(result)"
      ],
      "execution_count": 86,
      "outputs": [
        {
          "output_type": "stream",
          "text": [
            "{'val_loss': 13899.146484375}\n"
          ],
          "name": "stdout"
        }
      ]
    },
    {
      "cell_type": "markdown",
      "metadata": {
        "id": "_VJy52RYJ89a"
      },
      "source": [
        "\n",
        "We are now ready to train the model. You may need to run the training loop many times, for different number of epochs and with different learning rates, to get a good result. Also, if your loss becomes too large (or `nan`), you may have to re-initialize the model by running the cell `model = InsuranceModel()`. Experiment with this for a while, and try to get to as low a loss as possible."
      ]
    },
    {
      "cell_type": "markdown",
      "metadata": {
        "id": "R0UyTZQzJ89a"
      },
      "source": [
        "**Q: Train the model 4-5 times with different learning rates & for different number of epochs.**\n",
        "\n",
        "Hint: Vary learning rates by orders of 10 (e.g. `1e-2`, `1e-3`, `1e-4`, `1e-5`, `1e-6`) to figure out what works."
      ]
    },
    {
      "cell_type": "code",
      "metadata": {
        "colab": {
          "base_uri": "https://localhost:8080/"
        },
        "id": "GeX54qARJ89a",
        "outputId": "df96cc74-7886-4d34-a92e-82edccbb71ca"
      },
      "source": [
        "epochs = 1500\n",
        "lr = 1e-2\n",
        "history1 = fit(epochs, lr, model, train_loader, val_loader)"
      ],
      "execution_count": 87,
      "outputs": [
        {
          "output_type": "stream",
          "text": [
            "Epoch [20], val_loss: 7340.6743\n",
            "Epoch [40], val_loss: 7104.0938\n",
            "Epoch [60], val_loss: 7081.1211\n",
            "Epoch [80], val_loss: 7076.8726\n",
            "Epoch [100], val_loss: 7073.6406\n",
            "Epoch [120], val_loss: 7071.1948\n",
            "Epoch [140], val_loss: 7065.5879\n",
            "Epoch [160], val_loss: 7060.9663\n",
            "Epoch [180], val_loss: 7057.6108\n",
            "Epoch [200], val_loss: 7055.8945\n",
            "Epoch [220], val_loss: 7052.1733\n",
            "Epoch [240], val_loss: 7047.5361\n",
            "Epoch [260], val_loss: 7045.1191\n",
            "Epoch [280], val_loss: 7042.0171\n",
            "Epoch [300], val_loss: 7038.9160\n",
            "Epoch [320], val_loss: 7035.9014\n",
            "Epoch [340], val_loss: 7033.8403\n",
            "Epoch [360], val_loss: 7030.6021\n",
            "Epoch [380], val_loss: 7028.0430\n",
            "Epoch [400], val_loss: 7026.6309\n",
            "Epoch [420], val_loss: 7023.6958\n",
            "Epoch [440], val_loss: 7020.9590\n",
            "Epoch [460], val_loss: 7019.5249\n",
            "Epoch [480], val_loss: 7016.7046\n",
            "Epoch [500], val_loss: 7014.6924\n",
            "Epoch [520], val_loss: 7014.3799\n",
            "Epoch [540], val_loss: 7010.1997\n",
            "Epoch [560], val_loss: 7008.4336\n",
            "Epoch [580], val_loss: 7006.6069\n",
            "Epoch [600], val_loss: 7003.6577\n",
            "Epoch [620], val_loss: 7004.5229\n",
            "Epoch [640], val_loss: 7004.8555\n",
            "Epoch [660], val_loss: 6999.8750\n",
            "Epoch [680], val_loss: 7002.4062\n",
            "Epoch [700], val_loss: 6996.0684\n",
            "Epoch [720], val_loss: 6993.5610\n",
            "Epoch [740], val_loss: 6994.2715\n",
            "Epoch [760], val_loss: 6993.1367\n",
            "Epoch [780], val_loss: 6991.0166\n",
            "Epoch [800], val_loss: 6986.3823\n",
            "Epoch [820], val_loss: 6987.4961\n",
            "Epoch [840], val_loss: 6986.6470\n",
            "Epoch [860], val_loss: 6983.1777\n",
            "Epoch [880], val_loss: 6983.4736\n",
            "Epoch [900], val_loss: 6981.0698\n",
            "Epoch [920], val_loss: 6980.7104\n",
            "Epoch [940], val_loss: 6977.3340\n",
            "Epoch [960], val_loss: 6973.3174\n",
            "Epoch [980], val_loss: 6976.0166\n",
            "Epoch [1000], val_loss: 6974.7305\n",
            "Epoch [1020], val_loss: 6972.6626\n",
            "Epoch [1040], val_loss: 6970.8330\n",
            "Epoch [1060], val_loss: 6969.1865\n",
            "Epoch [1080], val_loss: 6967.2910\n",
            "Epoch [1100], val_loss: 6965.9673\n",
            "Epoch [1120], val_loss: 6963.0361\n",
            "Epoch [1140], val_loss: 6965.4893\n",
            "Epoch [1160], val_loss: 6959.5166\n",
            "Epoch [1180], val_loss: 6958.6875\n",
            "Epoch [1200], val_loss: 6956.8320\n",
            "Epoch [1220], val_loss: 6954.5083\n",
            "Epoch [1240], val_loss: 6954.2007\n",
            "Epoch [1260], val_loss: 6954.5322\n",
            "Epoch [1280], val_loss: 6950.5098\n",
            "Epoch [1300], val_loss: 6947.8354\n",
            "Epoch [1320], val_loss: 6946.6069\n",
            "Epoch [1340], val_loss: 6944.2114\n",
            "Epoch [1360], val_loss: 6945.4473\n",
            "Epoch [1380], val_loss: 6943.2383\n",
            "Epoch [1400], val_loss: 6942.9258\n",
            "Epoch [1420], val_loss: 6937.4365\n",
            "Epoch [1440], val_loss: 6935.3052\n",
            "Epoch [1460], val_loss: 6935.0493\n",
            "Epoch [1480], val_loss: 6933.3906\n",
            "Epoch [1500], val_loss: 6938.0215\n"
          ],
          "name": "stdout"
        }
      ]
    },
    {
      "cell_type": "code",
      "metadata": {
        "colab": {
          "base_uri": "https://localhost:8080/"
        },
        "id": "YkiMkfOBJ89a",
        "outputId": "07dcbdda-aee3-4d36-c2de-e86805672591"
      },
      "source": [
        "epochs = 1500\n",
        "lr = 1e-3\n",
        "history2 = fit(epochs, lr, model, train_loader, val_loader)"
      ],
      "execution_count": 88,
      "outputs": [
        {
          "output_type": "stream",
          "text": [
            "Epoch [20], val_loss: 6933.7285\n",
            "Epoch [40], val_loss: 6933.5767\n",
            "Epoch [60], val_loss: 6933.4180\n",
            "Epoch [80], val_loss: 6933.0562\n",
            "Epoch [100], val_loss: 6933.2671\n",
            "Epoch [120], val_loss: 6932.8062\n",
            "Epoch [140], val_loss: 6932.7993\n",
            "Epoch [160], val_loss: 6932.5098\n",
            "Epoch [180], val_loss: 6932.4902\n",
            "Epoch [200], val_loss: 6932.3999\n",
            "Epoch [220], val_loss: 6932.1602\n",
            "Epoch [240], val_loss: 6932.0278\n",
            "Epoch [260], val_loss: 6931.8115\n",
            "Epoch [280], val_loss: 6931.5815\n",
            "Epoch [300], val_loss: 6931.4365\n",
            "Epoch [320], val_loss: 6931.0552\n",
            "Epoch [340], val_loss: 6931.1274\n",
            "Epoch [360], val_loss: 6931.2778\n",
            "Epoch [380], val_loss: 6930.8320\n",
            "Epoch [400], val_loss: 6930.8477\n",
            "Epoch [420], val_loss: 6930.5229\n",
            "Epoch [440], val_loss: 6930.4053\n",
            "Epoch [460], val_loss: 6930.3750\n",
            "Epoch [480], val_loss: 6930.2319\n",
            "Epoch [500], val_loss: 6930.0215\n",
            "Epoch [520], val_loss: 6929.7598\n",
            "Epoch [540], val_loss: 6929.4810\n",
            "Epoch [560], val_loss: 6929.4604\n",
            "Epoch [580], val_loss: 6929.2500\n",
            "Epoch [600], val_loss: 6929.1069\n",
            "Epoch [620], val_loss: 6928.9917\n",
            "Epoch [640], val_loss: 6928.6768\n",
            "Epoch [660], val_loss: 6928.4409\n",
            "Epoch [680], val_loss: 6928.4507\n",
            "Epoch [700], val_loss: 6928.3027\n",
            "Epoch [720], val_loss: 6928.1274\n",
            "Epoch [740], val_loss: 6927.5879\n",
            "Epoch [760], val_loss: 6927.6392\n",
            "Epoch [780], val_loss: 6927.5820\n",
            "Epoch [800], val_loss: 6927.3135\n",
            "Epoch [820], val_loss: 6927.2910\n",
            "Epoch [840], val_loss: 6927.1313\n",
            "Epoch [860], val_loss: 6926.9482\n",
            "Epoch [880], val_loss: 6926.8784\n",
            "Epoch [900], val_loss: 6926.2705\n",
            "Epoch [920], val_loss: 6926.3999\n",
            "Epoch [940], val_loss: 6926.2114\n",
            "Epoch [960], val_loss: 6925.8052\n",
            "Epoch [980], val_loss: 6925.8711\n",
            "Epoch [1000], val_loss: 6925.6851\n",
            "Epoch [1020], val_loss: 6925.4438\n",
            "Epoch [1040], val_loss: 6925.2905\n",
            "Epoch [1060], val_loss: 6925.2905\n",
            "Epoch [1080], val_loss: 6925.0015\n",
            "Epoch [1100], val_loss: 6925.0640\n",
            "Epoch [1120], val_loss: 6924.8789\n",
            "Epoch [1140], val_loss: 6924.7393\n",
            "Epoch [1160], val_loss: 6924.5996\n",
            "Epoch [1180], val_loss: 6924.2598\n",
            "Epoch [1200], val_loss: 6923.9492\n",
            "Epoch [1220], val_loss: 6923.8345\n",
            "Epoch [1240], val_loss: 6923.7451\n",
            "Epoch [1260], val_loss: 6923.5576\n",
            "Epoch [1280], val_loss: 6923.5757\n",
            "Epoch [1300], val_loss: 6923.2285\n",
            "Epoch [1320], val_loss: 6923.1782\n",
            "Epoch [1340], val_loss: 6922.9233\n",
            "Epoch [1360], val_loss: 6922.8594\n",
            "Epoch [1380], val_loss: 6922.6167\n",
            "Epoch [1400], val_loss: 6922.6729\n",
            "Epoch [1420], val_loss: 6922.2173\n",
            "Epoch [1440], val_loss: 6922.1611\n",
            "Epoch [1460], val_loss: 6921.9663\n",
            "Epoch [1480], val_loss: 6921.7451\n",
            "Epoch [1500], val_loss: 6921.6274\n"
          ],
          "name": "stdout"
        }
      ]
    },
    {
      "cell_type": "code",
      "metadata": {
        "colab": {
          "base_uri": "https://localhost:8080/"
        },
        "id": "vqbpu-v7J89b",
        "outputId": "5887921c-0a84-4bb7-b47b-288bcba7a835"
      },
      "source": [
        "epochs = 1500\n",
        "lr = 1e-4\n",
        "history3 = fit(epochs, lr, model, train_loader, val_loader)"
      ],
      "execution_count": 89,
      "outputs": [
        {
          "output_type": "stream",
          "text": [
            "Epoch [20], val_loss: 6921.6406\n",
            "Epoch [40], val_loss: 6921.6587\n",
            "Epoch [60], val_loss: 6921.6875\n",
            "Epoch [80], val_loss: 6921.7046\n",
            "Epoch [100], val_loss: 6921.7334\n",
            "Epoch [120], val_loss: 6921.7549\n",
            "Epoch [140], val_loss: 6921.7598\n",
            "Epoch [160], val_loss: 6921.7656\n",
            "Epoch [180], val_loss: 6921.7607\n",
            "Epoch [200], val_loss: 6921.7402\n",
            "Epoch [220], val_loss: 6921.7188\n",
            "Epoch [240], val_loss: 6921.7271\n",
            "Epoch [260], val_loss: 6921.7046\n",
            "Epoch [280], val_loss: 6921.6875\n",
            "Epoch [300], val_loss: 6921.6602\n",
            "Epoch [320], val_loss: 6921.6323\n",
            "Epoch [340], val_loss: 6921.6260\n",
            "Epoch [360], val_loss: 6921.5923\n",
            "Epoch [380], val_loss: 6921.5889\n",
            "Epoch [400], val_loss: 6921.5610\n",
            "Epoch [420], val_loss: 6921.5542\n",
            "Epoch [440], val_loss: 6921.5396\n",
            "Epoch [460], val_loss: 6921.5181\n",
            "Epoch [480], val_loss: 6921.5264\n",
            "Epoch [500], val_loss: 6921.5059\n",
            "Epoch [520], val_loss: 6921.4785\n",
            "Epoch [540], val_loss: 6921.4673\n",
            "Epoch [560], val_loss: 6921.4570\n",
            "Epoch [580], val_loss: 6921.4458\n",
            "Epoch [600], val_loss: 6921.4180\n",
            "Epoch [620], val_loss: 6921.4097\n",
            "Epoch [640], val_loss: 6921.3965\n",
            "Epoch [660], val_loss: 6921.3867\n",
            "Epoch [680], val_loss: 6921.3652\n",
            "Epoch [700], val_loss: 6921.3423\n",
            "Epoch [720], val_loss: 6921.3340\n",
            "Epoch [740], val_loss: 6921.3101\n",
            "Epoch [760], val_loss: 6921.2847\n",
            "Epoch [780], val_loss: 6921.2871\n",
            "Epoch [800], val_loss: 6921.2563\n",
            "Epoch [820], val_loss: 6921.2671\n",
            "Epoch [840], val_loss: 6921.2417\n",
            "Epoch [860], val_loss: 6921.2271\n",
            "Epoch [880], val_loss: 6921.1938\n",
            "Epoch [900], val_loss: 6921.1812\n",
            "Epoch [920], val_loss: 6921.1670\n",
            "Epoch [940], val_loss: 6921.1416\n",
            "Epoch [960], val_loss: 6921.1382\n",
            "Epoch [980], val_loss: 6921.1152\n",
            "Epoch [1000], val_loss: 6921.1021\n",
            "Epoch [1020], val_loss: 6921.0864\n",
            "Epoch [1040], val_loss: 6921.0684\n",
            "Epoch [1060], val_loss: 6921.0820\n",
            "Epoch [1080], val_loss: 6921.0615\n",
            "Epoch [1100], val_loss: 6921.0410\n",
            "Epoch [1120], val_loss: 6921.0146\n",
            "Epoch [1140], val_loss: 6921.0034\n",
            "Epoch [1160], val_loss: 6920.9941\n",
            "Epoch [1180], val_loss: 6920.9702\n",
            "Epoch [1200], val_loss: 6920.9385\n",
            "Epoch [1220], val_loss: 6920.9351\n",
            "Epoch [1240], val_loss: 6920.9185\n",
            "Epoch [1260], val_loss: 6920.8916\n",
            "Epoch [1280], val_loss: 6920.8765\n",
            "Epoch [1300], val_loss: 6920.8896\n",
            "Epoch [1320], val_loss: 6920.8765\n",
            "Epoch [1340], val_loss: 6920.8389\n",
            "Epoch [1360], val_loss: 6920.8076\n",
            "Epoch [1380], val_loss: 6920.8091\n",
            "Epoch [1400], val_loss: 6920.7979\n",
            "Epoch [1420], val_loss: 6920.7695\n",
            "Epoch [1440], val_loss: 6920.7720\n",
            "Epoch [1460], val_loss: 6920.7476\n",
            "Epoch [1480], val_loss: 6920.7163\n",
            "Epoch [1500], val_loss: 6920.7222\n"
          ],
          "name": "stdout"
        }
      ]
    },
    {
      "cell_type": "code",
      "metadata": {
        "colab": {
          "base_uri": "https://localhost:8080/"
        },
        "id": "rkfch5NqJ89b",
        "outputId": "cedf6cc3-97f2-4e14-97ac-358afed26d4a"
      },
      "source": [
        "epochs = 1500\n",
        "lr = 1e-5\n",
        "history4 = fit(epochs, lr, model, train_loader, val_loader)"
      ],
      "execution_count": 90,
      "outputs": [
        {
          "output_type": "stream",
          "text": [
            "Epoch [20], val_loss: 6920.7212\n",
            "Epoch [40], val_loss: 6920.7271\n",
            "Epoch [60], val_loss: 6920.7285\n",
            "Epoch [80], val_loss: 6920.7319\n",
            "Epoch [100], val_loss: 6920.7344\n",
            "Epoch [120], val_loss: 6920.7378\n",
            "Epoch [140], val_loss: 6920.7417\n",
            "Epoch [160], val_loss: 6920.7461\n",
            "Epoch [180], val_loss: 6920.7510\n",
            "Epoch [200], val_loss: 6920.7534\n",
            "Epoch [220], val_loss: 6920.7534\n",
            "Epoch [240], val_loss: 6920.7515\n",
            "Epoch [260], val_loss: 6920.7559\n",
            "Epoch [280], val_loss: 6920.7510\n",
            "Epoch [300], val_loss: 6920.7500\n",
            "Epoch [320], val_loss: 6920.7500\n",
            "Epoch [340], val_loss: 6920.7515\n",
            "Epoch [360], val_loss: 6920.7476\n",
            "Epoch [380], val_loss: 6920.7485\n",
            "Epoch [400], val_loss: 6920.7490\n",
            "Epoch [420], val_loss: 6920.7510\n",
            "Epoch [440], val_loss: 6920.7524\n",
            "Epoch [460], val_loss: 6920.7510\n",
            "Epoch [480], val_loss: 6920.7524\n",
            "Epoch [500], val_loss: 6920.7559\n",
            "Epoch [520], val_loss: 6920.7539\n",
            "Epoch [540], val_loss: 6920.7510\n",
            "Epoch [560], val_loss: 6920.7534\n",
            "Epoch [580], val_loss: 6920.7524\n",
            "Epoch [600], val_loss: 6920.7515\n",
            "Epoch [620], val_loss: 6920.7515\n",
            "Epoch [640], val_loss: 6920.7524\n",
            "Epoch [660], val_loss: 6920.7510\n",
            "Epoch [680], val_loss: 6920.7524\n",
            "Epoch [700], val_loss: 6920.7534\n",
            "Epoch [720], val_loss: 6920.7524\n",
            "Epoch [740], val_loss: 6920.7549\n",
            "Epoch [760], val_loss: 6920.7515\n",
            "Epoch [780], val_loss: 6920.7549\n",
            "Epoch [800], val_loss: 6920.7563\n",
            "Epoch [820], val_loss: 6920.7559\n",
            "Epoch [840], val_loss: 6920.7534\n",
            "Epoch [860], val_loss: 6920.7534\n",
            "Epoch [880], val_loss: 6920.7549\n",
            "Epoch [900], val_loss: 6920.7559\n",
            "Epoch [920], val_loss: 6920.7549\n",
            "Epoch [940], val_loss: 6920.7510\n",
            "Epoch [960], val_loss: 6920.7524\n",
            "Epoch [980], val_loss: 6920.7510\n",
            "Epoch [1000], val_loss: 6920.7534\n",
            "Epoch [1020], val_loss: 6920.7573\n",
            "Epoch [1040], val_loss: 6920.7563\n",
            "Epoch [1060], val_loss: 6920.7539\n",
            "Epoch [1080], val_loss: 6920.7563\n",
            "Epoch [1100], val_loss: 6920.7534\n",
            "Epoch [1120], val_loss: 6920.7500\n",
            "Epoch [1140], val_loss: 6920.7539\n",
            "Epoch [1160], val_loss: 6920.7524\n",
            "Epoch [1180], val_loss: 6920.7510\n",
            "Epoch [1200], val_loss: 6920.7515\n",
            "Epoch [1220], val_loss: 6920.7549\n",
            "Epoch [1240], val_loss: 6920.7549\n",
            "Epoch [1260], val_loss: 6920.7534\n",
            "Epoch [1280], val_loss: 6920.7534\n",
            "Epoch [1300], val_loss: 6920.7549\n",
            "Epoch [1320], val_loss: 6920.7549\n",
            "Epoch [1340], val_loss: 6920.7515\n",
            "Epoch [1360], val_loss: 6920.7539\n",
            "Epoch [1380], val_loss: 6920.7539\n",
            "Epoch [1400], val_loss: 6920.7563\n",
            "Epoch [1420], val_loss: 6920.7573\n",
            "Epoch [1440], val_loss: 6920.7534\n",
            "Epoch [1460], val_loss: 6920.7549\n",
            "Epoch [1480], val_loss: 6920.7549\n",
            "Epoch [1500], val_loss: 6920.7549\n"
          ],
          "name": "stdout"
        }
      ]
    },
    {
      "cell_type": "code",
      "metadata": {
        "id": "cYaLmfvZJ89b",
        "colab": {
          "base_uri": "https://localhost:8080/"
        },
        "outputId": "494a548e-8172-411d-fbe9-288dd712ccee"
      },
      "source": [
        "epochs = 1500\n",
        "lr = 1e-6\n",
        "history5 = fit(epochs, lr, model, train_loader, val_loader)"
      ],
      "execution_count": 91,
      "outputs": [
        {
          "output_type": "stream",
          "text": [
            "Epoch [20], val_loss: 6920.7559\n",
            "Epoch [40], val_loss: 6920.7559\n",
            "Epoch [60], val_loss: 6920.7573\n",
            "Epoch [80], val_loss: 6920.7583\n",
            "Epoch [100], val_loss: 6920.7583\n",
            "Epoch [120], val_loss: 6920.7598\n",
            "Epoch [140], val_loss: 6920.7617\n",
            "Epoch [160], val_loss: 6920.7632\n",
            "Epoch [180], val_loss: 6920.7617\n",
            "Epoch [200], val_loss: 6920.7632\n",
            "Epoch [220], val_loss: 6920.7666\n",
            "Epoch [240], val_loss: 6920.7666\n",
            "Epoch [260], val_loss: 6920.7681\n",
            "Epoch [280], val_loss: 6920.7666\n",
            "Epoch [300], val_loss: 6920.7666\n",
            "Epoch [320], val_loss: 6920.7646\n",
            "Epoch [340], val_loss: 6920.7671\n",
            "Epoch [360], val_loss: 6920.7690\n",
            "Epoch [380], val_loss: 6920.7715\n",
            "Epoch [400], val_loss: 6920.7715\n",
            "Epoch [420], val_loss: 6920.7715\n",
            "Epoch [440], val_loss: 6920.7715\n",
            "Epoch [460], val_loss: 6920.7705\n",
            "Epoch [480], val_loss: 6920.7690\n",
            "Epoch [500], val_loss: 6920.7705\n",
            "Epoch [520], val_loss: 6920.7715\n",
            "Epoch [540], val_loss: 6920.7720\n",
            "Epoch [560], val_loss: 6920.7729\n",
            "Epoch [580], val_loss: 6920.7749\n",
            "Epoch [600], val_loss: 6920.7754\n",
            "Epoch [620], val_loss: 6920.7764\n",
            "Epoch [640], val_loss: 6920.7778\n",
            "Epoch [660], val_loss: 6920.7749\n",
            "Epoch [680], val_loss: 6920.7739\n",
            "Epoch [700], val_loss: 6920.7749\n",
            "Epoch [720], val_loss: 6920.7778\n",
            "Epoch [740], val_loss: 6920.7764\n",
            "Epoch [760], val_loss: 6920.7803\n",
            "Epoch [780], val_loss: 6920.7798\n",
            "Epoch [800], val_loss: 6920.7812\n",
            "Epoch [820], val_loss: 6920.7822\n",
            "Epoch [840], val_loss: 6920.7837\n",
            "Epoch [860], val_loss: 6920.7837\n",
            "Epoch [880], val_loss: 6920.7827\n",
            "Epoch [900], val_loss: 6920.7837\n",
            "Epoch [920], val_loss: 6920.7861\n",
            "Epoch [940], val_loss: 6920.7847\n",
            "Epoch [960], val_loss: 6920.7852\n",
            "Epoch [980], val_loss: 6920.7876\n",
            "Epoch [1000], val_loss: 6920.7896\n",
            "Epoch [1020], val_loss: 6920.7852\n",
            "Epoch [1040], val_loss: 6920.7827\n",
            "Epoch [1060], val_loss: 6920.7827\n",
            "Epoch [1080], val_loss: 6920.7861\n",
            "Epoch [1100], val_loss: 6920.7852\n",
            "Epoch [1120], val_loss: 6920.7822\n",
            "Epoch [1140], val_loss: 6920.7847\n",
            "Epoch [1160], val_loss: 6920.7827\n",
            "Epoch [1180], val_loss: 6920.7847\n",
            "Epoch [1200], val_loss: 6920.7847\n",
            "Epoch [1220], val_loss: 6920.7861\n",
            "Epoch [1240], val_loss: 6920.7827\n",
            "Epoch [1260], val_loss: 6920.7798\n",
            "Epoch [1280], val_loss: 6920.7798\n",
            "Epoch [1300], val_loss: 6920.7812\n",
            "Epoch [1320], val_loss: 6920.7837\n",
            "Epoch [1340], val_loss: 6920.7812\n",
            "Epoch [1360], val_loss: 6920.7812\n",
            "Epoch [1380], val_loss: 6920.7837\n",
            "Epoch [1400], val_loss: 6920.7847\n",
            "Epoch [1420], val_loss: 6920.7852\n",
            "Epoch [1440], val_loss: 6920.7861\n",
            "Epoch [1460], val_loss: 6920.7861\n",
            "Epoch [1480], val_loss: 6920.7886\n",
            "Epoch [1500], val_loss: 6920.7935\n"
          ],
          "name": "stdout"
        }
      ]
    },
    {
      "cell_type": "markdown",
      "metadata": {
        "id": "VvLDO1VPJ89b"
      },
      "source": [
        "**Q: What is the final validation loss of your model?**"
      ]
    },
    {
      "cell_type": "code",
      "metadata": {
        "id": "3UKA0nVFJ89c"
      },
      "source": [
        "val_loss = 6920.7935"
      ],
      "execution_count": 103,
      "outputs": []
    },
    {
      "cell_type": "markdown",
      "metadata": {
        "id": "5OlXo5WZJ89c"
      },
      "source": [
        "Let's log the final validation loss to Jovian and commit the notebook"
      ]
    },
    {
      "cell_type": "code",
      "metadata": {
        "id": "hn8MCZqoJ89c",
        "colab": {
          "base_uri": "https://localhost:8080/"
        },
        "outputId": "f803289f-77e2-49f5-ebf6-b79df889eb0f"
      },
      "source": [
        "jovian.log_metrics(val_loss=val_loss)"
      ],
      "execution_count": 104,
      "outputs": [
        {
          "output_type": "stream",
          "text": [
            "[jovian] Metrics logged.\u001b[0m\n"
          ],
          "name": "stdout"
        }
      ]
    },
    {
      "cell_type": "code",
      "metadata": {
        "colab": {
          "base_uri": "https://localhost:8080/",
          "height": 103
        },
        "id": "dkOgqcayJ89c",
        "outputId": "6574ce29-f102-4574-a791-4182df472ef3"
      },
      "source": [
        "jovian.commit(project=project_name, environment=None)"
      ],
      "execution_count": 105,
      "outputs": [
        {
          "output_type": "stream",
          "text": [
            "[jovian] Detected Colab notebook...\u001b[0m\n",
            "[jovian] Uploading colab notebook to Jovian...\u001b[0m\n",
            "[jovian] Attaching records (metrics, hyperparameters, dataset etc.)\u001b[0m\n",
            "[jovian] Committed successfully! https://jovian.ai/monika171/02-insurance-linear-regression-monika171\u001b[0m\n"
          ],
          "name": "stdout"
        },
        {
          "output_type": "execute_result",
          "data": {
            "application/vnd.google.colaboratory.intrinsic+json": {
              "type": "string"
            },
            "text/plain": [
              "'https://jovian.ai/monika171/02-insurance-linear-regression-monika171'"
            ]
          },
          "metadata": {
            "tags": []
          },
          "execution_count": 105
        }
      ]
    },
    {
      "cell_type": "markdown",
      "metadata": {
        "id": "Q0Xf7BTEJ89d"
      },
      "source": [
        "Now scroll back up, re-initialize the model, and try different set of values for batch size, number of epochs, learning rate etc. Commit each experiment and use the \"Compare\" and \"View Diff\" options on Jovian to compare the different results."
      ]
    },
    {
      "cell_type": "markdown",
      "metadata": {
        "id": "nGf937nWJ89d"
      },
      "source": [
        "## Step 5: Make predictions using the trained model\n",
        "\n",
        "**Q: Complete the following function definition to make predictions on a single input**"
      ]
    },
    {
      "cell_type": "code",
      "metadata": {
        "id": "Hrtjc7zGJ89d"
      },
      "source": [
        "def predict_single(input, target, model):\n",
        "    inputs = input.unsqueeze(0)\n",
        "    predictions = model(input)               # fill this\n",
        "    prediction = predictions[0].detach()\n",
        "    print(\"Input:\", input)\n",
        "    print(\"Target:\", target)\n",
        "    print(\"Prediction:\", prediction)"
      ],
      "execution_count": 95,
      "outputs": []
    },
    {
      "cell_type": "code",
      "metadata": {
        "colab": {
          "base_uri": "https://localhost:8080/"
        },
        "id": "jdQ6kQ3sJ89e",
        "outputId": "1671b2c6-443c-4597-ded8-e021138b9d86"
      },
      "source": [
        "input, target = val_ds[0]\n",
        "predict_single(input, target, model)"
      ],
      "execution_count": 96,
      "outputs": [
        {
          "output_type": "stream",
          "text": [
            "Input: tensor([54.0000,  1.0000, 23.3211,  2.0000,  0.0000])\n",
            "Target: tensor([12115.0830])\n",
            "Prediction: tensor(13542.5830)\n"
          ],
          "name": "stdout"
        }
      ]
    },
    {
      "cell_type": "code",
      "metadata": {
        "colab": {
          "base_uri": "https://localhost:8080/"
        },
        "id": "YDzXRCpIJ89e",
        "outputId": "07996751-129e-4443-c599-60f2d73c15f8"
      },
      "source": [
        "input, target = val_ds[10]\n",
        "predict_single(input, target, model)"
      ],
      "execution_count": 97,
      "outputs": [
        {
          "output_type": "stream",
          "text": [
            "Input: tensor([28.0000,  0.0000, 29.2097,  3.0000,  0.0000])\n",
            "Target: tensor([5843.3867])\n",
            "Prediction: tensor(6313.7280)\n"
          ],
          "name": "stdout"
        }
      ]
    },
    {
      "cell_type": "code",
      "metadata": {
        "colab": {
          "base_uri": "https://localhost:8080/"
        },
        "id": "d2S-N86aJ89e",
        "outputId": "93e626e5-2aee-480d-a4a2-6029e068e2c8"
      },
      "source": [
        "input, target = val_ds[23]\n",
        "predict_single(input, target, model)"
      ],
      "execution_count": 98,
      "outputs": [
        {
          "output_type": "stream",
          "text": [
            "Input: tensor([55.0000,  1.0000, 36.6300,  0.0000,  0.0000])\n",
            "Target: tensor([22859.6387])\n",
            "Prediction: tensor(11952.5703)\n"
          ],
          "name": "stdout"
        }
      ]
    },
    {
      "cell_type": "markdown",
      "metadata": {
        "id": "3MHKEw40J89f"
      },
      "source": [
        "Are you happy with your model's predictions? Try to improve them further."
      ]
    },
    {
      "cell_type": "markdown",
      "metadata": {
        "id": "i6Y7bWpYJ89f"
      },
      "source": [
        "## (Optional) Step 6: Try another dataset & blog about it\n",
        "\n",
        "While this last step is optional for the submission of your assignment, we highly recommend that you do it. Try to replicate this notebook for a different linear regression or logistic regression problem. This will help solidify your understanding, and give you a chance to differentiate the generic patterns in machine learning from problem-specific details.You can use one of these starer notebooks (just change the dataset):\n",
        "\n",
        "- Linear regression (minimal): https://jovian.ai/aakashns/housing-linear-minimal\n",
        "- Logistic regression (minimal): https://jovian.ai/aakashns/mnist-logistic-minimal\n",
        "\n",
        "Here are some sources to find good datasets:\n",
        "\n",
        "- https://lionbridge.ai/datasets/10-open-datasets-for-linear-regression/\n",
        "- https://www.kaggle.com/rtatman/datasets-for-regression-analysis\n",
        "- https://archive.ics.uci.edu/ml/datasets.php?format=&task=reg&att=&area=&numAtt=&numIns=&type=&sort=nameUp&view=table\n",
        "- https://people.sc.fsu.edu/~jburkardt/datasets/regression/regression.html\n",
        "- https://archive.ics.uci.edu/ml/datasets/wine+quality\n",
        "- https://pytorch.org/docs/stable/torchvision/datasets.html\n",
        "\n",
        "We also recommend that you write a blog about your approach to the problem. Here is a suggested structure for your post (feel free to experiment with it):\n",
        "\n",
        "- Interesting title & subtitle\n",
        "- Overview of what the blog covers (which dataset, linear regression or logistic regression, intro to PyTorch)\n",
        "- Downloading & exploring the data\n",
        "- Preparing the data for training\n",
        "- Creating a model using PyTorch\n",
        "- Training the model to fit the data\n",
        "- Your thoughts on how to experiment with different hyperparmeters to reduce loss\n",
        "- Making predictions using the model\n",
        "\n",
        "As with the previous assignment, you can [embed Juptyer notebook cells & outputs from Jovian](https://medium.com/jovianml/share-and-embed-jupyter-notebooks-online-with-jovian-ml-df709a03064e) into your blog. \n",
        "\n",
        "Don't forget to share your work on the forum: https://jovian.ai/forum/t/linear-regression-and-logistic-regression-notebooks-and-blog-posts/14039"
      ]
    },
    {
      "cell_type": "code",
      "metadata": {
        "colab": {
          "base_uri": "https://localhost:8080/",
          "height": 103
        },
        "id": "2TuhrRFaJ89f",
        "outputId": "275c9437-7204-41ae-ce41-4e61be1118f8"
      },
      "source": [
        "jovian.commit(project=project_name, environment=None)\n",
        "# jovian.commit(project=project_name, environment=None) # try again, kaggle fails sometimes"
      ],
      "execution_count": 99,
      "outputs": [
        {
          "output_type": "stream",
          "text": [
            "[jovian] Detected Colab notebook...\u001b[0m\n",
            "[jovian] Uploading colab notebook to Jovian...\u001b[0m\n",
            "[jovian] Attaching records (metrics, hyperparameters, dataset etc.)\u001b[0m\n",
            "[jovian] Committed successfully! https://jovian.ai/monika171/02-insurance-linear-regression-monika171\u001b[0m\n"
          ],
          "name": "stdout"
        },
        {
          "output_type": "execute_result",
          "data": {
            "application/vnd.google.colaboratory.intrinsic+json": {
              "type": "string"
            },
            "text/plain": [
              "'https://jovian.ai/monika171/02-insurance-linear-regression-monika171'"
            ]
          },
          "metadata": {
            "tags": []
          },
          "execution_count": 99
        }
      ]
    },
    {
      "cell_type": "code",
      "metadata": {
        "id": "wxVL4Pe9J89g"
      },
      "source": [
        ""
      ],
      "execution_count": 99,
      "outputs": []
    }
  ]
}