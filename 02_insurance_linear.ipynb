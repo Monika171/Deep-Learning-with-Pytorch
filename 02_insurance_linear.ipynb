{
  "nbformat": 4,
  "nbformat_minor": 0,
  "metadata": {
    "colab": {
      "name": "02-insurance-linear.ipynb",
      "provenance": [],
      "include_colab_link": true
    },
    "kernelspec": {
      "display_name": "Python 3",
      "language": "python",
      "name": "python3"
    },
    "language_info": {
      "codemirror_mode": {
        "name": "ipython",
        "version": 3
      },
      "file_extension": ".py",
      "mimetype": "text/x-python",
      "name": "python",
      "nbconvert_exporter": "python",
      "pygments_lexer": "ipython3",
      "version": "3.8.5"
    },
    "widgets": {
      "application/vnd.jupyter.widget-state+json": {
        "46c80496ce154c7daf5ed7d15b2a6059": {
          "model_module": "@jupyter-widgets/controls",
          "model_name": "HBoxModel",
          "state": {
            "_view_name": "HBoxView",
            "_dom_classes": [],
            "_model_name": "HBoxModel",
            "_view_module": "@jupyter-widgets/controls",
            "_model_module_version": "1.5.0",
            "_view_count": null,
            "_view_module_version": "1.5.0",
            "box_style": "",
            "layout": "IPY_MODEL_4b5831bb50004fb0b7251fb250262a33",
            "_model_module": "@jupyter-widgets/controls",
            "children": [
              "IPY_MODEL_535600080c3b4be780369234ea07fe36",
              "IPY_MODEL_edcafb6b23ef4bc8ae9a6fe4b655c443"
            ]
          }
        },
        "4b5831bb50004fb0b7251fb250262a33": {
          "model_module": "@jupyter-widgets/base",
          "model_name": "LayoutModel",
          "state": {
            "_view_name": "LayoutView",
            "grid_template_rows": null,
            "right": null,
            "justify_content": null,
            "_view_module": "@jupyter-widgets/base",
            "overflow": null,
            "_model_module_version": "1.2.0",
            "_view_count": null,
            "flex_flow": null,
            "width": null,
            "min_width": null,
            "border": null,
            "align_items": null,
            "bottom": null,
            "_model_module": "@jupyter-widgets/base",
            "top": null,
            "grid_column": null,
            "overflow_y": null,
            "overflow_x": null,
            "grid_auto_flow": null,
            "grid_area": null,
            "grid_template_columns": null,
            "flex": null,
            "_model_name": "LayoutModel",
            "justify_items": null,
            "grid_row": null,
            "max_height": null,
            "align_content": null,
            "visibility": null,
            "align_self": null,
            "height": null,
            "min_height": null,
            "padding": null,
            "grid_auto_rows": null,
            "grid_gap": null,
            "max_width": null,
            "order": null,
            "_view_module_version": "1.2.0",
            "grid_template_areas": null,
            "object_position": null,
            "object_fit": null,
            "grid_auto_columns": null,
            "margin": null,
            "display": null,
            "left": null
          }
        },
        "535600080c3b4be780369234ea07fe36": {
          "model_module": "@jupyter-widgets/controls",
          "model_name": "FloatProgressModel",
          "state": {
            "_view_name": "ProgressView",
            "style": "IPY_MODEL_cc2dc5cf85664b1b8c52a8f42ff1cab9",
            "_dom_classes": [],
            "description": "",
            "_model_name": "FloatProgressModel",
            "bar_style": "info",
            "max": 1,
            "_view_module": "@jupyter-widgets/controls",
            "_model_module_version": "1.5.0",
            "value": 1,
            "_view_count": null,
            "_view_module_version": "1.5.0",
            "orientation": "horizontal",
            "min": 0,
            "description_tooltip": null,
            "_model_module": "@jupyter-widgets/controls",
            "layout": "IPY_MODEL_ccf40ccf6bc44f4dad6239917f3522f2"
          }
        },
        "edcafb6b23ef4bc8ae9a6fe4b655c443": {
          "model_module": "@jupyter-widgets/controls",
          "model_name": "HTMLModel",
          "state": {
            "_view_name": "HTMLView",
            "style": "IPY_MODEL_a45a6c5f953143f29effe5e2dbd4ed8d",
            "_dom_classes": [],
            "description": "",
            "_model_name": "HTMLModel",
            "placeholder": "​",
            "_view_module": "@jupyter-widgets/controls",
            "_model_module_version": "1.5.0",
            "value": " 57344/? [00:20&lt;00:00, 139233.82it/s]",
            "_view_count": null,
            "_view_module_version": "1.5.0",
            "description_tooltip": null,
            "_model_module": "@jupyter-widgets/controls",
            "layout": "IPY_MODEL_dcfbf7fbb2fd48f5aeb1099fdc07dfe8"
          }
        },
        "cc2dc5cf85664b1b8c52a8f42ff1cab9": {
          "model_module": "@jupyter-widgets/controls",
          "model_name": "ProgressStyleModel",
          "state": {
            "_view_name": "StyleView",
            "_model_name": "ProgressStyleModel",
            "description_width": "initial",
            "_view_module": "@jupyter-widgets/base",
            "_model_module_version": "1.5.0",
            "_view_count": null,
            "_view_module_version": "1.2.0",
            "bar_color": null,
            "_model_module": "@jupyter-widgets/controls"
          }
        },
        "ccf40ccf6bc44f4dad6239917f3522f2": {
          "model_module": "@jupyter-widgets/base",
          "model_name": "LayoutModel",
          "state": {
            "_view_name": "LayoutView",
            "grid_template_rows": null,
            "right": null,
            "justify_content": null,
            "_view_module": "@jupyter-widgets/base",
            "overflow": null,
            "_model_module_version": "1.2.0",
            "_view_count": null,
            "flex_flow": null,
            "width": null,
            "min_width": null,
            "border": null,
            "align_items": null,
            "bottom": null,
            "_model_module": "@jupyter-widgets/base",
            "top": null,
            "grid_column": null,
            "overflow_y": null,
            "overflow_x": null,
            "grid_auto_flow": null,
            "grid_area": null,
            "grid_template_columns": null,
            "flex": null,
            "_model_name": "LayoutModel",
            "justify_items": null,
            "grid_row": null,
            "max_height": null,
            "align_content": null,
            "visibility": null,
            "align_self": null,
            "height": null,
            "min_height": null,
            "padding": null,
            "grid_auto_rows": null,
            "grid_gap": null,
            "max_width": null,
            "order": null,
            "_view_module_version": "1.2.0",
            "grid_template_areas": null,
            "object_position": null,
            "object_fit": null,
            "grid_auto_columns": null,
            "margin": null,
            "display": null,
            "left": null
          }
        },
        "a45a6c5f953143f29effe5e2dbd4ed8d": {
          "model_module": "@jupyter-widgets/controls",
          "model_name": "DescriptionStyleModel",
          "state": {
            "_view_name": "StyleView",
            "_model_name": "DescriptionStyleModel",
            "description_width": "",
            "_view_module": "@jupyter-widgets/base",
            "_model_module_version": "1.5.0",
            "_view_count": null,
            "_view_module_version": "1.2.0",
            "_model_module": "@jupyter-widgets/controls"
          }
        },
        "dcfbf7fbb2fd48f5aeb1099fdc07dfe8": {
          "model_module": "@jupyter-widgets/base",
          "model_name": "LayoutModel",
          "state": {
            "_view_name": "LayoutView",
            "grid_template_rows": null,
            "right": null,
            "justify_content": null,
            "_view_module": "@jupyter-widgets/base",
            "overflow": null,
            "_model_module_version": "1.2.0",
            "_view_count": null,
            "flex_flow": null,
            "width": null,
            "min_width": null,
            "border": null,
            "align_items": null,
            "bottom": null,
            "_model_module": "@jupyter-widgets/base",
            "top": null,
            "grid_column": null,
            "overflow_y": null,
            "overflow_x": null,
            "grid_auto_flow": null,
            "grid_area": null,
            "grid_template_columns": null,
            "flex": null,
            "_model_name": "LayoutModel",
            "justify_items": null,
            "grid_row": null,
            "max_height": null,
            "align_content": null,
            "visibility": null,
            "align_self": null,
            "height": null,
            "min_height": null,
            "padding": null,
            "grid_auto_rows": null,
            "grid_gap": null,
            "max_width": null,
            "order": null,
            "_view_module_version": "1.2.0",
            "grid_template_areas": null,
            "object_position": null,
            "object_fit": null,
            "grid_auto_columns": null,
            "margin": null,
            "display": null,
            "left": null
          }
        }
      }
    }
  },
  "cells": [
    {
      "cell_type": "markdown",
      "metadata": {
        "id": "view-in-github",
        "colab_type": "text"
      },
      "source": [
        "<a href=\"https://colab.research.google.com/github/Monika171/Deep-Learning-with-Pytorch/blob/main/02_insurance_linear.ipynb\" target=\"_parent\"><img src=\"https://colab.research.google.com/assets/colab-badge.svg\" alt=\"Open In Colab\"/></a>"
      ]
    },
    {
      "cell_type": "code",
      "metadata": {
        "colab": {
          "base_uri": "https://localhost:8080/"
        },
        "id": "hCQnE8goi3nY",
        "outputId": "b55a8b1a-ddef-46bc-ea18-3c38aa3f756e"
      },
      "source": [
        "# Jovian Commit Essentials\n",
        "# Please retain and execute this cell without modifying the contents for `jovian.commit` to work\n",
        "!pip install jovian --upgrade -q\n",
        "import jovian\n",
        "jovian.utils.colab.set_colab_file_id('1gy4dCMQaBlfthqAjyZuc3Dh8VlpwS_OC')"
      ],
      "execution_count": 1,
      "outputs": [
        {
          "output_type": "stream",
          "text": [
            "\u001b[?25l\r\u001b[K     |█████                           | 10kB 21.1MB/s eta 0:00:01\r\u001b[K     |██████████                      | 20kB 25.6MB/s eta 0:00:01\r\u001b[K     |██████████████▉                 | 30kB 19.4MB/s eta 0:00:01\r\u001b[K     |███████████████████▉            | 40kB 12.6MB/s eta 0:00:01\r\u001b[K     |████████████████████████▉       | 51kB 8.5MB/s eta 0:00:01\r\u001b[K     |█████████████████████████████▊  | 61kB 9.1MB/s eta 0:00:01\r\u001b[K     |████████████████████████████████| 71kB 4.4MB/s \n",
            "\u001b[?25h  Building wheel for uuid (setup.py) ... \u001b[?25l\u001b[?25hdone\n"
          ],
          "name": "stdout"
        }
      ]
    },
    {
      "cell_type": "markdown",
      "metadata": {
        "id": "c267IxwkJ88-"
      },
      "source": [
        "# Insurance cost prediction using linear regression\n",
        "\n",
        "Make a submisson here: https://jovian.ai/learn/deep-learning-with-pytorch-zero-to-gans/assignment/assignment-2-train-your-first-model\n",
        "\n",
        "In this assignment we're going to use information like a person's age, sex, BMI, no. of children and smoking habit to predict the price of yearly medical bills. This kind of model is useful for insurance companies to determine the yearly insurance premium for a person. The dataset for this problem is taken from [Kaggle](https://www.kaggle.com/mirichoi0218/insurance).\n",
        "\n",
        "\n",
        "We will create a model with the following steps:\n",
        "1. Download and explore the dataset\n",
        "2. Prepare the dataset for training\n",
        "3. Create a linear regression model\n",
        "4. Train the model to fit the data\n",
        "5. Make predictions using the trained model\n",
        "\n",
        "\n",
        "This assignment builds upon the concepts from the first 2 lessons. It will help to review these Jupyter notebooks:\n",
        "- PyTorch basics: https://jovian.ai/aakashns/01-pytorch-basics\n",
        "- Linear Regression: https://jovian.ai/aakashns/02-linear-regression\n",
        "- Logistic Regression: https://jovian.ai/aakashns/03-logistic-regression\n",
        "- Linear regression (minimal): https://jovian.ai/aakashns/housing-linear-minimal\n",
        "- Logistic regression (minimal): https://jovian.ai/aakashns/mnist-logistic-minimal\n",
        "\n",
        "As you go through this notebook, you will find a **???** in certain places. Your job is to replace the **???** with appropriate code or values, to ensure that the notebook runs properly end-to-end . In some cases, you'll be required to choose some hyperparameters (learning rate, batch size etc.). Try to experiment with the hypeparameters to get the lowest loss.\n"
      ]
    },
    {
      "cell_type": "code",
      "metadata": {
        "id": "JYiFEk6OJ88_"
      },
      "source": [
        "# Uncomment and run the appropriate command for your operating system, if required\n",
        "\n",
        "# Linux / Binder\n",
        "# !pip install numpy matplotlib pandas torch==1.7.0+cpu torchvision==0.8.1+cpu torchaudio==0.7.0 -f https://download.pytorch.org/whl/torch_stable.html\n",
        "\n",
        "# Windows\n",
        "# !pip install numpy matplotlib pandas torch==1.7.0+cpu torchvision==0.8.1+cpu torchaudio==0.7.0 -f https://download.pytorch.org/whl/torch_stable.html\n",
        "\n",
        "# MacOS\n",
        "# !pip install numpy matplotlib pandas torch torchvision torchaudio"
      ],
      "execution_count": null,
      "outputs": []
    },
    {
      "cell_type": "code",
      "metadata": {
        "id": "fPOX-ldRJ89A"
      },
      "source": [
        "import torch\n",
        "import jovian\n",
        "import torchvision\n",
        "import torch.nn as nn\n",
        "import pandas as pd\n",
        "import matplotlib.pyplot as plt\n",
        "import torch.nn.functional as F\n",
        "from torchvision.datasets.utils import download_url\n",
        "from torch.utils.data import DataLoader, TensorDataset, random_split"
      ],
      "execution_count": 2,
      "outputs": []
    },
    {
      "cell_type": "code",
      "metadata": {
        "id": "BVuYddp0J89B"
      },
      "source": [
        "project_name='02-insurance-linear-regression-monika171' # will be used by jovian.commit"
      ],
      "execution_count": 3,
      "outputs": []
    },
    {
      "cell_type": "markdown",
      "metadata": {
        "id": "9vWdBw9QJ89C"
      },
      "source": [
        "## Step 1: Download and explore the data\n",
        "\n",
        "Let us begin by downloading the data. We'll use the `download_url` function from PyTorch to get the data as a CSV (comma-separated values) file. "
      ]
    },
    {
      "cell_type": "code",
      "metadata": {
        "colab": {
          "base_uri": "https://localhost:8080/",
          "height": 86,
          "referenced_widgets": [
            "46c80496ce154c7daf5ed7d15b2a6059",
            "4b5831bb50004fb0b7251fb250262a33",
            "535600080c3b4be780369234ea07fe36",
            "edcafb6b23ef4bc8ae9a6fe4b655c443",
            "cc2dc5cf85664b1b8c52a8f42ff1cab9",
            "ccf40ccf6bc44f4dad6239917f3522f2",
            "a45a6c5f953143f29effe5e2dbd4ed8d",
            "dcfbf7fbb2fd48f5aeb1099fdc07dfe8"
          ]
        },
        "id": "LW4PGHcjJ89C",
        "outputId": "76704660-8020-4f77-c3cf-c9da0c70e998"
      },
      "source": [
        "DATASET_URL = \"https://hub.jovian.ml/wp-content/uploads/2020/05/insurance.csv\"\n",
        "DATA_FILENAME = \"insurance.csv\"\n",
        "download_url(DATASET_URL, '.')"
      ],
      "execution_count": 4,
      "outputs": [
        {
          "output_type": "stream",
          "text": [
            "Downloading https://hub.jovian.ml/wp-content/uploads/2020/05/insurance.csv to ./insurance.csv\n"
          ],
          "name": "stdout"
        },
        {
          "output_type": "display_data",
          "data": {
            "application/vnd.jupyter.widget-view+json": {
              "model_id": "46c80496ce154c7daf5ed7d15b2a6059",
              "version_minor": 0,
              "version_major": 2
            },
            "text/plain": [
              "HBox(children=(FloatProgress(value=1.0, bar_style='info', max=1.0), HTML(value='')))"
            ]
          },
          "metadata": {
            "tags": []
          }
        }
      ]
    },
    {
      "cell_type": "markdown",
      "metadata": {
        "id": "anCAIokuJ89F"
      },
      "source": [
        "To load the dataset into memory, we'll use the `read_csv` function from the `pandas` library. The data will be loaded as a Pandas dataframe. See this short tutorial to learn more: https://data36.com/pandas-tutorial-1-basics-reading-data-files-dataframes-data-selection/"
      ]
    },
    {
      "cell_type": "code",
      "metadata": {
        "colab": {
          "base_uri": "https://localhost:8080/",
          "height": 204
        },
        "id": "sVZdoR2xJ89G",
        "outputId": "3d5f9049-ae70-4bb3-91e4-5c992f2fa427"
      },
      "source": [
        "dataframe_raw = pd.read_csv(DATA_FILENAME)\n",
        "dataframe_raw.head()"
      ],
      "execution_count": 5,
      "outputs": [
        {
          "output_type": "execute_result",
          "data": {
            "text/html": [
              "<div>\n",
              "<style scoped>\n",
              "    .dataframe tbody tr th:only-of-type {\n",
              "        vertical-align: middle;\n",
              "    }\n",
              "\n",
              "    .dataframe tbody tr th {\n",
              "        vertical-align: top;\n",
              "    }\n",
              "\n",
              "    .dataframe thead th {\n",
              "        text-align: right;\n",
              "    }\n",
              "</style>\n",
              "<table border=\"1\" class=\"dataframe\">\n",
              "  <thead>\n",
              "    <tr style=\"text-align: right;\">\n",
              "      <th></th>\n",
              "      <th>age</th>\n",
              "      <th>sex</th>\n",
              "      <th>bmi</th>\n",
              "      <th>children</th>\n",
              "      <th>smoker</th>\n",
              "      <th>region</th>\n",
              "      <th>charges</th>\n",
              "    </tr>\n",
              "  </thead>\n",
              "  <tbody>\n",
              "    <tr>\n",
              "      <th>0</th>\n",
              "      <td>19</td>\n",
              "      <td>female</td>\n",
              "      <td>27.900</td>\n",
              "      <td>0</td>\n",
              "      <td>yes</td>\n",
              "      <td>southwest</td>\n",
              "      <td>16884.92400</td>\n",
              "    </tr>\n",
              "    <tr>\n",
              "      <th>1</th>\n",
              "      <td>18</td>\n",
              "      <td>male</td>\n",
              "      <td>33.770</td>\n",
              "      <td>1</td>\n",
              "      <td>no</td>\n",
              "      <td>southeast</td>\n",
              "      <td>1725.55230</td>\n",
              "    </tr>\n",
              "    <tr>\n",
              "      <th>2</th>\n",
              "      <td>28</td>\n",
              "      <td>male</td>\n",
              "      <td>33.000</td>\n",
              "      <td>3</td>\n",
              "      <td>no</td>\n",
              "      <td>southeast</td>\n",
              "      <td>4449.46200</td>\n",
              "    </tr>\n",
              "    <tr>\n",
              "      <th>3</th>\n",
              "      <td>33</td>\n",
              "      <td>male</td>\n",
              "      <td>22.705</td>\n",
              "      <td>0</td>\n",
              "      <td>no</td>\n",
              "      <td>northwest</td>\n",
              "      <td>21984.47061</td>\n",
              "    </tr>\n",
              "    <tr>\n",
              "      <th>4</th>\n",
              "      <td>32</td>\n",
              "      <td>male</td>\n",
              "      <td>28.880</td>\n",
              "      <td>0</td>\n",
              "      <td>no</td>\n",
              "      <td>northwest</td>\n",
              "      <td>3866.85520</td>\n",
              "    </tr>\n",
              "  </tbody>\n",
              "</table>\n",
              "</div>"
            ],
            "text/plain": [
              "   age     sex     bmi  children smoker     region      charges\n",
              "0   19  female  27.900         0    yes  southwest  16884.92400\n",
              "1   18    male  33.770         1     no  southeast   1725.55230\n",
              "2   28    male  33.000         3     no  southeast   4449.46200\n",
              "3   33    male  22.705         0     no  northwest  21984.47061\n",
              "4   32    male  28.880         0     no  northwest   3866.85520"
            ]
          },
          "metadata": {
            "tags": []
          },
          "execution_count": 5
        }
      ]
    },
    {
      "cell_type": "markdown",
      "metadata": {
        "id": "pFon8JLyJ89G"
      },
      "source": [
        "We're going to do a slight customization of the data, so that you every participant receives a slightly different version of the dataset. Fill in your name below as a string (enter at least 5 characters)"
      ]
    },
    {
      "cell_type": "code",
      "metadata": {
        "id": "NX3GQArIJ89H"
      },
      "source": [
        "your_name = 'monika' # at least 5 characters"
      ],
      "execution_count": 6,
      "outputs": []
    },
    {
      "cell_type": "markdown",
      "metadata": {
        "id": "Jrjvcq6nJ89H"
      },
      "source": [
        "The `customize_dataset` function will customize the dataset slightly using your name as a source of random numbers."
      ]
    },
    {
      "cell_type": "code",
      "metadata": {
        "id": "tVsf28RHJ89I"
      },
      "source": [
        "def customize_dataset(dataframe_raw, rand_str):\n",
        "    dataframe = dataframe_raw.copy(deep=True)\n",
        "    # drop some rows\n",
        "    dataframe = dataframe.sample(int(0.95*len(dataframe)), random_state=int(ord(rand_str[0])))\n",
        "    # scale input\n",
        "    dataframe.bmi = dataframe.bmi * ord(rand_str[1])/100.\n",
        "    # scale target\n",
        "    dataframe.charges = dataframe.charges * ord(rand_str[2])/100.\n",
        "    # drop column\n",
        "    if ord(rand_str[3]) % 2 == 1:\n",
        "        dataframe = dataframe.drop(['region'], axis=1)\n",
        "    return dataframe"
      ],
      "execution_count": 7,
      "outputs": []
    },
    {
      "cell_type": "code",
      "metadata": {
        "colab": {
          "base_uri": "https://localhost:8080/",
          "height": 204
        },
        "id": "OqskldsrJ89I",
        "outputId": "0680085b-bee0-4262-f67c-fa7d46a98ec4"
      },
      "source": [
        "dataframe = customize_dataset(dataframe_raw, your_name)\n",
        "dataframe.head()"
      ],
      "execution_count": 8,
      "outputs": [
        {
          "output_type": "execute_result",
          "data": {
            "text/html": [
              "<div>\n",
              "<style scoped>\n",
              "    .dataframe tbody tr th:only-of-type {\n",
              "        vertical-align: middle;\n",
              "    }\n",
              "\n",
              "    .dataframe tbody tr th {\n",
              "        vertical-align: top;\n",
              "    }\n",
              "\n",
              "    .dataframe thead th {\n",
              "        text-align: right;\n",
              "    }\n",
              "</style>\n",
              "<table border=\"1\" class=\"dataframe\">\n",
              "  <thead>\n",
              "    <tr style=\"text-align: right;\">\n",
              "      <th></th>\n",
              "      <th>age</th>\n",
              "      <th>sex</th>\n",
              "      <th>bmi</th>\n",
              "      <th>children</th>\n",
              "      <th>smoker</th>\n",
              "      <th>charges</th>\n",
              "    </tr>\n",
              "  </thead>\n",
              "  <tbody>\n",
              "    <tr>\n",
              "      <th>1063</th>\n",
              "      <td>36</td>\n",
              "      <td>male</td>\n",
              "      <td>31.74045</td>\n",
              "      <td>3</td>\n",
              "      <td>no</td>\n",
              "      <td>7203.014555</td>\n",
              "    </tr>\n",
              "    <tr>\n",
              "      <th>1317</th>\n",
              "      <td>18</td>\n",
              "      <td>male</td>\n",
              "      <td>58.97430</td>\n",
              "      <td>0</td>\n",
              "      <td>no</td>\n",
              "      <td>1279.808970</td>\n",
              "    </tr>\n",
              "    <tr>\n",
              "      <th>140</th>\n",
              "      <td>34</td>\n",
              "      <td>male</td>\n",
              "      <td>24.88620</td>\n",
              "      <td>2</td>\n",
              "      <td>no</td>\n",
              "      <td>30113.495258</td>\n",
              "    </tr>\n",
              "    <tr>\n",
              "      <th>106</th>\n",
              "      <td>19</td>\n",
              "      <td>female</td>\n",
              "      <td>31.52400</td>\n",
              "      <td>1</td>\n",
              "      <td>no</td>\n",
              "      <td>2564.670900</td>\n",
              "    </tr>\n",
              "    <tr>\n",
              "      <th>634</th>\n",
              "      <td>51</td>\n",
              "      <td>male</td>\n",
              "      <td>44.06700</td>\n",
              "      <td>1</td>\n",
              "      <td>no</td>\n",
              "      <td>10330.480600</td>\n",
              "    </tr>\n",
              "  </tbody>\n",
              "</table>\n",
              "</div>"
            ],
            "text/plain": [
              "      age     sex       bmi  children smoker       charges\n",
              "1063   36    male  31.74045         3     no   7203.014555\n",
              "1317   18    male  58.97430         0     no   1279.808970\n",
              "140    34    male  24.88620         2     no  30113.495258\n",
              "106    19  female  31.52400         1     no   2564.670900\n",
              "634    51    male  44.06700         1     no  10330.480600"
            ]
          },
          "metadata": {
            "tags": []
          },
          "execution_count": 8
        }
      ]
    },
    {
      "cell_type": "markdown",
      "metadata": {
        "id": "c83ulNBRJ89I"
      },
      "source": [
        "Let us answer some basic questions about the dataset. \n",
        "\n",
        "\n",
        "**Q: How many rows does the dataset have?**"
      ]
    },
    {
      "cell_type": "code",
      "metadata": {
        "colab": {
          "base_uri": "https://localhost:8080/"
        },
        "id": "JReV6kZ0J89J",
        "outputId": "1d60d668-36b2-469d-fe5c-3170a74111bb"
      },
      "source": [
        "num_rows = dataframe.shape[0]\n",
        "print(num_rows)"
      ],
      "execution_count": 9,
      "outputs": [
        {
          "output_type": "stream",
          "text": [
            "1271\n"
          ],
          "name": "stdout"
        }
      ]
    },
    {
      "cell_type": "markdown",
      "metadata": {
        "id": "qwkRFirwJ89J"
      },
      "source": [
        "**Q: How many columns doe the dataset have**"
      ]
    },
    {
      "cell_type": "code",
      "metadata": {
        "colab": {
          "base_uri": "https://localhost:8080/"
        },
        "id": "uYQZQXgmJ89J",
        "outputId": "6e6f13e1-01af-45f6-b81b-2a2de4ac2ff5"
      },
      "source": [
        "num_cols = dataframe.shape[1]\n",
        "print(num_cols)"
      ],
      "execution_count": 10,
      "outputs": [
        {
          "output_type": "stream",
          "text": [
            "6\n"
          ],
          "name": "stdout"
        }
      ]
    },
    {
      "cell_type": "markdown",
      "metadata": {
        "id": "TF2XMxDpJ89K"
      },
      "source": [
        "**Q: What are the column titles of the input variables?**"
      ]
    },
    {
      "cell_type": "code",
      "metadata": {
        "colab": {
          "base_uri": "https://localhost:8080/"
        },
        "id": "oX6caTlsJ89K",
        "outputId": "c76891a2-3392-4a91-bdd1-1c6fa814b6d5"
      },
      "source": [
        "input_cols = [i for i in dataframe.columns[:-1]]\n",
        "input_cols"
      ],
      "execution_count": 11,
      "outputs": [
        {
          "output_type": "execute_result",
          "data": {
            "text/plain": [
              "['age', 'sex', 'bmi', 'children', 'smoker']"
            ]
          },
          "metadata": {
            "tags": []
          },
          "execution_count": 11
        }
      ]
    },
    {
      "cell_type": "markdown",
      "metadata": {
        "id": "ova2CiLyJ89K"
      },
      "source": [
        "**Q: Which of the input columns are non-numeric or categorial variables ?**\n",
        "\n",
        "Hint: `sex` is one of them. List the columns that are not numbers."
      ]
    },
    {
      "cell_type": "code",
      "metadata": {
        "colab": {
          "base_uri": "https://localhost:8080/"
        },
        "id": "2mQYRRL1J89K",
        "outputId": "e49103c8-bc24-46e1-9702-e9e9967db108"
      },
      "source": [
        "categorical_cols = [i for i in dataframe.select_dtypes(include=['object', 'category']).columns]\n",
        "categorical_cols"
      ],
      "execution_count": 12,
      "outputs": [
        {
          "output_type": "execute_result",
          "data": {
            "text/plain": [
              "['sex', 'smoker']"
            ]
          },
          "metadata": {
            "tags": []
          },
          "execution_count": 12
        }
      ]
    },
    {
      "cell_type": "markdown",
      "metadata": {
        "id": "2yYSkgcZJ89L"
      },
      "source": [
        "**Q: What are the column titles of output/target variable(s)?**"
      ]
    },
    {
      "cell_type": "code",
      "metadata": {
        "colab": {
          "base_uri": "https://localhost:8080/"
        },
        "id": "maLlJS4tJ89L",
        "outputId": "5f60bc0e-75db-4a66-8292-9f6eb0da7e3d"
      },
      "source": [
        "output_cols = [dataframe.columns[-1]]\n",
        "output_cols"
      ],
      "execution_count": 13,
      "outputs": [
        {
          "output_type": "execute_result",
          "data": {
            "text/plain": [
              "['charges']"
            ]
          },
          "metadata": {
            "tags": []
          },
          "execution_count": 13
        }
      ]
    },
    {
      "cell_type": "markdown",
      "metadata": {
        "id": "HM8dBjd1J89L"
      },
      "source": [
        "**Q: (Optional) What is the minimum, maximum and average value of the `charges` column? Can you show the distribution of values in a graph?**\n",
        "Use this data visualization cheatsheet for referece: https://jovian.ml/aakashns/dataviz-cheatsheet"
      ]
    },
    {
      "cell_type": "code",
      "metadata": {
        "id": "3eGTBLv4J89L"
      },
      "source": [
        "# Write your answer here"
      ],
      "execution_count": null,
      "outputs": []
    },
    {
      "cell_type": "markdown",
      "metadata": {
        "id": "Vuna05h5J89L"
      },
      "source": [
        "Remember to commit your notebook to Jovian after every step, so that you don't lose your work."
      ]
    },
    {
      "cell_type": "code",
      "metadata": {
        "id": "wDaR8Jh6J89M"
      },
      "source": [
        "!pip install jovian --upgrade -q"
      ],
      "execution_count": 14,
      "outputs": []
    },
    {
      "cell_type": "code",
      "metadata": {
        "id": "q-sbmvNHJ89M"
      },
      "source": [
        "import jovian"
      ],
      "execution_count": 15,
      "outputs": []
    },
    {
      "cell_type": "code",
      "metadata": {
        "colab": {
          "base_uri": "https://localhost:8080/",
          "height": 140
        },
        "id": "mryeQla7J89N",
        "outputId": "93df8c51-0d5a-4530-ae96-fd3808267c07"
      },
      "source": [
        "jovian.commit(project=project_name, environment=None)"
      ],
      "execution_count": 16,
      "outputs": [
        {
          "output_type": "stream",
          "text": [
            "[jovian] Detected Colab notebook...\u001b[0m\n",
            "[jovian] Please enter your API key ( from https://jovian.ai/ ):\u001b[0m\n",
            "API KEY: ··········\n",
            "[jovian] Uploading colab notebook to Jovian...\u001b[0m\n",
            "[jovian] Committed successfully! https://jovian.ai/monika171/02-insurance-linear-regression-monika171\u001b[0m\n"
          ],
          "name": "stdout"
        },
        {
          "output_type": "execute_result",
          "data": {
            "application/vnd.google.colaboratory.intrinsic+json": {
              "type": "string"
            },
            "text/plain": [
              "'https://jovian.ai/monika171/02-insurance-linear-regression-monika171'"
            ]
          },
          "metadata": {
            "tags": []
          },
          "execution_count": 16
        }
      ]
    },
    {
      "cell_type": "markdown",
      "metadata": {
        "id": "IJj8c5mUJ89O"
      },
      "source": [
        "## Step 2: Prepare the dataset for training\n",
        "\n",
        "We need to convert the data from the Pandas dataframe into a PyTorch tensors for training. To do this, the first step is to convert it numpy arrays. If you've filled out `input_cols`, `categorial_cols` and `output_cols` correctly, this following function will perform the conversion to numpy arrays."
      ]
    },
    {
      "cell_type": "code",
      "metadata": {
        "id": "91FmfabaJ89O"
      },
      "source": [
        "def dataframe_to_arrays(dataframe):\n",
        "    # Make a copy of the original dataframe\n",
        "    dataframe1 = dataframe.copy(deep=True)\n",
        "    # Convert non-numeric categorical columns to numbers\n",
        "    for col in categorical_cols:\n",
        "        dataframe1[col] = dataframe1[col].astype('category').cat.codes\n",
        "    # Extract input & outupts as numpy arrays\n",
        "    inputs_array = dataframe1[input_cols].to_numpy()\n",
        "    targets_array = dataframe1[output_cols].to_numpy()\n",
        "    return inputs_array, targets_array"
      ],
      "execution_count": 17,
      "outputs": []
    },
    {
      "cell_type": "markdown",
      "metadata": {
        "id": "YuDb9_SSJ89P"
      },
      "source": [
        "Read through the [Pandas documentation](https://pandas.pydata.org/pandas-docs/stable/user_guide/categorical.html) to understand how we're converting categorical variables into numbers."
      ]
    },
    {
      "cell_type": "code",
      "metadata": {
        "colab": {
          "base_uri": "https://localhost:8080/"
        },
        "id": "I3ftqcpGJ89P",
        "outputId": "a09cd2ab-9b4b-4ee1-b9eb-be720729a401"
      },
      "source": [
        "inputs_array, targets_array = dataframe_to_arrays(dataframe)\n",
        "inputs_array, targets_array"
      ],
      "execution_count": 18,
      "outputs": [
        {
          "output_type": "execute_result",
          "data": {
            "text/plain": [
              "(array([[36.     ,  1.     , 31.74045,  3.     ,  0.     ],\n",
              "        [18.     ,  1.     , 58.9743 ,  0.     ,  0.     ],\n",
              "        [34.     ,  1.     , 24.8862 ,  2.     ,  0.     ],\n",
              "        ...,\n",
              "        [43.     ,  0.     , 39.6492 ,  2.     ,  0.     ],\n",
              "        [49.     ,  1.     , 39.8046 ,  0.     ,  0.     ],\n",
              "        [40.     ,  0.     , 32.856  ,  0.     ,  0.     ]]),\n",
              " array([[ 7203.014555],\n",
              "        [ 1279.80897 ],\n",
              "        [30113.495258],\n",
              "        ...,\n",
              "        [21059.034172],\n",
              "        [ 8936.84924 ],\n",
              "        [ 6502.0384  ]]))"
            ]
          },
          "metadata": {
            "tags": []
          },
          "execution_count": 18
        }
      ]
    },
    {
      "cell_type": "markdown",
      "metadata": {
        "id": "iyD8w59fJ89Q"
      },
      "source": [
        "**Q: Convert the numpy arrays `inputs_array` and `targets_array` into PyTorch tensors. Make sure that the data type is `torch.float32`.**"
      ]
    },
    {
      "cell_type": "code",
      "metadata": {
        "id": "rw6GuSsGJ89Q"
      },
      "source": [
        "inputs = torch.tensor(inputs_array, dtype=torch.float32)\n",
        "targets = torch.tensor(targets_array, dtype=torch.float32)"
      ],
      "execution_count": 19,
      "outputs": []
    },
    {
      "cell_type": "code",
      "metadata": {
        "colab": {
          "base_uri": "https://localhost:8080/"
        },
        "id": "JPAL0KSrJ89Q",
        "outputId": "5a3d885b-a801-47e2-f769-037d49db8b42"
      },
      "source": [
        "inputs.dtype, targets.dtype"
      ],
      "execution_count": 20,
      "outputs": [
        {
          "output_type": "execute_result",
          "data": {
            "text/plain": [
              "(torch.float32, torch.float32)"
            ]
          },
          "metadata": {
            "tags": []
          },
          "execution_count": 20
        }
      ]
    },
    {
      "cell_type": "markdown",
      "metadata": {
        "id": "BBXpXMQBJ89Q"
      },
      "source": [
        "Next, we need to create PyTorch datasets & data loaders for training & validation. We'll start by creating a `TensorDataset`."
      ]
    },
    {
      "cell_type": "code",
      "metadata": {
        "id": "qjDPt7lmJ89R"
      },
      "source": [
        "dataset = TensorDataset(inputs, targets)"
      ],
      "execution_count": 21,
      "outputs": []
    },
    {
      "cell_type": "markdown",
      "metadata": {
        "id": "x2O01winJ89R"
      },
      "source": [
        "**Q: Pick a number between `0.1` and `0.2` to determine the fraction of data that will be used for creating the validation set. Then use `random_split` to create training & validation datasets.**"
      ]
    },
    {
      "cell_type": "code",
      "metadata": {
        "id": "Hanq18N8J89R"
      },
      "source": [
        "val_percent = 0.18 # between 0.1 and 0.2\n",
        "val_size = int(num_rows * val_percent)\n",
        "train_size = num_rows - val_size\n",
        "\n",
        "\n",
        "train_ds, val_ds = random_split(dataset, [train_size, val_size]) # Use the random_split function to split dataset into 2 parts of the desired length"
      ],
      "execution_count": 62,
      "outputs": []
    },
    {
      "cell_type": "markdown",
      "metadata": {
        "id": "GIgZqxk6J89R"
      },
      "source": [
        "Finally, we can create data loaders for training & validation.\n",
        "\n",
        "**Q: Pick a batch size for the data loader.**"
      ]
    },
    {
      "cell_type": "code",
      "metadata": {
        "id": "K5LIvUxzJ89S"
      },
      "source": [
        "batch_size = 6"
      ],
      "execution_count": 63,
      "outputs": []
    },
    {
      "cell_type": "code",
      "metadata": {
        "id": "bUBEmmQMJ89S"
      },
      "source": [
        "train_loader = DataLoader(train_ds, batch_size, shuffle=True)\n",
        "val_loader = DataLoader(val_ds, batch_size)"
      ],
      "execution_count": 64,
      "outputs": []
    },
    {
      "cell_type": "markdown",
      "metadata": {
        "id": "64yY9GUrJ89S"
      },
      "source": [
        "Let's look at a batch of data to verify everything is working fine so far."
      ]
    },
    {
      "cell_type": "code",
      "metadata": {
        "id": "pQ6MK304J89S",
        "colab": {
          "base_uri": "https://localhost:8080/"
        },
        "outputId": "c8b686b6-9c6a-4d47-c1e0-c19c6fbc581c"
      },
      "source": [
        "for xb, yb in train_loader:\n",
        "    print(\"inputs:\", xb)\n",
        "    print(\"targets:\", yb)\n",
        "    break"
      ],
      "execution_count": 65,
      "outputs": [
        {
          "output_type": "stream",
          "text": [
            "inputs: tensor([[18.0000,  0.0000, 40.9035,  0.0000,  0.0000],\n",
            "        [22.0000,  0.0000, 26.9730,  0.0000,  0.0000],\n",
            "        [48.0000,  1.0000, 40.7037,  1.0000,  0.0000],\n",
            "        [30.0000,  1.0000, 43.1013,  1.0000,  0.0000],\n",
            "        [58.0000,  1.0000, 39.6270,  0.0000,  0.0000],\n",
            "        [54.0000,  0.0000, 52.6251,  0.0000,  1.0000]])\n",
            "targets: tensor([[ 1792.8169],\n",
            "        [ 2365.5159],\n",
            "        [31315.8105],\n",
            "        [20859.4883],\n",
            "        [12499.0303],\n",
            "        [70147.4688]])\n"
          ],
          "name": "stdout"
        }
      ]
    },
    {
      "cell_type": "markdown",
      "metadata": {
        "id": "w_wdXjCCJ89S"
      },
      "source": [
        "Let's save our work by committing to Jovian."
      ]
    },
    {
      "cell_type": "code",
      "metadata": {
        "id": "lwaLksAJJ89T",
        "colab": {
          "base_uri": "https://localhost:8080/",
          "height": 106
        },
        "outputId": "c803aef6-bdab-4b11-aec3-2fd169e2f55e"
      },
      "source": [
        "jovian.commit(project=project_name, environment=None)"
      ],
      "execution_count": 66,
      "outputs": [
        {
          "output_type": "stream",
          "text": [
            "[jovian] Detected Colab notebook...\u001b[0m\n",
            "[jovian] Uploading colab notebook to Jovian...\u001b[0m\n",
            "[jovian] Committed successfully! https://jovian.ai/monika171/02-insurance-linear-regression-monika171\u001b[0m\n"
          ],
          "name": "stdout"
        },
        {
          "output_type": "execute_result",
          "data": {
            "application/vnd.google.colaboratory.intrinsic+json": {
              "type": "string"
            },
            "text/plain": [
              "'https://jovian.ai/monika171/02-insurance-linear-regression-monika171'"
            ]
          },
          "metadata": {
            "tags": []
          },
          "execution_count": 66
        }
      ]
    },
    {
      "cell_type": "markdown",
      "metadata": {
        "id": "sKvj5DE-J89T"
      },
      "source": [
        "## Step 3: Create a Linear Regression Model\n",
        "\n",
        "Our model itself is a fairly straightforward linear regression (we'll build more complex models in the next assignment). \n"
      ]
    },
    {
      "cell_type": "code",
      "metadata": {
        "id": "Z4u68BcaJ89T"
      },
      "source": [
        "input_size = len(input_cols)\n",
        "output_size = len(output_cols)"
      ],
      "execution_count": 67,
      "outputs": []
    },
    {
      "cell_type": "markdown",
      "metadata": {
        "id": "BkxG1HOcJ89T"
      },
      "source": [
        "**Q: Complete the class definition below by filling out the constructor (`__init__`), `forward`, `training_step` and `validation_step` methods.**\n",
        "\n",
        "Hint: Think carefully about picking a good loss fuction (it's not cross entropy). Maybe try 2-3 of them and see which one works best. See https://pytorch.org/docs/stable/nn.functional.html#loss-functions"
      ]
    },
    {
      "cell_type": "code",
      "metadata": {
        "id": "a5NOjNH9J89T"
      },
      "source": [
        "class InsuranceModel(nn.Module):\n",
        "    def __init__(self):\n",
        "        super().__init__()\n",
        "        self.linear = nn.Linear(input_size, output_size)                # fill this (hint: use input_size & output_size defined above)\n",
        "        \n",
        "    def forward(self, xb):\n",
        "        out = self.linear(xb)                          # fill this\n",
        "        return out\n",
        "    \n",
        "    def training_step(self, batch):\n",
        "        inputs, targets = batch \n",
        "        # Generate predictions\n",
        "        out = self(inputs)          \n",
        "        # Calcuate loss\n",
        "        loss = F.l1_loss(out, targets)                          # fill this\n",
        "        return loss\n",
        "    \n",
        "    def validation_step(self, batch):\n",
        "        inputs, targets = batch\n",
        "        # Generate predictions\n",
        "        out = self(inputs)\n",
        "        # Calculate loss\n",
        "        loss = F.l1_loss(out, targets)                           # fill this    \n",
        "        return {'val_loss': loss.detach()}\n",
        "        \n",
        "    def validation_epoch_end(self, outputs):\n",
        "        batch_losses = [x['val_loss'] for x in outputs]\n",
        "        epoch_loss = torch.stack(batch_losses).mean()   # Combine losses\n",
        "        return {'val_loss': epoch_loss.item()}\n",
        "    \n",
        "    def epoch_end(self, epoch, result, num_epochs):\n",
        "        # Print result every 20th epoch\n",
        "        if (epoch+1) % 20 == 0 or epoch == num_epochs-1:\n",
        "            print(\"Epoch [{}], val_loss: {:.4f}\".format(epoch+1, result['val_loss']))"
      ],
      "execution_count": 68,
      "outputs": []
    },
    {
      "cell_type": "markdown",
      "metadata": {
        "id": "lwdGC26WJ89U"
      },
      "source": [
        "Let us create a model using the `InsuranceModel` class. You may need to come back later and re-run the next cell to reinitialize the model, in case the loss becomes `nan` or `infinity`."
      ]
    },
    {
      "cell_type": "code",
      "metadata": {
        "id": "NVha0UgaJ89U"
      },
      "source": [
        "model = InsuranceModel()"
      ],
      "execution_count": 69,
      "outputs": []
    },
    {
      "cell_type": "markdown",
      "metadata": {
        "id": "Et_r_4RQJ89U"
      },
      "source": [
        "Let's check out the weights and biases of the model using `model.parameters`."
      ]
    },
    {
      "cell_type": "code",
      "metadata": {
        "id": "URrXf2JqJ89U",
        "colab": {
          "base_uri": "https://localhost:8080/"
        },
        "outputId": "6cde0ab2-e951-441e-a527-60aedd203150"
      },
      "source": [
        "list(model.parameters())"
      ],
      "execution_count": 70,
      "outputs": [
        {
          "output_type": "execute_result",
          "data": {
            "text/plain": [
              "[Parameter containing:\n",
              " tensor([[ 0.3680, -0.0414,  0.2695, -0.1386, -0.0510]], requires_grad=True),\n",
              " Parameter containing:\n",
              " tensor([0.2170], requires_grad=True)]"
            ]
          },
          "metadata": {
            "tags": []
          },
          "execution_count": 70
        }
      ]
    },
    {
      "cell_type": "markdown",
      "metadata": {
        "id": "EkPRTJ1HJ89V"
      },
      "source": [
        "One final commit before we train the model."
      ]
    },
    {
      "cell_type": "code",
      "metadata": {
        "id": "-dvsAX6cJ89V",
        "colab": {
          "base_uri": "https://localhost:8080/",
          "height": 106
        },
        "outputId": "e5286448-cdef-431b-8bf5-3ec705f797d8"
      },
      "source": [
        "jovian.commit(project=project_name, environment=None)"
      ],
      "execution_count": 71,
      "outputs": [
        {
          "output_type": "stream",
          "text": [
            "[jovian] Detected Colab notebook...\u001b[0m\n",
            "[jovian] Uploading colab notebook to Jovian...\u001b[0m\n",
            "[jovian] Committed successfully! https://jovian.ai/monika171/02-insurance-linear-regression-monika171\u001b[0m\n"
          ],
          "name": "stdout"
        },
        {
          "output_type": "execute_result",
          "data": {
            "application/vnd.google.colaboratory.intrinsic+json": {
              "type": "string"
            },
            "text/plain": [
              "'https://jovian.ai/monika171/02-insurance-linear-regression-monika171'"
            ]
          },
          "metadata": {
            "tags": []
          },
          "execution_count": 71
        }
      ]
    },
    {
      "cell_type": "markdown",
      "metadata": {
        "id": "SwBiaBVxJ89Z"
      },
      "source": [
        "## Step 4: Train the model to fit the data\n",
        "\n",
        "To train our model, we'll use the same `fit` function explained in the lecture. That's the benefit of defining a generic training loop - you can use it for any problem."
      ]
    },
    {
      "cell_type": "code",
      "metadata": {
        "id": "gtuSkuFTJ89Z"
      },
      "source": [
        "def evaluate(model, val_loader):\n",
        "    outputs = [model.validation_step(batch) for batch in val_loader]\n",
        "    return model.validation_epoch_end(outputs)\n",
        "\n",
        "def fit(epochs, lr, model, train_loader, val_loader, opt_func=torch.optim.SGD):\n",
        "    history = []\n",
        "    optimizer = opt_func(model.parameters(), lr)\n",
        "    for epoch in range(epochs):\n",
        "        # Training Phase \n",
        "        for batch in train_loader:\n",
        "            loss = model.training_step(batch)\n",
        "            loss.backward()\n",
        "            optimizer.step()\n",
        "            optimizer.zero_grad()\n",
        "        # Validation phase\n",
        "        result = evaluate(model, val_loader)\n",
        "        model.epoch_end(epoch, result, epochs)\n",
        "        history.append(result)\n",
        "    return history"
      ],
      "execution_count": 72,
      "outputs": []
    },
    {
      "cell_type": "markdown",
      "metadata": {
        "id": "K8ky3TqMJ89a"
      },
      "source": [
        "**Q: Use the `evaluate` function to calculate the loss on the validation set before training.**"
      ]
    },
    {
      "cell_type": "code",
      "metadata": {
        "id": "SQUh8PLqJ89a",
        "colab": {
          "base_uri": "https://localhost:8080/"
        },
        "outputId": "db2ff72a-e769-4278-81fd-4a3c3dd11606"
      },
      "source": [
        "result = evaluate(model, val_loader) # Use the the evaluate function\n",
        "print(result)"
      ],
      "execution_count": 73,
      "outputs": [
        {
          "output_type": "stream",
          "text": [
            "{'val_loss': 14009.11328125}\n"
          ],
          "name": "stdout"
        }
      ]
    },
    {
      "cell_type": "markdown",
      "metadata": {
        "id": "_VJy52RYJ89a"
      },
      "source": [
        "\n",
        "We are now ready to train the model. You may need to run the training loop many times, for different number of epochs and with different learning rates, to get a good result. Also, if your loss becomes too large (or `nan`), you may have to re-initialize the model by running the cell `model = InsuranceModel()`. Experiment with this for a while, and try to get to as low a loss as possible."
      ]
    },
    {
      "cell_type": "markdown",
      "metadata": {
        "id": "R0UyTZQzJ89a"
      },
      "source": [
        "**Q: Train the model 4-5 times with different learning rates & for different number of epochs.**\n",
        "\n",
        "Hint: Vary learning rates by orders of 10 (e.g. `1e-2`, `1e-3`, `1e-4`, `1e-5`, `1e-6`) to figure out what works."
      ]
    },
    {
      "cell_type": "code",
      "metadata": {
        "id": "GeX54qARJ89a",
        "colab": {
          "base_uri": "https://localhost:8080/"
        },
        "outputId": "a2bad409-6487-469c-841e-082359bd45f4"
      },
      "source": [
        "epochs = 1500\n",
        "lr = 1e-2\n",
        "history1 = fit(epochs, lr, model, train_loader, val_loader)"
      ],
      "execution_count": 74,
      "outputs": [
        {
          "output_type": "stream",
          "text": [
            "Epoch [20], val_loss: 7158.4438\n",
            "Epoch [40], val_loss: 6964.0483\n",
            "Epoch [60], val_loss: 6949.3765\n",
            "Epoch [80], val_loss: 6948.9341\n",
            "Epoch [100], val_loss: 6945.6812\n",
            "Epoch [120], val_loss: 6937.0059\n",
            "Epoch [140], val_loss: 6936.5117\n",
            "Epoch [160], val_loss: 6934.9336\n",
            "Epoch [180], val_loss: 6925.9014\n",
            "Epoch [200], val_loss: 6923.1069\n",
            "Epoch [220], val_loss: 6919.6133\n",
            "Epoch [240], val_loss: 6916.3340\n",
            "Epoch [260], val_loss: 6920.6646\n",
            "Epoch [280], val_loss: 6916.8477\n",
            "Epoch [300], val_loss: 6901.9312\n",
            "Epoch [320], val_loss: 6904.8584\n",
            "Epoch [340], val_loss: 6896.8765\n",
            "Epoch [360], val_loss: 6897.7617\n",
            "Epoch [380], val_loss: 6893.9741\n",
            "Epoch [400], val_loss: 6895.6250\n",
            "Epoch [420], val_loss: 6886.6572\n",
            "Epoch [440], val_loss: 6886.5488\n",
            "Epoch [460], val_loss: 6878.4121\n",
            "Epoch [480], val_loss: 6879.9136\n",
            "Epoch [500], val_loss: 6876.3604\n",
            "Epoch [520], val_loss: 6878.7759\n",
            "Epoch [540], val_loss: 6872.7207\n",
            "Epoch [560], val_loss: 6876.6357\n",
            "Epoch [580], val_loss: 6864.9233\n",
            "Epoch [600], val_loss: 6872.5713\n",
            "Epoch [620], val_loss: 6864.2144\n",
            "Epoch [640], val_loss: 6869.2764\n",
            "Epoch [660], val_loss: 6865.3037\n",
            "Epoch [680], val_loss: 6858.5405\n",
            "Epoch [700], val_loss: 6857.8374\n",
            "Epoch [720], val_loss: 6853.3052\n",
            "Epoch [740], val_loss: 6849.7456\n",
            "Epoch [760], val_loss: 6845.6396\n",
            "Epoch [780], val_loss: 6848.7061\n",
            "Epoch [800], val_loss: 6842.4346\n",
            "Epoch [820], val_loss: 6849.1768\n",
            "Epoch [840], val_loss: 6845.4775\n",
            "Epoch [860], val_loss: 6838.9751\n",
            "Epoch [880], val_loss: 6846.0801\n",
            "Epoch [900], val_loss: 6840.5142\n",
            "Epoch [920], val_loss: 6840.5356\n",
            "Epoch [940], val_loss: 6833.8755\n",
            "Epoch [960], val_loss: 6836.4902\n",
            "Epoch [980], val_loss: 6831.7349\n",
            "Epoch [1000], val_loss: 6830.9009\n",
            "Epoch [1020], val_loss: 6825.0977\n",
            "Epoch [1040], val_loss: 6828.6880\n",
            "Epoch [1060], val_loss: 6826.1084\n",
            "Epoch [1080], val_loss: 6825.2593\n",
            "Epoch [1100], val_loss: 6819.7529\n",
            "Epoch [1120], val_loss: 6814.3999\n",
            "Epoch [1140], val_loss: 6820.9448\n",
            "Epoch [1160], val_loss: 6815.4570\n",
            "Epoch [1180], val_loss: 6807.2178\n",
            "Epoch [1200], val_loss: 6814.4766\n",
            "Epoch [1220], val_loss: 6812.4189\n",
            "Epoch [1240], val_loss: 6807.1680\n",
            "Epoch [1260], val_loss: 6802.8086\n",
            "Epoch [1280], val_loss: 6802.6509\n",
            "Epoch [1300], val_loss: 6796.5967\n",
            "Epoch [1320], val_loss: 6800.6328\n",
            "Epoch [1340], val_loss: 6794.7739\n",
            "Epoch [1360], val_loss: 6793.8750\n",
            "Epoch [1380], val_loss: 6797.6455\n",
            "Epoch [1400], val_loss: 6790.4160\n",
            "Epoch [1420], val_loss: 6792.5356\n",
            "Epoch [1440], val_loss: 6789.4043\n",
            "Epoch [1460], val_loss: 6789.7197\n",
            "Epoch [1480], val_loss: 6787.2637\n",
            "Epoch [1500], val_loss: 6786.1416\n"
          ],
          "name": "stdout"
        }
      ]
    },
    {
      "cell_type": "code",
      "metadata": {
        "id": "YkiMkfOBJ89a",
        "colab": {
          "base_uri": "https://localhost:8080/"
        },
        "outputId": "599987e3-7d52-4a9a-a223-a46ff6aaf564"
      },
      "source": [
        "epochs = 1500\n",
        "lr = 1e-3\n",
        "history2 = fit(epochs, lr, model, train_loader, val_loader)"
      ],
      "execution_count": 75,
      "outputs": [
        {
          "output_type": "stream",
          "text": [
            "Epoch [20], val_loss: 6786.7930\n",
            "Epoch [40], val_loss: 6786.1875\n",
            "Epoch [60], val_loss: 6786.3813\n",
            "Epoch [80], val_loss: 6785.9697\n",
            "Epoch [100], val_loss: 6785.7407\n",
            "Epoch [120], val_loss: 6785.8916\n",
            "Epoch [140], val_loss: 6785.2715\n",
            "Epoch [160], val_loss: 6785.5493\n",
            "Epoch [180], val_loss: 6785.2627\n",
            "Epoch [200], val_loss: 6785.0811\n",
            "Epoch [220], val_loss: 6785.1870\n",
            "Epoch [240], val_loss: 6784.8765\n",
            "Epoch [260], val_loss: 6784.2422\n",
            "Epoch [280], val_loss: 6784.2866\n",
            "Epoch [300], val_loss: 6784.3662\n",
            "Epoch [320], val_loss: 6784.2358\n",
            "Epoch [340], val_loss: 6783.8589\n",
            "Epoch [360], val_loss: 6783.4604\n",
            "Epoch [380], val_loss: 6783.6782\n",
            "Epoch [400], val_loss: 6783.4478\n",
            "Epoch [420], val_loss: 6783.2983\n",
            "Epoch [440], val_loss: 6783.5117\n",
            "Epoch [460], val_loss: 6782.8345\n",
            "Epoch [480], val_loss: 6782.4233\n",
            "Epoch [500], val_loss: 6782.6094\n",
            "Epoch [520], val_loss: 6782.6733\n",
            "Epoch [540], val_loss: 6781.9980\n",
            "Epoch [560], val_loss: 6781.8257\n",
            "Epoch [580], val_loss: 6781.9126\n",
            "Epoch [600], val_loss: 6781.4639\n",
            "Epoch [620], val_loss: 6781.4536\n",
            "Epoch [640], val_loss: 6781.5996\n",
            "Epoch [660], val_loss: 6780.7524\n",
            "Epoch [680], val_loss: 6781.2681\n",
            "Epoch [700], val_loss: 6780.3687\n",
            "Epoch [720], val_loss: 6780.7520\n",
            "Epoch [740], val_loss: 6780.4639\n",
            "Epoch [760], val_loss: 6779.9819\n",
            "Epoch [780], val_loss: 6780.6196\n",
            "Epoch [800], val_loss: 6779.9165\n",
            "Epoch [820], val_loss: 6779.5278\n",
            "Epoch [840], val_loss: 6779.3867\n",
            "Epoch [860], val_loss: 6779.2329\n",
            "Epoch [880], val_loss: 6778.9492\n",
            "Epoch [900], val_loss: 6779.2812\n",
            "Epoch [920], val_loss: 6778.9126\n",
            "Epoch [940], val_loss: 6778.5596\n",
            "Epoch [960], val_loss: 6778.5889\n",
            "Epoch [980], val_loss: 6778.1030\n",
            "Epoch [1000], val_loss: 6778.1099\n",
            "Epoch [1020], val_loss: 6778.0293\n",
            "Epoch [1040], val_loss: 6777.7173\n",
            "Epoch [1060], val_loss: 6777.6255\n",
            "Epoch [1080], val_loss: 6777.2090\n",
            "Epoch [1100], val_loss: 6777.1108\n",
            "Epoch [1120], val_loss: 6777.1782\n",
            "Epoch [1140], val_loss: 6776.7241\n",
            "Epoch [1160], val_loss: 6776.8027\n",
            "Epoch [1180], val_loss: 6776.6030\n",
            "Epoch [1200], val_loss: 6776.4907\n",
            "Epoch [1220], val_loss: 6775.8975\n",
            "Epoch [1240], val_loss: 6775.7539\n",
            "Epoch [1260], val_loss: 6775.8281\n",
            "Epoch [1280], val_loss: 6775.8145\n",
            "Epoch [1300], val_loss: 6775.3096\n",
            "Epoch [1320], val_loss: 6775.1143\n",
            "Epoch [1340], val_loss: 6775.1416\n",
            "Epoch [1360], val_loss: 6774.9141\n",
            "Epoch [1380], val_loss: 6775.0688\n",
            "Epoch [1400], val_loss: 6774.6611\n",
            "Epoch [1420], val_loss: 6774.5063\n",
            "Epoch [1440], val_loss: 6774.1768\n",
            "Epoch [1460], val_loss: 6773.9829\n",
            "Epoch [1480], val_loss: 6774.0269\n",
            "Epoch [1500], val_loss: 6773.6216\n"
          ],
          "name": "stdout"
        }
      ]
    },
    {
      "cell_type": "code",
      "metadata": {
        "id": "vqbpu-v7J89b",
        "colab": {
          "base_uri": "https://localhost:8080/"
        },
        "outputId": "955a725c-c342-4dc0-e3b4-a6620087ad44"
      },
      "source": [
        "epochs = 1500\n",
        "lr = 1e-4\n",
        "history3 = fit(epochs, lr, model, train_loader, val_loader)"
      ],
      "execution_count": 76,
      "outputs": [
        {
          "output_type": "stream",
          "text": [
            "Epoch [20], val_loss: 6773.6621\n",
            "Epoch [40], val_loss: 6773.6538\n",
            "Epoch [60], val_loss: 6773.6475\n",
            "Epoch [80], val_loss: 6773.6392\n",
            "Epoch [100], val_loss: 6773.6167\n",
            "Epoch [120], val_loss: 6773.6108\n",
            "Epoch [140], val_loss: 6773.5879\n",
            "Epoch [160], val_loss: 6773.5708\n",
            "Epoch [180], val_loss: 6773.5659\n",
            "Epoch [200], val_loss: 6773.5220\n",
            "Epoch [220], val_loss: 6773.5161\n",
            "Epoch [240], val_loss: 6773.4810\n",
            "Epoch [260], val_loss: 6773.4751\n",
            "Epoch [280], val_loss: 6773.4561\n",
            "Epoch [300], val_loss: 6773.4458\n",
            "Epoch [320], val_loss: 6773.4429\n",
            "Epoch [340], val_loss: 6773.4014\n",
            "Epoch [360], val_loss: 6773.3916\n",
            "Epoch [380], val_loss: 6773.3804\n",
            "Epoch [400], val_loss: 6773.3608\n",
            "Epoch [420], val_loss: 6773.3354\n",
            "Epoch [440], val_loss: 6773.3247\n",
            "Epoch [460], val_loss: 6773.3232\n",
            "Epoch [480], val_loss: 6773.2808\n",
            "Epoch [500], val_loss: 6773.2300\n",
            "Epoch [520], val_loss: 6773.2231\n",
            "Epoch [540], val_loss: 6773.2246\n",
            "Epoch [560], val_loss: 6773.2056\n",
            "Epoch [580], val_loss: 6773.1968\n",
            "Epoch [600], val_loss: 6773.1758\n",
            "Epoch [620], val_loss: 6773.1504\n",
            "Epoch [640], val_loss: 6773.1440\n",
            "Epoch [660], val_loss: 6773.1226\n",
            "Epoch [680], val_loss: 6773.0947\n",
            "Epoch [700], val_loss: 6773.0874\n",
            "Epoch [720], val_loss: 6773.0586\n",
            "Epoch [740], val_loss: 6773.0361\n",
            "Epoch [760], val_loss: 6773.0376\n",
            "Epoch [780], val_loss: 6773.0303\n",
            "Epoch [800], val_loss: 6772.9897\n",
            "Epoch [820], val_loss: 6772.9707\n",
            "Epoch [840], val_loss: 6772.9492\n",
            "Epoch [860], val_loss: 6772.9595\n",
            "Epoch [880], val_loss: 6772.9224\n",
            "Epoch [900], val_loss: 6772.9023\n",
            "Epoch [920], val_loss: 6772.8833\n",
            "Epoch [940], val_loss: 6772.8774\n",
            "Epoch [960], val_loss: 6772.8667\n",
            "Epoch [980], val_loss: 6772.8374\n",
            "Epoch [1000], val_loss: 6772.8062\n",
            "Epoch [1020], val_loss: 6772.8032\n",
            "Epoch [1040], val_loss: 6772.7837\n",
            "Epoch [1060], val_loss: 6772.7588\n",
            "Epoch [1080], val_loss: 6772.7407\n",
            "Epoch [1100], val_loss: 6772.7358\n",
            "Epoch [1120], val_loss: 6772.7124\n",
            "Epoch [1140], val_loss: 6772.6909\n",
            "Epoch [1160], val_loss: 6772.6836\n",
            "Epoch [1180], val_loss: 6772.6680\n",
            "Epoch [1200], val_loss: 6772.6074\n",
            "Epoch [1220], val_loss: 6772.6055\n",
            "Epoch [1240], val_loss: 6772.6147\n",
            "Epoch [1260], val_loss: 6772.5806\n",
            "Epoch [1280], val_loss: 6772.5508\n",
            "Epoch [1300], val_loss: 6772.5527\n",
            "Epoch [1320], val_loss: 6772.5464\n",
            "Epoch [1340], val_loss: 6772.5317\n",
            "Epoch [1360], val_loss: 6772.5142\n",
            "Epoch [1380], val_loss: 6772.4790\n",
            "Epoch [1400], val_loss: 6772.4521\n",
            "Epoch [1420], val_loss: 6772.4355\n",
            "Epoch [1440], val_loss: 6772.4312\n",
            "Epoch [1460], val_loss: 6772.3950\n",
            "Epoch [1480], val_loss: 6772.3838\n",
            "Epoch [1500], val_loss: 6772.3506\n"
          ],
          "name": "stdout"
        }
      ]
    },
    {
      "cell_type": "code",
      "metadata": {
        "id": "rkfch5NqJ89b",
        "colab": {
          "base_uri": "https://localhost:8080/"
        },
        "outputId": "5eefa91d-3264-40a8-d674-22eb17923ccd"
      },
      "source": [
        "epochs = 1500\n",
        "lr = 1e-5\n",
        "history4 = fit(epochs, lr, model, train_loader, val_loader)"
      ],
      "execution_count": 77,
      "outputs": [
        {
          "output_type": "stream",
          "text": [
            "Epoch [20], val_loss: 6772.3564\n",
            "Epoch [40], val_loss: 6772.3677\n",
            "Epoch [60], val_loss: 6772.3735\n",
            "Epoch [80], val_loss: 6772.3779\n",
            "Epoch [100], val_loss: 6772.3809\n",
            "Epoch [120], val_loss: 6772.3828\n",
            "Epoch [140], val_loss: 6772.3838\n",
            "Epoch [160], val_loss: 6772.3862\n",
            "Epoch [180], val_loss: 6772.3843\n",
            "Epoch [200], val_loss: 6772.3853\n",
            "Epoch [220], val_loss: 6772.3833\n",
            "Epoch [240], val_loss: 6772.3823\n",
            "Epoch [260], val_loss: 6772.3838\n",
            "Epoch [280], val_loss: 6772.3867\n",
            "Epoch [300], val_loss: 6772.3853\n",
            "Epoch [320], val_loss: 6772.3843\n",
            "Epoch [340], val_loss: 6772.3857\n",
            "Epoch [360], val_loss: 6772.3809\n",
            "Epoch [380], val_loss: 6772.3818\n",
            "Epoch [400], val_loss: 6772.3833\n",
            "Epoch [420], val_loss: 6772.3833\n",
            "Epoch [440], val_loss: 6772.3838\n",
            "Epoch [460], val_loss: 6772.3862\n",
            "Epoch [480], val_loss: 6772.3828\n",
            "Epoch [500], val_loss: 6772.3853\n",
            "Epoch [520], val_loss: 6772.3872\n",
            "Epoch [540], val_loss: 6772.3867\n",
            "Epoch [560], val_loss: 6772.3857\n",
            "Epoch [580], val_loss: 6772.3843\n",
            "Epoch [600], val_loss: 6772.3809\n",
            "Epoch [620], val_loss: 6772.3789\n",
            "Epoch [640], val_loss: 6772.3843\n",
            "Epoch [660], val_loss: 6772.3843\n",
            "Epoch [680], val_loss: 6772.3838\n",
            "Epoch [700], val_loss: 6772.3823\n",
            "Epoch [720], val_loss: 6772.3843\n",
            "Epoch [740], val_loss: 6772.3857\n",
            "Epoch [760], val_loss: 6772.3828\n",
            "Epoch [780], val_loss: 6772.3857\n",
            "Epoch [800], val_loss: 6772.3857\n",
            "Epoch [820], val_loss: 6772.3848\n",
            "Epoch [840], val_loss: 6772.3843\n",
            "Epoch [860], val_loss: 6772.3853\n",
            "Epoch [880], val_loss: 6772.3843\n",
            "Epoch [900], val_loss: 6772.3838\n",
            "Epoch [920], val_loss: 6772.3848\n",
            "Epoch [940], val_loss: 6772.3843\n",
            "Epoch [960], val_loss: 6772.3843\n",
            "Epoch [980], val_loss: 6772.3823\n",
            "Epoch [1000], val_loss: 6772.3799\n",
            "Epoch [1020], val_loss: 6772.3813\n",
            "Epoch [1040], val_loss: 6772.3804\n",
            "Epoch [1060], val_loss: 6772.3789\n",
            "Epoch [1080], val_loss: 6772.3799\n",
            "Epoch [1100], val_loss: 6772.3804\n",
            "Epoch [1120], val_loss: 6772.3828\n",
            "Epoch [1140], val_loss: 6772.3823\n",
            "Epoch [1160], val_loss: 6772.3838\n",
            "Epoch [1180], val_loss: 6772.3857\n",
            "Epoch [1200], val_loss: 6772.3848\n",
            "Epoch [1220], val_loss: 6772.3833\n",
            "Epoch [1240], val_loss: 6772.3843\n",
            "Epoch [1260], val_loss: 6772.3843\n",
            "Epoch [1280], val_loss: 6772.3818\n",
            "Epoch [1300], val_loss: 6772.3818\n",
            "Epoch [1320], val_loss: 6772.3809\n",
            "Epoch [1340], val_loss: 6772.3853\n",
            "Epoch [1360], val_loss: 6772.3843\n",
            "Epoch [1380], val_loss: 6772.3823\n",
            "Epoch [1400], val_loss: 6772.3838\n",
            "Epoch [1420], val_loss: 6772.3823\n",
            "Epoch [1440], val_loss: 6772.3813\n",
            "Epoch [1460], val_loss: 6772.3843\n",
            "Epoch [1480], val_loss: 6772.3809\n",
            "Epoch [1500], val_loss: 6772.3794\n"
          ],
          "name": "stdout"
        }
      ]
    },
    {
      "cell_type": "code",
      "metadata": {
        "id": "cYaLmfvZJ89b",
        "colab": {
          "base_uri": "https://localhost:8080/"
        },
        "outputId": "f0eb88f8-e397-4b0d-9ce7-4f083db42060"
      },
      "source": [
        "epochs = 1500\n",
        "lr = 1e-6\n",
        "history5 = fit(epochs, lr, model, train_loader, val_loader)"
      ],
      "execution_count": 78,
      "outputs": [
        {
          "output_type": "stream",
          "text": [
            "Epoch [20], val_loss: 6772.3823\n",
            "Epoch [40], val_loss: 6772.3838\n",
            "Epoch [60], val_loss: 6772.3838\n",
            "Epoch [80], val_loss: 6772.3857\n",
            "Epoch [100], val_loss: 6772.3843\n",
            "Epoch [120], val_loss: 6772.3833\n",
            "Epoch [140], val_loss: 6772.3843\n",
            "Epoch [160], val_loss: 6772.3867\n",
            "Epoch [180], val_loss: 6772.3911\n",
            "Epoch [200], val_loss: 6772.3896\n",
            "Epoch [220], val_loss: 6772.3882\n",
            "Epoch [240], val_loss: 6772.3887\n",
            "Epoch [260], val_loss: 6772.3867\n",
            "Epoch [280], val_loss: 6772.3892\n",
            "Epoch [300], val_loss: 6772.3921\n",
            "Epoch [320], val_loss: 6772.3931\n",
            "Epoch [340], val_loss: 6772.3936\n",
            "Epoch [360], val_loss: 6772.3940\n",
            "Epoch [380], val_loss: 6772.3965\n",
            "Epoch [400], val_loss: 6772.3975\n",
            "Epoch [420], val_loss: 6772.3975\n",
            "Epoch [440], val_loss: 6772.3979\n",
            "Epoch [460], val_loss: 6772.3984\n",
            "Epoch [480], val_loss: 6772.4004\n",
            "Epoch [500], val_loss: 6772.4023\n",
            "Epoch [520], val_loss: 6772.4009\n",
            "Epoch [540], val_loss: 6772.3970\n",
            "Epoch [560], val_loss: 6772.3984\n",
            "Epoch [580], val_loss: 6772.3984\n",
            "Epoch [600], val_loss: 6772.3999\n",
            "Epoch [620], val_loss: 6772.4019\n",
            "Epoch [640], val_loss: 6772.4043\n",
            "Epoch [660], val_loss: 6772.4048\n",
            "Epoch [680], val_loss: 6772.4058\n",
            "Epoch [700], val_loss: 6772.4048\n",
            "Epoch [720], val_loss: 6772.4092\n",
            "Epoch [740], val_loss: 6772.4150\n",
            "Epoch [760], val_loss: 6772.4165\n",
            "Epoch [780], val_loss: 6772.4180\n",
            "Epoch [800], val_loss: 6772.4194\n",
            "Epoch [820], val_loss: 6772.4185\n",
            "Epoch [840], val_loss: 6772.4224\n",
            "Epoch [860], val_loss: 6772.4238\n",
            "Epoch [880], val_loss: 6772.4219\n",
            "Epoch [900], val_loss: 6772.4233\n",
            "Epoch [920], val_loss: 6772.4229\n",
            "Epoch [940], val_loss: 6772.4233\n",
            "Epoch [960], val_loss: 6772.4238\n",
            "Epoch [980], val_loss: 6772.4209\n",
            "Epoch [1000], val_loss: 6772.4204\n",
            "Epoch [1020], val_loss: 6772.4204\n",
            "Epoch [1040], val_loss: 6772.4194\n",
            "Epoch [1060], val_loss: 6772.4204\n",
            "Epoch [1080], val_loss: 6772.4214\n",
            "Epoch [1100], val_loss: 6772.4209\n",
            "Epoch [1120], val_loss: 6772.4214\n",
            "Epoch [1140], val_loss: 6772.4219\n",
            "Epoch [1160], val_loss: 6772.4219\n",
            "Epoch [1180], val_loss: 6772.4204\n",
            "Epoch [1200], val_loss: 6772.4209\n",
            "Epoch [1220], val_loss: 6772.4219\n",
            "Epoch [1240], val_loss: 6772.4185\n",
            "Epoch [1260], val_loss: 6772.4224\n",
            "Epoch [1280], val_loss: 6772.4204\n",
            "Epoch [1300], val_loss: 6772.4214\n",
            "Epoch [1320], val_loss: 6772.4224\n",
            "Epoch [1340], val_loss: 6772.4219\n",
            "Epoch [1360], val_loss: 6772.4204\n",
            "Epoch [1380], val_loss: 6772.4238\n",
            "Epoch [1400], val_loss: 6772.4258\n",
            "Epoch [1420], val_loss: 6772.4258\n",
            "Epoch [1440], val_loss: 6772.4248\n",
            "Epoch [1460], val_loss: 6772.4277\n",
            "Epoch [1480], val_loss: 6772.4233\n",
            "Epoch [1500], val_loss: 6772.4282\n"
          ],
          "name": "stdout"
        }
      ]
    },
    {
      "cell_type": "markdown",
      "metadata": {
        "id": "VvLDO1VPJ89b"
      },
      "source": [
        "**Q: What is the final validation loss of your model?**"
      ]
    },
    {
      "cell_type": "code",
      "metadata": {
        "id": "3UKA0nVFJ89c"
      },
      "source": [
        "val_loss = 6772.4282"
      ],
      "execution_count": 79,
      "outputs": []
    },
    {
      "cell_type": "markdown",
      "metadata": {
        "id": "5OlXo5WZJ89c"
      },
      "source": [
        "Let's log the final validation loss to Jovian and commit the notebook"
      ]
    },
    {
      "cell_type": "code",
      "metadata": {
        "id": "hn8MCZqoJ89c",
        "colab": {
          "base_uri": "https://localhost:8080/"
        },
        "outputId": "61e29ac6-368a-45c1-abfb-c32f935f7eef"
      },
      "source": [
        "jovian.log_metrics(val_loss=val_loss)"
      ],
      "execution_count": 80,
      "outputs": [
        {
          "output_type": "stream",
          "text": [
            "[jovian] Metrics logged.\u001b[0m\n"
          ],
          "name": "stdout"
        }
      ]
    },
    {
      "cell_type": "code",
      "metadata": {
        "id": "dkOgqcayJ89c",
        "colab": {
          "base_uri": "https://localhost:8080/",
          "height": 123
        },
        "outputId": "e7c9d734-69e0-4f0f-f381-91e95a0d54a3"
      },
      "source": [
        "jovian.commit(project=project_name, environment=None)"
      ],
      "execution_count": 81,
      "outputs": [
        {
          "output_type": "stream",
          "text": [
            "[jovian] Detected Colab notebook...\u001b[0m\n",
            "[jovian] Uploading colab notebook to Jovian...\u001b[0m\n",
            "[jovian] Attaching records (metrics, hyperparameters, dataset etc.)\u001b[0m\n",
            "[jovian] Committed successfully! https://jovian.ai/monika171/02-insurance-linear-regression-monika171\u001b[0m\n"
          ],
          "name": "stdout"
        },
        {
          "output_type": "execute_result",
          "data": {
            "application/vnd.google.colaboratory.intrinsic+json": {
              "type": "string"
            },
            "text/plain": [
              "'https://jovian.ai/monika171/02-insurance-linear-regression-monika171'"
            ]
          },
          "metadata": {
            "tags": []
          },
          "execution_count": 81
        }
      ]
    },
    {
      "cell_type": "markdown",
      "metadata": {
        "id": "Q0Xf7BTEJ89d"
      },
      "source": [
        "Now scroll back up, re-initialize the model, and try different set of values for batch size, number of epochs, learning rate etc. Commit each experiment and use the \"Compare\" and \"View Diff\" options on Jovian to compare the different results."
      ]
    },
    {
      "cell_type": "markdown",
      "metadata": {
        "id": "nGf937nWJ89d"
      },
      "source": [
        "## Step 5: Make predictions using the trained model\n",
        "\n",
        "**Q: Complete the following function definition to make predictions on a single input**"
      ]
    },
    {
      "cell_type": "code",
      "metadata": {
        "id": "Hrtjc7zGJ89d"
      },
      "source": [
        "def predict_single(input, target, model):\n",
        "    inputs = input.unsqueeze(0)\n",
        "    predictions = model(input)                # fill this\n",
        "    prediction = predictions[0].detach()\n",
        "    print(\"Input:\", input)\n",
        "    print(\"Target:\", target)\n",
        "    print(\"Prediction:\", prediction)"
      ],
      "execution_count": 82,
      "outputs": []
    },
    {
      "cell_type": "code",
      "metadata": {
        "id": "jdQ6kQ3sJ89e",
        "colab": {
          "base_uri": "https://localhost:8080/"
        },
        "outputId": "1a3ac77f-88b5-4db8-fa35-dc49cd02b248"
      },
      "source": [
        "input, target = val_ds[0]\n",
        "predict_single(input, target, model)"
      ],
      "execution_count": 83,
      "outputs": [
        {
          "output_type": "stream",
          "text": [
            "Input: tensor([47.0000,  0.0000, 26.1960,  1.0000,  0.0000])\n",
            "Target: tensor([9393.6377])\n",
            "Prediction: tensor(11142.8604)\n"
          ],
          "name": "stdout"
        }
      ]
    },
    {
      "cell_type": "code",
      "metadata": {
        "id": "YDzXRCpIJ89e",
        "colab": {
          "base_uri": "https://localhost:8080/"
        },
        "outputId": "57fa942c-3bcb-4f02-c9ba-b29ea95c5521"
      },
      "source": [
        "input, target = val_ds[10]\n",
        "predict_single(input, target, model)"
      ],
      "execution_count": 84,
      "outputs": [
        {
          "output_type": "stream",
          "text": [
            "Input: tensor([32.0000,  0.0000, 26.2515,  1.0000,  0.0000])\n",
            "Target: tensor([19388.8633])\n",
            "Prediction: tensor(6944.7847)\n"
          ],
          "name": "stdout"
        }
      ]
    },
    {
      "cell_type": "code",
      "metadata": {
        "id": "d2S-N86aJ89e",
        "colab": {
          "base_uri": "https://localhost:8080/"
        },
        "outputId": "5e0ecdab-482e-4c7e-fc95-d16fcbde0e73"
      },
      "source": [
        "input, target = val_ds[23]\n",
        "predict_single(input, target, model)"
      ],
      "execution_count": 85,
      "outputs": [
        {
          "output_type": "stream",
          "text": [
            "Input: tensor([20.0000,  0.0000, 35.4312,  0.0000,  0.0000])\n",
            "Target: tensor([2487.7256])\n",
            "Prediction: tensor(2467.2742)\n"
          ],
          "name": "stdout"
        }
      ]
    },
    {
      "cell_type": "markdown",
      "metadata": {
        "id": "3MHKEw40J89f"
      },
      "source": [
        "Are you happy with your model's predictions? Try to improve them further."
      ]
    },
    {
      "cell_type": "markdown",
      "metadata": {
        "id": "i6Y7bWpYJ89f"
      },
      "source": [
        "## (Optional) Step 6: Try another dataset & blog about it\n",
        "\n",
        "While this last step is optional for the submission of your assignment, we highly recommend that you do it. Try to replicate this notebook for a different linear regression or logistic regression problem. This will help solidify your understanding, and give you a chance to differentiate the generic patterns in machine learning from problem-specific details.You can use one of these starer notebooks (just change the dataset):\n",
        "\n",
        "- Linear regression (minimal): https://jovian.ai/aakashns/housing-linear-minimal\n",
        "- Logistic regression (minimal): https://jovian.ai/aakashns/mnist-logistic-minimal\n",
        "\n",
        "Here are some sources to find good datasets:\n",
        "\n",
        "- https://lionbridge.ai/datasets/10-open-datasets-for-linear-regression/\n",
        "- https://www.kaggle.com/rtatman/datasets-for-regression-analysis\n",
        "- https://archive.ics.uci.edu/ml/datasets.php?format=&task=reg&att=&area=&numAtt=&numIns=&type=&sort=nameUp&view=table\n",
        "- https://people.sc.fsu.edu/~jburkardt/datasets/regression/regression.html\n",
        "- https://archive.ics.uci.edu/ml/datasets/wine+quality\n",
        "- https://pytorch.org/docs/stable/torchvision/datasets.html\n",
        "\n",
        "We also recommend that you write a blog about your approach to the problem. Here is a suggested structure for your post (feel free to experiment with it):\n",
        "\n",
        "- Interesting title & subtitle\n",
        "- Overview of what the blog covers (which dataset, linear regression or logistic regression, intro to PyTorch)\n",
        "- Downloading & exploring the data\n",
        "- Preparing the data for training\n",
        "- Creating a model using PyTorch\n",
        "- Training the model to fit the data\n",
        "- Your thoughts on how to experiment with different hyperparmeters to reduce loss\n",
        "- Making predictions using the model\n",
        "\n",
        "As with the previous assignment, you can [embed Juptyer notebook cells & outputs from Jovian](https://medium.com/jovianml/share-and-embed-jupyter-notebooks-online-with-jovian-ml-df709a03064e) into your blog. \n",
        "\n",
        "Don't forget to share your work on the forum: https://jovian.ai/forum/t/linear-regression-and-logistic-regression-notebooks-and-blog-posts/14039"
      ]
    },
    {
      "cell_type": "code",
      "metadata": {
        "id": "2TuhrRFaJ89f",
        "colab": {
          "base_uri": "https://localhost:8080/",
          "height": 103
        },
        "outputId": "83e950cf-b8be-4c34-a580-a524fdb1922d"
      },
      "source": [
        "jovian.commit(project=project_name, environment=None)\n",
        "# jovian.commit(project=project_name, environment=None) # try again, kaggle fails sometimes"
      ],
      "execution_count": 86,
      "outputs": [
        {
          "output_type": "stream",
          "text": [
            "[jovian] Detected Colab notebook...\u001b[0m\n",
            "[jovian] Uploading colab notebook to Jovian...\u001b[0m\n",
            "[jovian] Attaching records (metrics, hyperparameters, dataset etc.)\u001b[0m\n",
            "[jovian] Committed successfully! https://jovian.ai/monika171/02-insurance-linear-regression-monika171\u001b[0m\n"
          ],
          "name": "stdout"
        },
        {
          "output_type": "execute_result",
          "data": {
            "application/vnd.google.colaboratory.intrinsic+json": {
              "type": "string"
            },
            "text/plain": [
              "'https://jovian.ai/monika171/02-insurance-linear-regression-monika171'"
            ]
          },
          "metadata": {
            "tags": []
          },
          "execution_count": 86
        }
      ]
    },
    {
      "cell_type": "code",
      "metadata": {
        "id": "wxVL4Pe9J89g"
      },
      "source": [
        ""
      ],
      "execution_count": null,
      "outputs": []
    }
  ]
}