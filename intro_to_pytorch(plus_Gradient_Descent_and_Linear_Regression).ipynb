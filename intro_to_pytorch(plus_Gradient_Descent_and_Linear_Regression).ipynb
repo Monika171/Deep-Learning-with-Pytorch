{
  "nbformat": 4,
  "nbformat_minor": 0,
  "metadata": {
    "colab": {
      "name": "intro-to-pytorch(plus Gradient Descent and Linear Regression).ipynb",
      "provenance": [],
      "collapsed_sections": [],
      "include_colab_link": true
    },
    "kernelspec": {
      "display_name": "Python 3",
      "language": "python",
      "name": "python3"
    },
    "language_info": {
      "codemirror_mode": {
        "name": "ipython",
        "version": 3
      },
      "file_extension": ".py",
      "mimetype": "text/x-python",
      "name": "python",
      "nbconvert_exporter": "python",
      "pygments_lexer": "ipython3",
      "version": "3.7.6"
    }
  },
  "cells": [
    {
      "cell_type": "markdown",
      "metadata": {
        "id": "view-in-github",
        "colab_type": "text"
      },
      "source": [
        "<a href=\"https://colab.research.google.com/github/Monika171/Deep-Learning-with-Pytorch/blob/main/intro_to_pytorch(plus_Gradient_Descent_and_Linear_Regression).ipynb\" target=\"_parent\"><img src=\"https://colab.research.google.com/assets/colab-badge.svg\" alt=\"Open In Colab\"/></a>"
      ]
    },
    {
      "cell_type": "code",
      "metadata": {
        "id": "DWSvHq_3Qiq9"
      },
      "source": [
        "# Jovian Commit Essentials\n",
        "# Please retain and execute this cell without modifying the contents for `jovian.commit` to work\n",
        "!pip install jovian --upgrade -q\n",
        "import jovian\n",
        "jovian.utils.colab.set_colab_file_id('1sJfUmMfx-lt8o_uuG63BiapOV-hiBKE7')"
      ],
      "execution_count": 113,
      "outputs": []
    },
    {
      "cell_type": "markdown",
      "metadata": {
        "id": "DKoz3ihGk1zT"
      },
      "source": [
        "# Pytorch Basics: Tensors & Gradients"
      ]
    },
    {
      "cell_type": "code",
      "metadata": {
        "id": "brGin1-nkYOK"
      },
      "source": [
        "!pip install jovian --upgrade --quiet"
      ],
      "execution_count": 114,
      "outputs": []
    },
    {
      "cell_type": "code",
      "metadata": {
        "id": "17h3-lr2kYOK"
      },
      "source": [
        "import jovian"
      ],
      "execution_count": 115,
      "outputs": []
    },
    {
      "cell_type": "code",
      "metadata": {
        "colab": {
          "base_uri": "https://localhost:8080/",
          "height": 103
        },
        "id": "LtWTT4TAkrl_",
        "outputId": "0837243e-4271-411d-d586-fc3e6aff3dd1"
      },
      "source": [
        "jovian.commit(project='pytorch-basics-dummy')"
      ],
      "execution_count": 116,
      "outputs": [
        {
          "output_type": "stream",
          "text": [
            "[jovian] Detected Colab notebook...\u001b[0m\n",
            "[jovian] Uploading colab notebook to Jovian...\u001b[0m\n",
            "[jovian] Capturing environment..\u001b[0m\n",
            "[jovian] Committed successfully! https://jovian.ai/monika171/pytorch-basics-dummy\u001b[0m\n"
          ],
          "name": "stdout"
        },
        {
          "output_type": "execute_result",
          "data": {
            "application/vnd.google.colaboratory.intrinsic+json": {
              "type": "string"
            },
            "text/plain": [
              "'https://jovian.ai/monika171/pytorch-basics-dummy'"
            ]
          },
          "metadata": {
            "tags": []
          },
          "execution_count": 116
        }
      ]
    },
    {
      "cell_type": "markdown",
      "metadata": {
        "id": "zZ5U7g6BksZA"
      },
      "source": [
        "import the torch module to get started."
      ]
    },
    {
      "cell_type": "code",
      "metadata": {
        "id": "HgeNr05ng0di"
      },
      "source": [
        "import torch"
      ],
      "execution_count": 117,
      "outputs": []
    },
    {
      "cell_type": "markdown",
      "metadata": {
        "id": "iYvD2JpHkuI7"
      },
      "source": [
        "# Tensors\n",
        "At its core, PyTorch is a library for processing tensors. A tensor is a number, vector, matrix, or any n-dimensional array. Let's create a tensor with a single number."
      ]
    },
    {
      "cell_type": "code",
      "metadata": {
        "colab": {
          "base_uri": "https://localhost:8080/"
        },
        "id": "ZajpyD9Mg1zw",
        "outputId": "cf71a6df-3a02-4a2d-f160-e98b4f49dacf"
      },
      "source": [
        "# Number\n",
        "t1 = torch.tensor(4.)\n",
        "t1"
      ],
      "execution_count": 118,
      "outputs": [
        {
          "output_type": "execute_result",
          "data": {
            "text/plain": [
              "tensor(4.)"
            ]
          },
          "metadata": {
            "tags": []
          },
          "execution_count": 118
        }
      ]
    },
    {
      "cell_type": "code",
      "metadata": {
        "colab": {
          "base_uri": "https://localhost:8080/"
        },
        "id": "wFxAgKmrg2Xw",
        "outputId": "0b0edf58-0686-462c-ed71-d73d2ae189c6"
      },
      "source": [
        "t1.dtype"
      ],
      "execution_count": 119,
      "outputs": [
        {
          "output_type": "execute_result",
          "data": {
            "text/plain": [
              "torch.float32"
            ]
          },
          "metadata": {
            "tags": []
          },
          "execution_count": 119
        }
      ]
    },
    {
      "cell_type": "code",
      "metadata": {
        "colab": {
          "base_uri": "https://localhost:8080/"
        },
        "id": "3JOcvB5tg2hS",
        "outputId": "fae87c64-faf4-48b6-80f2-b4b54e8f974d"
      },
      "source": [
        "# Vector\n",
        "t2 = torch.tensor([1., 2,3,4])\n",
        "t2"
      ],
      "execution_count": 120,
      "outputs": [
        {
          "output_type": "execute_result",
          "data": {
            "text/plain": [
              "tensor([1., 2., 3., 4.])"
            ]
          },
          "metadata": {
            "tags": []
          },
          "execution_count": 120
        }
      ]
    },
    {
      "cell_type": "code",
      "metadata": {
        "colab": {
          "base_uri": "https://localhost:8080/"
        },
        "id": "Byio1bpel8Fb",
        "outputId": "c606326f-8d7f-4488-d788-f1a18be2e200"
      },
      "source": [
        "t2.dtype"
      ],
      "execution_count": 121,
      "outputs": [
        {
          "output_type": "execute_result",
          "data": {
            "text/plain": [
              "torch.float32"
            ]
          },
          "metadata": {
            "tags": []
          },
          "execution_count": 121
        }
      ]
    },
    {
      "cell_type": "code",
      "metadata": {
        "colab": {
          "base_uri": "https://localhost:8080/"
        },
        "id": "D91puJAnhNm4",
        "outputId": "09022db9-8714-4c14-a8fb-ee1284f3a6f8"
      },
      "source": [
        "# Matrix\n",
        "t3 = torch.tensor([[5.,6],\n",
        "                   [7,8],\n",
        "                   [9,10]])\n",
        "t3"
      ],
      "execution_count": 122,
      "outputs": [
        {
          "output_type": "execute_result",
          "data": {
            "text/plain": [
              "tensor([[ 5.,  6.],\n",
              "        [ 7.,  8.],\n",
              "        [ 9., 10.]])"
            ]
          },
          "metadata": {
            "tags": []
          },
          "execution_count": 122
        }
      ]
    },
    {
      "cell_type": "code",
      "metadata": {
        "colab": {
          "base_uri": "https://localhost:8080/"
        },
        "id": "UJFuY4nThNu2",
        "outputId": "6d1af7b4-e449-4e25-84fd-4db78c04a2ac"
      },
      "source": [
        "# 3-dimentional array\n",
        "t4 = torch.tensor([\n",
        "                   [[11,12,13], [13,14,15]],\n",
        "                   [[15,16,17],[17,18,19.]]\n",
        "])\n",
        "t4"
      ],
      "execution_count": 123,
      "outputs": [
        {
          "output_type": "execute_result",
          "data": {
            "text/plain": [
              "tensor([[[11., 12., 13.],\n",
              "         [13., 14., 15.]],\n",
              "\n",
              "        [[15., 16., 17.],\n",
              "         [17., 18., 19.]]])"
            ]
          },
          "metadata": {
            "tags": []
          },
          "execution_count": 123
        }
      ]
    },
    {
      "cell_type": "code",
      "metadata": {
        "colab": {
          "base_uri": "https://localhost:8080/"
        },
        "id": "r3-xBrKZhNyK",
        "outputId": "e6b1f950-be5d-459e-82ed-9acd9b9e4073"
      },
      "source": [
        "print(t1)\n",
        "t1.shape"
      ],
      "execution_count": 124,
      "outputs": [
        {
          "output_type": "stream",
          "text": [
            "tensor(4.)\n"
          ],
          "name": "stdout"
        },
        {
          "output_type": "execute_result",
          "data": {
            "text/plain": [
              "torch.Size([])"
            ]
          },
          "metadata": {
            "tags": []
          },
          "execution_count": 124
        }
      ]
    },
    {
      "cell_type": "code",
      "metadata": {
        "colab": {
          "base_uri": "https://localhost:8080/"
        },
        "id": "tRzYU86ehN1P",
        "outputId": "bb44b6b8-c036-47de-eda8-faef3251d547"
      },
      "source": [
        "print(t2)\n",
        "t2.shape"
      ],
      "execution_count": 125,
      "outputs": [
        {
          "output_type": "stream",
          "text": [
            "tensor([1., 2., 3., 4.])\n"
          ],
          "name": "stdout"
        },
        {
          "output_type": "execute_result",
          "data": {
            "text/plain": [
              "torch.Size([4])"
            ]
          },
          "metadata": {
            "tags": []
          },
          "execution_count": 125
        }
      ]
    },
    {
      "cell_type": "code",
      "metadata": {
        "colab": {
          "base_uri": "https://localhost:8080/"
        },
        "id": "AUkOhkiLhN4e",
        "outputId": "9cc0eaa0-7d2a-4304-e3d1-fec5cc320916"
      },
      "source": [
        "print(t3)\n",
        "t3.shape"
      ],
      "execution_count": 126,
      "outputs": [
        {
          "output_type": "stream",
          "text": [
            "tensor([[ 5.,  6.],\n",
            "        [ 7.,  8.],\n",
            "        [ 9., 10.]])\n"
          ],
          "name": "stdout"
        },
        {
          "output_type": "execute_result",
          "data": {
            "text/plain": [
              "torch.Size([3, 2])"
            ]
          },
          "metadata": {
            "tags": []
          },
          "execution_count": 126
        }
      ]
    },
    {
      "cell_type": "code",
      "metadata": {
        "colab": {
          "base_uri": "https://localhost:8080/"
        },
        "id": "LOeVRBgDhN7l",
        "outputId": "888eca04-5ec3-43b8-e5ca-4d3a5261f371"
      },
      "source": [
        "print(t4)\n",
        "t4.shape"
      ],
      "execution_count": 127,
      "outputs": [
        {
          "output_type": "stream",
          "text": [
            "tensor([[[11., 12., 13.],\n",
            "         [13., 14., 15.]],\n",
            "\n",
            "        [[15., 16., 17.],\n",
            "         [17., 18., 19.]]])\n"
          ],
          "name": "stdout"
        },
        {
          "output_type": "execute_result",
          "data": {
            "text/plain": [
              "torch.Size([2, 2, 3])"
            ]
          },
          "metadata": {
            "tags": []
          },
          "execution_count": 127
        }
      ]
    },
    {
      "cell_type": "code",
      "metadata": {
        "id": "ldRZ-NbohOAK"
      },
      "source": [
        "# Note that it's not possible to create tensors with an improper shape.\n",
        "# Matrix\n",
        "# t5 = torch.tensor([[5.,6,11],\n",
        "#                    [7,8],\n",
        "#                    [9,10]])\n",
        "# t5"
      ],
      "execution_count": 128,
      "outputs": []
    },
    {
      "cell_type": "markdown",
      "metadata": {
        "id": "i1EkRXzRpVkW"
      },
      "source": [
        "A ValueError is thrown because the lengths of the rows [5., 6, 11] and [7, 8] don't match.\n",
        "\n"
      ]
    },
    {
      "cell_type": "markdown",
      "metadata": {
        "id": "zOywVQz_plpa"
      },
      "source": [
        "## Tensor operations and gradients\n",
        "\n",
        "We can combine tensors with the usual arithmetic operations. Let's look at an example:"
      ]
    },
    {
      "cell_type": "code",
      "metadata": {
        "colab": {
          "base_uri": "https://localhost:8080/"
        },
        "id": "v3jy4ApMhODj",
        "outputId": "54fc47a6-590e-4283-e079-cb7a02936005"
      },
      "source": [
        "# Create tensors\n",
        "\n",
        "x = torch.tensor(3.)\n",
        "w = torch.tensor(4., requires_grad = True)\n",
        "b = torch.tensor(5., requires_grad=True)\n",
        "x, w, b"
      ],
      "execution_count": 129,
      "outputs": [
        {
          "output_type": "execute_result",
          "data": {
            "text/plain": [
              "(tensor(3.), tensor(4., requires_grad=True), tensor(5., requires_grad=True))"
            ]
          },
          "metadata": {
            "tags": []
          },
          "execution_count": 129
        }
      ]
    },
    {
      "cell_type": "markdown",
      "metadata": {
        "id": "Jq4wtNh-qe43"
      },
      "source": [
        "We've created three tensors: x, w, and b, all numbers. w and b have an additional parameter requires_grad set to True. <br>\n",
        "Let's create a new tensor y by combining these tensors."
      ]
    },
    {
      "cell_type": "code",
      "metadata": {
        "id": "pKT5_yxghOGH",
        "colab": {
          "base_uri": "https://localhost:8080/"
        },
        "outputId": "d79266e3-e8c0-4e62-e315-89ffdb868a47"
      },
      "source": [
        "y = w * x + b\n",
        "y\n",
        "\n",
        "\n",
        "# dy/dw\n",
        "x + 0\n",
        "# dy/dx ####\n",
        "w + 0\n",
        "# dy/db\n",
        "1\n",
        "\n"
      ],
      "execution_count": 130,
      "outputs": [
        {
          "output_type": "execute_result",
          "data": {
            "text/plain": [
              "1"
            ]
          },
          "metadata": {
            "tags": []
          },
          "execution_count": 130
        }
      ]
    },
    {
      "cell_type": "markdown",
      "metadata": {
        "id": "U_U4CEozzsMK"
      },
      "source": [
        "As expected, y is a tensor with the value 3 * 4 + 5 = 17. What makes PyTorch unique is that we can automatically compute the derivative of y w.r.t. the tensors that have requires_grad set to True i.e. w and b. This feature of PyTorch is called autograd (automatic gradients).\n",
        "<br>\n",
        "\n",
        "To compute the derivatives, we can invoke the .backward method on our result y."
      ]
    },
    {
      "cell_type": "code",
      "metadata": {
        "id": "Ibwi2NlrhOJU"
      },
      "source": [
        "#  Compute derivatives\n",
        "y.backward()"
      ],
      "execution_count": 131,
      "outputs": []
    },
    {
      "cell_type": "markdown",
      "metadata": {
        "id": "qhy90ilW2XXT"
      },
      "source": [
        "The derivatives of y w.r.t the input tensors are stored in the .grad property of the respective tensors."
      ]
    },
    {
      "cell_type": "code",
      "metadata": {
        "id": "DQl_hW4DhOOj",
        "colab": {
          "base_uri": "https://localhost:8080/"
        },
        "outputId": "8c128074-86c1-4d89-cc75-1217131e4f3f"
      },
      "source": [
        "# Display gradients\n",
        "print('dy/dx:', x.grad)\n",
        "print('dy/dw:', w.grad)\n",
        "print('dy/db', b.grad)"
      ],
      "execution_count": 132,
      "outputs": [
        {
          "output_type": "stream",
          "text": [
            "dy/dx: None\n",
            "dy/dw: tensor(3.)\n",
            "dy/db tensor(1.)\n"
          ],
          "name": "stdout"
        }
      ]
    },
    {
      "cell_type": "markdown",
      "metadata": {
        "id": "mVC6uj0C3H2z"
      },
      "source": [
        "As expected, dy/dw has the same value as x, i.e., 3, and dy/db has the value 1. Note that x.grad is None because x doesn't have requires_grad set to True.\n",
        "<br>\n",
        "The \"grad\" in w.grad is short for gradient, which is another term for derivative. The term gradient is primarily used while dealing with vectors and matrices.\n",
        "<br>\n",
        "WE ARE NOT INTERESTED IN FUTURE OUTPUTS RELATED TO x , BUT WE ARE INTERESTED IN FUTURE OUTPUTS RELATED TO w and b. WOULD NOT WANT TO DO USELESS OPERATIONS"
      ]
    },
    {
      "cell_type": "markdown",
      "metadata": {
        "id": "uXSeroqp3MaN"
      },
      "source": [
        "## Tensor functions\n",
        "Apart from arithmetic operations, the torch module also contains many functions for creating and manipulating tensors. Let's look at some examples."
      ]
    },
    {
      "cell_type": "code",
      "metadata": {
        "id": "Cxg-KxSxhOUC",
        "colab": {
          "base_uri": "https://localhost:8080/"
        },
        "outputId": "9e74f15c-2347-43ac-d336-04c1a47a2001"
      },
      "source": [
        "# Create a tensor with a fixed value for every element\n",
        "t6 = torch.full((3,2), 42)\n",
        "t6"
      ],
      "execution_count": 133,
      "outputs": [
        {
          "output_type": "execute_result",
          "data": {
            "text/plain": [
              "tensor([[42, 42],\n",
              "        [42, 42],\n",
              "        [42, 42]])"
            ]
          },
          "metadata": {
            "tags": []
          },
          "execution_count": 133
        }
      ]
    },
    {
      "cell_type": "code",
      "metadata": {
        "colab": {
          "base_uri": "https://localhost:8080/"
        },
        "id": "eYyn4t7j4gXX",
        "outputId": "765aa7c5-f978-4074-b43a-10b3ef3d4b07"
      },
      "source": [
        "t3, t6"
      ],
      "execution_count": 134,
      "outputs": [
        {
          "output_type": "execute_result",
          "data": {
            "text/plain": [
              "(tensor([[ 5.,  6.],\n",
              "         [ 7.,  8.],\n",
              "         [ 9., 10.]]), tensor([[42, 42],\n",
              "         [42, 42],\n",
              "         [42, 42]]))"
            ]
          },
          "metadata": {
            "tags": []
          },
          "execution_count": 134
        }
      ]
    },
    {
      "cell_type": "code",
      "metadata": {
        "id": "Da0JThK5hOXo",
        "colab": {
          "base_uri": "https://localhost:8080/"
        },
        "outputId": "69bc5316-9f26-45ca-c66b-f33b1416b1d3"
      },
      "source": [
        "# Concatenate two tensors with compatible shapes\n",
        "t7 = torch.cat((t3, t6))\n",
        "t7"
      ],
      "execution_count": 135,
      "outputs": [
        {
          "output_type": "execute_result",
          "data": {
            "text/plain": [
              "tensor([[ 5.,  6.],\n",
              "        [ 7.,  8.],\n",
              "        [ 9., 10.],\n",
              "        [42., 42.],\n",
              "        [42., 42.],\n",
              "        [42., 42.]])"
            ]
          },
          "metadata": {
            "tags": []
          },
          "execution_count": 135
        }
      ]
    },
    {
      "cell_type": "code",
      "metadata": {
        "id": "u4oS25-ohOcH",
        "colab": {
          "base_uri": "https://localhost:8080/"
        },
        "outputId": "c2b68d14-dd14-438a-cc1a-a497ff93d1a8"
      },
      "source": [
        "# Compute the sin of each element\n",
        "t8 = torch.sin(t7)\n",
        "t8"
      ],
      "execution_count": 136,
      "outputs": [
        {
          "output_type": "execute_result",
          "data": {
            "text/plain": [
              "tensor([[-0.9589, -0.2794],\n",
              "        [ 0.6570,  0.9894],\n",
              "        [ 0.4121, -0.5440],\n",
              "        [-0.9165, -0.9165],\n",
              "        [-0.9165, -0.9165],\n",
              "        [-0.9165, -0.9165]])"
            ]
          },
          "metadata": {
            "tags": []
          },
          "execution_count": 136
        }
      ]
    },
    {
      "cell_type": "code",
      "metadata": {
        "colab": {
          "base_uri": "https://localhost:8080/"
        },
        "id": "8Ny5SQWA5CTq",
        "outputId": "668a5363-a2d8-4350-86b4-712f1faaec15"
      },
      "source": [
        "t8.shape"
      ],
      "execution_count": 137,
      "outputs": [
        {
          "output_type": "execute_result",
          "data": {
            "text/plain": [
              "torch.Size([6, 2])"
            ]
          },
          "metadata": {
            "tags": []
          },
          "execution_count": 137
        }
      ]
    },
    {
      "cell_type": "code",
      "metadata": {
        "id": "m7eh7M6ihOfB",
        "colab": {
          "base_uri": "https://localhost:8080/"
        },
        "outputId": "3ae71988-7879-4f7d-f2fe-e6dc0ca9ce62"
      },
      "source": [
        "# Change the shape of a tensor\n",
        "t9 = t8.reshape(3,2,2)\n",
        "t9"
      ],
      "execution_count": 138,
      "outputs": [
        {
          "output_type": "execute_result",
          "data": {
            "text/plain": [
              "tensor([[[-0.9589, -0.2794],\n",
              "         [ 0.6570,  0.9894]],\n",
              "\n",
              "        [[ 0.4121, -0.5440],\n",
              "         [-0.9165, -0.9165]],\n",
              "\n",
              "        [[-0.9165, -0.9165],\n",
              "         [-0.9165, -0.9165]]])"
            ]
          },
          "metadata": {
            "tags": []
          },
          "execution_count": 138
        }
      ]
    },
    {
      "cell_type": "markdown",
      "metadata": {
        "id": "WgPEtipg5thw"
      },
      "source": [
        "## Interoperability with Numpy"
      ]
    },
    {
      "cell_type": "code",
      "metadata": {
        "id": "699dNXF1hOiU",
        "colab": {
          "base_uri": "https://localhost:8080/"
        },
        "outputId": "feed2f91-99a7-40d8-98dc-4ec0e22f2aed"
      },
      "source": [
        "import numpy as np\n",
        "\n",
        "x = np.array([[1,2],[3,4.]])\n",
        "x"
      ],
      "execution_count": 139,
      "outputs": [
        {
          "output_type": "execute_result",
          "data": {
            "text/plain": [
              "array([[1., 2.],\n",
              "       [3., 4.]])"
            ]
          },
          "metadata": {
            "tags": []
          },
          "execution_count": 139
        }
      ]
    },
    {
      "cell_type": "code",
      "metadata": {
        "id": "E7BUWZLThOqA",
        "colab": {
          "base_uri": "https://localhost:8080/"
        },
        "outputId": "dc5f0569-bb2e-458d-86ce-e0e801329bfd"
      },
      "source": [
        "x.shape"
      ],
      "execution_count": 140,
      "outputs": [
        {
          "output_type": "execute_result",
          "data": {
            "text/plain": [
              "(2, 2)"
            ]
          },
          "metadata": {
            "tags": []
          },
          "execution_count": 140
        }
      ]
    },
    {
      "cell_type": "markdown",
      "metadata": {
        "id": "YVutD6Ig6Pwa"
      },
      "source": [
        "We can convert a Numpy array to a PyTorch tensor using torch.from_numpy."
      ]
    },
    {
      "cell_type": "code",
      "metadata": {
        "id": "W7wEkxgXhOs1",
        "colab": {
          "base_uri": "https://localhost:8080/"
        },
        "outputId": "b3420588-4671-48ae-8d63-025d4c0e23ff"
      },
      "source": [
        "# Convert the numpy array to a torch tensor\n",
        "y = torch.from_numpy(x)\n",
        "y"
      ],
      "execution_count": 141,
      "outputs": [
        {
          "output_type": "execute_result",
          "data": {
            "text/plain": [
              "tensor([[1., 2.],\n",
              "        [3., 4.]], dtype=torch.float64)"
            ]
          },
          "metadata": {
            "tags": []
          },
          "execution_count": 141
        }
      ]
    },
    {
      "cell_type": "markdown",
      "metadata": {
        "id": "k0FFl_fQ6f1M"
      },
      "source": [
        "Let's verify that the numpy array and torch tensor have similar data types."
      ]
    },
    {
      "cell_type": "code",
      "metadata": {
        "id": "keH_sMQ4hOv3",
        "colab": {
          "base_uri": "https://localhost:8080/"
        },
        "outputId": "36662857-4841-4860-8b39-b27be7ad7e8f"
      },
      "source": [
        "x.dtype, y.dtype"
      ],
      "execution_count": 142,
      "outputs": [
        {
          "output_type": "execute_result",
          "data": {
            "text/plain": [
              "(dtype('float64'), torch.float64)"
            ]
          },
          "metadata": {
            "tags": []
          },
          "execution_count": 142
        }
      ]
    },
    {
      "cell_type": "markdown",
      "metadata": {
        "id": "9It-tJ106oZI"
      },
      "source": [
        "We can convert back a PyTorch tensor to a Numpy array using the .numpy method of a tensor."
      ]
    },
    {
      "cell_type": "code",
      "metadata": {
        "id": "dLT4Od2-hOzG",
        "colab": {
          "base_uri": "https://localhost:8080/"
        },
        "outputId": "25e8e9a1-a70d-4979-f39b-364636f5fe55"
      },
      "source": [
        "# Convert back a torch tensor to a numpy array\n",
        "z = y.numpy()\n",
        "z"
      ],
      "execution_count": 143,
      "outputs": [
        {
          "output_type": "execute_result",
          "data": {
            "text/plain": [
              "array([[1., 2.],\n",
              "       [3., 4.]])"
            ]
          },
          "metadata": {
            "tags": []
          },
          "execution_count": 143
        }
      ]
    },
    {
      "cell_type": "markdown",
      "metadata": {
        "id": "ONV1H6XlCvT2"
      },
      "source": [
        "## Introduction to Linear Regression\n",
        "\n",
        "create a model that predicts crop yields for apples and oranges (target variables) by looking at the average temperature, rainfall, and humidity (input variables or features) in a region. Here's the training data:"
      ]
    },
    {
      "cell_type": "markdown",
      "metadata": {
        "id": "wNHMMQ16D-EJ"
      },
      "source": [
        "In a linear regression model, each target variable is estimated to be a weighted sum of the input variables, offset by some constant, known as a bias :\n",
        "\n",
        "yield_apple = w11 * temp + w12 * rainfall + w13 * humidity + b1\n",
        "\n",
        "yield_orange = w21 * temp + w22 * rainfall + w23 * humidity + b2\n"
      ]
    },
    {
      "cell_type": "markdown",
      "metadata": {
        "id": "uENgpuYwFPgv"
      },
      "source": [
        "The learning part of linear regression is to figure out a set of weights w11, w12,... w23, b1 & b2 using the training data, to make accurate predictions for new data. The learned weights will be used to predict the yields for apples and oranges in a new region using the average temperature, rainfall, and humidity for that region.\n",
        "\n",
        "We'll train our model by adjusting the weights slightly many times to make better predictions, using an optimization technique called **gradient descent**. "
      ]
    },
    {
      "cell_type": "markdown",
      "metadata": {
        "id": "VnK4deaKFYZI"
      },
      "source": [
        "### Training data\n",
        "We can represent the training data using two matrices:\n",
        "`inputs` and `targets`, \n",
        "\n",
        "each with one row per observation, and one column per variable."
      ]
    },
    {
      "cell_type": "code",
      "metadata": {
        "id": "u1c9_St6Csqn"
      },
      "source": [
        "# Input (temp, rainfall, humidity)\n",
        "inputs = np.array ([[73, 67, 43],\n",
        "                    [91, 88, 64],\n",
        "                    [87, 134, 58],\n",
        "                    [102, 43, 37],\n",
        "                    [69, 96, 70]], dtype='float32')"
      ],
      "execution_count": 144,
      "outputs": []
    },
    {
      "cell_type": "code",
      "metadata": {
        "id": "-gl44FpxCtD1"
      },
      "source": [
        "# Targets (apples, oranges)\n",
        "targets = np.array([[56, 70],\n",
        "                    [81, 101],\n",
        "                    [119, 133],\n",
        "                    [22, 37],\n",
        "                    [103, 119]], dtype = 'float32')"
      ],
      "execution_count": 145,
      "outputs": []
    },
    {
      "cell_type": "code",
      "metadata": {
        "colab": {
          "base_uri": "https://localhost:8080/"
        },
        "id": "A7LVI4-qCtUb",
        "outputId": "0aed5654-01e5-41e9-b2e3-66c204388d5e"
      },
      "source": [
        "# Convert inputs and targets to tensors\n",
        "inputs = torch.from_numpy(inputs)\n",
        "targets = torch.from_numpy(targets)\n",
        "print(inputs)\n",
        "print(targets)"
      ],
      "execution_count": 146,
      "outputs": [
        {
          "output_type": "stream",
          "text": [
            "tensor([[ 73.,  67.,  43.],\n",
            "        [ 91.,  88.,  64.],\n",
            "        [ 87., 134.,  58.],\n",
            "        [102.,  43.,  37.],\n",
            "        [ 69.,  96.,  70.]])\n",
            "tensor([[ 56.,  70.],\n",
            "        [ 81., 101.],\n",
            "        [119., 133.],\n",
            "        [ 22.,  37.],\n",
            "        [103., 119.]])\n"
          ],
          "name": "stdout"
        }
      ]
    },
    {
      "cell_type": "markdown",
      "metadata": {
        "id": "lyoCUwvFIwyC"
      },
      "source": [
        "### Linear regression model from scratch\n",
        "\n",
        "The weights and biases (w11, w12, ... w23, b1 & b2) can also be represented as matrices, initialized as random values. The first row of w and the first element of b are used to predict the first target variable, i.e., yield of apples, and similarly, the second for oranges."
      ]
    },
    {
      "cell_type": "code",
      "metadata": {
        "colab": {
          "base_uri": "https://localhost:8080/"
        },
        "id": "pt-cnZYnCtcs",
        "outputId": "42c4c883-34d1-41df-9143-fca95f685481"
      },
      "source": [
        "# Weights and biases\n",
        "w = torch.randn(2,3, requires_grad = True)\n",
        "b = torch.randn(2, requires_grad = True)\n",
        "print(w)\n",
        "print(b)"
      ],
      "execution_count": 147,
      "outputs": [
        {
          "output_type": "stream",
          "text": [
            "tensor([[ 0.2399,  1.3024,  0.1774],\n",
            "        [-1.0240, -0.4862, -0.1072]], requires_grad=True)\n",
            "tensor([-1.5371, -1.2196], requires_grad=True)\n"
          ],
          "name": "stdout"
        }
      ]
    },
    {
      "cell_type": "markdown",
      "metadata": {
        "id": "KWzdQLd6P7H0"
      },
      "source": [
        "torch.randn creates a tensor with the given shape, with elements picked randomly from a normal distribution with mean 0 and standard deviation 1.\n",
        "\n",
        "**Our model is simply a function that performs a matrix multiplication of the `inputs` and the weights `w` (transposed) and adds the bias `b` (replicated for each observation).**"
      ]
    },
    {
      "cell_type": "code",
      "metadata": {
        "id": "TdChxTSHCttg"
      },
      "source": [
        "# We can define the model as follows:\n",
        "def model(x):\n",
        "  return x @ w.t() + b"
      ],
      "execution_count": 148,
      "outputs": []
    },
    {
      "cell_type": "markdown",
      "metadata": {
        "id": "VPlAL7LySQ8N"
      },
      "source": [
        "`@` represents matrix multiplication in PyTorch, and the `.t` method returns the transpose of tensor.\n",
        "\n",
        "The matrix obtained by passing the input data into model is a set od predictions for the target variables."
      ]
    },
    {
      "cell_type": "code",
      "metadata": {
        "colab": {
          "base_uri": "https://localhost:8080/"
        },
        "id": "xsL42e4CCtv9",
        "outputId": "808c3a0c-246e-4352-f91b-07536466c2b2"
      },
      "source": [
        "# Generate predictions\n",
        "preds = model(inputs)\n",
        "print(preds)"
      ],
      "execution_count": 149,
      "outputs": [
        {
          "output_type": "stream",
          "text": [
            "tensor([[ 110.8700, -113.1571],\n",
            "        [ 146.2659, -144.0508],\n",
            "        [ 204.1532, -161.6762],\n",
            "        [  85.5049, -130.5414],\n",
            "        [ 152.4717, -126.0555]], grad_fn=<AddBackward0>)\n"
          ],
          "name": "stdout"
        }
      ]
    },
    {
      "cell_type": "markdown",
      "metadata": {
        "id": "DBoYskXqTIsj"
      },
      "source": [
        "Lets compare the predictions of our model with the actual targets."
      ]
    },
    {
      "cell_type": "code",
      "metadata": {
        "colab": {
          "base_uri": "https://localhost:8080/"
        },
        "id": "ORvQoB0ZCtzA",
        "outputId": "72977a99-99a3-4177-a7db-1c793bcbd9ea"
      },
      "source": [
        "# Compara with targets\n",
        "print(targets)"
      ],
      "execution_count": 150,
      "outputs": [
        {
          "output_type": "stream",
          "text": [
            "tensor([[ 56.,  70.],\n",
            "        [ 81., 101.],\n",
            "        [119., 133.],\n",
            "        [ 22.,  37.],\n",
            "        [103., 119.]])\n"
          ],
          "name": "stdout"
        }
      ]
    },
    {
      "cell_type": "markdown",
      "metadata": {
        "id": "f0wGFeS7TjLr"
      },
      "source": [
        "We can see a big difference between our model's predictions and the actual targets because we've initialized our model with random weights and biases. Obviously, we can't expect a randomly initialized model to just work."
      ]
    },
    {
      "cell_type": "markdown",
      "metadata": {
        "id": "hZtNq7--TsnD"
      },
      "source": [
        "### Loss function\n",
        "Before we improve our model, we need a way to evaluate how well our model is performing. We can compare the model's predictions with the actual targets using the following method:\n",
        "\n",
        "* Calculate the difference between the two matrices(preds and targets).\n",
        "* Square all the elements of the difference matrix to remove negative values.\n",
        "* Calculate the average of the elements in the resulting matrix.\n",
        "\n",
        "\n",
        "The result is a single number, known as mean squared error(MSE)."
      ]
    },
    {
      "cell_type": "code",
      "metadata": {
        "id": "E2BbBcNUCtp2"
      },
      "source": [
        "# MSE loss\n",
        "def mse(t1, t2):\n",
        "  diff = t1 - t2\n",
        "  return torch.sum(diff * diff)/diff.numel()"
      ],
      "execution_count": 151,
      "outputs": []
    },
    {
      "cell_type": "markdown",
      "metadata": {
        "id": "jn62BI2vCtm_"
      },
      "source": [
        "`torch.sum` returns the sum of all the elements in a tensor.\n",
        "\n",
        "`.numel` method of a tensor returns the number of elements in a tensor.\n",
        "\n",
        "\n",
        "Let's compute the mean squared error for the current predictions of our model."
      ]
    },
    {
      "cell_type": "code",
      "metadata": {
        "colab": {
          "base_uri": "https://localhost:8080/"
        },
        "id": "TyM81VloCtk2",
        "outputId": "f5baef87-766c-49f9-8de5-f940fa55af7b"
      },
      "source": [
        "# Compute loss\n",
        "loss = mse(preds, targets)\n",
        "print(loss)"
      ],
      "execution_count": 152,
      "outputs": [
        {
          "output_type": "stream",
          "text": [
            "tensor(28955.4570, grad_fn=<DivBackward0>)\n"
          ],
          "name": "stdout"
        }
      ]
    },
    {
      "cell_type": "markdown",
      "metadata": {
        "id": "lKAMCG-RVsnB"
      },
      "source": [
        "Here is how we can interpret the result: \n",
        "\n",
        "On average, each element in the prediction differs from the actual target by the square root of the loss.\n",
        "\n",
        "And that's pretty bad, considering the numbers we are trying to predict are themslves in the range 50-200.\n",
        "\n",
        "The result is called the loss because it indicates how bad the model is at predicting the target variables.\n",
        "\n",
        "It represents information loss in the model: the lower the loss, the better the model."
      ]
    },
    {
      "cell_type": "markdown",
      "metadata": {
        "id": "oiOUTaK6W6NO"
      },
      "source": [
        "### Compute gradients\n",
        "\n",
        "With PyTorch, we can automatically compute the gradient or derivative of the loss w.r.t the weights and biases because they have `reqires_grad` set to `True`.\n",
        "\n"
      ]
    },
    {
      "cell_type": "code",
      "metadata": {
        "id": "hyuCZUtLCtjE"
      },
      "source": [
        "# Compute gradients\n",
        "loss.backward()"
      ],
      "execution_count": 153,
      "outputs": []
    },
    {
      "cell_type": "markdown",
      "metadata": {
        "id": "LQ3u8P-GXuSr"
      },
      "source": [
        "The gradients are stored in the .grad property of the respective tensors.\n",
        "\n",
        "Note that the derivative of the loss w.r.t the weigths, matrix is itself a matrix with the same dimensions."
      ]
    },
    {
      "cell_type": "code",
      "metadata": {
        "colab": {
          "base_uri": "https://localhost:8080/"
        },
        "id": "0gaPYyE2CtYa",
        "outputId": "e82779ad-7f0b-440e-8c50-f186cf288972"
      },
      "source": [
        "# Gradients for weights\n",
        "print(w)\n",
        "print(w.grad)"
      ],
      "execution_count": 154,
      "outputs": [
        {
          "output_type": "stream",
          "text": [
            "tensor([[ 0.2399,  1.3024,  0.1774],\n",
            "        [-1.0240, -0.4862, -0.1072]], requires_grad=True)\n",
            "tensor([[  5448.8184,   5662.0435,   3457.6038],\n",
            "        [-19060.9961, -20810.4453, -12800.6289]])\n"
          ],
          "name": "stdout"
        }
      ]
    },
    {
      "cell_type": "markdown",
      "metadata": {
        "id": "X5dEs132Yqw-"
      },
      "source": [
        "### Adjust weights and biases to reduce the loss\n",
        "The loss is a quadratic function of our weights and biases, and our objective is to find the set of weights where the loss is the lowest. If we plot a graph of the loss w.r.t any individual weight or bias element, it will look like the figure shown below. An important insight from calculus is that the gradient indicates the rate of change of the loss, i.e., the loss function's slope w.r.t. the weights and biases.\n",
        "\n",
        "If a gradient element is positive:\n",
        "\n",
        "* increasing the weight element's value slightly will increase the loss\n",
        "* decreasing the weight element's value slightly will decrease the loss\n",
        "\n",
        "If a gradient element is negative:\n",
        "\n",
        "* increasing the weight element's value slightly will decrease the loss\n",
        "* decreasing the weight element's value slightly will increase the loss\n",
        "\n",
        "\n",
        "The increase or decrease in the loss by changing a weight element is proportional to the gradient of the loss w.r.t. that element. This observation forms the basis of the gradient descent optimization algorithm that we'll use to improve our model (by descending along the gradient)."
      ]
    },
    {
      "cell_type": "markdown",
      "metadata": {
        "id": "5i-0agf2ZXwJ"
      },
      "source": [
        "We can subtract from each weight element a small quantity proportional to the derivative of the loss w.r.t. that element to reduce the loss slightly."
      ]
    },
    {
      "cell_type": "code",
      "metadata": {
        "colab": {
          "base_uri": "https://localhost:8080/"
        },
        "id": "VI6Qu4ewCtHb",
        "outputId": "dd8b5c97-6e3e-4c30-ea79-820374b218e1"
      },
      "source": [
        "w\n",
        "w.grad"
      ],
      "execution_count": 155,
      "outputs": [
        {
          "output_type": "execute_result",
          "data": {
            "text/plain": [
              "tensor([[  5448.8184,   5662.0435,   3457.6038],\n",
              "        [-19060.9961, -20810.4453, -12800.6289]])"
            ]
          },
          "metadata": {
            "tags": []
          },
          "execution_count": 155
        }
      ]
    },
    {
      "cell_type": "code",
      "metadata": {
        "id": "Ag9z3D3-Csx4"
      },
      "source": [
        "with torch.no_grad():\n",
        "  w -= w.grad * 1e-5\n",
        "  b -= b.grad * 1e-5"
      ],
      "execution_count": 156,
      "outputs": []
    },
    {
      "cell_type": "code",
      "metadata": {
        "id": "Mx-bwyhjCswC"
      },
      "source": [
        ""
      ],
      "execution_count": 156,
      "outputs": []
    },
    {
      "cell_type": "code",
      "metadata": {
        "id": "AbH0mHCjCsuq"
      },
      "source": [
        ""
      ],
      "execution_count": 156,
      "outputs": []
    },
    {
      "cell_type": "code",
      "metadata": {
        "id": "bllJlJ0thOaX"
      },
      "source": [
        ""
      ],
      "execution_count": 156,
      "outputs": []
    },
    {
      "cell_type": "code",
      "metadata": {
        "id": "Z5Hjgi3DhOSQ"
      },
      "source": [
        ""
      ],
      "execution_count": 156,
      "outputs": []
    },
    {
      "cell_type": "code",
      "metadata": {
        "id": "PHDRnil2hOMd"
      },
      "source": [
        ""
      ],
      "execution_count": 156,
      "outputs": []
    },
    {
      "cell_type": "code",
      "metadata": {
        "id": "wGkA4ek7hN_L",
        "colab": {
          "base_uri": "https://localhost:8080/",
          "height": 103
        },
        "outputId": "89a841fd-2975-4caa-b10e-6bf7875467fb"
      },
      "source": [
        "jovian.commit(project='pytorch-basics-dummy')"
      ],
      "execution_count": 157,
      "outputs": [
        {
          "output_type": "stream",
          "text": [
            "[jovian] Detected Colab notebook...\u001b[0m\n",
            "[jovian] Uploading colab notebook to Jovian...\u001b[0m\n",
            "[jovian] Capturing environment..\u001b[0m\n",
            "[jovian] Committed successfully! https://jovian.ai/monika171/pytorch-basics-dummy\u001b[0m\n"
          ],
          "name": "stdout"
        },
        {
          "output_type": "execute_result",
          "data": {
            "application/vnd.google.colaboratory.intrinsic+json": {
              "type": "string"
            },
            "text/plain": [
              "'https://jovian.ai/monika171/pytorch-basics-dummy'"
            ]
          },
          "metadata": {
            "tags": []
          },
          "execution_count": 157
        }
      ]
    },
    {
      "cell_type": "code",
      "metadata": {
        "id": "S-B7tjUcadZ2"
      },
      "source": [
        ""
      ],
      "execution_count": 157,
      "outputs": []
    }
  ]
}