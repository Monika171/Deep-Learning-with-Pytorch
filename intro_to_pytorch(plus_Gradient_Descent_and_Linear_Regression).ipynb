{
  "nbformat": 4,
  "nbformat_minor": 0,
  "metadata": {
    "colab": {
      "name": "intro-to-pytorch(plus Gradient Descent and Linear Regression).ipynb",
      "provenance": [],
      "collapsed_sections": [],
      "include_colab_link": true
    },
    "kernelspec": {
      "display_name": "Python 3",
      "language": "python",
      "name": "python3"
    },
    "language_info": {
      "codemirror_mode": {
        "name": "ipython",
        "version": 3
      },
      "file_extension": ".py",
      "mimetype": "text/x-python",
      "name": "python",
      "nbconvert_exporter": "python",
      "pygments_lexer": "ipython3",
      "version": "3.7.6"
    }
  },
  "cells": [
    {
      "cell_type": "markdown",
      "metadata": {
        "id": "view-in-github",
        "colab_type": "text"
      },
      "source": [
        "<a href=\"https://colab.research.google.com/github/Monika171/Deep-Learning-with-Pytorch/blob/main/intro_to_pytorch(plus_Gradient_Descent_and_Linear_Regression).ipynb\" target=\"_parent\"><img src=\"https://colab.research.google.com/assets/colab-badge.svg\" alt=\"Open In Colab\"/></a>"
      ]
    },
    {
      "cell_type": "code",
      "metadata": {
        "id": "q8VBC92WeNSM"
      },
      "source": [
        "# Jovian Commit Essentials\n",
        "# Please retain and execute this cell without modifying the contents for `jovian.commit` to work\n",
        "!pip install jovian --upgrade -q\n",
        "import jovian\n",
        "jovian.utils.colab.set_colab_file_id('1sJfUmMfx-lt8o_uuG63BiapOV-hiBKE7')"
      ],
      "execution_count": 1,
      "outputs": []
    },
    {
      "cell_type": "markdown",
      "metadata": {
        "id": "DKoz3ihGk1zT"
      },
      "source": [
        "# Pytorch Basics: Tensors & Gradients"
      ]
    },
    {
      "cell_type": "code",
      "metadata": {
        "id": "brGin1-nkYOK"
      },
      "source": [
        "!pip install jovian --upgrade --quiet"
      ],
      "execution_count": 2,
      "outputs": []
    },
    {
      "cell_type": "code",
      "metadata": {
        "id": "17h3-lr2kYOK"
      },
      "source": [
        "import jovian"
      ],
      "execution_count": 3,
      "outputs": []
    },
    {
      "cell_type": "code",
      "metadata": {
        "colab": {
          "base_uri": "https://localhost:8080/",
          "height": 123
        },
        "id": "LtWTT4TAkrl_",
        "outputId": "cdfa81c5-e97c-4dd4-8195-295cc511dcac"
      },
      "source": [
        "jovian.commit(project='pytorch-basics-dummy')"
      ],
      "execution_count": 4,
      "outputs": [
        {
          "output_type": "stream",
          "text": [
            "[jovian] Detected Colab notebook...\u001b[0m\n",
            "[jovian] Uploading colab notebook to Jovian...\u001b[0m\n",
            "[jovian] Capturing environment..\u001b[0m\n",
            "[jovian] Committed successfully! https://jovian.ai/monika171/pytorch-basics-dummy\u001b[0m\n"
          ],
          "name": "stdout"
        },
        {
          "output_type": "execute_result",
          "data": {
            "application/vnd.google.colaboratory.intrinsic+json": {
              "type": "string"
            },
            "text/plain": [
              "'https://jovian.ai/monika171/pytorch-basics-dummy'"
            ]
          },
          "metadata": {
            "tags": []
          },
          "execution_count": 4
        }
      ]
    },
    {
      "cell_type": "markdown",
      "metadata": {
        "id": "zZ5U7g6BksZA"
      },
      "source": [
        "import the torch module to get started."
      ]
    },
    {
      "cell_type": "code",
      "metadata": {
        "id": "HgeNr05ng0di"
      },
      "source": [
        "import torch"
      ],
      "execution_count": 5,
      "outputs": []
    },
    {
      "cell_type": "markdown",
      "metadata": {
        "id": "iYvD2JpHkuI7"
      },
      "source": [
        "# Tensors\n",
        "At its core, PyTorch is a library for processing tensors. A tensor is a number, vector, matrix, or any n-dimensional array. Let's create a tensor with a single number."
      ]
    },
    {
      "cell_type": "code",
      "metadata": {
        "colab": {
          "base_uri": "https://localhost:8080/"
        },
        "id": "ZajpyD9Mg1zw",
        "outputId": "c770fdef-2c54-443e-a1e0-c7314ff04188"
      },
      "source": [
        "# Number\n",
        "t1 = torch.tensor(4.)\n",
        "t1"
      ],
      "execution_count": 6,
      "outputs": [
        {
          "output_type": "execute_result",
          "data": {
            "text/plain": [
              "tensor(4.)"
            ]
          },
          "metadata": {
            "tags": []
          },
          "execution_count": 6
        }
      ]
    },
    {
      "cell_type": "code",
      "metadata": {
        "colab": {
          "base_uri": "https://localhost:8080/"
        },
        "id": "wFxAgKmrg2Xw",
        "outputId": "1dfc823b-a5ca-4aa1-bea4-8580f9835f07"
      },
      "source": [
        "t1.dtype"
      ],
      "execution_count": 7,
      "outputs": [
        {
          "output_type": "execute_result",
          "data": {
            "text/plain": [
              "torch.float32"
            ]
          },
          "metadata": {
            "tags": []
          },
          "execution_count": 7
        }
      ]
    },
    {
      "cell_type": "code",
      "metadata": {
        "colab": {
          "base_uri": "https://localhost:8080/"
        },
        "id": "3JOcvB5tg2hS",
        "outputId": "46ddd492-3a69-4272-edbb-cbb3ed162bd4"
      },
      "source": [
        "# Vector\n",
        "t2 = torch.tensor([1., 2,3,4])\n",
        "t2"
      ],
      "execution_count": 8,
      "outputs": [
        {
          "output_type": "execute_result",
          "data": {
            "text/plain": [
              "tensor([1., 2., 3., 4.])"
            ]
          },
          "metadata": {
            "tags": []
          },
          "execution_count": 8
        }
      ]
    },
    {
      "cell_type": "code",
      "metadata": {
        "colab": {
          "base_uri": "https://localhost:8080/"
        },
        "id": "Byio1bpel8Fb",
        "outputId": "2e2d330b-545b-41a2-8806-157f94536c74"
      },
      "source": [
        "t2.dtype"
      ],
      "execution_count": 9,
      "outputs": [
        {
          "output_type": "execute_result",
          "data": {
            "text/plain": [
              "torch.float32"
            ]
          },
          "metadata": {
            "tags": []
          },
          "execution_count": 9
        }
      ]
    },
    {
      "cell_type": "code",
      "metadata": {
        "colab": {
          "base_uri": "https://localhost:8080/"
        },
        "id": "D91puJAnhNm4",
        "outputId": "0c5f8e11-1d25-4a87-e889-cce836b0fb0b"
      },
      "source": [
        "# Matrix\n",
        "t3 = torch.tensor([[5.,6],\n",
        "                   [7,8],\n",
        "                   [9,10]])\n",
        "t3"
      ],
      "execution_count": 10,
      "outputs": [
        {
          "output_type": "execute_result",
          "data": {
            "text/plain": [
              "tensor([[ 5.,  6.],\n",
              "        [ 7.,  8.],\n",
              "        [ 9., 10.]])"
            ]
          },
          "metadata": {
            "tags": []
          },
          "execution_count": 10
        }
      ]
    },
    {
      "cell_type": "code",
      "metadata": {
        "colab": {
          "base_uri": "https://localhost:8080/"
        },
        "id": "UJFuY4nThNu2",
        "outputId": "9c77006a-8e8c-43b4-845b-f17d715ec152"
      },
      "source": [
        "# 3-dimentional array\n",
        "t4 = torch.tensor([\n",
        "                   [[11,12,13], [13,14,15]],\n",
        "                   [[15,16,17],[17,18,19.]]\n",
        "])\n",
        "t4"
      ],
      "execution_count": 11,
      "outputs": [
        {
          "output_type": "execute_result",
          "data": {
            "text/plain": [
              "tensor([[[11., 12., 13.],\n",
              "         [13., 14., 15.]],\n",
              "\n",
              "        [[15., 16., 17.],\n",
              "         [17., 18., 19.]]])"
            ]
          },
          "metadata": {
            "tags": []
          },
          "execution_count": 11
        }
      ]
    },
    {
      "cell_type": "code",
      "metadata": {
        "colab": {
          "base_uri": "https://localhost:8080/"
        },
        "id": "r3-xBrKZhNyK",
        "outputId": "63144f7c-6273-4fc8-e6ab-a4460a293de1"
      },
      "source": [
        "print(t1)\n",
        "t1.shape"
      ],
      "execution_count": 12,
      "outputs": [
        {
          "output_type": "stream",
          "text": [
            "tensor(4.)\n"
          ],
          "name": "stdout"
        },
        {
          "output_type": "execute_result",
          "data": {
            "text/plain": [
              "torch.Size([])"
            ]
          },
          "metadata": {
            "tags": []
          },
          "execution_count": 12
        }
      ]
    },
    {
      "cell_type": "code",
      "metadata": {
        "colab": {
          "base_uri": "https://localhost:8080/"
        },
        "id": "tRzYU86ehN1P",
        "outputId": "7c3373b2-8089-4289-84ad-cb69fa6c3dd7"
      },
      "source": [
        "print(t2)\n",
        "t2.shape"
      ],
      "execution_count": 13,
      "outputs": [
        {
          "output_type": "stream",
          "text": [
            "tensor([1., 2., 3., 4.])\n"
          ],
          "name": "stdout"
        },
        {
          "output_type": "execute_result",
          "data": {
            "text/plain": [
              "torch.Size([4])"
            ]
          },
          "metadata": {
            "tags": []
          },
          "execution_count": 13
        }
      ]
    },
    {
      "cell_type": "code",
      "metadata": {
        "colab": {
          "base_uri": "https://localhost:8080/"
        },
        "id": "AUkOhkiLhN4e",
        "outputId": "c2e1ed26-f9ee-44ff-f264-9f4d8a9706ee"
      },
      "source": [
        "print(t3)\n",
        "t3.shape"
      ],
      "execution_count": 14,
      "outputs": [
        {
          "output_type": "stream",
          "text": [
            "tensor([[ 5.,  6.],\n",
            "        [ 7.,  8.],\n",
            "        [ 9., 10.]])\n"
          ],
          "name": "stdout"
        },
        {
          "output_type": "execute_result",
          "data": {
            "text/plain": [
              "torch.Size([3, 2])"
            ]
          },
          "metadata": {
            "tags": []
          },
          "execution_count": 14
        }
      ]
    },
    {
      "cell_type": "code",
      "metadata": {
        "colab": {
          "base_uri": "https://localhost:8080/"
        },
        "id": "LOeVRBgDhN7l",
        "outputId": "560f13e4-3e1d-4551-c95e-cfa3ab51d8fc"
      },
      "source": [
        "print(t4)\n",
        "t4.shape"
      ],
      "execution_count": 15,
      "outputs": [
        {
          "output_type": "stream",
          "text": [
            "tensor([[[11., 12., 13.],\n",
            "         [13., 14., 15.]],\n",
            "\n",
            "        [[15., 16., 17.],\n",
            "         [17., 18., 19.]]])\n"
          ],
          "name": "stdout"
        },
        {
          "output_type": "execute_result",
          "data": {
            "text/plain": [
              "torch.Size([2, 2, 3])"
            ]
          },
          "metadata": {
            "tags": []
          },
          "execution_count": 15
        }
      ]
    },
    {
      "cell_type": "code",
      "metadata": {
        "id": "ldRZ-NbohOAK"
      },
      "source": [
        "# Note that it's not possible to create tensors with an improper shape.\n",
        "# Matrix\n",
        "# t5 = torch.tensor([[5.,6,11],\n",
        "#                    [7,8],\n",
        "#                    [9,10]])\n",
        "# t5"
      ],
      "execution_count": 16,
      "outputs": []
    },
    {
      "cell_type": "markdown",
      "metadata": {
        "id": "i1EkRXzRpVkW"
      },
      "source": [
        "A ValueError is thrown because the lengths of the rows [5., 6, 11] and [7, 8] don't match.\n",
        "\n"
      ]
    },
    {
      "cell_type": "markdown",
      "metadata": {
        "id": "zOywVQz_plpa"
      },
      "source": [
        "## Tensor operations and gradients\n",
        "\n",
        "We can combine tensors with the usual arithmetic operations. Let's look at an example:"
      ]
    },
    {
      "cell_type": "code",
      "metadata": {
        "colab": {
          "base_uri": "https://localhost:8080/"
        },
        "id": "v3jy4ApMhODj",
        "outputId": "0721e466-d6cc-4e65-b2dd-bce14c15c6a7"
      },
      "source": [
        "# Create tensors\n",
        "\n",
        "x = torch.tensor(3.)\n",
        "w = torch.tensor(4., requires_grad = True)\n",
        "b = torch.tensor(5., requires_grad=True)\n",
        "x, w, b"
      ],
      "execution_count": 17,
      "outputs": [
        {
          "output_type": "execute_result",
          "data": {
            "text/plain": [
              "(tensor(3.), tensor(4., requires_grad=True), tensor(5., requires_grad=True))"
            ]
          },
          "metadata": {
            "tags": []
          },
          "execution_count": 17
        }
      ]
    },
    {
      "cell_type": "markdown",
      "metadata": {
        "id": "Jq4wtNh-qe43"
      },
      "source": [
        "We've created three tensors: x, w, and b, all numbers. w and b have an additional parameter requires_grad set to True. <br>\n",
        "Let's create a new tensor y by combining these tensors."
      ]
    },
    {
      "cell_type": "code",
      "metadata": {
        "colab": {
          "base_uri": "https://localhost:8080/"
        },
        "id": "pKT5_yxghOGH",
        "outputId": "b5c918d5-00c7-4897-da6a-0208f00774d8"
      },
      "source": [
        "y = w * x + b\n",
        "y\n",
        "\n",
        "\n",
        "# dy/dw\n",
        "# x + 0\n",
        "# dy/dx ####\n",
        "# w + 0\n",
        "# dy/db\n",
        "# 1\n",
        "\n"
      ],
      "execution_count": 18,
      "outputs": [
        {
          "output_type": "execute_result",
          "data": {
            "text/plain": [
              "1"
            ]
          },
          "metadata": {
            "tags": []
          },
          "execution_count": 18
        }
      ]
    },
    {
      "cell_type": "markdown",
      "metadata": {
        "id": "U_U4CEozzsMK"
      },
      "source": [
        "As expected, y is a tensor with the value 3 * 4 + 5 = 17. What makes PyTorch unique is that we can automatically compute the derivative of y w.r.t. the tensors that have requires_grad set to True i.e. w and b. This feature of PyTorch is called autograd (automatic gradients).\n",
        "<br>\n",
        "\n",
        "To compute the derivatives, we can invoke the .backward method on our result y."
      ]
    },
    {
      "cell_type": "code",
      "metadata": {
        "id": "Ibwi2NlrhOJU"
      },
      "source": [
        "#  Compute derivatives\n",
        "y.backward()"
      ],
      "execution_count": 19,
      "outputs": []
    },
    {
      "cell_type": "markdown",
      "metadata": {
        "id": "qhy90ilW2XXT"
      },
      "source": [
        "The derivatives of y w.r.t the input tensors are stored in the .grad property of the respective tensors."
      ]
    },
    {
      "cell_type": "code",
      "metadata": {
        "colab": {
          "base_uri": "https://localhost:8080/"
        },
        "id": "DQl_hW4DhOOj",
        "outputId": "9c5837ae-df36-4099-a357-a1c756c76a1c"
      },
      "source": [
        "# Display gradients\n",
        "print('dy/dx:', x.grad)\n",
        "print('dy/dw:', w.grad)\n",
        "print('dy/db', b.grad)"
      ],
      "execution_count": 20,
      "outputs": [
        {
          "output_type": "stream",
          "text": [
            "dy/dx: None\n",
            "dy/dw: tensor(3.)\n",
            "dy/db tensor(1.)\n"
          ],
          "name": "stdout"
        }
      ]
    },
    {
      "cell_type": "markdown",
      "metadata": {
        "id": "mVC6uj0C3H2z"
      },
      "source": [
        "As expected, dy/dw has the same value as x, i.e., 3, and dy/db has the value 1. Note that x.grad is None because x doesn't have requires_grad set to True.\n",
        "<br>\n",
        "The \"grad\" in w.grad is short for gradient, which is another term for derivative. The term gradient is primarily used while dealing with vectors and matrices.\n",
        "<br>\n",
        "WE ARE NOT INTERESTED IN FUTURE OUTPUTS RELATED TO x , BUT WE ARE INTERESTED IN FUTURE OUTPUTS RELATED TO w and b. WOULD NOT WANT TO DO USELESS OPERATIONS"
      ]
    },
    {
      "cell_type": "markdown",
      "metadata": {
        "id": "uXSeroqp3MaN"
      },
      "source": [
        "## Tensor functions\n",
        "Apart from arithmetic operations, the torch module also contains many functions for creating and manipulating tensors. Let's look at some examples."
      ]
    },
    {
      "cell_type": "code",
      "metadata": {
        "colab": {
          "base_uri": "https://localhost:8080/"
        },
        "id": "Cxg-KxSxhOUC",
        "outputId": "0b01fb98-bdd7-42ca-85d9-5ba02e3411c4"
      },
      "source": [
        "# Create a tensor with a fixed value for every element\n",
        "t6 = torch.full((3,2), 42)\n",
        "t6"
      ],
      "execution_count": 21,
      "outputs": [
        {
          "output_type": "execute_result",
          "data": {
            "text/plain": [
              "tensor([[42, 42],\n",
              "        [42, 42],\n",
              "        [42, 42]])"
            ]
          },
          "metadata": {
            "tags": []
          },
          "execution_count": 21
        }
      ]
    },
    {
      "cell_type": "code",
      "metadata": {
        "colab": {
          "base_uri": "https://localhost:8080/"
        },
        "id": "eYyn4t7j4gXX",
        "outputId": "b9da6774-06c2-4698-9f88-cb8ffdf09ab2"
      },
      "source": [
        "t3, t6"
      ],
      "execution_count": 22,
      "outputs": [
        {
          "output_type": "execute_result",
          "data": {
            "text/plain": [
              "(tensor([[ 5.,  6.],\n",
              "         [ 7.,  8.],\n",
              "         [ 9., 10.]]), tensor([[42, 42],\n",
              "         [42, 42],\n",
              "         [42, 42]]))"
            ]
          },
          "metadata": {
            "tags": []
          },
          "execution_count": 22
        }
      ]
    },
    {
      "cell_type": "code",
      "metadata": {
        "colab": {
          "base_uri": "https://localhost:8080/"
        },
        "id": "Da0JThK5hOXo",
        "outputId": "f5f6e4d0-dc2a-4006-ff70-8a24e66a439d"
      },
      "source": [
        "# Concatenate two tensors with compatible shapes\n",
        "t7 = torch.cat((t3, t6))\n",
        "t7"
      ],
      "execution_count": 23,
      "outputs": [
        {
          "output_type": "execute_result",
          "data": {
            "text/plain": [
              "tensor([[ 5.,  6.],\n",
              "        [ 7.,  8.],\n",
              "        [ 9., 10.],\n",
              "        [42., 42.],\n",
              "        [42., 42.],\n",
              "        [42., 42.]])"
            ]
          },
          "metadata": {
            "tags": []
          },
          "execution_count": 23
        }
      ]
    },
    {
      "cell_type": "code",
      "metadata": {
        "colab": {
          "base_uri": "https://localhost:8080/"
        },
        "id": "u4oS25-ohOcH",
        "outputId": "e80900e1-1a73-4419-ebff-15aff634a76e"
      },
      "source": [
        "# Compute the sin of each element\n",
        "t8 = torch.sin(t7)\n",
        "t8"
      ],
      "execution_count": 24,
      "outputs": [
        {
          "output_type": "execute_result",
          "data": {
            "text/plain": [
              "tensor([[-0.9589, -0.2794],\n",
              "        [ 0.6570,  0.9894],\n",
              "        [ 0.4121, -0.5440],\n",
              "        [-0.9165, -0.9165],\n",
              "        [-0.9165, -0.9165],\n",
              "        [-0.9165, -0.9165]])"
            ]
          },
          "metadata": {
            "tags": []
          },
          "execution_count": 24
        }
      ]
    },
    {
      "cell_type": "code",
      "metadata": {
        "colab": {
          "base_uri": "https://localhost:8080/"
        },
        "id": "8Ny5SQWA5CTq",
        "outputId": "d9b4c924-8927-4a95-fa14-2d6033aeaff6"
      },
      "source": [
        "t8.shape"
      ],
      "execution_count": 25,
      "outputs": [
        {
          "output_type": "execute_result",
          "data": {
            "text/plain": [
              "torch.Size([6, 2])"
            ]
          },
          "metadata": {
            "tags": []
          },
          "execution_count": 25
        }
      ]
    },
    {
      "cell_type": "code",
      "metadata": {
        "colab": {
          "base_uri": "https://localhost:8080/"
        },
        "id": "m7eh7M6ihOfB",
        "outputId": "2da28256-4873-42e0-ebf2-f4c75b63f4a6"
      },
      "source": [
        "# Change the shape of a tensor\n",
        "t9 = t8.reshape(3,2,2)\n",
        "t9"
      ],
      "execution_count": 26,
      "outputs": [
        {
          "output_type": "execute_result",
          "data": {
            "text/plain": [
              "tensor([[[-0.9589, -0.2794],\n",
              "         [ 0.6570,  0.9894]],\n",
              "\n",
              "        [[ 0.4121, -0.5440],\n",
              "         [-0.9165, -0.9165]],\n",
              "\n",
              "        [[-0.9165, -0.9165],\n",
              "         [-0.9165, -0.9165]]])"
            ]
          },
          "metadata": {
            "tags": []
          },
          "execution_count": 26
        }
      ]
    },
    {
      "cell_type": "markdown",
      "metadata": {
        "id": "WgPEtipg5thw"
      },
      "source": [
        "## Interoperability with Numpy"
      ]
    },
    {
      "cell_type": "code",
      "metadata": {
        "colab": {
          "base_uri": "https://localhost:8080/"
        },
        "id": "699dNXF1hOiU",
        "outputId": "96e801ef-1ad8-4785-f085-1ae2a8f34feb"
      },
      "source": [
        "import numpy as np\n",
        "\n",
        "x = np.array([[1,2],[3,4.]])\n",
        "x"
      ],
      "execution_count": 27,
      "outputs": [
        {
          "output_type": "execute_result",
          "data": {
            "text/plain": [
              "array([[1., 2.],\n",
              "       [3., 4.]])"
            ]
          },
          "metadata": {
            "tags": []
          },
          "execution_count": 27
        }
      ]
    },
    {
      "cell_type": "code",
      "metadata": {
        "colab": {
          "base_uri": "https://localhost:8080/"
        },
        "id": "E7BUWZLThOqA",
        "outputId": "630bb73c-6cc1-4817-d954-40325f3853e9"
      },
      "source": [
        "x.shape"
      ],
      "execution_count": 28,
      "outputs": [
        {
          "output_type": "execute_result",
          "data": {
            "text/plain": [
              "(2, 2)"
            ]
          },
          "metadata": {
            "tags": []
          },
          "execution_count": 28
        }
      ]
    },
    {
      "cell_type": "markdown",
      "metadata": {
        "id": "YVutD6Ig6Pwa"
      },
      "source": [
        "We can convert a Numpy array to a PyTorch tensor using torch.from_numpy."
      ]
    },
    {
      "cell_type": "code",
      "metadata": {
        "colab": {
          "base_uri": "https://localhost:8080/"
        },
        "id": "W7wEkxgXhOs1",
        "outputId": "78128360-adbc-40aa-f9e6-b6737c9250ce"
      },
      "source": [
        "# Convert the numpy array to a torch tensor\n",
        "y = torch.from_numpy(x)\n",
        "y"
      ],
      "execution_count": 29,
      "outputs": [
        {
          "output_type": "execute_result",
          "data": {
            "text/plain": [
              "tensor([[1., 2.],\n",
              "        [3., 4.]], dtype=torch.float64)"
            ]
          },
          "metadata": {
            "tags": []
          },
          "execution_count": 29
        }
      ]
    },
    {
      "cell_type": "markdown",
      "metadata": {
        "id": "k0FFl_fQ6f1M"
      },
      "source": [
        "Let's verify that the numpy array and torch tensor have similar data types."
      ]
    },
    {
      "cell_type": "code",
      "metadata": {
        "colab": {
          "base_uri": "https://localhost:8080/"
        },
        "id": "keH_sMQ4hOv3",
        "outputId": "8140c871-c21e-4bfe-f2fe-ab4bb4b6bdb2"
      },
      "source": [
        "x.dtype, y.dtype"
      ],
      "execution_count": 30,
      "outputs": [
        {
          "output_type": "execute_result",
          "data": {
            "text/plain": [
              "(dtype('float64'), torch.float64)"
            ]
          },
          "metadata": {
            "tags": []
          },
          "execution_count": 30
        }
      ]
    },
    {
      "cell_type": "markdown",
      "metadata": {
        "id": "9It-tJ106oZI"
      },
      "source": [
        "We can convert back a PyTorch tensor to a Numpy array using the .numpy method of a tensor."
      ]
    },
    {
      "cell_type": "code",
      "metadata": {
        "colab": {
          "base_uri": "https://localhost:8080/"
        },
        "id": "dLT4Od2-hOzG",
        "outputId": "4d05cc9a-21b7-40ea-b78c-bad37ee43af9"
      },
      "source": [
        "# Convert back a torch tensor to a numpy array\n",
        "z = y.numpy()\n",
        "z"
      ],
      "execution_count": 31,
      "outputs": [
        {
          "output_type": "execute_result",
          "data": {
            "text/plain": [
              "array([[1., 2.],\n",
              "       [3., 4.]])"
            ]
          },
          "metadata": {
            "tags": []
          },
          "execution_count": 31
        }
      ]
    },
    {
      "cell_type": "markdown",
      "metadata": {
        "id": "ONV1H6XlCvT2"
      },
      "source": [
        "## Introduction to Linear Regression\n",
        "\n",
        "create a model that predicts crop yields for apples and oranges (target variables) by looking at the average temperature, rainfall, and humidity (input variables or features) in a region. Here's the training data:"
      ]
    },
    {
      "cell_type": "markdown",
      "metadata": {
        "id": "wNHMMQ16D-EJ"
      },
      "source": [
        "In a linear regression model, each target variable is estimated to be a weighted sum of the input variables, offset by some constant, known as a bias :\n",
        "\n",
        "yield_apple = w11 * temp + w12 * rainfall + w13 * humidity + b1\n",
        "\n",
        "yield_orange = w21 * temp + w22 * rainfall + w23 * humidity + b2\n"
      ]
    },
    {
      "cell_type": "markdown",
      "metadata": {
        "id": "uENgpuYwFPgv"
      },
      "source": [
        "The learning part of linear regression is to figure out a set of weights w11, w12,... w23, b1 & b2 using the training data, to make accurate predictions for new data. The learned weights will be used to predict the yields for apples and oranges in a new region using the average temperature, rainfall, and humidity for that region.\n",
        "\n",
        "We'll train our model by adjusting the weights slightly many times to make better predictions, using an optimization technique called **gradient descent**. "
      ]
    },
    {
      "cell_type": "markdown",
      "metadata": {
        "id": "VnK4deaKFYZI"
      },
      "source": [
        "### Training data\n",
        "We can represent the training data using two matrices:\n",
        "`inputs` and `targets`, \n",
        "\n",
        "each with one row per observation, and one column per variable."
      ]
    },
    {
      "cell_type": "code",
      "metadata": {
        "id": "u1c9_St6Csqn"
      },
      "source": [
        "# Input (temp, rainfall, humidity)\n",
        "inputs = np.array ([[73, 67, 43],\n",
        "                    [91, 88, 64],\n",
        "                    [87, 134, 58],\n",
        "                    [102, 43, 37],\n",
        "                    [69, 96, 70]], dtype='float32')"
      ],
      "execution_count": 32,
      "outputs": []
    },
    {
      "cell_type": "code",
      "metadata": {
        "id": "-gl44FpxCtD1"
      },
      "source": [
        "# Targets (apples, oranges)\n",
        "targets = np.array([[56, 70],\n",
        "                    [81, 101],\n",
        "                    [119, 133],\n",
        "                    [22, 37],\n",
        "                    [103, 119]], dtype = 'float32')"
      ],
      "execution_count": 33,
      "outputs": []
    },
    {
      "cell_type": "code",
      "metadata": {
        "colab": {
          "base_uri": "https://localhost:8080/"
        },
        "id": "A7LVI4-qCtUb",
        "outputId": "42cbd2ca-c845-466b-86fe-a827dca837bf"
      },
      "source": [
        "# Convert inputs and targets to tensors\n",
        "inputs = torch.from_numpy(inputs)\n",
        "targets = torch.from_numpy(targets)\n",
        "print(inputs)\n",
        "print(targets)"
      ],
      "execution_count": 34,
      "outputs": [
        {
          "output_type": "stream",
          "text": [
            "tensor([[ 73.,  67.,  43.],\n",
            "        [ 91.,  88.,  64.],\n",
            "        [ 87., 134.,  58.],\n",
            "        [102.,  43.,  37.],\n",
            "        [ 69.,  96.,  70.]])\n",
            "tensor([[ 56.,  70.],\n",
            "        [ 81., 101.],\n",
            "        [119., 133.],\n",
            "        [ 22.,  37.],\n",
            "        [103., 119.]])\n"
          ],
          "name": "stdout"
        }
      ]
    },
    {
      "cell_type": "markdown",
      "metadata": {
        "id": "lyoCUwvFIwyC"
      },
      "source": [
        "### Linear regression model from scratch\n",
        "\n",
        "The weights and biases (w11, w12, ... w23, b1 & b2) can also be represented as matrices, initialized as random values. The first row of w and the first element of b are used to predict the first target variable, i.e., yield of apples, and similarly, the second for oranges."
      ]
    },
    {
      "cell_type": "code",
      "metadata": {
        "colab": {
          "base_uri": "https://localhost:8080/"
        },
        "id": "pt-cnZYnCtcs",
        "outputId": "d3722257-19c2-4056-bf1c-0e58699bbd12"
      },
      "source": [
        "# Weights and biases\n",
        "w = torch.randn(2,3, requires_grad = True)\n",
        "b = torch.randn(2, requires_grad = True)\n",
        "print(w)\n",
        "print(b)"
      ],
      "execution_count": 35,
      "outputs": [
        {
          "output_type": "stream",
          "text": [
            "tensor([[ 1.0313, -0.2991,  0.2296],\n",
            "        [ 1.4000, -0.8347, -0.2090]], requires_grad=True)\n",
            "tensor([0.9418, 0.2961], requires_grad=True)\n"
          ],
          "name": "stdout"
        }
      ]
    },
    {
      "cell_type": "markdown",
      "metadata": {
        "id": "KWzdQLd6P7H0"
      },
      "source": [
        "torch.randn creates a tensor with the given shape, with elements picked randomly from a normal distribution with mean 0 and standard deviation 1.\n",
        "\n",
        "**Our model is simply a function that performs a matrix multiplication of the `inputs` and the weights `w` (transposed) and adds the bias `b` (replicated for each observation).**"
      ]
    },
    {
      "cell_type": "code",
      "metadata": {
        "id": "TdChxTSHCttg"
      },
      "source": [
        "# We can define the model as follows:\n",
        "def model(x):\n",
        "  return x @ w.t() + b"
      ],
      "execution_count": 36,
      "outputs": []
    },
    {
      "cell_type": "markdown",
      "metadata": {
        "id": "VPlAL7LySQ8N"
      },
      "source": [
        "`@` represents matrix multiplication in PyTorch, and the `.t` method returns the transpose of tensor.\n",
        "\n",
        "The matrix obtained by passing the input data into model is a set od predictions for the target variables."
      ]
    },
    {
      "cell_type": "code",
      "metadata": {
        "colab": {
          "base_uri": "https://localhost:8080/"
        },
        "id": "xsL42e4CCtv9",
        "outputId": "ad21baa8-0d54-40f4-aa07-03abecb4a9b9"
      },
      "source": [
        "# Generate predictions\n",
        "preds = model(inputs)\n",
        "print(preds)"
      ],
      "execution_count": 37,
      "outputs": [
        {
          "output_type": "stream",
          "text": [
            "tensor([[ 66.0576,  37.5813],\n",
            "        [ 83.1611,  40.8627],\n",
            "        [ 63.8975,  -1.8816],\n",
            "        [101.7668,  99.4693],\n",
            "        [ 59.4573,   2.1307]], grad_fn=<AddBackward0>)\n"
          ],
          "name": "stdout"
        }
      ]
    },
    {
      "cell_type": "markdown",
      "metadata": {
        "id": "DBoYskXqTIsj"
      },
      "source": [
        "Lets compare the predictions of our model with the actual targets."
      ]
    },
    {
      "cell_type": "code",
      "metadata": {
        "colab": {
          "base_uri": "https://localhost:8080/"
        },
        "id": "ORvQoB0ZCtzA",
        "outputId": "3b49a3f1-7a14-4ad5-baea-0a6b2e55e28f"
      },
      "source": [
        "# Compara with targets\n",
        "print(targets)"
      ],
      "execution_count": 38,
      "outputs": [
        {
          "output_type": "stream",
          "text": [
            "tensor([[ 56.,  70.],\n",
            "        [ 81., 101.],\n",
            "        [119., 133.],\n",
            "        [ 22.,  37.],\n",
            "        [103., 119.]])\n"
          ],
          "name": "stdout"
        }
      ]
    },
    {
      "cell_type": "markdown",
      "metadata": {
        "id": "f0wGFeS7TjLr"
      },
      "source": [
        "We can see a big difference between our model's predictions and the actual targets because we've initialized our model with random weights and biases. Obviously, we can't expect a randomly initialized model to just work."
      ]
    },
    {
      "cell_type": "markdown",
      "metadata": {
        "id": "hZtNq7--TsnD"
      },
      "source": [
        "### Loss function\n",
        "Before we improve our model, we need a way to evaluate how well our model is performing. We can compare the model's predictions with the actual targets using the following method:\n",
        "\n",
        "* Calculate the difference between the two matrices(preds and targets).\n",
        "* Square all the elements of the difference matrix to remove negative values.\n",
        "* Calculate the average of the elements in the resulting matrix.\n",
        "\n",
        "\n",
        "The result is a single number, known as mean squared error(MSE)."
      ]
    },
    {
      "cell_type": "code",
      "metadata": {
        "id": "E2BbBcNUCtp2"
      },
      "source": [
        "# MSE loss\n",
        "def mse(t1, t2):\n",
        "  diff = t1 - t2\n",
        "  return torch.sum(diff * diff)/diff.numel()"
      ],
      "execution_count": 39,
      "outputs": []
    },
    {
      "cell_type": "markdown",
      "metadata": {
        "id": "jn62BI2vCtm_"
      },
      "source": [
        "`torch.sum` returns the sum of all the elements in a tensor.\n",
        "\n",
        "`.numel` method of a tensor returns the number of elements in a tensor.\n",
        "\n",
        "\n",
        "Let's compute the mean squared error for the current predictions of our model."
      ]
    },
    {
      "cell_type": "code",
      "metadata": {
        "colab": {
          "base_uri": "https://localhost:8080/"
        },
        "id": "TyM81VloCtk2",
        "outputId": "c5b89346-3fff-4818-eca5-676dbae738ac"
      },
      "source": [
        "# Compute loss\n",
        "loss = mse(preds, targets)\n",
        "print(loss)"
      ],
      "execution_count": 40,
      "outputs": [
        {
          "output_type": "stream",
          "text": [
            "tensor(5182.2197, grad_fn=<DivBackward0>)\n"
          ],
          "name": "stdout"
        }
      ]
    },
    {
      "cell_type": "markdown",
      "metadata": {
        "id": "lKAMCG-RVsnB"
      },
      "source": [
        "Here is how we can interpret the result: \n",
        "\n",
        "On average, each element in the prediction differs from the actual target by the square root of the loss.\n",
        "\n",
        "And that's pretty bad, considering the numbers we are trying to predict are themslves in the range 50-200.\n",
        "\n",
        "The result is called the loss because it indicates how bad the model is at predicting the target variables.\n",
        "\n",
        "It represents information loss in the model: the lower the loss, the better the model."
      ]
    },
    {
      "cell_type": "markdown",
      "metadata": {
        "id": "oiOUTaK6W6NO"
      },
      "source": [
        "### Compute gradients\n",
        "\n",
        "With PyTorch, we can automatically compute the gradient or derivative of the loss w.r.t the weights and biases because they have `reqires_grad` set to `True`.\n",
        "\n"
      ]
    },
    {
      "cell_type": "code",
      "metadata": {
        "id": "hyuCZUtLCtjE"
      },
      "source": [
        "# Compute gradients\n",
        "loss.backward()"
      ],
      "execution_count": 41,
      "outputs": []
    },
    {
      "cell_type": "markdown",
      "metadata": {
        "id": "LQ3u8P-GXuSr"
      },
      "source": [
        "The gradients are stored in the .grad property of the respective tensors.\n",
        "\n",
        "Note that the derivative of the loss w.r.t the weigths, matrix is itself a matrix with the same dimensions."
      ]
    },
    {
      "cell_type": "code",
      "metadata": {
        "colab": {
          "base_uri": "https://localhost:8080/"
        },
        "id": "0gaPYyE2CtYa",
        "outputId": "dff46c89-4fc1-4f1f-b855-1f2681592805"
      },
      "source": [
        "# Gradients for weights\n",
        "print(w)\n",
        "print(w.grad)"
      ],
      "execution_count": 42,
      "outputs": [
        {
          "output_type": "stream",
          "text": [
            "tensor([[ 1.0313, -0.2991,  0.2296],\n",
            "        [ 1.4000, -0.8347, -0.2090]], requires_grad=True)\n",
            "tensor([[  253.7448, -1453.9634,  -544.3538],\n",
            "        [-4253.1738, -6814.3096, -3787.0825]])\n"
          ],
          "name": "stdout"
        }
      ]
    },
    {
      "cell_type": "markdown",
      "metadata": {
        "id": "X5dEs132Yqw-"
      },
      "source": [
        "### Adjust weights and biases to reduce the loss\n",
        "The loss is a quadratic function of our weights and biases, and our objective is to find the set of weights where the loss is the lowest. If we plot a graph of the loss w.r.t any individual weight or bias element, it will look like the figure shown below. An important insight from calculus is that the gradient indicates the rate of change of the loss, i.e., the loss function's slope w.r.t. the weights and biases.\n",
        "\n",
        "If a gradient element is positive:\n",
        "\n",
        "* increasing the weight element's value slightly will increase the loss\n",
        "* decreasing the weight element's value slightly will decrease the loss\n",
        "\n",
        "If a gradient element is negative:\n",
        "\n",
        "* increasing the weight element's value slightly will decrease the loss\n",
        "* decreasing the weight element's value slightly will increase the loss\n",
        "\n",
        "\n",
        "The increase or decrease in the loss by changing a weight element is proportional to the gradient of the loss w.r.t. that element. This observation forms the basis of the gradient descent optimization algorithm that we'll use to improve our model (by descending along the gradient)."
      ]
    },
    {
      "cell_type": "markdown",
      "metadata": {
        "id": "5i-0agf2ZXwJ"
      },
      "source": [
        "**We can subtract from each weight element a small quantity proportional to the derivative of the loss w.r.t. that element to reduce the loss slightly.**"
      ]
    },
    {
      "cell_type": "code",
      "metadata": {
        "colab": {
          "base_uri": "https://localhost:8080/"
        },
        "id": "VI6Qu4ewCtHb",
        "outputId": "b44d2f03-20f4-4a9a-82f6-c5dd3b39b864"
      },
      "source": [
        "w\n",
        "w.grad"
      ],
      "execution_count": 43,
      "outputs": [
        {
          "output_type": "execute_result",
          "data": {
            "text/plain": [
              "tensor([[  253.7448, -1453.9634,  -544.3538],\n",
              "        [-4253.1738, -6814.3096, -3787.0825]])"
            ]
          },
          "metadata": {
            "tags": []
          },
          "execution_count": 43
        }
      ]
    },
    {
      "cell_type": "code",
      "metadata": {
        "id": "Ag9z3D3-Csx4"
      },
      "source": [
        "with torch.no_grad():\n",
        "  w -= w.grad * 1e-5\n",
        "  b -= b.grad * 1e-5"
      ],
      "execution_count": 44,
      "outputs": []
    },
    {
      "cell_type": "markdown",
      "metadata": {
        "id": "WpH3pYcKl-hN"
      },
      "source": [
        "We multiply the gradients with a very small number (10^-5 in this case) to ensure that we don't modify the weights by a very large amount. We want to take a small step in the downhill direction of the gradient, not a giant leap. This number is called the learning rate of the algorithm.\n",
        "\n",
        "We use torch.no_grad to indicate to PyTorch that we shouldn't track, calculate, or modify gradients while updating the weights and biases."
      ]
    },
    {
      "cell_type": "code",
      "metadata": {
        "id": "Mx-bwyhjCswC",
        "colab": {
          "base_uri": "https://localhost:8080/"
        },
        "outputId": "005775d8-99ed-477c-ca72-4f705135fcb1"
      },
      "source": [
        "# Let's verify that the loss is actually lower\n",
        "loss = mse(preds, targets)\n",
        "print(loss)"
      ],
      "execution_count": 45,
      "outputs": [
        {
          "output_type": "stream",
          "text": [
            "tensor(5182.2197, grad_fn=<DivBackward0>)\n"
          ],
          "name": "stdout"
        }
      ]
    },
    {
      "cell_type": "markdown",
      "metadata": {
        "id": "1YUiBJHXKj3i"
      },
      "source": [
        "We reset the gradients to zero by invoking the .zero_() method.\n",
        "\n",
        "we need to do this because PyTorch accumulates gradients.\n",
        "\n",
        "Otherwise, the next time we invoke .backward on the loss, the new gradient values are added to the existing gradients, which may lead to unexpected results."
      ]
    },
    {
      "cell_type": "code",
      "metadata": {
        "colab": {
          "base_uri": "https://localhost:8080/"
        },
        "id": "sroiPDrZLvY5",
        "outputId": "319aed54-8571-4b40-be81-511af32d271a"
      },
      "source": [
        "w.grad.zero_()\n",
        "b.grad.zero_()\n",
        "print(w.grad)\n",
        "print(b.grad)"
      ],
      "execution_count": 46,
      "outputs": [
        {
          "output_type": "stream",
          "text": [
            "tensor([[0., 0., 0.],\n",
            "        [0., 0., 0.]])\n",
            "tensor([0., 0.])\n"
          ],
          "name": "stdout"
        }
      ]
    },
    {
      "cell_type": "markdown",
      "metadata": {
        "id": "g42t2xjQMe8Z"
      },
      "source": [
        "## Train the model using gradient descent\n",
        "\n",
        "As seen above, we reduce the loss and improve our model using the gradient descent optimization algorithm.\n",
        "\n",
        "Thus, we can train the model using the following steps:\n",
        "\n",
        "1. Generate predictions\n",
        "2. Calculate the loss\n",
        "3. Compute gradients w.r.t. the weights and biases\n",
        "4. Adjust the weights by subtracting a small quantity to the gradient\n",
        "5. Reset the gradients to zero"
      ]
    },
    {
      "cell_type": "code",
      "metadata": {
        "colab": {
          "base_uri": "https://localhost:8080/"
        },
        "id": "4T5t08RkLv6h",
        "outputId": "e32996ae-341f-429d-8791-163f938bc30e"
      },
      "source": [
        "# Generate predictions\n",
        "preds = model(inputs)\n",
        "print(preds)"
      ],
      "execution_count": 47,
      "outputs": [
        {
          "output_type": "stream",
          "text": [
            "tensor([[ 67.0806,  46.8807],\n",
            "        [ 84.5581,  53.1540],\n",
            "        [ 65.9408,  13.1469],\n",
            "        [102.3346, 108.1395],\n",
            "        [ 61.0591,  14.2586]], grad_fn=<AddBackward0>)\n"
          ],
          "name": "stdout"
        }
      ]
    },
    {
      "cell_type": "code",
      "metadata": {
        "colab": {
          "base_uri": "https://localhost:8080/"
        },
        "id": "RYCBz56WLwjU",
        "outputId": "5b30c032-9ffd-4953-e881-dcc2ea1d9e42"
      },
      "source": [
        "# Calculate the loss\n",
        "loss = mse(preds, targets)\n",
        "print(loss)"
      ],
      "execution_count": 48,
      "outputs": [
        {
          "output_type": "stream",
          "text": [
            "tensor(4438.3511, grad_fn=<DivBackward0>)\n"
          ],
          "name": "stdout"
        }
      ]
    },
    {
      "cell_type": "code",
      "metadata": {
        "colab": {
          "base_uri": "https://localhost:8080/"
        },
        "id": "5IAQv-f4Lw6_",
        "outputId": "a55d15e5-75b2-4d87-c3d5-17d270943757"
      },
      "source": [
        "# Compute gradients\n",
        "loss.backward()\n",
        "print(w.grad)\n",
        "print(b.grad)"
      ],
      "execution_count": 49,
      "outputs": [
        {
          "output_type": "stream",
          "text": [
            "tensor([[  363.3463, -1325.2712,  -467.3461],\n",
            "        [-3287.9680, -5763.1865, -3141.4980]])\n",
            "tensor([-5.3501e-03, -4.4884e+01])\n"
          ],
          "name": "stdout"
        }
      ]
    },
    {
      "cell_type": "markdown",
      "metadata": {
        "id": "c01pJ5iWRptP"
      },
      "source": [
        "Let's update the weights and biases using the gradients computed above."
      ]
    },
    {
      "cell_type": "code",
      "metadata": {
        "id": "rMlnJXFJLxQZ"
      },
      "source": [
        "# Adjust weights & reset gradients\n",
        "with torch.no_grad():\n",
        "  w -= w.grad * 1e-5\n",
        "  b -= b.grad * 1e-5\n",
        "  w.grad.zero_()\n",
        "  b.grad.zero_()"
      ],
      "execution_count": 50,
      "outputs": []
    },
    {
      "cell_type": "markdown",
      "metadata": {
        "id": "_7SaMVeVSQGa"
      },
      "source": [
        "Let's take a look at the new weights and biases."
      ]
    },
    {
      "cell_type": "code",
      "metadata": {
        "colab": {
          "base_uri": "https://localhost:8080/"
        },
        "id": "0su7sgOrLxFY",
        "outputId": "1a927776-38c7-4ad6-b93c-5e559cdc7c40"
      },
      "source": [
        "print(w)\n",
        "print(b)"
      ],
      "execution_count": 51,
      "outputs": [
        {
          "output_type": "stream",
          "text": [
            "tensor([[ 1.0251, -0.2714,  0.2397],\n",
            "        [ 1.4754, -0.7090, -0.1397]], requires_grad=True)\n",
            "tensor([0.9418, 0.2971], requires_grad=True)\n"
          ],
          "name": "stdout"
        }
      ]
    },
    {
      "cell_type": "markdown",
      "metadata": {
        "id": "k7ddtTdRSb3w"
      },
      "source": [
        "With the new weights and biases, the model should have a lower loss."
      ]
    },
    {
      "cell_type": "code",
      "metadata": {
        "colab": {
          "base_uri": "https://localhost:8080/"
        },
        "id": "ce8LavGMLwwO",
        "outputId": "b2f40249-128f-42ba-e7ff-eb195f7f15ec"
      },
      "source": [
        "# Calculate loss\n",
        "preds = model(inputs)\n",
        "loss = mse(preds, targets)\n",
        "print(loss)"
      ],
      "execution_count": 52,
      "outputs": [
        {
          "output_type": "stream",
          "text": [
            "tensor(3925.2446, grad_fn=<DivBackward0>)\n"
          ],
          "name": "stdout"
        }
      ]
    },
    {
      "cell_type": "markdown",
      "metadata": {
        "id": "QMUxlFsiSylZ"
      },
      "source": [
        "We have already achieved a significant reduction in the loss merely by adjusting the weights and biases slightly using gradient descent."
      ]
    },
    {
      "cell_type": "markdown",
      "metadata": {
        "id": "Y4k5ohgsTInk"
      },
      "source": [
        "## Train for multiple epochs\n",
        "To reduce the loss further, we can repeat the process of adjusting the weights and biases using the gradients multiple times.\n",
        "\n",
        "Each iteration is called a epoch. Let's train the model for 100 epochs"
      ]
    },
    {
      "cell_type": "code",
      "metadata": {
        "id": "ITzXrbP_LwVx"
      },
      "source": [
        "# Train for 100 epochs\n",
        "for i in range(100):\n",
        "  preds = model(inputs)\n",
        "  loss = mse(preds, targets)\n",
        "  loss.backward()\n",
        "  with torch.no_grad():\n",
        "    w -= w.grad * 1e-5\n",
        "    b -= b.grad * 1e-5\n",
        "    w.grad.zero_()\n",
        "    b.grad.zero_()"
      ],
      "execution_count": 53,
      "outputs": []
    },
    {
      "cell_type": "markdown",
      "metadata": {
        "id": "Xuhl4Q6DUFJc"
      },
      "source": [
        "Once again, let's verify that the loss is now lower:"
      ]
    },
    {
      "cell_type": "code",
      "metadata": {
        "id": "AbH0mHCjCsuq",
        "colab": {
          "base_uri": "https://localhost:8080/"
        },
        "outputId": "8282c6da-9830-448f-bccb-187c47e617eb"
      },
      "source": [
        "# Calculate loss\n",
        "preds = model(inputs)\n",
        "loss = mse(preds, targets)\n",
        "print(loss)"
      ],
      "execution_count": 54,
      "outputs": [
        {
          "output_type": "stream",
          "text": [
            "tensor(844.8543, grad_fn=<DivBackward0>)\n"
          ],
          "name": "stdout"
        }
      ]
    },
    {
      "cell_type": "markdown",
      "metadata": {
        "id": "86bT2nvcUVph"
      },
      "source": [
        "The loss is now much lower than its initial value. Let's look at the model's predictions and compare them with the targets."
      ]
    },
    {
      "cell_type": "code",
      "metadata": {
        "id": "bllJlJ0thOaX",
        "colab": {
          "base_uri": "https://localhost:8080/"
        },
        "outputId": "28e40afc-51c8-4b2b-e99e-bc2a57f816e9"
      },
      "source": [
        "# Predictions\n",
        "preds"
      ],
      "execution_count": 55,
      "outputs": [
        {
          "output_type": "execute_result",
          "data": {
            "text/plain": [
              "tensor([[ 65.2493,  80.9810],\n",
              "        [ 86.1200, 103.4146],\n",
              "        [ 96.7998, 109.5608],\n",
              "        [ 67.0003,  98.3067],\n",
              "        [ 82.1163,  88.2029]], grad_fn=<AddBackward0>)"
            ]
          },
          "metadata": {
            "tags": []
          },
          "execution_count": 55
        }
      ]
    },
    {
      "cell_type": "code",
      "metadata": {
        "colab": {
          "base_uri": "https://localhost:8080/"
        },
        "id": "CX-Y28QaUDe_",
        "outputId": "10d5db90-6fe5-44bb-e5ca-2fb10c93ef64"
      },
      "source": [
        "# Targets\n",
        "targets"
      ],
      "execution_count": 56,
      "outputs": [
        {
          "output_type": "execute_result",
          "data": {
            "text/plain": [
              "tensor([[ 56.,  70.],\n",
              "        [ 81., 101.],\n",
              "        [119., 133.],\n",
              "        [ 22.,  37.],\n",
              "        [103., 119.]])"
            ]
          },
          "metadata": {
            "tags": []
          },
          "execution_count": 56
        }
      ]
    },
    {
      "cell_type": "markdown",
      "metadata": {
        "id": "D3T_tfKXUtdH"
      },
      "source": [
        "The prsedictions are now quite close to the target variables. We can get even better results by training for a few more epochs."
      ]
    },
    {
      "cell_type": "markdown",
      "metadata": {
        "id": "ltIdqWuWVmaA"
      },
      "source": [
        "## Linear regression uaing PyTorch built-ins\n",
        "We've implemented linear regression & gradient descent model using some basic tensor operations.\n",
        "\n",
        "However, since this is a common pattern in deep learning, PyTorch provides several built-in functions and classes to make it easy to create and train models with just a few lines of code.\n",
        "\n",
        "Let's begin by importing the torch.nn package from PyTorch, which contains utility classes for building neural networks.\n",
        "\n"
      ]
    },
    {
      "cell_type": "code",
      "metadata": {
        "id": "sHSJgwdyhM8q"
      },
      "source": [
        "import torch.nn as nn"
      ],
      "execution_count": 57,
      "outputs": []
    },
    {
      "cell_type": "code",
      "metadata": {
        "id": "fRziyEt2UDiI"
      },
      "source": [
        "# Input (temp, rainfall, humidity)\n",
        "inputs = np.array([[73, 67, 43], \n",
        "                   [91, 88, 64], \n",
        "                   [87, 134, 58], \n",
        "                   [102, 43, 37], \n",
        "                   [69, 96, 70], \n",
        "                   [74, 66, 43], \n",
        "                   [91, 87, 65], \n",
        "                   [88, 134, 59], \n",
        "                   [101, 44, 37], \n",
        "                   [68, 96, 71], \n",
        "                   [73, 66, 44], \n",
        "                   [92, 87, 64], \n",
        "                   [87, 135, 57], \n",
        "                   [103, 43, 36], \n",
        "                   [68, 97, 70]], \n",
        "                  dtype='float32')\n",
        "\n",
        "# Targets (apples, oranges)\n",
        "targets = np.array([[56, 70], \n",
        "                    [81, 101], \n",
        "                    [119, 133], \n",
        "                    [22, 37], \n",
        "                    [103, 119],\n",
        "                    [57, 69], \n",
        "                    [80, 102], \n",
        "                    [118, 132], \n",
        "                    [21, 38], \n",
        "                    [104, 118], \n",
        "                    [57, 69], \n",
        "                    [82, 100], \n",
        "                    [118, 134], \n",
        "                    [20, 38], \n",
        "                    [102, 120]], \n",
        "                   dtype='float32')\n",
        "\n",
        "inputs = torch.from_numpy(inputs)\n",
        "targets = torch.from_numpy(targets)"
      ],
      "execution_count": 58,
      "outputs": []
    },
    {
      "cell_type": "code",
      "metadata": {
        "colab": {
          "base_uri": "https://localhost:8080/"
        },
        "id": "JyvuQTbaUDm9",
        "outputId": "2270e9e3-984b-471c-abde-3246cee5c847"
      },
      "source": [
        "inputs"
      ],
      "execution_count": 59,
      "outputs": [
        {
          "output_type": "execute_result",
          "data": {
            "text/plain": [
              "tensor([[ 73.,  67.,  43.],\n",
              "        [ 91.,  88.,  64.],\n",
              "        [ 87., 134.,  58.],\n",
              "        [102.,  43.,  37.],\n",
              "        [ 69.,  96.,  70.],\n",
              "        [ 74.,  66.,  43.],\n",
              "        [ 91.,  87.,  65.],\n",
              "        [ 88., 134.,  59.],\n",
              "        [101.,  44.,  37.],\n",
              "        [ 68.,  96.,  71.],\n",
              "        [ 73.,  66.,  44.],\n",
              "        [ 92.,  87.,  64.],\n",
              "        [ 87., 135.,  57.],\n",
              "        [103.,  43.,  36.],\n",
              "        [ 68.,  97.,  70.]])"
            ]
          },
          "metadata": {
            "tags": []
          },
          "execution_count": 59
        }
      ]
    },
    {
      "cell_type": "markdown",
      "metadata": {
        "id": "kOvSCQ69beHe"
      },
      "source": [
        "Using 15 training examples to illustrate how to work with large datasets in small batches"
      ]
    },
    {
      "cell_type": "markdown",
      "metadata": {
        "id": "9vBapXHpbnao"
      },
      "source": [
        "### Dataset and DataLoader\n",
        "\n",
        "We'll create a TensorDataset, which allows access to rows from inputs and targets as tuples, and provides standard APIs for working with many different types of datasets in PyTorch."
      ]
    },
    {
      "cell_type": "code",
      "metadata": {
        "id": "CC0V7jA6VkfT"
      },
      "source": [
        "from torch.utils.data import TensorDataset"
      ],
      "execution_count": 60,
      "outputs": []
    },
    {
      "cell_type": "code",
      "metadata": {
        "colab": {
          "base_uri": "https://localhost:8080/"
        },
        "id": "yl4uIDTiVkrq",
        "outputId": "74b97b49-1470-4e6b-b999-2e62a1ddf488"
      },
      "source": [
        "# Define dataset\n",
        "train_ds = TensorDataset(inputs, targets)\n",
        "train_ds[0:3]"
      ],
      "execution_count": 61,
      "outputs": [
        {
          "output_type": "execute_result",
          "data": {
            "text/plain": [
              "(tensor([[ 73.,  67.,  43.],\n",
              "         [ 91.,  88.,  64.],\n",
              "         [ 87., 134.,  58.]]), tensor([[ 56.,  70.],\n",
              "         [ 81., 101.],\n",
              "         [119., 133.]]))"
            ]
          },
          "metadata": {
            "tags": []
          },
          "execution_count": 61
        }
      ]
    },
    {
      "cell_type": "markdown",
      "metadata": {
        "id": "Rt8blILudilG"
      },
      "source": [
        "The TensorDataset allows us to access a small section of the training data using the array indexing notation ([0:3] in the above code).\n",
        "It returns a tuple with two elements.\n",
        "\n",
        "The first element contains the input variables for the selected rows, and the second contains the targets.\n",
        "\n",
        "\n",
        "We'll also create a Dataloader, which can split the data into batches of a predefined size while training. It also provides other utilities like shuffling and random sampling of the data."
      ]
    },
    {
      "cell_type": "code",
      "metadata": {
        "id": "-avPbuULVkup"
      },
      "source": [
        "from torch.utils.data import DataLoader"
      ],
      "execution_count": 62,
      "outputs": []
    },
    {
      "cell_type": "code",
      "metadata": {
        "id": "8aJDxovBVk8f"
      },
      "source": [
        "# Define data loader\n",
        "batch_size = 5\n",
        "train_dl = DataLoader(train_ds, batch_size, shuffle=True)"
      ],
      "execution_count": 63,
      "outputs": []
    },
    {
      "cell_type": "markdown",
      "metadata": {
        "id": "7CyAFsYmfSQR"
      },
      "source": [
        "We can use the data loader in a for loop. Let's look at an example"
      ]
    },
    {
      "cell_type": "code",
      "metadata": {
        "colab": {
          "base_uri": "https://localhost:8080/"
        },
        "id": "q6wQqrefVk_s",
        "outputId": "99f5ac27-e0c9-4fad-b4fd-90926f71bd63"
      },
      "source": [
        "for xb, yb in train_dl:\n",
        "  print(xb)\n",
        "  print(yb)\n",
        "  break"
      ],
      "execution_count": 64,
      "outputs": [
        {
          "output_type": "stream",
          "text": [
            "tensor([[ 73.,  66.,  44.],\n",
            "        [102.,  43.,  37.],\n",
            "        [ 73.,  67.,  43.],\n",
            "        [ 87., 135.,  57.],\n",
            "        [101.,  44.,  37.]])\n",
            "tensor([[ 57.,  69.],\n",
            "        [ 22.,  37.],\n",
            "        [ 56.,  70.],\n",
            "        [118., 134.],\n",
            "        [ 21.,  38.]])\n"
          ],
          "name": "stdout"
        }
      ]
    },
    {
      "cell_type": "markdown",
      "metadata": {
        "id": "C1TG-p05fllo"
      },
      "source": [
        "In each iteration, the data loader returns one batch of data with the given batch size. If shuffle is set to True, it shuffles the training data before creating batches. Shuffling helps randomize the input to the optimization algorithm, leading to a faster reduction in the loss."
      ]
    },
    {
      "cell_type": "markdown",
      "metadata": {
        "id": "A6ry9tAwgS-G"
      },
      "source": [
        "### nn.Linear\n",
        "\n",
        "Instead of initilizing the weights & biases, we can define the model using the nn.Linear class from PyTorch, which does it automatically."
      ]
    },
    {
      "cell_type": "code",
      "metadata": {
        "colab": {
          "base_uri": "https://localhost:8080/"
        },
        "id": "J3g7QpjaVlPc",
        "outputId": "ddc706e3-4383-4fcb-be22-f3b56f98f611"
      },
      "source": [
        "# Define model\n",
        "model = nn.Linear(3,2)\n",
        "print(model.weight)\n",
        "print(model.bias)"
      ],
      "execution_count": 65,
      "outputs": [
        {
          "output_type": "stream",
          "text": [
            "Parameter containing:\n",
            "tensor([[ 0.1526,  0.4248,  0.3247],\n",
            "        [ 0.3281, -0.2322,  0.0748]], requires_grad=True)\n",
            "Parameter containing:\n",
            "tensor([ 0.2645, -0.0011], requires_grad=True)\n"
          ],
          "name": "stdout"
        }
      ]
    },
    {
      "cell_type": "markdown",
      "metadata": {
        "id": "uoxGKKUUh6Um"
      },
      "source": [
        "PyTorch models also have a helpful .parameters method, which returns a list containing all the weights and bias matrices present in the model.\n",
        "\n",
        "For our linear regression model, we have one weight matrix and one bias matrix."
      ]
    },
    {
      "cell_type": "code",
      "metadata": {
        "colab": {
          "base_uri": "https://localhost:8080/"
        },
        "id": "P_MOhTlQVlLb",
        "outputId": "d4cf5f7b-817a-4fa1-9fb3-c686b40b4871"
      },
      "source": [
        "# Parameters\n",
        "list(model.parameters())"
      ],
      "execution_count": 66,
      "outputs": [
        {
          "output_type": "execute_result",
          "data": {
            "text/plain": [
              "[Parameter containing:\n",
              " tensor([[ 0.1526,  0.4248,  0.3247],\n",
              "         [ 0.3281, -0.2322,  0.0748]], requires_grad=True),\n",
              " Parameter containing:\n",
              " tensor([ 0.2645, -0.0011], requires_grad=True)]"
            ]
          },
          "metadata": {
            "tags": []
          },
          "execution_count": 66
        }
      ]
    },
    {
      "cell_type": "code",
      "metadata": {
        "colab": {
          "base_uri": "https://localhost:8080/"
        },
        "id": "-EMcnbYbVlI4",
        "outputId": "27fbb8fc-c59c-4509-8b36-64aa4eb47631"
      },
      "source": [
        "# We can use the model to generate prediction in the same way as before.\n",
        "\n",
        "preds = model(inputs)\n",
        "preds"
      ],
      "execution_count": 67,
      "outputs": [
        {
          "output_type": "execute_result",
          "data": {
            "text/plain": [
              "tensor([[53.8240, 11.6064],\n",
              "        [72.3092, 14.2061],\n",
              "        [89.2907,  1.7616],\n",
              "        [46.1053, 26.2459],\n",
              "        [74.2993,  5.5791],\n",
              "        [53.5518, 12.1667],\n",
              "        [72.2092, 14.5132],\n",
              "        [89.7680,  2.1645],\n",
              "        [46.3776, 25.6856],\n",
              "        [74.4715,  5.3259],\n",
              "        [53.7239, 11.9134],\n",
              "        [72.0370, 14.7665],\n",
              "        [89.3908,  1.4545],\n",
              "        [45.9332, 26.4992],\n",
              "        [74.5716,  5.0188]], grad_fn=<AddmmBackward>)"
            ]
          },
          "metadata": {
            "tags": []
          },
          "execution_count": 67
        }
      ]
    },
    {
      "cell_type": "markdown",
      "metadata": {
        "id": "8hlVz6o5i6J1"
      },
      "source": [
        "### Loss Function\n",
        "Instead of defining a loss function manually we can use the built-in loss function mse_loss"
      ]
    },
    {
      "cell_type": "code",
      "metadata": {
        "id": "lz-SYjc7VlGp"
      },
      "source": [
        "# Impost nn.functional\n",
        "import torch.nn.functional as F"
      ],
      "execution_count": 68,
      "outputs": []
    },
    {
      "cell_type": "markdown",
      "metadata": {
        "id": "d2C4P12zjuBl"
      },
      "source": [
        "The `nn.functional` package conatins many useful loss functions and several other utilties"
      ]
    },
    {
      "cell_type": "code",
      "metadata": {
        "id": "k3RqDh9rVlEU"
      },
      "source": [
        "# Define loss function\n",
        "loss_fn = F.mse_loss"
      ],
      "execution_count": 69,
      "outputs": []
    },
    {
      "cell_type": "markdown",
      "metadata": {
        "id": "hZujcpeDkCqV"
      },
      "source": [
        "Let's compute the loss for the current predictions of our model."
      ]
    },
    {
      "cell_type": "code",
      "metadata": {
        "colab": {
          "base_uri": "https://localhost:8080/"
        },
        "id": "S14QVmc_Vk5F",
        "outputId": "f11e3a1a-01a9-4f1f-9df3-c28abd7e600a"
      },
      "source": [
        "loss = loss_fn(model(inputs), targets)\n",
        "print(loss)"
      ],
      "execution_count": 70,
      "outputs": [
        {
          "output_type": "stream",
          "text": [
            "tensor(4342.8770, grad_fn=<MseLossBackward>)\n"
          ],
          "name": "stdout"
        }
      ]
    },
    {
      "cell_type": "markdown",
      "metadata": {
        "id": "qoILqUSykt-t"
      },
      "source": [
        "### Optimizer\n",
        "\n",
        "Instead of manually manipulating the model's weight & biases using gradients, we can use the optimizer `optim.SGD`. SGD is short for \"stochastic gradient descent\".\n",
        "\n",
        "\n",
        "The term stochastic indicates that samples are random batches instead of as a single group."
      ]
    },
    {
      "cell_type": "code",
      "metadata": {
        "id": "CLRz8_o5Vk2f"
      },
      "source": [
        "# Define optimizer\n",
        "opt = torch.optim.SGD(model.parameters(), lr=1e-5)"
      ],
      "execution_count": 71,
      "outputs": []
    },
    {
      "cell_type": "markdown",
      "metadata": {
        "id": "b8XfwLRUlmae"
      },
      "source": [
        "Note that the `model.parameters()` is passed as an argument to `optim.SGD` so that the optimizer knows which matrices should be modified during theupdate step.\n",
        "\n",
        "Also, we can specify a learning rate that controls the amount by which the parameters are modified."
      ]
    },
    {
      "cell_type": "markdown",
      "metadata": {
        "id": "E7bDkSfMmLro"
      },
      "source": [
        "### Train the model\n",
        "\n",
        "We are now ready to train te model. We'll follow the same process to implement gradient descent:\n",
        "\n",
        "1. Generate predictions\n",
        "2. Calculate the loss\n",
        "3. Compute gradients w.r.t. the weights and biases\n",
        "4. Adjust the weights by subtracting a small quantity proportional to the gradient\n",
        "5. Reset the gradient to zero\n",
        "\n",
        "\n",
        "The only change is that we'll work batches of data instead of processing the enitire training data in every iteration.\n",
        "\n",
        "Let's define a utility function `fit` that trains the model for a given number of epochs."
      ]
    },
    {
      "cell_type": "code",
      "metadata": {
        "id": "-XZJXsCbVk0H"
      },
      "source": [
        "# Utility function to train the model\n",
        "def fit(num_epochs, model, loss_fn, opt, train_dl):\n",
        "    \n",
        "    # Repeat for given number of epochs\n",
        "    for epoch in range(num_epochs):\n",
        "        \n",
        "        # Train with batches of data\n",
        "        for xb,yb in train_dl:\n",
        "            \n",
        "            # 1. Generate predictions\n",
        "            pred = model(xb)\n",
        "            \n",
        "            # 2. Calculate loss\n",
        "            loss = loss_fn(pred, yb)\n",
        "            \n",
        "            # 3. Compute gradients\n",
        "            loss.backward()\n",
        "            \n",
        "            # 4. Update parameters using gradients\n",
        "            opt.step()\n",
        "            \n",
        "            # 5. Reset the gradients to zero\n",
        "            opt.zero_grad()\n",
        "        \n",
        "        # Print the progress\n",
        "        if (epoch+1) % 10 == 0:\n",
        "            print('Epoch [{}/{}], Loss: {:.4f}'.format(epoch+1, num_epochs, loss.item()))"
      ],
      "execution_count": 72,
      "outputs": []
    },
    {
      "cell_type": "markdown",
      "metadata": {
        "id": "8IdtMcIwo5Cs"
      },
      "source": [
        "Some things to note above:\n",
        "\n",
        "* We use the data loader defined earlier to get batches of data for every iteration.\n",
        "\n",
        "* Instead of updating parameters (weights and biases) manually, we use opt.step to perform the update and opt.zero_grad to reset the gradients to zero.\n",
        "\n",
        "* We've also added a log statement that prints the loss from the last batch of data for every 10th epoch to track training progress. loss.item returns the actual value stored in the loss tensor.\n",
        "\n",
        "Let's train the model for 100 epochs."
      ]
    },
    {
      "cell_type": "code",
      "metadata": {
        "colab": {
          "base_uri": "https://localhost:8080/"
        },
        "id": "1hNDm-2LVkmr",
        "outputId": "058fd5ba-417e-496f-f9a8-192e86ef6523"
      },
      "source": [
        "fit(100, model, loss_fn, opt, train_dl)"
      ],
      "execution_count": 73,
      "outputs": [
        {
          "output_type": "stream",
          "text": [
            "Epoch [10/100], Loss: 281.6919\n",
            "Epoch [20/100], Loss: 331.7337\n",
            "Epoch [30/100], Loss: 213.7315\n",
            "Epoch [40/100], Loss: 228.3671\n",
            "Epoch [50/100], Loss: 175.3708\n",
            "Epoch [60/100], Loss: 75.4787\n",
            "Epoch [70/100], Loss: 41.1921\n",
            "Epoch [80/100], Loss: 18.7366\n",
            "Epoch [90/100], Loss: 16.8130\n",
            "Epoch [100/100], Loss: 14.9688\n"
          ],
          "name": "stdout"
        }
      ]
    },
    {
      "cell_type": "code",
      "metadata": {
        "colab": {
          "base_uri": "https://localhost:8080/"
        },
        "id": "tqmCh0zHVklR",
        "outputId": "9d2984a7-5cd7-45b1-d1ed-0b533897fb4b"
      },
      "source": [
        "# Generate predictions\n",
        "preds = model(inputs)\n",
        "preds"
      ],
      "execution_count": 74,
      "outputs": [
        {
          "output_type": "execute_result",
          "data": {
            "text/plain": [
              "tensor([[ 57.9193,  71.8918],\n",
              "        [ 80.9903,  98.8561],\n",
              "        [118.5942, 133.3154],\n",
              "        [ 26.3495,  46.8974],\n",
              "        [ 96.9010, 110.3035],\n",
              "        [ 56.7830,  71.0012],\n",
              "        [ 80.6169,  98.5819],\n",
              "        [118.7967, 133.7757],\n",
              "        [ 27.4859,  47.7880],\n",
              "        [ 97.6641, 110.9199],\n",
              "        [ 57.5460,  71.6176],\n",
              "        [ 79.8539,  97.9655],\n",
              "        [118.9675, 133.5896],\n",
              "        [ 25.5865,  46.2810],\n",
              "        [ 98.0374, 111.1941]], grad_fn=<AddmmBackward>)"
            ]
          },
          "metadata": {
            "tags": []
          },
          "execution_count": 74
        }
      ]
    },
    {
      "cell_type": "code",
      "metadata": {
        "colab": {
          "base_uri": "https://localhost:8080/"
        },
        "id": "85MxEio9VkZa",
        "outputId": "0bfe0e78-b17c-4946-80ff-7d7b3732fce6"
      },
      "source": [
        "# Compare with targets\n",
        "targets"
      ],
      "execution_count": 75,
      "outputs": [
        {
          "output_type": "execute_result",
          "data": {
            "text/plain": [
              "tensor([[ 56.,  70.],\n",
              "        [ 81., 101.],\n",
              "        [119., 133.],\n",
              "        [ 22.,  37.],\n",
              "        [103., 119.],\n",
              "        [ 57.,  69.],\n",
              "        [ 80., 102.],\n",
              "        [118., 132.],\n",
              "        [ 21.,  38.],\n",
              "        [104., 118.],\n",
              "        [ 57.,  69.],\n",
              "        [ 82., 100.],\n",
              "        [118., 134.],\n",
              "        [ 20.,  38.],\n",
              "        [102., 120.]])"
            ]
          },
          "metadata": {
            "tags": []
          },
          "execution_count": 75
        }
      ]
    },
    {
      "cell_type": "markdown",
      "metadata": {
        "id": "vUa86BdIpjQN"
      },
      "source": [
        "Indeed, the predictions are quite close to our targets. We have a trained a reasonably good model to predict crop yields for apples and oranges by looking at the average temperature, rainfall, and humidity in a region. We can use it to make predictions of crop yields for new regions by passing a batch containing a single row of input."
      ]
    },
    {
      "cell_type": "code",
      "metadata": {
        "colab": {
          "base_uri": "https://localhost:8080/"
        },
        "id": "whtAO0NBph8R",
        "outputId": "b2e81ef9-86dd-4059-a61a-23ae50929f96"
      },
      "source": [
        "model(torch.tensor([[75, 63, 44.]]))"
      ],
      "execution_count": 76,
      "outputs": [
        {
          "output_type": "execute_result",
          "data": {
            "text/plain": [
              "tensor([[54.4173, 69.0239]], grad_fn=<AddmmBackward>)"
            ]
          },
          "metadata": {
            "tags": []
          },
          "execution_count": 76
        }
      ]
    },
    {
      "cell_type": "markdown",
      "metadata": {
        "id": "pyt_dSJ6qAIp"
      },
      "source": [
        "The predicted yield of apples is 54.13 tons per hectare, and that of oranges is 67.87 tons per hectare.\n",
        "\n"
      ]
    },
    {
      "cell_type": "code",
      "metadata": {
        "id": "DXyAgUFXUDbo"
      },
      "source": [
        ""
      ],
      "execution_count": 76,
      "outputs": []
    },
    {
      "cell_type": "code",
      "metadata": {
        "id": "Z5Hjgi3DhOSQ"
      },
      "source": [
        ""
      ],
      "execution_count": 76,
      "outputs": []
    },
    {
      "cell_type": "code",
      "metadata": {
        "id": "PHDRnil2hOMd"
      },
      "source": [
        ""
      ],
      "execution_count": 76,
      "outputs": []
    },
    {
      "cell_type": "code",
      "metadata": {
        "colab": {
          "base_uri": "https://localhost:8080/",
          "height": 103
        },
        "id": "wGkA4ek7hN_L",
        "outputId": "240e50eb-5105-4a35-d583-e90d1658234e"
      },
      "source": [
        "jovian.commit(project='pytorch-basics-dummy')"
      ],
      "execution_count": 78,
      "outputs": [
        {
          "output_type": "stream",
          "text": [
            "[jovian] Detected Colab notebook...\u001b[0m\n",
            "[jovian] Uploading colab notebook to Jovian...\u001b[0m\n",
            "[jovian] Capturing environment..\u001b[0m\n",
            "[jovian] Committed successfully! https://jovian.ai/monika171/pytorch-basics-dummy\u001b[0m\n"
          ],
          "name": "stdout"
        },
        {
          "output_type": "execute_result",
          "data": {
            "application/vnd.google.colaboratory.intrinsic+json": {
              "type": "string"
            },
            "text/plain": [
              "'https://jovian.ai/monika171/pytorch-basics-dummy'"
            ]
          },
          "metadata": {
            "tags": []
          },
          "execution_count": 78
        }
      ]
    },
    {
      "cell_type": "code",
      "metadata": {
        "id": "S-B7tjUcadZ2"
      },
      "source": [
        ""
      ],
      "execution_count": 77,
      "outputs": []
    }
  ]
}